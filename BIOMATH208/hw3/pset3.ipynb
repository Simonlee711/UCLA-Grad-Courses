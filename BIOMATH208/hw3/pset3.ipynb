{
 "cells": [
  {
   "cell_type": "markdown",
   "metadata": {},
   "source": [
    "# Homework 3 - Biomath 208\n",
    "\n",
    "Author: Simon Lee (simonlee711@g.ucla.edu)"
   ]
  },
  {
   "cell_type": "markdown",
   "metadata": {},
   "source": [
    "# 1 Tangent Spaces\n",
    "\n",
    "### 1.1. Vector space axioms for the plus operation"
   ]
  },
  {
   "cell_type": "markdown",
   "metadata": {},
   "source": [
    "Consider a manifold $M$ and smooth curves $\\alpha(t)$, $\\beta(t)$, $\\gamma(t)$ that pass through the point $p \\in M$ when $t = 0$. For an arbitrary smooth function $f : M \\to \\mathbb{R}$, the velocity of a curve $c$ for $c \\in \\{\\alpha, \\beta, \\gamma\\}$ at the point $p$ is given by\n",
    "\n",
    "$$v_{c,p}(f) = \\frac{d}{dt} f(c(t)) \\bigg|_{t=0} .$$\n",
    "\n",
    "Suppose we have a chart $ (U, x) $ with $ p \\in U $ and $ x(p) = 0 $. We defined the plus operation in $ T_pM $ by\n",
    "\n",
    "$$(v_{\\alpha,p} + v_{\\beta,p})(f) = v_{\\alpha,p}(f) + v_{\\beta,p}(f) = v_{\\gamma,p}(f)$$\n",
    "\n",
    "where $\\gamma$ is defined by\n",
    "\n",
    "$$\\gamma = x^{-1}(x(\\alpha) + x(\\beta)) .$$\n",
    "\n",
    "#### 1. Show that this operation is commutative, i.e., $[v_{\\alpha,p} + v_{\\beta,p}](f) = [v_{\\beta,p} + v_{\\alpha,p}](f)$ for all smooth $f$.\n"
   ]
  },
  {
   "cell_type": "markdown",
   "metadata": {},
   "source": [
    "## <span style=\"color:green\">Answer\n",
    "\n",
    "Given that $\\gamma(t) = x^{-1}(x(\\alpha(t)) + x(\\beta(t)))$, we defined the addition of tangent vectors at $p$ using the curves $\\alpha$ and $\\beta$ as:\n",
    "$$(v_{\\alpha,p} + v_{\\beta,p})(f) = v_{\\gamma,p}(f) = \\frac{d}{dt} f(\\gamma(t)) \\bigg|_{t=0}.$$\n",
    "\n",
    "We define another curve $\\delta(t)$ corresponding to the sum of $\\beta$ and $\\alpha$ as follows:\n",
    "$$\\delta(t) = x^{-1}(x(\\beta(t)) + x(\\alpha(t))).$$\n",
    "Therefore, the operation $v_{\\beta,p} + v_{\\alpha,p}$ corresponds to:\n",
    "$$(v_{\\beta,p} + v_{\\alpha,p})(f) = v_{\\delta,p}(f) = \\frac{d}{dt} f(\\delta(t)) \\bigg|_{t=0}.$$\n",
    "\n",
    "We note that due to the properties of addition in $\\mathbb{R}^n$ (where $n$ is the dimension of the manifold locally around $p$ under the chart $(U, x)$), we have:\n",
    "$$x(\\beta(t)) + x(\\alpha(t)) = x(\\alpha(t)) + x(\\beta(t)).$$\n",
    "This is simply the commutative property of addition in $\\mathbb{R}^n$.\n",
    "\n",
    "Since the coordinate representation of $\\delta$ and $\\gamma$ are the same:\n",
    "$$x(\\delta(t)) = x(\\beta(t)) + x(\\alpha(t)) = x(\\alpha(t)) + x(\\beta(t)) = x(\\gamma(t)),$$\n",
    "it follows that the curves $\\delta$ and $\\gamma$ are the same in the chart $(U, x)$:\n",
    "$$\\delta(t) = \\gamma(t).$$\n",
    "\n",
    "Consequently, the derivative at $t=0$ of $f(\\delta(t))$ and $f(\\gamma(t))$ are equal:\n",
    "$$\\frac{d}{dt} f(\\delta(t)) \\bigg|_{t=0} = \\frac{d}{dt} f(\\gamma(t)) \\bigg|_{t=0}.$$\n",
    "This implies:\n",
    "$$[v_{\\beta,p} + v_{\\alpha,p}](f) = [v_{\\alpha,p} + v_{\\beta,p}](f).$$\n",
    "\n",
    "Thus, we have shown that the addition of tangent vectors at $p$ is commutative."
   ]
  },
  {
   "cell_type": "markdown",
   "metadata": {},
   "source": [
    "#### 2. Show that this operation is associative, i.e., $[(v_{\\alpha,p} + v_{\\beta,p}) + v_{\\gamma,p}](f) = [v_{\\alpha,p} + (v_{\\beta,p} + v_{\\gamma,p})](f)$ for all smooth $f$.\n"
   ]
  },
  {
   "cell_type": "markdown",
   "metadata": {},
   "source": [
    "## <span style=\"color:green\">Answer\n"
   ]
  },
  {
   "cell_type": "markdown",
   "metadata": {},
   "source": [
    "if we define a curve $\\tau(t)$ corresponding to the sum of the tangent vectors $v_{\\alpha,p}$ and $v_{\\beta,p} + v_{\\gamma,p}$, we have:\n",
    "$$\\tau(t) = x^{-1}(x(\\alpha(t)) + (x(\\beta(t)) + x(\\gamma(t)))).$$\n",
    "\n",
    "To show associativity, we must show that:\n",
    "$$\\frac{d}{dt} f(\\sigma(t)) \\bigg|_{t=0} = \\frac{d}{dt} f(\\tau(t)) \\bigg|_{t=0}.$$\n",
    "\n",
    "##### Step 1: Associativity of addition in $\\mathbb{R}^n$\n",
    "We begin by observing that in the coordinate chart, the addition in $\\mathbb{R}^n$ (the space where the coordinates $x(\\alpha(t))$, $x(\\beta(t))$, and $x(\\gamma(t))$ live) is associative. Thus,\n",
    "$$x(\\alpha(t)) + (x(\\beta(t)) + x(\\gamma(t))) = (x(\\alpha(t)) + x(\\beta(t))) + x(\\gamma(t)).$$\n",
    "\n",
    "##### Step 2: Equivalence of $\\sigma(t)$ and $\\tau(t)$\n",
    "Since addition in the coordinates is associative, we find that the coordinate representations of $\\sigma(t)$ and $\\tau(t)$ must be the same:\n",
    "$$x(\\sigma(t)) = x(\\alpha(t)) + x(\\beta(t)) + x(\\gamma(t)) = x(\\tau(t)).$$\n",
    "Therefore, by the properties of the chart map $x^{-1}$, the curves themselves must coincide:\n",
    "$$\\sigma(t) = \\tau(t).$$\n",
    "\n",
    "##### Step 3: Equivalence of derivatives\n",
    "Given that $\\sigma(t) = \\tau(t)$ for all $t$, the derivatives of $f(\\sigma(t))$ and $f(\\tau(t))$ at $t=0$ must be equal:\n",
    "$$\\frac{d}{dt} f(\\sigma(t)) \\bigg|_{t=0} = \\frac{d}{dt} f(\\tau(t)) \\bigg|_{t=0}.$$\n",
    "\n",
    "Thus, we conclude that the operation on tangent vectors defined as above is associative, completing the proof that:\n",
    "$$[(v_{\\alpha,p} + v_{\\beta,p}) + v_{\\gamma,p}](f) = [v_{\\alpha,p} + (v_{\\beta,p} + v_{\\gamma,p})](f).$$"
   ]
  },
  {
   "cell_type": "markdown",
   "metadata": {},
   "source": [
    "#### 3. Show that this vector space has a neutral element $0_{\\gamma,p}$ with $(v_{\\alpha,p} + 0_{\\gamma,p})(f) = v_{\\alpha,p}(f)$, by finding an appropriate curve $\\gamma$. Hint: the zero curve may not \"look like\" a usual curve, but is still a map from $\\mathbb{R} \\to M$ as necessary.\n"
   ]
  },
  {
   "cell_type": "markdown",
   "metadata": {},
   "source": [
    "## <span style=\"color:green\">Answer\n"
   ]
  },
  {
   "cell_type": "markdown",
   "metadata": {},
   "source": [
    "##### Step 1: Definition of the zero curve $ \\gamma $\n",
    "We seek a curve $ \\gamma(t) $ such that at every point $ t $, $ \\gamma(t) = p $, the fixed point in $ M $. This means that $ \\gamma $ is a constant curve where $ \\gamma(t) = p $ for all $ t $. In other words, $ \\gamma $ does not \"move\" in $ M $; it remains at the point $ p $.\n",
    "\n",
    "##### Step 2: Coordinate representation of $ \\gamma $\n",
    "Using the chart $ (U, x) $ where $ p \\in U $ and $ x(p) = 0 $, the coordinate representation of $ \\gamma $ under this chart is:\n",
    "$$ x(\\gamma(t)) = x(p) = 0 \\text{ for all } t. $$\n",
    "\n",
    "##### Step 3: Addition of $ \\alpha $ and $ \\gamma $\n",
    "The addition of the tangent vectors $ v_{\\alpha,p} $ and $ 0_{\\gamma,p} $ associated with the curves $ \\alpha $ and $ \\gamma $, respectively, can be analyzed via the definition of their sum as the curve $ \\delta $ given by:\n",
    "$$ \\delta(t) = x^{-1}(x(\\alpha(t)) + x(\\gamma(t))) = x^{-1}(x(\\alpha(t)) + 0). $$\n",
    "Since addition in $ \\mathbb{R}^n $ with zero leaves elements unchanged,\n",
    "$$ \\delta(t) = x^{-1}(x(\\alpha(t))) = \\alpha(t). $$\n",
    "\n",
    "##### Step 4: Derivative of the resulting curve\n",
    "By definition, the tangent vector $ v_{\\alpha,p} + 0_{\\gamma,p} $ is given by:\n",
    "$$ (v_{\\alpha,p} + 0_{\\gamma,p})(f) = \\frac{d}{dt} f(\\delta(t)) \\bigg|_{t=0} = \\frac{d}{dt} f(\\alpha(t)) \\bigg|_{t=0} = v_{\\alpha,p}(f). $$\n",
    "\n",
    "Since the derivative of $ f $ evaluated along $ \\delta(t) $ which equals $ \\alpha(t) $ at $ t = 0 $ results in the same derivative as evaluating $ f $ along $ \\alpha(t) $ itself, we conclude that:\n",
    "$$ (v_{\\alpha,p} + 0_{\\gamma,p})(f) = v_{\\alpha,p}(f), $$\n",
    "demonstrating that $ 0_{\\gamma,p} $ is indeed the neutral element in $ T_pM $. The curve $ \\gamma(t) = p $ for all $ t $ serves as the zero vector in this vector space."
   ]
  },
  {
   "cell_type": "markdown",
   "metadata": {},
   "source": [
    "#### 4. Show that this vector space has an inverse element $(-v_{\\alpha,p})$, with $(v_{\\alpha,p} + (-v_{\\alpha,p}))(f) = 0$, by finding an appropriate curve $\\gamma$ such that $v_{\\gamma,p} = (-v_{\\alpha,p})$."
   ]
  },
  {
   "cell_type": "markdown",
   "metadata": {},
   "source": [
    "## <span style=\"color:green\">Answer\n"
   ]
  },
  {
   "cell_type": "markdown",
   "metadata": {},
   "source": [
    "## 1.2 Vector space axioms for the times operation\n",
    "\n",
    "For $a, b, c \\in \\mathbb{R}$, we defined the times operation by\n",
    "\n",
    "$$(a v_{\\alpha,p})(f) = a v_{\\alpha,p}(f) = v_{\\gamma,p}(f)$$\n",
    "\n",
    "where $\\gamma$ is defined by\n",
    "\n",
    "$$\\gamma(t) = \\alpha(at) .$$\n",
    "\n",
    "#### 1. Show that this operation is associative, i.e., $a((bc)v_{\\alpha,p}(f)) = (ab)c v_{\\alpha,p}(f)$ for all smooth $f$.\n"
   ]
  },
  {
   "cell_type": "markdown",
   "metadata": {},
   "source": [
    "## <span style=\"color:green\">Answer"
   ]
  },
  {
   "cell_type": "markdown",
   "metadata": {},
   "source": [
    "#### 2. Show that this operation is distributive over plus in $T_pM$, i.e. $a(v_{\\alpha,p} + v_{\\beta,p})(f) = (a v_{\\alpha,p} + a v_{\\beta,p})(f)$."
   ]
  },
  {
   "cell_type": "markdown",
   "metadata": {},
   "source": [
    "## <span style=\"color:green\">Answer"
   ]
  },
  {
   "cell_type": "markdown",
   "metadata": {},
   "source": [
    "#### 3. Show that this operation is distributive over plus in $\\mathbb{R}$, i.e. $[(a + b)v_{\\alpha,p}](f) = [a v_{\\alpha,p} + b v_{\\alpha,p}](f)$ for all smooth $f$."
   ]
  },
  {
   "cell_type": "markdown",
   "metadata": {},
   "source": [
    "## <span style=\"color:green\">Answer"
   ]
  },
  {
   "cell_type": "markdown",
   "metadata": {},
   "source": [
    "#### 4. Show that this operation has a unitary element. Hint: this is trivial, don’t look for something complicated."
   ]
  },
  {
   "cell_type": "markdown",
   "metadata": {},
   "source": [
    "## <span style=\"color:green\">Answer"
   ]
  },
  {
   "cell_type": "markdown",
   "metadata": {},
   "source": [
    "# 2 Point Set Registration\n",
    "\n",
    "### Translation\n",
    "\n",
    "Given the hippocampus data, compute the optimal translation that aligns these datasets by minimizing $\\|Q + T1 - P\\|^2$. Report the value for $T$, the value of the sum of square error, and visualize $Q$, $Q + T1$ and $P$ as 3d scatter plots in a single axes in cyan, blue, and red respectively.\n",
    "\n"
   ]
  },
  {
   "cell_type": "markdown",
   "metadata": {},
   "source": [
    "## <span style=\"color:green\">Answer"
   ]
  },
  {
   "cell_type": "markdown",
   "metadata": {},
   "source": [
    "### Rotation\n",
    "\n",
    "Let $\\hat{Q}$ and $\\hat{P}$ have their centers of mass subtracted as a preprocessing step, so that each has a center of mass equal to 0. Find the optimal rotation $R$ to minimize $\\|R\\hat{Q} - \\hat{P}\\|^2$. Show that for any scale $s \\in \\mathbb{R}^+$, the optimal rotation that minimizes $\\|Rs\\hat{Q} - \\hat{P}\\|^2$ is independent of $s$. Report the value of the $3 \\times 3$ rotation matrix, the value of the sum of square error, and visualize $\\hat{Q}$, $R\\hat{Q}$ and $\\hat{P}$ as 3d scatter plots in a single axes in cyan, blue, and red respectively.\n"
   ]
  },
  {
   "cell_type": "markdown",
   "metadata": {},
   "source": [
    "## <span style=\"color:green\">Answer"
   ]
  },
  {
   "cell_type": "markdown",
   "metadata": {},
   "source": [
    "### Scale\n",
    "\n",
    "Let $\\hat{Q} = R\\hat{Q}$. Determine the optimal scale $s \\in \\mathbb{R}$ to minimize $\\|s\\hat{Q} - \\hat{P}\\|^2$. Report the value of $s$, the sum of square error, and visualize $\\hat{Q}$, $s\\hat{Q}$ and $\\hat{P}$ as 3D scatter plots in a single axes in cyan, blue, and red respectively.\n"
   ]
  },
  {
   "cell_type": "markdown",
   "metadata": {},
   "source": [
    "## <span style=\"color:green\">Answer"
   ]
  },
  {
   "cell_type": "markdown",
   "metadata": {},
   "source": [
    "### Affine\n",
    "\n",
    "Find the optimal affine matrix $A$ to minimize $\\|A \\cdot Q - P\\|^2$ by using homogeneous coordinates. Report the value of the $4 \\times 4$ affine matrix, the sum of square error, and visualize $Q$, $A \\cdot Q$ and $P$ as 3D scatter plots in a single axes in cyan, blue, and red respectively."
   ]
  },
  {
   "cell_type": "markdown",
   "metadata": {},
   "source": [
    "## <span style=\"color:green\">Answer"
   ]
  },
  {
   "cell_type": "code",
   "execution_count": 1,
   "metadata": {},
   "outputs": [
    {
     "data": {
      "text/plain": [
       "<matplotlib.legend.Legend at 0x7ff160d98b20>"
      ]
     },
     "execution_count": 1,
     "metadata": {},
     "output_type": "execute_result"
    },
    {
     "data": {
      "image/png": "[encoded data removed]",
      "text/plain": [
       "<Figure size 640x480 with 1 Axes>"
      ]
     },
     "metadata": {},
     "output_type": "display_data"
    }
   ],
   "source": [
    "# imports\n",
    "import numpy as np\n",
    "import matplotlib.pyplot as plt\n",
    "from mpl_toolkits import mplot3d\n",
    "# load hippocampus landmark data\n",
    "data = np.load('./hw3pointdata.npz')\n",
    "Q = data['Q']\n",
    "P = data['P']\n",
    "# display with 3D scatter plots\n",
    "fig = plt.figure()\n",
    "ax = fig.add_subplot(projection='3d')\n",
    "ax.scatter(*Q,c='c',label='Q')\n",
    "ax.scatter(*P,c='r',label='P')\n",
    "ax.set_title('hippocampus landmarks')\n",
    "ax.legend()\n"
   ]
  },
  {
   "cell_type": "markdown",
   "metadata": {},
   "source": [
    "# 3 Image Registration with Gradient Descent"
   ]
  },
  {
   "cell_type": "markdown",
   "metadata": {},
   "source": [
    "In class we considered image registration using an affine matrix in homogeneous coordinates $A$, and objective function $f$\n",
    "\n",
    "$$f(A) = \\int \\left( I(A^{-1}x) - J(x) \\right)^2 dx$$\n",
    "\n",
    "and showed that its gradient at the point $A$ is given by:\n",
    "\n",
    "$$df(A) = -2 \\int \\left( I(A^{-1}x) - J(x) \\right)d\\left( I(A^{-1}x) \\right)^T (A^{-1}x)^T dx .$$\n",
    "\n",
    "Below you will run an image registration algorithm to map brain MRIs into the same space.\n",
    "\n",
    "Start by loading the data:\n",
    "\n",
    "```python\n",
    "import numpy as np\n",
    "%matplotlib notebook\n",
    "import matplotlib.pyplot as plt\n",
    "\n",
    "# load images as numpy arrays\n",
    "data = np.load('hw3imagedata2024.npz', allow_pickle=True)\n",
    "I = data['I']\n",
    "dI = data['dI']\n",
    "xI = data['xI']\n",
    "XI = data['XI']\n",
    "J = data['J']\n",
    "dJ = data['dJ']\n",
    "xJ = data['xJ']\n",
    "XJ = data['XJ']\n",
    "```\n",
    "\n",
    "Note that $I$ and $J$ store 3D image data. $dI$ and $dJ$ store the voxel sizes of $I$ and $J$ in each of three dimensions. $xI$ and $xJ$ store the locations of the voxels in each of three axes. $XI$ and $XJ$ store the locations of voxels in a 3D volume (i.e. the output of meshgrid)."
   ]
  },
  {
   "cell_type": "markdown",
   "metadata": {},
   "source": [
    "### 3.1 Run naive gradient descent\n",
    "\n",
    "Using the attached code, run a naive gradient descent algorithm. Note you will need to import interpn from scipy interpolate.\n",
    "\n",
    "```python\n",
    "from scipy.interpolate import interpn\n",
    "# an initial guess for an affine matrix\n",
    "A = np.eye(4)\n",
    "\n",
    "# optimization parameters\n",
    "niter = 50 # number of iterations\n",
    "ep = 2e-8 # step size\n",
    "\n",
    "# for plotting results\n",
    "f, ax = plt.subplots(2,2)\n",
    "ax[1,1].set_visible(False)\n",
    "cost = []\n",
    "\n",
    "# other parameters\n",
    "voxel_volume = np.prod(dJ)\n",
    "append_shape = (J.shape[0], J.shape[1], J.shape[2], 1)\n",
    "\n",
    "# begin gradient descent optimization loop\n",
    "```python\n",
    "for it in range(niter):\n",
    "    # get sample points to interpolate with affine matrix\n",
    "    Ai = np.linalg.inv(A)\n",
    "    Xs = (Ai[:3,:3]@XI[...,None])[...,0] + Ai[:3,-1]\n",
    "    # transform the image by interpolating at the sample points\n",
    "    AI = interpn((xI,xI,xI), I, Xs, bounds_error=False, fill_value=0)\n",
    "    # error\n",
    "    err = AI - J\n",
    "    # cost function\n",
    "    cost.append(np.sum(err**2)*voxel_volume)\n",
    "\n",
    "    # gradient calculations\n",
    "    # take derivative of transformed image\n",
    "    dAI = np.stack(np.gradient(AI,*dJ),-1)\n",
    "    # append dAI with zeros\n",
    "    dAI = np.concatenate((dAI,np.zeros(append_shape)),-1)\n",
    "    # append Xs with ones\n",
    "    Xs = np.concatenate((Xs,np.ones(append_shape)),-1)\n",
    "    # multiply to get a 4x4 matrix at each voxel\n",
    "    dAIXs = dAI[...,:None]*Xs[...,None,:]\n",
    "    # integrate over all pixels\n",
    "    grad_covector = -np.sum(err[...,None,None]*dAIXs, axis=(0,1,2))*voxel_volume\n",
    "\n",
    "    # add covector to vector conversion here\n",
    "    # you will have to convert a 3x4 matrix to a 12 element vector and back again\n",
    "    grad_vector = grad_covector\n",
    "\n",
    "    # update parameter estimates\n",
    "    A -= ep*grad_vector\n",
    "\n",
    "    # draw\n",
    "    ax[0,0].cla()\n",
    "    ax[0,0].plot(cost)\n",
    "    ax[0,0].set_title('Objective function')\n",
    "    ax[0,1].cla()\n",
    "    ax[0,1].imshow(np.rot90(AI[...,AI.shape[1]//2]))\n",
    "    ax[0,1].set_title('AI')\n",
    "    ax[1,0].cla()\n",
    "    ax[1,0].imshow(np.rot90((AI-J)[...,AI.shape[1]//2]))\n",
    "    ax[1,0].set_title('Error')\n",
    "    f.canvas.draw()\n",
    "```\n",
    "\n",
    "Make sure you save the value of the objective function in the list cost, and report the value of your affine matrix A. Note that because of numerical approximations made (interpolation, extrapolation, finite differences for gradients, etc.) the objective function may not decrease at each iteration.\n",
    "\n"
   ]
  },
  {
   "cell_type": "markdown",
   "metadata": {},
   "source": [
    "## <span style=\"color:green\">Answer"
   ]
  },
  {
   "cell_type": "code",
   "execution_count": 5,
   "metadata": {},
   "outputs": [
    {
     "ename": "ValueError",
     "evalue": "operands could not be broadcast together with shapes (54,) (45,) ",
     "output_type": "error",
     "traceback": [
      "\u001b[0;31m---------------------------------------------------------------------------\u001b[0m",
      "\u001b[0;31mValueError\u001b[0m                                Traceback (most recent call last)",
      "Input \u001b[0;32mIn [5]\u001b[0m, in \u001b[0;36m<cell line: 33>\u001b[0;34m()\u001b[0m\n\u001b[1;32m     36\u001b[0m Xs \u001b[38;5;241m=\u001b[39m (Ai[:\u001b[38;5;241m3\u001b[39m, :\u001b[38;5;241m3\u001b[39m] \u001b[38;5;241m@\u001b[39m XI[\u001b[38;5;241m.\u001b[39m\u001b[38;5;241m.\u001b[39m\u001b[38;5;241m.\u001b[39m, \u001b[38;5;28;01mNone\u001b[39;00m])[\u001b[38;5;241m.\u001b[39m\u001b[38;5;241m.\u001b[39m\u001b[38;5;241m.\u001b[39m, \u001b[38;5;241m0\u001b[39m] \u001b[38;5;241m+\u001b[39m Ai[:\u001b[38;5;241m3\u001b[39m, \u001b[38;5;241m-\u001b[39m\u001b[38;5;241m1\u001b[39m]\n\u001b[1;32m     38\u001b[0m \u001b[38;5;66;03m# Transform the image by interpolating at the sample points\u001b[39;00m\n\u001b[0;32m---> 39\u001b[0m AI \u001b[38;5;241m=\u001b[39m \u001b[43minterpn\u001b[49m\u001b[43m(\u001b[49m\u001b[43m(\u001b[49m\u001b[43mxI\u001b[49m\u001b[43m,\u001b[49m\u001b[43m \u001b[49m\u001b[43mxI\u001b[49m\u001b[43m,\u001b[49m\u001b[43m \u001b[49m\u001b[43mxI\u001b[49m\u001b[43m)\u001b[49m\u001b[43m,\u001b[49m\u001b[43m \u001b[49m\u001b[43mI\u001b[49m\u001b[43m,\u001b[49m\u001b[43m \u001b[49m\u001b[43mXs\u001b[49m\u001b[43m,\u001b[49m\u001b[43m \u001b[49m\u001b[43mbounds_error\u001b[49m\u001b[38;5;241;43m=\u001b[39;49m\u001b[38;5;28;43;01mFalse\u001b[39;49;00m\u001b[43m,\u001b[49m\u001b[43m \u001b[49m\u001b[43mfill_value\u001b[49m\u001b[38;5;241;43m=\u001b[39;49m\u001b[38;5;241;43m0\u001b[39;49m\u001b[43m)\u001b[49m\n\u001b[1;32m     41\u001b[0m \u001b[38;5;66;03m# Error\u001b[39;00m\n\u001b[1;32m     42\u001b[0m err \u001b[38;5;241m=\u001b[39m AI \u001b[38;5;241m-\u001b[39m J\n",
      "File \u001b[0;32m~/opt/anaconda3/envs/ada/lib/python3.9/site-packages/scipy/interpolate/_interpolate.py:2687\u001b[0m, in \u001b[0;36minterpn\u001b[0;34m(points, values, xi, method, bounds_error, fill_value)\u001b[0m\n\u001b[1;32m   2685\u001b[0m \u001b[38;5;66;03m# sanity check input grid\u001b[39;00m\n\u001b[1;32m   2686\u001b[0m \u001b[38;5;28;01mfor\u001b[39;00m i, p \u001b[38;5;129;01min\u001b[39;00m \u001b[38;5;28menumerate\u001b[39m(points):\n\u001b[0;32m-> 2687\u001b[0m     \u001b[38;5;28;01mif\u001b[39;00m \u001b[38;5;129;01mnot\u001b[39;00m np\u001b[38;5;241m.\u001b[39mall(\u001b[43mnp\u001b[49m\u001b[38;5;241;43m.\u001b[39;49m\u001b[43mdiff\u001b[49m\u001b[43m(\u001b[49m\u001b[43mp\u001b[49m\u001b[43m)\u001b[49m \u001b[38;5;241m>\u001b[39m \u001b[38;5;241m0.\u001b[39m):\n\u001b[1;32m   2688\u001b[0m         \u001b[38;5;28;01mraise\u001b[39;00m \u001b[38;5;167;01mValueError\u001b[39;00m(\u001b[38;5;124m\"\u001b[39m\u001b[38;5;124mThe points in dimension \u001b[39m\u001b[38;5;132;01m%d\u001b[39;00m\u001b[38;5;124m must be strictly \u001b[39m\u001b[38;5;124m\"\u001b[39m\n\u001b[1;32m   2689\u001b[0m                          \u001b[38;5;124m\"\u001b[39m\u001b[38;5;124mascending\u001b[39m\u001b[38;5;124m\"\u001b[39m \u001b[38;5;241m%\u001b[39m i)\n\u001b[1;32m   2690\u001b[0m     \u001b[38;5;28;01mif\u001b[39;00m \u001b[38;5;129;01mnot\u001b[39;00m np\u001b[38;5;241m.\u001b[39masarray(p)\u001b[38;5;241m.\u001b[39mndim \u001b[38;5;241m==\u001b[39m \u001b[38;5;241m1\u001b[39m:\n",
      "File \u001b[0;32m<__array_function__ internals>:200\u001b[0m, in \u001b[0;36mdiff\u001b[0;34m(*args, **kwargs)\u001b[0m\n",
      "File \u001b[0;32m~/opt/anaconda3/envs/ada/lib/python3.9/site-packages/numpy/lib/function_base.py:1448\u001b[0m, in \u001b[0;36mdiff\u001b[0;34m(a, n, axis, prepend, append)\u001b[0m\n\u001b[1;32m   1446\u001b[0m op \u001b[38;5;241m=\u001b[39m not_equal \u001b[38;5;28;01mif\u001b[39;00m a\u001b[38;5;241m.\u001b[39mdtype \u001b[38;5;241m==\u001b[39m np\u001b[38;5;241m.\u001b[39mbool_ \u001b[38;5;28;01melse\u001b[39;00m subtract\n\u001b[1;32m   1447\u001b[0m \u001b[38;5;28;01mfor\u001b[39;00m _ \u001b[38;5;129;01min\u001b[39;00m \u001b[38;5;28mrange\u001b[39m(n):\n\u001b[0;32m-> 1448\u001b[0m     a \u001b[38;5;241m=\u001b[39m \u001b[43mop\u001b[49m\u001b[43m(\u001b[49m\u001b[43ma\u001b[49m\u001b[43m[\u001b[49m\u001b[43mslice1\u001b[49m\u001b[43m]\u001b[49m\u001b[43m,\u001b[49m\u001b[43m \u001b[49m\u001b[43ma\u001b[49m\u001b[43m[\u001b[49m\u001b[43mslice2\u001b[49m\u001b[43m]\u001b[49m\u001b[43m)\u001b[49m\n\u001b[1;32m   1450\u001b[0m \u001b[38;5;28;01mreturn\u001b[39;00m a\n",
      "\u001b[0;31mValueError\u001b[0m: operands could not be broadcast together with shapes (54,) (45,) "
     ]
    },
    {
     "data": {
      "image/png": "[encoded data removed]",
      "text/plain": [
       "<Figure size 640x480 with 4 Axes>"
      ]
     },
     "metadata": {},
     "output_type": "display_data"
    }
   ],
   "source": [
    "import numpy as np\n",
    "import matplotlib.pyplot as plt\n",
    "from scipy.interpolate import interpn\n",
    "\n",
    "# Load images as numpy arrays\n",
    "data = np.load('./hw3imagedata2024.npz', allow_pickle=True)\n",
    "I = data['I']\n",
    "dI = data['dI']\n",
    "xI = data['xI']\n",
    "XI = data['XI']\n",
    "J = data['J']\n",
    "dJ = data['dJ']\n",
    "xJ = data['xJ']\n",
    "XJ = data['XJ']\n",
    "\n",
    "# An initial guess for an affine matrix\n",
    "A = np.eye(4)\n",
    "\n",
    "# Optimization parameters\n",
    "niter = 50  # number of iterations\n",
    "ep = 2e-8  # step size\n",
    "\n",
    "# For plotting results\n",
    "f, ax = plt.subplots(2, 2)\n",
    "ax[1, 1].set_visible(False)\n",
    "cost = []\n",
    "\n",
    "# Other parameters\n",
    "voxel_volume = np.prod(dJ)\n",
    "append_shape = (J.shape[0], J.shape[1], J.shape[2], 1)\n",
    "\n",
    "# Begin gradient descent optimization loop\n",
    "for it in range(niter):\n",
    "    # Get sample points to interpolate with affine matrix\n",
    "    Ai = np.linalg.inv(A)\n",
    "    Xs = (Ai[:3, :3] @ XI[..., None])[..., 0] + Ai[:3, -1]\n",
    "    \n",
    "    # Transform the image by interpolating at the sample points\n",
    "    AI = interpn((xI, xI, xI), I, Xs, bounds_error=False, fill_value=0)\n",
    "    \n",
    "    # Error\n",
    "    err = AI - J\n",
    "    \n",
    "    # Cost function\n",
    "    cost.append(np.sum(err**2) * voxel_volume)\n",
    "\n",
    "    # Gradient calculations\n",
    "    # Take derivative of transformed image\n",
    "    dAI = np.stack(np.gradient(AI, *dJ), -1)\n",
    "    \n",
    "    # Append dAI with zeros\n",
    "    dAI = np.concatenate((dAI, np.zeros(append_shape)), -1)\n",
    "    \n",
    "    # Append Xs with ones\n",
    "    Xs = np.concatenate((Xs, np.ones(append_shape)), -1)\n",
    "    \n",
    "    # Multiply to get a 4x4 matrix at each voxel\n",
    "    dAIXs = dAI[..., :, None] * Xs[..., None, :]\n",
    "    \n",
    "    # Integrate over all pixels\n",
    "    grad_covector = -np.sum(err[..., None, None] * dAIXs, axis=(0, 1, 2)) * voxel_volume\n",
    "    \n",
    "    # Convert gradient covector to vector for the affine matrix update\n",
    "    grad_vector = grad_covector.flatten()\n",
    "    \n",
    "    # Update parameter estimates\n",
    "    A -= ep * grad_vector.reshape(4, 4)\n",
    "\n",
    "    # Draw\n",
    "    ax[0, 0].cla()\n",
    "    ax[0, 0].plot(cost)\n",
    "    ax[0, 0].set_title('Objective function')\n",
    "    ax[0, 1].cla()\n",
    "    ax[0, 1].imshow(np.rot90(AI[..., AI.shape[1] // 2]), cmap='gray')\n",
    "    ax[0, 1].set_title('AI')\n",
    "    ax[1, 0].cla()\n",
    "    ax[1, 0].imshow(np.rot90((AI - J)[..., AI.shape[1] // 2]), cmap='gray')\n",
    "    ax[1, 0].set_title('Error')\n",
    "    f.canvas.draw()\n",
    "\n",
    "print(\"Final affine matrix A:\\n\", A)\n",
    "print(\"Cost history:\\n\", cost)\n"
   ]
  },
  {
   "cell_type": "markdown",
   "metadata": {},
   "source": [
    "### 3.2 Run natural gradient descent\n",
    "\n",
    "Consider a basis of the tangent space given by\n",
    "\n",
    "$$\n",
    "E_0 = \\begin{pmatrix} 1 & 0 & 0 & 0 \\\\ 0 & 0 & 0 & 0 \\\\ 0 & 0 & 0 & 0 \\\\ 0 & 0 & 0 & 0 \\end{pmatrix}, E_1 = \\begin{pmatrix} 0 & 1 & 0 & 0 \\\\ 0 & 0 & 0 & 0 \\\\ 0 & 0 & 0 & 0 \\\\ 0 & 0 & 0 & 0 \\end{pmatrix},\n",
    "$$\n",
    "\n",
    "$$\n",
    "E_2 = \\begin{pmatrix} 0 & 0 & 1 & 0 \\\\ 0 & 0 & 0 & 0 \\\\ 0 & 0 & 0 & 0 \\\\ 0 & 0 & 0 & 0 \\end{pmatrix}, E_3 = \\begin{pmatrix} 0 & 0 & 0 & 1 \\\\ 0 & 0 & 0 & 0 \\\\ 0 & 0 & 0 & 0 \\\\ 0 & 0 & 0 & 0 \\end{pmatrix},\n",
    "$$\n",
    "\n",
    "$$\n",
    "E_4 = \\begin{pmatrix} 0 & 0 & 0 & 0 \\\\ 1 & 0 & 0 & 0 \\\\ 0 & 0 & 0 & 0 \\\\ 0 & 0 & 0 & 0 \\end{pmatrix}, ..., E_{11} = \\begin{pmatrix} 0 & 0 & 0 & 0 \\\\ 0 & 0 & 0 & 1 \\\\ 0 & 0 & 0 & 0 \\\\ 0 & 0 & 0 & 0 \\end{pmatrix},\n",
    "$$\n",
    "\n",
    "and compute the pullback metric with components\n",
    "\n",
    "$$\n",
    "g_{ij} = \\int (E_i)^T (E_j) dx\n",
    "$$\n",
    "\n",
    "where the integral is approximated by a discrete sum over the points stored in $XI$ times the volume of one voxel $np.prod(dI)$. Report the value of this $12 \\times 12$ matrix and its inverse.\n",
    "\n",
    "Modify the above code to convert the gradient covector to a vector using the sharp map. You will have to convert the upper $3 \\times 4$ matrix of the covector to a $12 \\times 1$ matrix, multiply by the inverse of your metric, and convert back to the original shape.\n",
    "\n",
    "Run the natural gradient descent code with a gradient descent stepsize $1 - 2$, storing the energy in a different list variable. Report the value of your affine transformation matrix, and plot the two objective function values on the same axes (with appropriate legend).\n"
   ]
  },
  {
   "cell_type": "markdown",
   "metadata": {},
   "source": [
    "## <span style=\"color:green\">Answer"
   ]
  }
 ],
 "metadata": {
  "kernelspec": {
   "display_name": "ada",
   "language": "python",
   "name": "python3"
  },
  "language_info": {
   "codemirror_mode": {
    "name": "ipython",
    "version": 3
   },
   "file_extension": ".py",
   "mimetype": "text/x-python",
   "name": "python",
   "nbconvert_exporter": "python",
   "pygments_lexer": "ipython3",
   "version": "3.9.13"
  }
 },
 "nbformat": 4,
 "nbformat_minor": 2
}
