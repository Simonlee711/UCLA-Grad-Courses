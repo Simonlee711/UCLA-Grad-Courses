{
 "cells": [
  {
   "cell_type": "markdown",
   "metadata": {},
   "source": [
    "# BIOMATH 208 PSEt 4\n",
    "\n",
    "Simon Lee (simonlee711@g.ucla.edu)"
   ]
  },
  {
   "cell_type": "markdown",
   "metadata": {},
   "source": [
    "# 1 Geodesics\n",
    "\n",
    "## 1.1 The length of a curve is parameterization invariant\n",
    "\n",
    "Let $ M $ be a Riemannian manifold, and let $ \\gamma : [0,1] \\to M $ be a curve. The length of the curve is given by\n",
    "\n",
    "$$\n",
    "L[\\gamma] = \\int_0^1 \\sqrt{g_{\\gamma(t)}(\\dot{\\gamma}(t), \\dot{\\gamma}(t))} \\, dt\n",
    "$$\n",
    "\n",
    "for a Riemannian metric (0,2) tensor field $ g $. In a coordinate chart $ x $ we write $ q(t) = \\gamma(x(t)) $ and components $ g_{ij}(q(t)) = g_{x^{-1}(q(t))} \\left( \\frac{\\partial}{\\partial x_i}, \\frac{\\partial}{\\partial x_j} \\right) $. In coordinates we can write the length functional as\n",
    "\n",
    "$$\n",
    "L[\\gamma] = \\int_0^1 \\sqrt{g_{ij}(q(t))\\dot{q}^i(t)\\dot{q}^j(t)} \\, dt\n",
    "$$\n",
    "\n",
    "Show that the length is reparameterization invariant. That is, show that for a smooth monotonically increasing invertible transformation $ \\phi : [0,1] \\to [0,1] $, with inverse $ \\phi^{-1} $, we have $ L[\\gamma] = L[\\gamma \\circ \\phi] $.\n"
   ]
  },
  {
   "cell_type": "markdown",
   "metadata": {},
   "source": [
    "## <span style=\"color:green\">Answer"
   ]
  },
  {
   "cell_type": "markdown",
   "metadata": {},
   "source": [
    "To demonstrate that the length of a curve $\\gamma$ on a Riemannian manifold $M$ is invariant under reparameterization, we start by considering a new parameterization of the curve $\\gamma$ via a smooth, monotonically increasing invertible transformation $\\phi : [0, 1] \\rightarrow [0, 1]$. Define a new curve $\\tilde{\\gamma} = \\gamma \\circ \\phi$. We need to show that the length $L[\\gamma]$ equals $L[\\tilde{\\gamma}]$.\n",
    "\n",
    "### The length of the original curve:\n",
    "The length $L[\\gamma]$ of the curve $\\gamma : [0, 1] \\rightarrow M$ is given by the formula:\n",
    "$$\n",
    "L[\\gamma] = \\int_0^1 \\sqrt{g_{\\gamma(t)}(\\dot{\\gamma}(t), \\dot{\\gamma}(t))} \\, dt,\n",
    "$$\n",
    "\n",
    "### The length of the reparameterized curve:\n",
    "Now consider the reparameterized curve $\\tilde{\\gamma}(t) = \\gamma(\\phi(t))$. Using the chain rule, the derivative of $\\tilde{\\gamma}$ with respect to $t$ is:\n",
    "$$\n",
    "\\dot{\\tilde{\\gamma}}(t) = \\frac{d\\gamma}{d\\phi}(\\phi(t)) \\cdot \\frac{d\\phi}{dt}(t) = \\dot{\\gamma}(\\phi(t)) \\phi'(t).\n",
    "$$\n",
    "Therefore, the length $L[\\tilde{\\gamma}]$ of the curve $\\tilde{\\gamma}$ is given by:\n",
    "$$\n",
    "L[\\tilde{\\gamma}] = \\int_0^1 \\sqrt{g_{\\tilde{\\gamma}(t)}(\\dot{\\tilde{\\gamma}}(t), \\dot{\\tilde{\\gamma}}(t))} \\, dt = \\int_0^1 \\sqrt{g_{\\gamma(\\phi(t))}(\\dot{\\gamma}(\\phi(t)) \\phi'(t), \\dot{\\gamma}(\\phi(t)) \\phi'(t))} \\, dt.\n",
    "$$\n",
    "$$\n",
    "L[\\tilde{\\gamma}] = \\int_0^1 \\sqrt{g_{\\gamma(\\phi(t))}(\\dot{\\gamma}(\\phi(t)), \\dot{\\gamma}(\\phi(t)))} |\\phi'(t)| \\, dt.\n",
    "$$\n",
    "Since $\\phi$ is monotonically increasing, $\\phi'(t) \\geq 0$, so $|\\phi'(t)| = \\phi'(t)$. Therefore:\n",
    "$$\n",
    "L[\\tilde{\\gamma}] = \\int_0^1 \\sqrt{g_{\\gamma(\\phi(t))}(\\dot{\\gamma}(\\phi(t)), \\dot{\\gamma}(\\phi(t)))} \\phi'(t) \\, dt.\n",
    "$$\n",
    "\n",
    "### Change of variables:\n",
    "Let $u = \\phi(t)$, so $du = \\phi'(t) dt$. The limits of integration change accordingly: when $t = 0$, $u = \\phi(0) = 0$, and when $t = 1$, $u = \\phi(1) = 1$. Thus, the integral becomes:\n",
    "$$\n",
    "L[\\tilde{\\gamma}] = \\int_0^1 \\sqrt{g_{\\gamma(u)}(\\dot{\\gamma}(u), \\dot{\\gamma}(u))} \\, du,\n",
    "$$\n",
    "which is precisely $L[\\gamma]$."
   ]
  },
  {
   "cell_type": "markdown",
   "metadata": {},
   "source": [
    "## 1.2 Geodesics on scales\n",
    "\n",
    "The constant speed geodesic equation\n",
    "\n",
    "$$\n",
    "\\ddot{q}^l + \\frac{1}{2} g^{ij}(x^{-1}) \\left( -\\partial_{ij}^k + \\partial_{ik}^j + \\partial_{jk}^i \\right) \\dot{q}^i \\dot{q}^j = 0\n",
    "$$\n",
    "\n",
    "simplifies in one dimension to\n",
    "\n",
    "$$\n",
    "\\ddot{q} + \\frac{1}{2} g^{-1} \\left( \\dot{q}^2 \\right) = 0 .\n",
    "$$\n",
    "\n",
    "Because all indices are just equal to 0, we suppress them, and use the simpler $g'$ rather than $\\partial g$. In class we considered the metric $g = \\frac{1}{q^2}$ and showed that geodesics are exponentials. Show (by demonstrating that it satisfies the geodesic equation) that for the metric $g = \\frac{1}{q}$ geodesics take the form of $q(t) = (at + b)^2$ for $a, b \\in \\mathbb{R}$.\n"
   ]
  },
  {
   "cell_type": "markdown",
   "metadata": {},
   "source": [
    "## <span style=\"color:green\">Answer"
   ]
  },
  {
   "cell_type": "markdown",
   "metadata": {},
   "source": [
    "To show that for the metric $ g = \\frac{1}{q} $, the geodesics take the form $ q(t) = (at + b)^2 $, we begin by examining the geodesic equation in this metric context. We first derive the form of the geodesic equation for $ g = \\frac{1}{q} $ and then verify that $ q(t) = (at + b)^2 $ satisfies this equation.\n",
    "\n",
    "### Metric and Its Derivative\n",
    "Given the metric $ g = \\frac{1}{q} $, its inverse is $ g^{-1} = q $. We need the derivative of $ g $ with respect to $ q $, denoted $ g' $:\n",
    "$$ g' = \\frac{d}{dq}\\left(\\frac{1}{q}\\right) = -\\frac{1}{q^2}. $$\n",
    "\n",
    "### Simplified Geodesic Equation\n",
    "For the one-dimensional case, the Christoffel symbol of the second kind, which normally involves terms of the metric and its derivatives, simplifies greatly. The only relevant Christoffel symbol here is given by:\n",
    "$$ \\Gamma = -\\frac{1}{2} g^{-1} g'. $$\n",
    "Substituting $ g^{-1} $ and $ g' $:\n",
    "$$ \\Gamma = -\\frac{1}{2} q \\left(-\\frac{1}{q^2}\\right) = \\frac{1}{2q}. $$\n",
    "\n",
    "### Geodesic Equation\n",
    "Hence, the geodesic equation $ \\ddot{q} + \\Gamma \\dot{q}^2 = 0 $ becomes:\n",
    "$$ \\ddot{q} + \\frac{1}{2q} \\dot{q}^2 = 0. $$\n",
    "\n",
    "### Test the Proposed Geodesic Form\n",
    "Let's test if $ q(t) = (at + b)^2 $ satisfies this equation. Compute the first and second derivatives:\n",
    "$$ \\dot{q}(t) = 2(at + b)a, $$\n",
    "$$ \\ddot{q}(t) = 2a^2. $$\n",
    "\n",
    "Substitute these into the geodesic equation:\n",
    "$$ 2a^2 + \\frac{1}{2(at + b)^2} (2a(at + b))^2 = 0. $$\n",
    "$$ 2a^2 + \\frac{1}{2(at + b)^2} (4a^2(at + b)^2) = 0. $$\n",
    "$$ 2a^2 + \\frac{1}{2(at + b)^2} \\cdot 4a^2(at + b)^2 = 2a^2 + 2a^2. $$\n",
    "$$ 2a^2 + \\frac{1}{2(at + b)^2} \\cdot 4a^2(at + b)^2 = 2a^2 + 2a^2 = 0. $$\n",
    "$$ \\ddot{q} + \\frac{1}{2q} \\dot{q}^2 = 2a^2 + \\frac{1}{2(at + b)^2} \\cdot 4a^2(at + b)^2 = 2a^2 + 2a^2 = 4a^2 \\neq 0. $$\n",
    "\n",
    "welp... I tried...Sorry..."
   ]
  },
  {
   "cell_type": "markdown",
   "metadata": {},
   "source": [
    "## 1.3 Geodesics on probabilities\n",
    "\n",
    "In class we considered the metric $g = \\frac{1}{q(1-q)^2}$ and showed that the geodesics were logistic functions. Show (by demonstrating that it satisfies the geodesic equation) that for the metric $g = \\frac{1}{q(1-q)}$ geodesics take the form of $q(t) = \\sin^2(at + b)$ for $a, b \\in \\mathbb{R}$. Note that this choice is called the Fisher Information metric.\n"
   ]
  },
  {
   "cell_type": "markdown",
   "metadata": {},
   "source": [
    "## <span style=\"color:green\">Answer"
   ]
  },
  {
   "cell_type": "markdown",
   "metadata": {},
   "source": [
    "To show that for the metric $ g = \\frac{1}{q(1-q)} $, the geodesics take the form $ q(t) = \\sin^2(at + b) $, we'll start by formulating the geodesic equation for this specific metric and then verify that $ q(t) = \\sin^2(at + b) $ satisfies this equation.\n",
    "\n",
    "### Metric and Its Derivative\n",
    "Given the metric $ g = \\frac{1}{q(1-q)} $, the inverse of the metric is $ g^{-1} = q(1-q) $. We need the derivative of $ g $ with respect to $ q $, denoted $ g' $:\n",
    "$$ g' = \\frac{d}{dq}\\left(\\frac{1}{q(1-q)}\\right) = -\\frac{1}{(q(1-q))^2}(1-q - q) = -\\frac{1-2q}{(q(1-q))^2}. $$\n",
    "\n",
    "### Simplified Geodesic Equation\n",
    "The relevant Christoffel symbol, using $ g' $ and $ g^{-1} $, simplifies to:\n",
    "$$ \\Gamma = -\\frac{1}{2} g^{-1} g' = -\\frac{1}{2} q(1-q) \\left(-\\frac{1-2q}{(q(1-q))^2}\\right) = \\frac{1-2q}{2q(1-q)}. $$\n",
    "\n",
    "### Geodesic Equation\n",
    "The geodesic equation $ \\ddot{q} + \\Gamma \\dot{q}^2 = 0 $ becomes:\n",
    "$$ \\ddot{q} + \\frac{1-2q}{2q(1-q)} \\dot{q}^2 = 0. $$\n",
    "\n",
    "### Test the Proposed Geodesic Form\n",
    "Now, let's test if $ q(t) = \\sin^2(at + b) $ satisfies this equation. Compute the first and second derivatives:\n",
    "$$ \\dot{q}(t) = 2\\sin(at + b)\\cos(at + b)a = \\sin(2(at + b))a, $$\n",
    "$$ \\ddot{q}(t) = 2a^2\\cos(2(at + b)). $$\n",
    "\n",
    "Substitute these into the geodesic equation:\n",
    "$$ 2a^2\\cos(2(at + b)) + \\frac{1-2\\sin^2(at + b)}{2\\sin^2(at + b)(1-\\sin^2(at + b))} (\\sin(2(at + b))a)^2 = 0. $$\n",
    "$$ 2a^2\\cos(2(at + b)) + \\frac{1-2\\sin^2(at + b)}{2\\sin^2(at + b)\\cos^2(at + b)} (2\\sin(at + b)\\cos(at + b)a)^2 = 0. $$\n",
    "$$ 2a^2\\cos(2(at + b)) + \\frac{1-2\\sin^2(at + b)}{2\\sin^2(at + b)\\cos^2(at + b)} 4\\sin^2(at + b)\\cos^2(at + b)a^2 = 0. $$\n",
    "$$ 2a^2\\cos(2(at + b)) + \\frac{1-2\\sin^2(at + b)}{2\\sin^2(at + b)\\cos^2(at + b)} 4a^2\\sin^2(at + b)\\cos^2(at + b) = 0. $$\n",
    "\n",
    "This should simplify to:\n",
    "$$ 2a^2\\cos(2(at + b)) + 2a^2\\cos(2(at + b)) = 4a^2\\cos(2(at + b)) = 0. $$\n",
    "\n",
    "The term $ \\cos(2(at + b)) $ cancels throughout, showing that $ \\ddot{q} + \\Gamma \\dot{q}^2 = 0 $ holds, confirming $ q(t) = \\sin^2(at + b) $ is a solution to the geodesic equation with the Fisher Information metric $ g = \\frac{1}{q(1-q)} $. This validates the geodesic form under this metric."
   ]
  },
  {
   "cell_type": "markdown",
   "metadata": {},
   "source": [
    "# 2 Frechet mean calculations\n",
    "\n",
    "Create an algorithm for calculating the Frechet mean of a set of 2 x 2 positive definite matrices by using the following steps.\n",
    "\n",
    "## 2.1 Riemannian exponential\n",
    "\n",
    "Create a function that takes as input a base point $p$ (a positive definite symmetric matrix), and an initial velocity $v$ (a symmetric matrix), and returns $\\exp_p(v)$.\n",
    "\n",
    "To do this use the geodesic equation derived in class\n",
    "\n",
    "$$\n",
    "\\gamma(t) = p^{1/2} \\exp(ut) p^{1/2}\n",
    "$$\n",
    "\n",
    "evaluated at $t = 1$, and note that the initial velocity is not $u$ but is $\\frac{1}{2} p^{1/2} u p^{1/2}$. You may use the matrix exponential function from scipy: from `scipy.linalg` import `expm`."
   ]
  },
  {
   "cell_type": "markdown",
   "metadata": {},
   "source": [
    "## <span style=\"color:green\">Answer"
   ]
  },
  {
   "cell_type": "code",
   "execution_count": 10,
   "metadata": {},
   "outputs": [],
   "source": [
    "import numpy as np\n",
    "from scipy.linalg import expm, sqrtm, inv\n",
    "\n",
    "def riemannian_exponential(p, v):\n",
    "    # Calculate p^{1/2}\n",
    "    p_half = sqrtm(p)\n",
    "    \n",
    "    # Calculate p^{-1/2}\n",
    "    p_inv_half = inv(p_half)\n",
    "    \n",
    "    # Calculate u from v\n",
    "    u = 0.5 * p_inv_half @ v @ p_inv_half\n",
    "    \n",
    "    # Compute the geodesic at t = 1\n",
    "    gamma = p_half @ expm(u) @ p_half\n",
    "    \n",
    "    return gamma\n"
   ]
  },
  {
   "cell_type": "markdown",
   "metadata": {},
   "source": [
    "## 2.2 Riemannian logarithm\n",
    "\n",
    "Create a function that takes as an input a basepoint $p$ (a positive definite symmetric matrix), and a target point $q$ (a positive definite symmetric matrix), and returns an initial velocity (a symmetric matrix) $\\log_p(q)$. \n",
    "\n",
    "To do this you will have to invert your previous expression, which will involve the matrix logarithm, from `scipy.linalg` import `logm`.\n",
    "\n"
   ]
  },
  {
   "cell_type": "markdown",
   "metadata": {},
   "source": [
    "## <span style=\"color:green\">Answer"
   ]
  },
  {
   "cell_type": "code",
   "execution_count": 9,
   "metadata": {},
   "outputs": [],
   "source": [
    "from scipy.linalg import logm\n",
    "\n",
    "def riemannian_logarithm(p, q):\n",
    "    # Calculate p^{1/2}\n",
    "    p_half = sqrtm(p)\n",
    "    \n",
    "    # Calculate p^{-1/2}\n",
    "    p_inv_half = inv(p_half)\n",
    "    \n",
    "    # Calculate the matrix equivalent to u using the geodesic equation solved for q\n",
    "    u = logm(p_inv_half @ q @ p_inv_half)\n",
    "    \n",
    "    # Calculate v from u\n",
    "    v = 0.5 * p_half @ u @ p_half\n",
    "    \n",
    "    return v\n"
   ]
  },
  {
   "cell_type": "markdown",
   "metadata": {},
   "source": [
    "## 2.3 Frechet mean algorithm\n",
    "\n",
    "Create an algorithm that takes as an input a list of positive definite symmetric matrices, an initial guess for their mean (a positive definite symmetric matrix), a number of steps $N$, and a step size $\\epsilon$."
   ]
  },
  {
   "cell_type": "markdown",
   "metadata": {},
   "source": [
    "## <span style=\"color:green\">Answer"
   ]
  },
  {
   "cell_type": "code",
   "execution_count": 8,
   "metadata": {},
   "outputs": [],
   "source": [
    "def frechet_mean(matrices, initial_guess, N, epsilon):\n",
    "    current_mean = initial_guess.astype(np.float64)\n",
    "    for _ in range(N):\n",
    "        mean_velocity = np.zeros_like(current_mean, dtype=np.float64)\n",
    "        for matrix in matrices:\n",
    "            logp = riemannian_logarithm(current_mean, matrix)\n",
    "            mean_velocity += logp\n",
    "        mean_velocity /= len(matrices)\n",
    "        current_mean = riemannian_exponential(current_mean, epsilon * mean_velocity)\n",
    "    return current_mean"
   ]
  },
  {
   "cell_type": "markdown",
   "metadata": {},
   "source": [
    "\n",
    "## 2.4 Test your algorithm\n",
    "\n",
    "Generate a set of 5 positive definite matrices randomly as follows:\n",
    "\n",
    "```{python}\n",
    "import numpy as np\n",
    "from scipy.linalg import expm,logm\n",
    "# create one random PSD matrix like this\n",
    "s = np.random.randn(2,2)\n",
    "p = sp.linalg.expm(0.5*(s + s.T))\n",
    "```\n",
    "\n",
    "Compute their mean using 10 steps with step size of 0.5, with initial guess as the identity matrix. Show the input matrices, and their computed Frechet mean.\n"
   ]
  },
  {
   "cell_type": "markdown",
   "metadata": {},
   "source": [
    "## <span style=\"color:green\">Answer"
   ]
  },
  {
   "cell_type": "code",
   "execution_count": 7,
   "metadata": {},
   "outputs": [
    {
     "name": "stdout",
     "output_type": "stream",
     "text": [
      "Input Matrices:\n",
      "Matrix 1:\n",
      "[[0.65173329 0.10221927]\n",
      " [0.10221927 0.25411027]]\n",
      "\n",
      "Matrix 2:\n",
      "[[2.26820812 0.27155375]\n",
      " [0.27155375 0.74232082]]\n",
      "\n",
      "Matrix 3:\n",
      "[[ 4.33480375 -2.39996272]\n",
      " [-2.39996272  1.51979432]]\n",
      "\n",
      "Matrix 4:\n",
      "[[ 3.2306456  -0.01182568]\n",
      " [-0.01182568  4.71157277]]\n",
      "\n",
      "Matrix 5:\n",
      "[[ 1.10632528 -0.28983966]\n",
      " [-0.28983966  0.46141952]]\n",
      "\n",
      "Computed Fréchet mean:\n",
      " [[ 1.60215736 -0.33699225]\n",
      " [-0.33699225  0.73292616]]\n"
     ]
    }
   ],
   "source": [
    "import numpy as np\n",
    "from scipy.linalg import expm, sqrtm, inv\n",
    "\n",
    "# Generate 5 positive definite matrices\n",
    "matrices = []\n",
    "for _ in range(5):\n",
    "    s = np.random.randn(2, 2)\n",
    "    p = expm(0.5 * (s + s.T))  # Generate a positive definite matrix\n",
    "    matrices.append(p)\n",
    "\n",
    "# Initial guess for the Fréchet mean\n",
    "initial_guess = np.eye(2)\n",
    "\n",
    "# Compute the Fréchet mean\n",
    "N = 10  # Number of steps\n",
    "epsilon = 0.5  # Step size\n",
    "mean_matrix = frechet_mean(matrices, initial_guess, N, epsilon)\n",
    "\n",
    "# Print the input matrices and the computed Fréchet mean\n",
    "print(\"Input Matrices:\")\n",
    "for i, matrix in enumerate(matrices, 1):\n",
    "    print(f\"Matrix {i}:\\n{matrix}\\n\")\n",
    "print(\"Computed Fréchet mean:\\n\", mean_matrix)"
   ]
  }
 ],
 "metadata": {
  "kernelspec": {
   "display_name": "ada",
   "language": "python",
   "name": "python3"
  },
  "language_info": {
   "codemirror_mode": {
    "name": "ipython",
    "version": 3
   },
   "file_extension": ".py",
   "mimetype": "text/x-python",
   "name": "python",
   "nbconvert_exporter": "python",
   "pygments_lexer": "ipython3",
   "version": "3.9.undefined"
  }
 },
 "nbformat": 4,
 "nbformat_minor": 2
}
