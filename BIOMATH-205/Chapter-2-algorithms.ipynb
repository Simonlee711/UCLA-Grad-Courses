{
 "cells": [
  {
   "cell_type": "markdown",
   "metadata": {},
   "source": [
    "# BIOMATH 205 - Computational Algorithms\n",
    "\n",
    "All code is the work of Prof. Kenneth Lange. These notebooks are written in part to demonstrate the algorithms and show whats going on internally instead of just reading code from a textbook. All of this work is written in the Julia programming language. If there are any questions feel free to contact the user below.\n",
    "\n",
    "- Simon Lee (simonlee711@g.ucla.edu)"
   ]
  },
  {
   "cell_type": "markdown",
   "metadata": {},
   "source": [
    "# Chapter 2: Sorting"
   ]
  },
  {
   "cell_type": "markdown",
   "metadata": {},
   "source": [
    "#### 2.2 Quicksort\n",
    "\n",
    "most elegant sorting algorithm that builds on the divide and conqure prinicple, where it randomly selects a pivot and partitions the entries based on the pivot. This algorithm is also recursive creating constant partitions until you and down to one entry"
   ]
  },
  {
   "cell_type": "code",
   "execution_count": 1,
   "metadata": {},
   "outputs": [
    {
     "name": "stdout",
     "output_type": "stream",
     "text": [
      "[-1, 1, 2, 3, 4, 5, 6, 7, 8]\n",
      "[\"a\", \"b\", \"c\", \"d\", \"e\", \"f\", \"g\", \"h\", \"y\"]\n"
     ]
    }
   ],
   "source": [
    "function quicksort(x::Vector, left = 1, right = length(x))\n",
    "    i = rand(left:right) # select a random splitting value\n",
    "    split = x[i]\n",
    "    (x[left], x[i]) = (split, x[left])\n",
    "    i = left\n",
    "    for j = (left + 1):right # position the splitting value\n",
    "        if x[j] <= split\n",
    "            i=i+1\n",
    "            (x[i], x[j]) = (x[j], x[i])\n",
    "        end\n",
    "    end\n",
    "    (x[left], x[i]) = (x[i], split)\n",
    "    if i > left + 1 #sort to the left of the value\n",
    "        quicksort(x, left,i-1)\n",
    "    end\n",
    "    if i + 1 < right # sort to the right of the value\n",
    "        quicksort(x,i+1,right)\n",
    "    end\n",
    "end\n",
    "x = [5, 4, 3, 1, 2, 8, 7, 6, -1];\n",
    "quicksort(x)\n",
    "println(x)\n",
    "x = [\"a\", \"c\", \"d\", \"b\", \"f\", \"e\", \"h\", \"g\", \"y\"];\n",
    "quicksort(x)\n",
    "println(x)"
   ]
  },
  {
   "cell_type": "markdown",
   "metadata": {},
   "source": [
    "#### Quickselect\n",
    "\n",
    "A variation of quicksort designed to find the kth smallest element in an undordered list. "
   ]
  },
  {
   "cell_type": "code",
   "execution_count": 4,
   "metadata": {},
   "outputs": [
    {
     "name": "stdout",
     "output_type": "stream",
     "text": [
      "8\n",
      "e\n"
     ]
    }
   ],
   "source": [
    "function quickselect(x::Vector, k::Int, left = 1, right = length(x))\n",
    "    i = rand(left:right) # select a random splitting value\n",
    "    split = x[i]\n",
    "    (x[left], x[i]) = (split, x[left])\n",
    "    i = left\n",
    "    for j = (left + 1):right # position the splitting value\n",
    "        if x[j] <= split\n",
    "            i=i+1\n",
    "            (x[i], x[j]) = (x[j], x[i])\n",
    "        end\n",
    "    end\n",
    "    (x[left], x[i]) = (x[i], split)\n",
    "    j=i-left+1#find the order statistic y\n",
    "    if k==j \n",
    "        y = x[i]\n",
    "    elseif k<j\n",
    "        y = quickselect(x, k, left,i-1)\n",
    "    else\n",
    "        y = quickselect(x,k-j,i+1,right)\n",
    "    end\n",
    "    return y\n",
    "end\n",
    "\n",
    "k=8;\n",
    "x = [5, 4, 3, 1, 2, 8, 7, 6];\n",
    "xk = quickselect(x, k)\n",
    "println(xk)\n",
    "k=5;\n",
    "x = [\"a\", \"c\", \"d\", \"b\", \"f\", \"e\", \"h\", \"g\", \"y\"];\n",
    "xk = quickselect(x, k)\n",
    "println(xk)"
   ]
  },
  {
   "cell_type": "markdown",
   "metadata": {},
   "source": [
    "#### Bisection\n",
    "\n",
    "Divide and conquer algorithm to find a root for a given equation $f(x)=0$"
   ]
  },
  {
   "cell_type": "code",
   "execution_count": 5,
   "metadata": {},
   "outputs": [
    {
     "data": {
      "text/plain": [
       "(0.20163967572340624, 48)"
      ]
     },
     "execution_count": 5,
     "metadata": {},
     "output_type": "execute_result"
    }
   ],
   "source": [
    "function bisect(f::Function, a::T, b::T, tol::T) where T <: Real\n",
    "    (fa, fb) = (f(a), f(b))\n",
    "    @assert(a<b&&fa*fb<=zero(T)) # check for input error\n",
    "    for iteration = 1:100\n",
    "        m=(a+b)/2\n",
    "        fm = f(m)\n",
    "        if abs(fm) < tol\n",
    "            return (m, iteration)\n",
    "        end\n",
    "        if fa * fm < zero(T)\n",
    "            (b, fb) = (m, fm)\n",
    "        else\n",
    "            (a, fa) = (m, fm)\n",
    "        end\n",
    "    end\n",
    "    return ((a + b) / 2, 100)\n",
    "end\n",
    "f(x) = x^3 - 5x + 1.0\n",
    "(x, iteration) = bisect(f, 0.0, 2.0, 1e-14)"
   ]
  },
  {
   "cell_type": "code",
   "execution_count": 6,
   "metadata": {},
   "outputs": [
    {
     "name": "stdout",
     "output_type": "stream",
     "text": [
      "4\n",
      "0\n"
     ]
    }
   ],
   "source": [
    "function binary_search(x::Vector, value)\n",
    "    a=1\n",
    "    b = length(x)\n",
    "    while a <= b\n",
    "        m = div(a + b, 2)\n",
    "        if x[m] > value\n",
    "            b=m-1\n",
    "        elseif x[m] < value\n",
    "            a=m+1\n",
    "        else\n",
    "            return m\n",
    "        end\n",
    "    end\n",
    "    return 0\n",
    "end\n",
    "x = [\"a\", \"b\", \"d\", \"f\", \"g\"];\n",
    "println(binary_search(x, \"f\"))\n",
    "x = [1, 2, 4, 7, 9];\n",
    "println(binary_search(x, 3))"
   ]
  },
  {
   "cell_type": "markdown",
   "metadata": {},
   "source": [
    "#### Priority Queues\n",
    "\n",
    "data structure consisting of keys and priorities."
   ]
  },
  {
   "cell_type": "code",
   "execution_count": 12,
   "metadata": {},
   "outputs": [
    {
     "name": "stderr",
     "output_type": "stream",
     "text": [
      "\u001b[32m\u001b[1m   Resolving\u001b[22m\u001b[39m package versions...\n",
      "\u001b[32m\u001b[1m  No Changes\u001b[22m\u001b[39m to `~/.julia/environments/v1.7/Project.toml`\n",
      "\u001b[32m\u001b[1m  No Changes\u001b[22m\u001b[39m to `~/.julia/environments/v1.7/Manifest.toml`\n"
     ]
    },
    {
     "data": {
      "text/plain": [
       "\"b\""
      ]
     },
     "execution_count": 12,
     "metadata": {},
     "output_type": "execute_result"
    }
   ],
   "source": [
    "import Pkg;Pkg.add(\"DataStructures\")\n",
    "using DataStructures\n",
    "\n",
    "pq = PriorityQueue() # empty queue\n",
    "pq[\"a\"] = 10 # enqueue or push\n",
    "pq[\"b\"] = 5\n",
    "pq[\"c\"] = 15\n",
    "peek(pq)\n",
    "dequeue!(pq) # dequeue or pop"
   ]
  }
 ],
 "metadata": {
  "kernelspec": {
   "display_name": "Julia 1.7.3",
   "language": "julia",
   "name": "julia-1.7"
  },
  "language_info": {
   "file_extension": ".jl",
   "mimetype": "application/julia",
   "name": "julia",
   "version": "1.7.3"
  },
  "orig_nbformat": 4,
  "vscode": {
   "interpreter": {
    "hash": "04ca330c5a55472879970d2c95a6c7d9388c87a6543449336787f3238efe3da5"
   }
  }
 },
 "nbformat": 4,
 "nbformat_minor": 2
}
