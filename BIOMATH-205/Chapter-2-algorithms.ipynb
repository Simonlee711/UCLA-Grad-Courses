{
 "cells": [
  {
   "cell_type": "markdown",
   "metadata": {},
   "source": [
    "# BIOMATH 205 - Computational Algorithms\n",
    "\n",
    "All code is the work of Prof. Kenneth Lange. These notebooks are written in part to demonstrate the algorithms and show whats going on internally instead of just reading code from a textbook. All of this work is written in the Julia programming language. If there are any questions feel free to contact the user below.\n",
    "\n",
    "- Simon Lee (simonlee711@g.ucla.edu)"
   ]
  },
  {
   "cell_type": "code",
   "execution_count": 4,
   "metadata": {},
   "outputs": [
    {
     "name": "stdout",
     "output_type": "stream",
     "text": [
      "Derivative of Sin(x) at x=0: 0.9999999341743497\n",
      "Derivative of e^x(x) at x=0: 1.0000000342143436\n",
      "Derivative of tan(x) at x=0: 0.9999999342493457\n"
     ]
    }
   ],
   "source": [
    "using FFTW  # For Fast Fourier Transform\n",
    "\n",
    "function approximate_derivative(func, k, h, N=10000)\n",
    "    \"\"\"\n",
    "    Function to approximate the k-th derivative of the function func at 0.\n",
    "\n",
    "    :param func: The function to approximate the derivative of.\n",
    "    :param k: The order of the derivative to approximate.\n",
    "    :param h: The radius of the small circle in the complex plane.\n",
    "    :param N: The number of points used for the DFT.\n",
    "    :return: The approximated k-th derivative.\n",
    "    \"\"\"\n",
    "\n",
    "    # Generate N points on the boundary of the circle of radius h\n",
    "    t = LinRange(0, 1, N)  # Define the range without the endpoint\n",
    "    circle_points = h .* exp.(2im * π * t)\n",
    "\n",
    "    # Evaluate the function on these points\n",
    "    func_values = func.(circle_points)\n",
    "\n",
    "    # Compute the Discrete Fourier Transform using FFT\n",
    "    dft = fft(func_values) / N\n",
    "\n",
    "    # Extract and scale the coefficient for the k-th derivative\n",
    "    derivative = k * real(dft[k + 1]) / h^k\n",
    "\n",
    "    return derivative\n",
    "end\n",
    "\n",
    "# Test the function with various functions\n",
    "exp_func(x) = exp(x)\n",
    "sin_func(x) = sin(x)\n",
    "tan_func(x) = tan(x)\n",
    "\n",
    "\n",
    "# Test and print the derivatives\n",
    "println(\"Derivative of Sin(x) at x=0: \", approximate_derivative(sin_func, 1, 0.001))\n",
    "println(\"Derivative of e^x(x) at x=0: \", approximate_derivative(exp_func, 1, 0.001))\n",
    "println(\"Derivative of tan(x) at x=0: \", approximate_derivative(tan_func, 1, 0.001))\n"
   ]
  },
  {
   "cell_type": "code",
   "execution_count": 2,
   "metadata": {},
   "outputs": [
    {
     "name": "stdout",
     "output_type": "stream",
     "text": [
      "Derivative of Sin(x) at x=0: 1.0\n",
      "Derivative of Cos(x) at x=0: -2.5946066962357906e-21\n",
      "Derivative of e^x(x) at x=0: 1.0000000000000007\n",
      "Derivative of tan(x) at x=0: 1.0\n"
     ]
    }
   ],
   "source": [
    "import numpy as np\n",
    "\n",
    "# Function to approximate the k-th derivative of a function at 0\n",
    "def approximate_derivative(func, k, h, N=10000):\n",
    "    \"\"\"\n",
    "    Function to approximate the k-th derivative of the function func at 0.\n",
    "\n",
    "    :param func: The function to approximate the derivative of.\n",
    "    :param k: The order of the derivative to approximate.\n",
    "    :param h: The radius of the small circle in the complex plane.\n",
    "    :param N: The number of points used for the DFT.\n",
    "    :return: The approximated k-th derivative.\n",
    "    \"\"\"\n",
    "\n",
    "    # Generate N points on the boundary of the circle of radius h\n",
    "    t = np.linspace(0, 1, N, endpoint=False)\n",
    "    circle_points = h * np.exp(2j * np.pi * t)\n",
    "\n",
    "    # Evaluate the function on these points\n",
    "    func_values = func(circle_points)\n",
    "\n",
    "    # Compute the Discrete Fourier Transform\n",
    "    dft = np.fft.fft(func_values) / N\n",
    "\n",
    "    # Extract and scale the coefficient for the k-th derivative\n",
    "    derivative = k * np.real(dft[k]) / h**k\n",
    "\n",
    "    return derivative\n",
    "\n",
    "# Test the function with various functions\n",
    "def exp_func(x):\n",
    "    return np.exp(x)\n",
    "\n",
    "def sin_func(x):\n",
    "    return np.sin(x)\n",
    "\n",
    "def cos_func(x):\n",
    "    return np.cos(x)\n",
    "\n",
    "def tan_func(x):\n",
    "    return np.tan(x)\n",
    "\n",
    "def log_func(x):\n",
    "    return np.log(x)\n",
    "\n",
    "def sqrt_func(x):\n",
    "    return np.sqrt(x)\n",
    "\n",
    "# Test and print the derivatives\n",
    "print(\"Derivative of Sin(x) at x=0:\", approximate_derivative(sin_func, 1, 0.001))\n",
    "print(\"Derivative of Cos(x) at x=0:\", approximate_derivative(cos_func, 1, 0.001))\n",
    "print(\"Derivative of e^x(x) at x=0:\", approximate_derivative(exp_func, 1, 0.001))\n",
    "print(\"Derivative of tan(x) at x=0:\", approximate_derivative(tan_func, 1, 0.001))\n"
   ]
  },
  {
   "cell_type": "code",
   "execution_count": 1,
   "metadata": {},
   "outputs": [
    {
     "name": "stdout",
     "output_type": "stream",
     "text": [
      "approximation: 0.0006023928467461714\n",
      "actual value: 1\n",
      "absolute difference: 0.9993976071532539\n"
     ]
    }
   ],
   "source": [
    "using FFTW\n",
    "\n",
    "N = 256\n",
    "\n",
    "# Define the function sin(x)\n",
    "f(x) = sin(x)\n",
    "\n",
    "# Redefine the radius h for N equally spaced points over the interval [0, 2pi)\n",
    "h = 2 * π / N\n",
    "\n",
    "# Generate the points x_j on the interval [0, 2pi) without including the endpoint\n",
    "x_j = h * collect(0:N-1)\n",
    "\n",
    "# Evaluate the function at these points\n",
    "f_x_j = f.(x_j)\n",
    "\n",
    "# Compute the discrete Fourier transform of these points\n",
    "b_k = fft(f_x_j)\n",
    "\n",
    "# To find the first derivative, we need to multiply by the appropriate factor\n",
    "# The factor for the k-th coefficient is (ik) due to the derivative property of Fourier series\n",
    "# Here we construct the multiplier for the derivative\n",
    "k = fftfreq(N, h) * im * 2 * π\n",
    "\n",
    "# Now multiply the DFT coefficients by this factor and take the inverse DFT to get the derivatives\n",
    "f_prime = ifft(b_k .* k)\n",
    "\n",
    "# The derivative at x=0 is the first value in the array of derivatives\n",
    "derivative_at_0 = real(f_prime[1])  # We take the real part since the derivative of sin is a real function\n",
    "\n",
    "# Compare the approximation to the exact value\n",
    "exact_value = 1\n",
    "\n",
    "println(\"approximation: \", derivative_at_0)\n",
    "println(\"actual value: \", exact_value)\n",
    "println(\"absolute difference: \", abs(derivative_at_0 - exact_value))\n"
   ]
  },
  {
   "cell_type": "code",
   "execution_count": 5,
   "metadata": {},
   "outputs": [
    {
     "name": "stdout",
     "output_type": "stream",
     "text": [
      "approximation: 1.0000000000000042\n",
      "actual value: 1\n",
      "absolute difference 4.218847493575595e-15\n"
     ]
    }
   ],
   "source": [
    "import numpy as np\n",
    "\n",
    "N=256\n",
    "\n",
    "# Define the function sin(x)\n",
    "def f(x):\n",
    "    return np.sin(x)\n",
    "\n",
    "# Redefine the radius h for N equally spaced points over the interval [0, 2pi)\n",
    "h = 2 * np.pi / N\n",
    "\n",
    "# Generate the points x_j on the interval [0, 2pi) without including the endpoint\n",
    "x_j = h * np.arange(N)\n",
    "\n",
    "# Evaluate the function at these points\n",
    "f_x_j = f(x_j)\n",
    "\n",
    "# Compute the discrete Fourier transform of these points\n",
    "b_k = np.fft.fft(f_x_j)\n",
    "\n",
    "# To find the first derivative, we need to multiply by the appropriate factor\n",
    "# The factor for the k-th coefficient is (ik) due to the derivative property of Fourier series\n",
    "# Here we construct the multiplier for the derivative\n",
    "k = np.fft.fftfreq(N, d=h) * 2j * np.pi\n",
    "\n",
    "# Now multiply the DFT coefficients by this factor and take the inverse DFT to get the derivatives\n",
    "f_prime = np.fft.ifft(b_k * k)\n",
    "\n",
    "# The derivative at x=0 is the first value in the array of derivatives\n",
    "derivative_at_0 = f_prime[0].real  # We take the real part since the derivative of sin is a real function\n",
    "\n",
    "# Compare the approximation to the exact value\n",
    "\n",
    "exact_value = 1\n",
    "\n",
    "derivative_at_0, exact_value, np.abs(derivative_at_0 - exact_value)\n",
    "\n",
    "print(\"approximation:\", derivative_at_0)\n",
    "print(\"actual value:\", exact_value)\n",
    "print(\"absolute difference\", str(np.abs(derivative_at_0 - exact_value)))"
   ]
  },
  {
   "cell_type": "code",
   "execution_count": 3,
   "metadata": {},
   "outputs": [
    {
     "ename": "LoadError",
     "evalue": "MethodError: no method matching fftfreq(::UnitRange{Int64})\n\u001b[0mClosest candidates are:\n\u001b[0m  fftfreq(\u001b[91m::Int64\u001b[39m) at ~/.julia/packages/AbstractFFTs/4iQz5/src/definitions.jl:499\n\u001b[0m  fftfreq(\u001b[91m::Int64\u001b[39m, \u001b[91m::Number\u001b[39m) at ~/.julia/packages/AbstractFFTs/4iQz5/src/definitions.jl:499",
     "output_type": "error",
     "traceback": [
      "MethodError: no method matching fftfreq(::UnitRange{Int64})\n\u001b[0mClosest candidates are:\n\u001b[0m  fftfreq(\u001b[91m::Int64\u001b[39m) at ~/.julia/packages/AbstractFFTs/4iQz5/src/definitions.jl:499\n\u001b[0m  fftfreq(\u001b[91m::Int64\u001b[39m, \u001b[91m::Number\u001b[39m) at ~/.julia/packages/AbstractFFTs/4iQz5/src/definitions.jl:499",
      "",
      "Stacktrace:",
      " [1] |>(x::UnitRange{Int64}, f::typeof(fftfreq))",
      "   @ Base ./operators.jl:966",
      " [2] top-level scope",
      "   @ In[3]:23"
     ]
    }
   ],
   "source": [
    "using FFTW\n",
    "\n",
    "# Define the function sin_function(x)\n",
    "sin_function(x) = sin.(x)\n",
    "\n",
    "# Number of points (the more points, the better the approximation)\n",
    "N = 256\n",
    "\n",
    "# The radius h, defining the small circle's boundary in the complex plane\n",
    "h = 2 * π / N\n",
    "\n",
    "# The points x_j on the boundary of the circle\n",
    "x_j = h * collect(0:N-1)\n",
    "\n",
    "# Evaluate the function at these points\n",
    "f_x_j = sin_function(x_j)\n",
    "\n",
    "# Compute the discrete Fourier transform of these points\n",
    "b_k = fft(f_x_j)\n",
    "\n",
    "# Construct the multiplier for the derivative using the wave numbers\n",
    "# Note: The wave numbers need to be arranged correctly for Julia's fftfreq output\n",
    "k = (0:N-1) |> fftfreq\n",
    "k = ifftshift(k)  # Shift the zero frequency to the center for correct multiplication\n",
    "k = k * 2π * im / h\n",
    "\n",
    "# Multiply the DFT coefficients by this factor to get the derivatives\n",
    "f_prime = ifft(b_k .* k)\n",
    "\n",
    "# The derivative at x=0 is the first value in the array of derivatives\n",
    "derivative_at_0 = real(f_prime[1])  # Take the real part since we expect a real number\n",
    "\n",
    "# The exact value of the first derivative of sin(x) at x=0 is cos(0) = 1\n",
    "exact_value = 1\n",
    "\n",
    "# Output the results\n",
    "println(\"Approximation of the derivative at x=0: \", derivative_at_0)\n",
    "println(\"Exact value of the derivative at x=0: \", exact_value)\n",
    "println(\"Absolute error: \", abs(derivative_at_0 - exact_value))\n"
   ]
  },
  {
   "cell_type": "code",
   "execution_count": 60,
   "metadata": {},
   "outputs": [
    {
     "data": {
      "text/html": [
       "<div><div style = \"float: left;\"><span>1316×4 DataFrame</span></div><div style = \"float: right;\"><span style = \"font-style: italic;\">1291 rows omitted</span></div><div style = \"clear: both;\"></div></div><div class = \"data-frame\" style = \"overflow-x: scroll;\"><table class = \"data-frame\" style = \"margin-bottom: 6px;\"><thead><tr class = \"header\"><th class = \"rowNumber\" style = \"font-weight: bold; text-align: right;\">Row</th><th style = \"text-align: left;\">Survived</th><th style = \"text-align: left;\">Age</th><th style = \"text-align: left;\">Sex</th><th style = \"text-align: left;\">Class</th></tr><tr class = \"subheader headerLastRow\"><th class = \"rowNumber\" style = \"font-weight: bold; text-align: right;\"></th><th title = \"Int64\" style = \"text-align: left;\">Int64</th><th title = \"Int64\" style = \"text-align: left;\">Int64</th><th title = \"Int64\" style = \"text-align: left;\">Int64</th><th title = \"Int64\" style = \"text-align: left;\">Int64</th></tr></thead><tbody><tr><td class = \"rowNumber\" style = \"font-weight: bold; text-align: right;\">1</td><td style = \"text-align: right;\">1</td><td style = \"text-align: right;\">1</td><td style = \"text-align: right;\">1</td><td style = \"text-align: right;\">1</td></tr><tr><td class = \"rowNumber\" style = \"font-weight: bold; text-align: right;\">2</td><td style = \"text-align: right;\">1</td><td style = \"text-align: right;\">1</td><td style = \"text-align: right;\">1</td><td style = \"text-align: right;\">1</td></tr><tr><td class = \"rowNumber\" style = \"font-weight: bold; text-align: right;\">3</td><td style = \"text-align: right;\">1</td><td style = \"text-align: right;\">1</td><td style = \"text-align: right;\">1</td><td style = \"text-align: right;\">1</td></tr><tr><td class = \"rowNumber\" style = \"font-weight: bold; text-align: right;\">4</td><td style = \"text-align: right;\">1</td><td style = \"text-align: right;\">1</td><td style = \"text-align: right;\">1</td><td style = \"text-align: right;\">1</td></tr><tr><td class = \"rowNumber\" style = \"font-weight: bold; text-align: right;\">5</td><td style = \"text-align: right;\">1</td><td style = \"text-align: right;\">1</td><td style = \"text-align: right;\">1</td><td style = \"text-align: right;\">1</td></tr><tr><td class = \"rowNumber\" style = \"font-weight: bold; text-align: right;\">6</td><td style = \"text-align: right;\">1</td><td style = \"text-align: right;\">1</td><td style = \"text-align: right;\">1</td><td style = \"text-align: right;\">1</td></tr><tr><td class = \"rowNumber\" style = \"font-weight: bold; text-align: right;\">7</td><td style = \"text-align: right;\">1</td><td style = \"text-align: right;\">1</td><td style = \"text-align: right;\">1</td><td style = \"text-align: right;\">1</td></tr><tr><td class = \"rowNumber\" style = \"font-weight: bold; text-align: right;\">8</td><td style = \"text-align: right;\">1</td><td style = \"text-align: right;\">1</td><td style = \"text-align: right;\">1</td><td style = \"text-align: right;\">1</td></tr><tr><td class = \"rowNumber\" style = \"font-weight: bold; text-align: right;\">9</td><td style = \"text-align: right;\">1</td><td style = \"text-align: right;\">1</td><td style = \"text-align: right;\">1</td><td style = \"text-align: right;\">1</td></tr><tr><td class = \"rowNumber\" style = \"font-weight: bold; text-align: right;\">10</td><td style = \"text-align: right;\">1</td><td style = \"text-align: right;\">1</td><td style = \"text-align: right;\">1</td><td style = \"text-align: right;\">1</td></tr><tr><td class = \"rowNumber\" style = \"font-weight: bold; text-align: right;\">11</td><td style = \"text-align: right;\">1</td><td style = \"text-align: right;\">1</td><td style = \"text-align: right;\">1</td><td style = \"text-align: right;\">1</td></tr><tr><td class = \"rowNumber\" style = \"font-weight: bold; text-align: right;\">12</td><td style = \"text-align: right;\">1</td><td style = \"text-align: right;\">1</td><td style = \"text-align: right;\">1</td><td style = \"text-align: right;\">1</td></tr><tr><td class = \"rowNumber\" style = \"font-weight: bold; text-align: right;\">13</td><td style = \"text-align: right;\">1</td><td style = \"text-align: right;\">1</td><td style = \"text-align: right;\">1</td><td style = \"text-align: right;\">1</td></tr><tr><td style = \"text-align: right;\">&vellip;</td><td style = \"text-align: right;\">&vellip;</td><td style = \"text-align: right;\">&vellip;</td><td style = \"text-align: right;\">&vellip;</td><td style = \"text-align: right;\">&vellip;</td></tr><tr><td class = \"rowNumber\" style = \"font-weight: bold; text-align: right;\">1305</td><td style = \"text-align: right;\">0</td><td style = \"text-align: right;\">0</td><td style = \"text-align: right;\">0</td><td style = \"text-align: right;\">3</td></tr><tr><td class = \"rowNumber\" style = \"font-weight: bold; text-align: right;\">1306</td><td style = \"text-align: right;\">0</td><td style = \"text-align: right;\">0</td><td style = \"text-align: right;\">0</td><td style = \"text-align: right;\">3</td></tr><tr><td class = \"rowNumber\" style = \"font-weight: bold; text-align: right;\">1307</td><td style = \"text-align: right;\">0</td><td style = \"text-align: right;\">0</td><td style = \"text-align: right;\">0</td><td style = \"text-align: right;\">3</td></tr><tr><td class = \"rowNumber\" style = \"font-weight: bold; text-align: right;\">1308</td><td style = \"text-align: right;\">0</td><td style = \"text-align: right;\">0</td><td style = \"text-align: right;\">0</td><td style = \"text-align: right;\">3</td></tr><tr><td class = \"rowNumber\" style = \"font-weight: bold; text-align: right;\">1309</td><td style = \"text-align: right;\">0</td><td style = \"text-align: right;\">0</td><td style = \"text-align: right;\">0</td><td style = \"text-align: right;\">3</td></tr><tr><td class = \"rowNumber\" style = \"font-weight: bold; text-align: right;\">1310</td><td style = \"text-align: right;\">0</td><td style = \"text-align: right;\">0</td><td style = \"text-align: right;\">0</td><td style = \"text-align: right;\">3</td></tr><tr><td class = \"rowNumber\" style = \"font-weight: bold; text-align: right;\">1311</td><td style = \"text-align: right;\">0</td><td style = \"text-align: right;\">0</td><td style = \"text-align: right;\">0</td><td style = \"text-align: right;\">3</td></tr><tr><td class = \"rowNumber\" style = \"font-weight: bold; text-align: right;\">1312</td><td style = \"text-align: right;\">0</td><td style = \"text-align: right;\">0</td><td style = \"text-align: right;\">0</td><td style = \"text-align: right;\">3</td></tr><tr><td class = \"rowNumber\" style = \"font-weight: bold; text-align: right;\">1313</td><td style = \"text-align: right;\">0</td><td style = \"text-align: right;\">0</td><td style = \"text-align: right;\">0</td><td style = \"text-align: right;\">3</td></tr><tr><td class = \"rowNumber\" style = \"font-weight: bold; text-align: right;\">1314</td><td style = \"text-align: right;\">0</td><td style = \"text-align: right;\">0</td><td style = \"text-align: right;\">0</td><td style = \"text-align: right;\">3</td></tr><tr><td class = \"rowNumber\" style = \"font-weight: bold; text-align: right;\">1315</td><td style = \"text-align: right;\">0</td><td style = \"text-align: right;\">0</td><td style = \"text-align: right;\">0</td><td style = \"text-align: right;\">3</td></tr><tr><td class = \"rowNumber\" style = \"font-weight: bold; text-align: right;\">1316</td><td style = \"text-align: right;\">0</td><td style = \"text-align: right;\">0</td><td style = \"text-align: right;\">0</td><td style = \"text-align: right;\">3</td></tr></tbody></table></div>"
      ],
      "text/latex": [
       "\\begin{tabular}{r|cccc}\n",
       "\t& Survived & Age & Sex & Class\\\\\n",
       "\t\\hline\n",
       "\t& Int64 & Int64 & Int64 & Int64\\\\\n",
       "\t\\hline\n",
       "\t1 & 1 & 1 & 1 & 1 \\\\\n",
       "\t2 & 1 & 1 & 1 & 1 \\\\\n",
       "\t3 & 1 & 1 & 1 & 1 \\\\\n",
       "\t4 & 1 & 1 & 1 & 1 \\\\\n",
       "\t5 & 1 & 1 & 1 & 1 \\\\\n",
       "\t6 & 1 & 1 & 1 & 1 \\\\\n",
       "\t7 & 1 & 1 & 1 & 1 \\\\\n",
       "\t8 & 1 & 1 & 1 & 1 \\\\\n",
       "\t9 & 1 & 1 & 1 & 1 \\\\\n",
       "\t10 & 1 & 1 & 1 & 1 \\\\\n",
       "\t11 & 1 & 1 & 1 & 1 \\\\\n",
       "\t12 & 1 & 1 & 1 & 1 \\\\\n",
       "\t13 & 1 & 1 & 1 & 1 \\\\\n",
       "\t14 & 1 & 1 & 1 & 1 \\\\\n",
       "\t15 & 1 & 1 & 1 & 1 \\\\\n",
       "\t16 & 1 & 1 & 1 & 1 \\\\\n",
       "\t17 & 1 & 1 & 1 & 1 \\\\\n",
       "\t18 & 1 & 1 & 1 & 1 \\\\\n",
       "\t19 & 1 & 1 & 1 & 1 \\\\\n",
       "\t20 & 1 & 1 & 1 & 1 \\\\\n",
       "\t21 & 1 & 1 & 1 & 1 \\\\\n",
       "\t22 & 1 & 1 & 1 & 1 \\\\\n",
       "\t23 & 1 & 1 & 1 & 1 \\\\\n",
       "\t24 & 1 & 1 & 1 & 1 \\\\\n",
       "\t25 & 1 & 1 & 1 & 1 \\\\\n",
       "\t26 & 1 & 1 & 1 & 1 \\\\\n",
       "\t27 & 1 & 1 & 1 & 1 \\\\\n",
       "\t28 & 1 & 1 & 1 & 1 \\\\\n",
       "\t29 & 1 & 1 & 1 & 1 \\\\\n",
       "\t30 & 1 & 1 & 1 & 1 \\\\\n",
       "\t$\\dots$ & $\\dots$ & $\\dots$ & $\\dots$ & $\\dots$ \\\\\n",
       "\\end{tabular}\n"
      ],
      "text/plain": [
       "\u001b[1m1316×4 DataFrame\u001b[0m\n",
       "\u001b[1m  Row \u001b[0m│\u001b[1m Survived \u001b[0m\u001b[1m Age   \u001b[0m\u001b[1m Sex   \u001b[0m\u001b[1m Class \u001b[0m\n",
       "      │\u001b[90m Int64    \u001b[0m\u001b[90m Int64 \u001b[0m\u001b[90m Int64 \u001b[0m\u001b[90m Int64 \u001b[0m\n",
       "──────┼───────────────────────────────\n",
       "    1 │        1      1      1      1\n",
       "    2 │        1      1      1      1\n",
       "    3 │        1      1      1      1\n",
       "    4 │        1      1      1      1\n",
       "    5 │        1      1      1      1\n",
       "    6 │        1      1      1      1\n",
       "    7 │        1      1      1      1\n",
       "    8 │        1      1      1      1\n",
       "    9 │        1      1      1      1\n",
       "   10 │        1      1      1      1\n",
       "   11 │        1      1      1      1\n",
       "  ⋮   │    ⋮        ⋮      ⋮      ⋮\n",
       " 1307 │        0      0      0      3\n",
       " 1308 │        0      0      0      3\n",
       " 1309 │        0      0      0      3\n",
       " 1310 │        0      0      0      3\n",
       " 1311 │        0      0      0      3\n",
       " 1312 │        0      0      0      3\n",
       " 1313 │        0      0      0      3\n",
       " 1314 │        0      0      0      3\n",
       " 1315 │        0      0      0      3\n",
       " 1316 │        0      0      0      3\n",
       "\u001b[36m                     1295 rows omitted\u001b[0m"
      ]
     },
     "execution_count": 60,
     "metadata": {},
     "output_type": "execute_result"
    }
   ],
   "source": [
    "using RDatasets\n",
    "df = dataset(\"count\", \"titanic\") # data frame\n",
    "y = convert(Vector{Float64}, df[:, 1]); # responses\n",
    "X = Tables.matrix(df[:, 2:4]) # cases by predictors\n",
    "df"
   ]
  },
  {
   "cell_type": "code",
   "execution_count": null,
   "metadata": {},
   "outputs": [],
   "source": [
    "using LinearAlgebra, ForwardDiff, Printf, SpecialFunctions, RDatasets, Tables, DataFrames"
   ]
  },
  {
   "cell_type": "code",
   "execution_count": 2,
   "metadata": {},
   "outputs": [
    {
     "ename": "LoadError",
     "evalue": "LoadError: invalid redefinition of constant f\nin expression starting at /Users/simonlee/UCLA-Grad-Courses/BIOMATH-205/Search.jl:1252",
     "output_type": "error",
     "traceback": [
      "LoadError: invalid redefinition of constant f\nin expression starting at /Users/simonlee/UCLA-Grad-Courses/BIOMATH-205/Search.jl:1252",
      "",
      "Stacktrace:",
      " [1] top-level scope",
      "   @ ~/UCLA-Grad-Courses/BIOMATH-205/Search.jl:1252",
      " [2] include(fname::String)",
      "   @ Base.MainInclude ./client.jl:451",
      " [3] top-level scope",
      "   @ In[2]:3"
     ]
    }
   ],
   "source": [
    "using LinearAlgebra, ForwardDiff, Printf, SpecialFunctions, RDatasets, Tables, DataFrames\n",
    "\n",
    "include(\"Search.jl\") # Include the Search.jl file\n",
    "\n",
    "# Define logistic regression cost function\n",
    "function logistic_regression(par, X, y)\n",
    "    m = length(y)\n",
    "    predictions = 1 ./ (1 .+ exp.(-X * par))\n",
    "    cost = -sum(y .* log.(predictions) + (1 .- y) .* log.(1 .- predictions)) / m\n",
    "    return cost\n",
    "end\n",
    "\n",
    "# Initialize logistic regression problem for Titanic dataset\n",
    "function initial_titanic()\n",
    "    df = dataset(\"count\", \"titanic\") # data frame\n",
    "    y = convert(Vector{Float64}, df[:, 1]); # responses\n",
    "    X = Tables.matrix(df[:, 2:4]) # cases by predictors\n",
    "\n",
    "    pars = size(X, 2)\n",
    "    constraints = 0\n",
    "    points = 1\n",
    "    travel = \"search\"\n",
    "    title = \"Titanic Logistic Regression\"\n",
    "    cases = 0\n",
    "    standard_errors = false\n",
    "\n",
    "    grid, pname, par, pmin, pmax, constraint, level, goal = set_search_defaults(constraints, pars, points, travel)\n",
    "    par .= 0.0\n",
    "    goal = \"minimize\"\n",
    "    return (grid, pname, par, pmin, pmax, constraint, level, travel, goal, title, cases, standard_errors)\n",
    "end\n",
    "\n",
    "# Run logistic regression on the Titanic dataset\n",
    "(par, f) = search((par) -> logistic_regression(par, X, y), initial_titanic, stdout)\n"
   ]
  },
  {
   "cell_type": "code",
   "execution_count": 8,
   "metadata": {},
   "outputs": [
    {
     "name": "stdout",
     "output_type": "stream",
     "text": [
      "[1.0, 1.0, 1.0, 1.0, 1.0, 1.0, 1.0, 1.0, 1.0, 1.0, 1.0, 1.0, 1.0, 1.0, 1.0, 1.0, 1.0, 1.0, 1.0, 1.0, 1.0, 1.0, 1.0, 1.0, 1.0, 1.0, 1.0, 1.0, 1.0, 1.0, 1.0, 1.0, 1.0, 1.0, 1.0, 1.0, 1.0, 1.0, 1.0, 1.0, 1.0, 1.0, 1.0, 1.0, 1.0, 1.0, 1.0, 1.0, 1.0, 1.0, 0.0, 0.0, 0.0, 0.0, 0.0, 0.0, 0.0, 0.0, 0.0, 0.0, 0.0, 0.0, 0.0, 0.0, 0.0, 0.0, 0.0, 0.0, 0.0, 0.0, 0.0, 0.0, 0.0, 0.0, 0.0, 0.0, 0.0, 0.0, 0.0, 0.0, 0.0, 0.0, 0.0, 0.0, 0.0, 0.0, 0.0, 0.0, 0.0, 0.0, 0.0, 0.0, 0.0, 0.0, 0.0, 0.0, 0.0, 0.0, 0.0, 0.0, 0.0, 0.0, 0.0, 0.0, 0.0, 0.0, 0.0, 0.0, 0.0, 0.0, 0.0, 0.0, 0.0, 0.0, 0.0, 0.0, 0.0, 0.0, 0.0, 0.0, 0.0, 0.0, 0.0, 0.0, 0.0, 0.0, 0.0, 0.0, 0.0, 0.0, 0.0, 0.0, 0.0, 0.0, 0.0, 0.0, 0.0, 0.0, 0.0, 0.0, 0.0, 0.0, 0.0, 0.0, 0.0, 0.0, 0.0, 0.0, 0.0, 0.0]\n"
     ]
    },
    {
     "data": {
      "image/svg+xml": "<?xml version=\"1.0\" encoding=\"utf-8\"?>\n<svg xmlns=\"http://www.w3.org/2000/svg\" xmlns:xlink=\"http://www.w3.org/1999/xlink\" width=\"600\" height=\"400\" viewBox=\"0 0 2400 1600\">\n<defs>\n  <clipPath id=\"clip030\">\n    <rect x=\"0\" y=\"0\" width=\"2400\" height=\"1600\"/>\n  </clipPath>\n</defs>\n<path clip-path=\"url(#clip030)\" d=\"M0 1600 L2400 1600 L2400 0 L0 0  Z\" fill=\"#ffffff\" fill-rule=\"evenodd\" fill-opacity=\"1\"/>\n<defs>\n  <clipPath id=\"clip031\">\n    <rect x=\"480\" y=\"0\" width=\"1681\" height=\"1600\"/>\n  </clipPath>\n</defs>\n<path clip-path=\"url(#clip030)\" d=\"M232.389 1423.18 L2352.76 1423.18 L2352.76 123.472 L232.389 123.472  Z\" fill=\"#ffffff\" fill-rule=\"evenodd\" fill-opacity=\"1\"/>\n<defs>\n  <clipPath id=\"clip032\">\n    <rect x=\"232\" y=\"123\" width=\"2121\" height=\"1301\"/>\n  </clipPath>\n</defs>\n<polyline clip-path=\"url(#clip032)\" style=\"stroke:#000000; stroke-linecap:round; stroke-linejoin:round; stroke-width:2; stroke-opacity:0.1; fill:none\" points=\"290.397,1423.18 290.397,123.472 \"/>\n<polyline clip-path=\"url(#clip032)\" style=\"stroke:#000000; stroke-linecap:round; stroke-linejoin:round; stroke-width:2; stroke-opacity:0.1; fill:none\" points=\"790.984,1423.18 790.984,123.472 \"/>\n<polyline clip-path=\"url(#clip032)\" style=\"stroke:#000000; stroke-linecap:round; stroke-linejoin:round; stroke-width:2; stroke-opacity:0.1; fill:none\" points=\"1291.57,1423.18 1291.57,123.472 \"/>\n<polyline clip-path=\"url(#clip032)\" style=\"stroke:#000000; stroke-linecap:round; stroke-linejoin:round; stroke-width:2; stroke-opacity:0.1; fill:none\" points=\"1792.16,1423.18 1792.16,123.472 \"/>\n<polyline clip-path=\"url(#clip032)\" style=\"stroke:#000000; stroke-linecap:round; stroke-linejoin:round; stroke-width:2; stroke-opacity:0.1; fill:none\" points=\"2292.75,1423.18 2292.75,123.472 \"/>\n<polyline clip-path=\"url(#clip030)\" style=\"stroke:#000000; stroke-linecap:round; stroke-linejoin:round; stroke-width:4; stroke-opacity:1; fill:none\" points=\"232.389,1423.18 2352.76,1423.18 \"/>\n<polyline clip-path=\"url(#clip030)\" style=\"stroke:#000000; stroke-linecap:round; stroke-linejoin:round; stroke-width:4; stroke-opacity:1; fill:none\" points=\"290.397,1423.18 290.397,1404.28 \"/>\n<polyline clip-path=\"url(#clip030)\" style=\"stroke:#000000; stroke-linecap:round; stroke-linejoin:round; stroke-width:4; stroke-opacity:1; fill:none\" points=\"790.984,1423.18 790.984,1404.28 \"/>\n<polyline clip-path=\"url(#clip030)\" style=\"stroke:#000000; stroke-linecap:round; stroke-linejoin:round; stroke-width:4; stroke-opacity:1; fill:none\" points=\"1291.57,1423.18 1291.57,1404.28 \"/>\n<polyline clip-path=\"url(#clip030)\" style=\"stroke:#000000; stroke-linecap:round; stroke-linejoin:round; stroke-width:4; stroke-opacity:1; fill:none\" points=\"1792.16,1423.18 1792.16,1404.28 \"/>\n<polyline clip-path=\"url(#clip030)\" style=\"stroke:#000000; stroke-linecap:round; stroke-linejoin:round; stroke-width:4; stroke-opacity:1; fill:none\" points=\"2292.75,1423.18 2292.75,1404.28 \"/>\n<path clip-path=\"url(#clip030)\" d=\"M290.397 1454.1 Q286.786 1454.1 284.958 1457.66 Q283.152 1461.2 283.152 1468.33 Q283.152 1475.44 284.958 1479.01 Q286.786 1482.55 290.397 1482.55 Q294.032 1482.55 295.837 1479.01 Q297.666 1475.44 297.666 1468.33 Q297.666 1461.2 295.837 1457.66 Q294.032 1454.1 290.397 1454.1 M290.397 1450.39 Q296.208 1450.39 299.263 1455 Q302.342 1459.58 302.342 1468.33 Q302.342 1477.06 299.263 1481.67 Q296.208 1486.25 290.397 1486.25 Q284.587 1486.25 281.509 1481.67 Q278.453 1477.06 278.453 1468.33 Q278.453 1459.58 281.509 1455 Q284.587 1450.39 290.397 1450.39 Z\" fill=\"#000000\" fill-rule=\"nonzero\" fill-opacity=\"1\" /><path clip-path=\"url(#clip030)\" d=\"M754.677 1481.64 L770.996 1481.64 L770.996 1485.58 L749.052 1485.58 L749.052 1481.64 Q751.714 1478.89 756.297 1474.26 Q760.904 1469.61 762.084 1468.27 Q764.329 1465.74 765.209 1464.01 Q766.112 1462.25 766.112 1460.56 Q766.112 1457.8 764.167 1456.07 Q762.246 1454.33 759.144 1454.33 Q756.945 1454.33 754.492 1455.09 Q752.061 1455.86 749.283 1457.41 L749.283 1452.69 Q752.107 1451.55 754.561 1450.97 Q757.015 1450.39 759.052 1450.39 Q764.422 1450.39 767.616 1453.08 Q770.811 1455.77 770.811 1460.26 Q770.811 1462.39 770.001 1464.31 Q769.214 1466.2 767.107 1468.8 Q766.529 1469.47 763.427 1472.69 Q760.325 1475.88 754.677 1481.64 Z\" fill=\"#000000\" fill-rule=\"nonzero\" fill-opacity=\"1\" /><path clip-path=\"url(#clip030)\" d=\"M780.857 1451.02 L799.214 1451.02 L799.214 1454.96 L785.14 1454.96 L785.14 1463.43 Q786.158 1463.08 787.177 1462.92 Q788.195 1462.73 789.214 1462.73 Q795.001 1462.73 798.38 1465.9 Q801.76 1469.08 801.76 1474.49 Q801.76 1480.07 798.288 1483.17 Q794.815 1486.25 788.496 1486.25 Q786.32 1486.25 784.052 1485.88 Q781.806 1485.51 779.399 1484.77 L779.399 1480.07 Q781.482 1481.2 783.704 1481.76 Q785.927 1482.32 788.403 1482.32 Q792.408 1482.32 794.746 1480.21 Q797.084 1478.1 797.084 1474.49 Q797.084 1470.88 794.746 1468.77 Q792.408 1466.67 788.403 1466.67 Q786.528 1466.67 784.653 1467.08 Q782.802 1467.5 780.857 1468.38 L780.857 1451.02 Z\" fill=\"#000000\" fill-rule=\"nonzero\" fill-opacity=\"1\" /><path clip-path=\"url(#clip030)\" d=\"M820.973 1454.1 Q817.362 1454.1 815.533 1457.66 Q813.727 1461.2 813.727 1468.33 Q813.727 1475.44 815.533 1479.01 Q817.362 1482.55 820.973 1482.55 Q824.607 1482.55 826.412 1479.01 Q828.241 1475.44 828.241 1468.33 Q828.241 1461.2 826.412 1457.66 Q824.607 1454.1 820.973 1454.1 M820.973 1450.39 Q826.783 1450.39 829.838 1455 Q832.917 1459.58 832.917 1468.33 Q832.917 1477.06 829.838 1481.67 Q826.783 1486.25 820.973 1486.25 Q815.163 1486.25 812.084 1481.67 Q809.028 1477.06 809.028 1468.33 Q809.028 1459.58 812.084 1455 Q815.163 1450.39 820.973 1450.39 Z\" fill=\"#000000\" fill-rule=\"nonzero\" fill-opacity=\"1\" /><path clip-path=\"url(#clip030)\" d=\"M1251.19 1451.02 L1269.55 1451.02 L1269.55 1454.96 L1255.47 1454.96 L1255.47 1463.43 Q1256.49 1463.08 1257.51 1462.92 Q1258.53 1462.73 1259.55 1462.73 Q1265.33 1462.73 1268.71 1465.9 Q1272.09 1469.08 1272.09 1474.49 Q1272.09 1480.07 1268.62 1483.17 Q1265.15 1486.25 1258.83 1486.25 Q1256.65 1486.25 1254.38 1485.88 Q1252.14 1485.51 1249.73 1484.77 L1249.73 1480.07 Q1251.81 1481.2 1254.04 1481.76 Q1256.26 1482.32 1258.74 1482.32 Q1262.74 1482.32 1265.08 1480.21 Q1267.42 1478.1 1267.42 1474.49 Q1267.42 1470.88 1265.08 1468.77 Q1262.74 1466.67 1258.74 1466.67 Q1256.86 1466.67 1254.99 1467.08 Q1253.13 1467.5 1251.19 1468.38 L1251.19 1451.02 Z\" fill=\"#000000\" fill-rule=\"nonzero\" fill-opacity=\"1\" /><path clip-path=\"url(#clip030)\" d=\"M1291.31 1454.1 Q1287.69 1454.1 1285.87 1457.66 Q1284.06 1461.2 1284.06 1468.33 Q1284.06 1475.44 1285.87 1479.01 Q1287.69 1482.55 1291.31 1482.55 Q1294.94 1482.55 1296.75 1479.01 Q1298.57 1475.44 1298.57 1468.33 Q1298.57 1461.2 1296.75 1457.66 Q1294.94 1454.1 1291.31 1454.1 M1291.31 1450.39 Q1297.12 1450.39 1300.17 1455 Q1303.25 1459.58 1303.25 1468.33 Q1303.25 1477.06 1300.17 1481.67 Q1297.12 1486.25 1291.31 1486.25 Q1285.5 1486.25 1282.42 1481.67 Q1279.36 1477.06 1279.36 1468.33 Q1279.36 1459.58 1282.42 1455 Q1285.5 1450.39 1291.31 1450.39 Z\" fill=\"#000000\" fill-rule=\"nonzero\" fill-opacity=\"1\" /><path clip-path=\"url(#clip030)\" d=\"M1321.47 1454.1 Q1317.86 1454.1 1316.03 1457.66 Q1314.22 1461.2 1314.22 1468.33 Q1314.22 1475.44 1316.03 1479.01 Q1317.86 1482.55 1321.47 1482.55 Q1325.1 1482.55 1326.91 1479.01 Q1328.74 1475.44 1328.74 1468.33 Q1328.74 1461.2 1326.91 1457.66 Q1325.1 1454.1 1321.47 1454.1 M1321.47 1450.39 Q1327.28 1450.39 1330.33 1455 Q1333.41 1459.58 1333.41 1468.33 Q1333.41 1477.06 1330.33 1481.67 Q1327.28 1486.25 1321.47 1486.25 Q1315.66 1486.25 1312.58 1481.67 Q1309.52 1477.06 1309.52 1468.33 Q1309.52 1459.58 1312.58 1455 Q1315.66 1450.39 1321.47 1450.39 Z\" fill=\"#000000\" fill-rule=\"nonzero\" fill-opacity=\"1\" /><path clip-path=\"url(#clip030)\" d=\"M1750.43 1451.02 L1772.66 1451.02 L1772.66 1453.01 L1760.11 1485.58 L1755.23 1485.58 L1767.03 1454.96 L1750.43 1454.96 L1750.43 1451.02 Z\" fill=\"#000000\" fill-rule=\"nonzero\" fill-opacity=\"1\" /><path clip-path=\"url(#clip030)\" d=\"M1781.82 1451.02 L1800.18 1451.02 L1800.18 1454.96 L1786.11 1454.96 L1786.11 1463.43 Q1787.12 1463.08 1788.14 1462.92 Q1789.16 1462.73 1790.18 1462.73 Q1795.97 1462.73 1799.35 1465.9 Q1802.73 1469.08 1802.73 1474.49 Q1802.73 1480.07 1799.25 1483.17 Q1795.78 1486.25 1789.46 1486.25 Q1787.29 1486.25 1785.02 1485.88 Q1782.77 1485.51 1780.36 1484.77 L1780.36 1480.07 Q1782.45 1481.2 1784.67 1481.76 Q1786.89 1482.32 1789.37 1482.32 Q1793.37 1482.32 1795.71 1480.21 Q1798.05 1478.1 1798.05 1474.49 Q1798.05 1470.88 1795.71 1468.77 Q1793.37 1466.67 1789.37 1466.67 Q1787.49 1466.67 1785.62 1467.08 Q1783.77 1467.5 1781.82 1468.38 L1781.82 1451.02 Z\" fill=\"#000000\" fill-rule=\"nonzero\" fill-opacity=\"1\" /><path clip-path=\"url(#clip030)\" d=\"M1821.94 1454.1 Q1818.33 1454.1 1816.5 1457.66 Q1814.69 1461.2 1814.69 1468.33 Q1814.69 1475.44 1816.5 1479.01 Q1818.33 1482.55 1821.94 1482.55 Q1825.57 1482.55 1827.38 1479.01 Q1829.21 1475.44 1829.21 1468.33 Q1829.21 1461.2 1827.38 1457.66 Q1825.57 1454.1 1821.94 1454.1 M1821.94 1450.39 Q1827.75 1450.39 1830.8 1455 Q1833.88 1459.58 1833.88 1468.33 Q1833.88 1477.06 1830.8 1481.67 Q1827.75 1486.25 1821.94 1486.25 Q1816.13 1486.25 1813.05 1481.67 Q1809.99 1477.06 1809.99 1468.33 Q1809.99 1459.58 1813.05 1455 Q1816.13 1450.39 1821.94 1450.39 Z\" fill=\"#000000\" fill-rule=\"nonzero\" fill-opacity=\"1\" /><path clip-path=\"url(#clip030)\" d=\"M2237.27 1481.64 L2244.91 1481.64 L2244.91 1455.28 L2236.6 1456.95 L2236.6 1452.69 L2244.86 1451.02 L2249.54 1451.02 L2249.54 1481.64 L2257.18 1481.64 L2257.18 1485.58 L2237.27 1485.58 L2237.27 1481.64 Z\" fill=\"#000000\" fill-rule=\"nonzero\" fill-opacity=\"1\" /><path clip-path=\"url(#clip030)\" d=\"M2276.62 1454.1 Q2273.01 1454.1 2271.18 1457.66 Q2269.38 1461.2 2269.38 1468.33 Q2269.38 1475.44 2271.18 1479.01 Q2273.01 1482.55 2276.62 1482.55 Q2280.26 1482.55 2282.06 1479.01 Q2283.89 1475.44 2283.89 1468.33 Q2283.89 1461.2 2282.06 1457.66 Q2280.26 1454.1 2276.62 1454.1 M2276.62 1450.39 Q2282.43 1450.39 2285.49 1455 Q2288.57 1459.58 2288.57 1468.33 Q2288.57 1477.06 2285.49 1481.67 Q2282.43 1486.25 2276.62 1486.25 Q2270.81 1486.25 2267.73 1481.67 Q2264.68 1477.06 2264.68 1468.33 Q2264.68 1459.58 2267.73 1455 Q2270.81 1450.39 2276.62 1450.39 Z\" fill=\"#000000\" fill-rule=\"nonzero\" fill-opacity=\"1\" /><path clip-path=\"url(#clip030)\" d=\"M2306.78 1454.1 Q2303.17 1454.1 2301.35 1457.66 Q2299.54 1461.2 2299.54 1468.33 Q2299.54 1475.44 2301.35 1479.01 Q2303.17 1482.55 2306.78 1482.55 Q2310.42 1482.55 2312.22 1479.01 Q2314.05 1475.44 2314.05 1468.33 Q2314.05 1461.2 2312.22 1457.66 Q2310.42 1454.1 2306.78 1454.1 M2306.78 1450.39 Q2312.59 1450.39 2315.65 1455 Q2318.73 1459.58 2318.73 1468.33 Q2318.73 1477.06 2315.65 1481.67 Q2312.59 1486.25 2306.78 1486.25 Q2300.97 1486.25 2297.9 1481.67 Q2294.84 1477.06 2294.84 1468.33 Q2294.84 1459.58 2297.9 1455 Q2300.97 1450.39 2306.78 1450.39 Z\" fill=\"#000000\" fill-rule=\"nonzero\" fill-opacity=\"1\" /><path clip-path=\"url(#clip030)\" d=\"M2336.95 1454.1 Q2333.34 1454.1 2331.51 1457.66 Q2329.7 1461.2 2329.7 1468.33 Q2329.7 1475.44 2331.51 1479.01 Q2333.34 1482.55 2336.95 1482.55 Q2340.58 1482.55 2342.39 1479.01 Q2344.22 1475.44 2344.22 1468.33 Q2344.22 1461.2 2342.39 1457.66 Q2340.58 1454.1 2336.95 1454.1 M2336.95 1450.39 Q2342.76 1450.39 2345.81 1455 Q2348.89 1459.58 2348.89 1468.33 Q2348.89 1477.06 2345.81 1481.67 Q2342.76 1486.25 2336.95 1486.25 Q2331.14 1486.25 2328.06 1481.67 Q2325 1477.06 2325 1468.33 Q2325 1459.58 2328.06 1455 Q2331.14 1450.39 2336.95 1450.39 Z\" fill=\"#000000\" fill-rule=\"nonzero\" fill-opacity=\"1\" /><path clip-path=\"url(#clip030)\" d=\"M1160.29 1520.52 L1166.72 1520.52 L1166.72 1568.04 L1160.29 1568.04 L1160.29 1520.52 Z\" fill=\"#000000\" fill-rule=\"nonzero\" fill-opacity=\"1\" /><path clip-path=\"url(#clip030)\" d=\"M1185.06 1522.27 L1185.06 1532.4 L1197.12 1532.4 L1197.12 1536.95 L1185.06 1536.95 L1185.06 1556.3 Q1185.06 1560.66 1186.23 1561.9 Q1187.44 1563.14 1191.1 1563.14 L1197.12 1563.14 L1197.12 1568.04 L1191.1 1568.04 Q1184.32 1568.04 1181.75 1565.53 Q1179.17 1562.98 1179.17 1556.3 L1179.17 1536.95 L1174.87 1536.95 L1174.87 1532.4 L1179.17 1532.4 L1179.17 1522.27 L1185.06 1522.27 Z\" fill=\"#000000\" fill-rule=\"nonzero\" fill-opacity=\"1\" /><path clip-path=\"url(#clip030)\" d=\"M1235.31 1548.76 L1235.31 1551.62 L1208.39 1551.62 Q1208.77 1557.67 1212.01 1560.85 Q1215.29 1564 1221.12 1564 Q1224.49 1564 1227.64 1563.17 Q1230.83 1562.35 1233.94 1560.69 L1233.94 1566.23 Q1230.79 1567.57 1227.48 1568.27 Q1224.17 1568.97 1220.77 1568.97 Q1212.24 1568.97 1207.24 1564 Q1202.28 1559.04 1202.28 1550.57 Q1202.28 1541.82 1206.99 1536.69 Q1211.73 1531.54 1219.75 1531.54 Q1226.94 1531.54 1231.11 1536.18 Q1235.31 1540.8 1235.31 1548.76 M1229.46 1547.04 Q1229.39 1542.23 1226.75 1539.37 Q1224.14 1536.5 1219.81 1536.5 Q1214.91 1536.5 1211.95 1539.27 Q1209.02 1542.04 1208.58 1547.07 L1229.46 1547.04 Z\" fill=\"#000000\" fill-rule=\"nonzero\" fill-opacity=\"1\" /><path clip-path=\"url(#clip030)\" d=\"M1265.58 1537.87 Q1264.6 1537.3 1263.42 1537.04 Q1262.27 1536.76 1260.87 1536.76 Q1255.91 1536.76 1253.23 1540 Q1250.59 1543.22 1250.59 1549.27 L1250.59 1568.04 L1244.7 1568.04 L1244.7 1532.4 L1250.59 1532.4 L1250.59 1537.93 Q1252.44 1534.69 1255.4 1533.13 Q1258.36 1531.54 1262.59 1531.54 Q1263.19 1531.54 1263.93 1531.63 Q1264.66 1531.7 1265.55 1531.85 L1265.58 1537.87 Z\" fill=\"#000000\" fill-rule=\"nonzero\" fill-opacity=\"1\" /><path clip-path=\"url(#clip030)\" d=\"M1287.93 1550.12 Q1280.83 1550.12 1278.09 1551.75 Q1275.35 1553.37 1275.35 1557.29 Q1275.35 1560.4 1277.39 1562.25 Q1279.46 1564.07 1282.99 1564.07 Q1287.86 1564.07 1290.79 1560.63 Q1293.75 1557.16 1293.75 1551.43 L1293.75 1550.12 L1287.93 1550.12 M1299.61 1547.71 L1299.61 1568.04 L1293.75 1568.04 L1293.75 1562.63 Q1291.75 1565.88 1288.75 1567.44 Q1285.76 1568.97 1281.43 1568.97 Q1275.96 1568.97 1272.71 1565.91 Q1269.5 1562.82 1269.5 1557.67 Q1269.5 1551.65 1273.51 1548.6 Q1277.55 1545.54 1285.54 1545.54 L1293.75 1545.54 L1293.75 1544.97 Q1293.75 1540.93 1291.08 1538.73 Q1288.43 1536.5 1283.63 1536.5 Q1280.57 1536.5 1277.68 1537.23 Q1274.78 1537.97 1272.11 1539.43 L1272.11 1534.02 Q1275.32 1532.78 1278.35 1532.17 Q1281.37 1531.54 1284.23 1531.54 Q1291.97 1531.54 1295.79 1535.55 Q1299.61 1539.56 1299.61 1547.71 Z\" fill=\"#000000\" fill-rule=\"nonzero\" fill-opacity=\"1\" /><path clip-path=\"url(#clip030)\" d=\"M1317.46 1522.27 L1317.46 1532.4 L1329.53 1532.4 L1329.53 1536.95 L1317.46 1536.95 L1317.46 1556.3 Q1317.46 1560.66 1318.64 1561.9 Q1319.85 1563.14 1323.51 1563.14 L1329.53 1563.14 L1329.53 1568.04 L1323.51 1568.04 Q1316.73 1568.04 1314.15 1565.53 Q1311.57 1562.98 1311.57 1556.3 L1311.57 1536.95 L1307.28 1536.95 L1307.28 1532.4 L1311.57 1532.4 L1311.57 1522.27 L1317.46 1522.27 Z\" fill=\"#000000\" fill-rule=\"nonzero\" fill-opacity=\"1\" /><path clip-path=\"url(#clip030)\" d=\"M1337.23 1532.4 L1343.08 1532.4 L1343.08 1568.04 L1337.23 1568.04 L1337.23 1532.4 M1337.23 1518.52 L1343.08 1518.52 L1343.08 1525.93 L1337.23 1525.93 L1337.23 1518.52 Z\" fill=\"#000000\" fill-rule=\"nonzero\" fill-opacity=\"1\" /><path clip-path=\"url(#clip030)\" d=\"M1369.15 1536.5 Q1364.44 1536.5 1361.7 1540.19 Q1358.97 1543.85 1358.97 1550.25 Q1358.97 1556.65 1361.67 1560.34 Q1364.41 1564 1369.15 1564 Q1373.83 1564 1376.57 1560.31 Q1379.31 1556.62 1379.31 1550.25 Q1379.31 1543.92 1376.57 1540.23 Q1373.83 1536.5 1369.15 1536.5 M1369.15 1531.54 Q1376.79 1531.54 1381.15 1536.5 Q1385.51 1541.47 1385.51 1550.25 Q1385.51 1559 1381.15 1564 Q1376.79 1568.97 1369.15 1568.97 Q1361.48 1568.97 1357.12 1564 Q1352.79 1559 1352.79 1550.25 Q1352.79 1541.47 1357.12 1536.5 Q1361.48 1531.54 1369.15 1531.54 Z\" fill=\"#000000\" fill-rule=\"nonzero\" fill-opacity=\"1\" /><path clip-path=\"url(#clip030)\" d=\"M1424.85 1546.53 L1424.85 1568.04 L1419 1568.04 L1419 1546.72 Q1419 1541.66 1417.02 1539.14 Q1415.05 1536.63 1411.1 1536.63 Q1406.36 1536.63 1403.62 1539.65 Q1400.89 1542.68 1400.89 1547.9 L1400.89 1568.04 L1395 1568.04 L1395 1532.4 L1400.89 1532.4 L1400.89 1537.93 Q1402.99 1534.72 1405.82 1533.13 Q1408.68 1531.54 1412.41 1531.54 Q1418.55 1531.54 1421.7 1535.36 Q1424.85 1539.14 1424.85 1546.53 Z\" fill=\"#000000\" fill-rule=\"nonzero\" fill-opacity=\"1\" /><polyline clip-path=\"url(#clip032)\" style=\"stroke:#000000; stroke-linecap:round; stroke-linejoin:round; stroke-width:2; stroke-opacity:0.1; fill:none\" points=\"232.389,1405.4 2352.76,1405.4 \"/>\n<polyline clip-path=\"url(#clip032)\" style=\"stroke:#000000; stroke-linecap:round; stroke-linejoin:round; stroke-width:2; stroke-opacity:0.1; fill:none\" points=\"232.389,1200.97 2352.76,1200.97 \"/>\n<polyline clip-path=\"url(#clip032)\" style=\"stroke:#000000; stroke-linecap:round; stroke-linejoin:round; stroke-width:2; stroke-opacity:0.1; fill:none\" points=\"232.389,996.547 2352.76,996.547 \"/>\n<polyline clip-path=\"url(#clip032)\" style=\"stroke:#000000; stroke-linecap:round; stroke-linejoin:round; stroke-width:2; stroke-opacity:0.1; fill:none\" points=\"232.389,792.121 2352.76,792.121 \"/>\n<polyline clip-path=\"url(#clip032)\" style=\"stroke:#000000; stroke-linecap:round; stroke-linejoin:round; stroke-width:2; stroke-opacity:0.1; fill:none\" points=\"232.389,587.696 2352.76,587.696 \"/>\n<polyline clip-path=\"url(#clip032)\" style=\"stroke:#000000; stroke-linecap:round; stroke-linejoin:round; stroke-width:2; stroke-opacity:0.1; fill:none\" points=\"232.389,383.27 2352.76,383.27 \"/>\n<polyline clip-path=\"url(#clip032)\" style=\"stroke:#000000; stroke-linecap:round; stroke-linejoin:round; stroke-width:2; stroke-opacity:0.1; fill:none\" points=\"232.389,178.844 2352.76,178.844 \"/>\n<polyline clip-path=\"url(#clip030)\" style=\"stroke:#000000; stroke-linecap:round; stroke-linejoin:round; stroke-width:4; stroke-opacity:1; fill:none\" points=\"232.389,1423.18 232.389,123.472 \"/>\n<polyline clip-path=\"url(#clip030)\" style=\"stroke:#000000; stroke-linecap:round; stroke-linejoin:round; stroke-width:4; stroke-opacity:1; fill:none\" points=\"232.389,1405.4 251.287,1405.4 \"/>\n<polyline clip-path=\"url(#clip030)\" style=\"stroke:#000000; stroke-linecap:round; stroke-linejoin:round; stroke-width:4; stroke-opacity:1; fill:none\" points=\"232.389,1200.97 251.287,1200.97 \"/>\n<polyline clip-path=\"url(#clip030)\" style=\"stroke:#000000; stroke-linecap:round; stroke-linejoin:round; stroke-width:4; stroke-opacity:1; fill:none\" points=\"232.389,996.547 251.287,996.547 \"/>\n<polyline clip-path=\"url(#clip030)\" style=\"stroke:#000000; stroke-linecap:round; stroke-linejoin:round; stroke-width:4; stroke-opacity:1; fill:none\" points=\"232.389,792.121 251.287,792.121 \"/>\n<polyline clip-path=\"url(#clip030)\" style=\"stroke:#000000; stroke-linecap:round; stroke-linejoin:round; stroke-width:4; stroke-opacity:1; fill:none\" points=\"232.389,587.696 251.287,587.696 \"/>\n<polyline clip-path=\"url(#clip030)\" style=\"stroke:#000000; stroke-linecap:round; stroke-linejoin:round; stroke-width:4; stroke-opacity:1; fill:none\" points=\"232.389,383.27 251.287,383.27 \"/>\n<polyline clip-path=\"url(#clip030)\" style=\"stroke:#000000; stroke-linecap:round; stroke-linejoin:round; stroke-width:4; stroke-opacity:1; fill:none\" points=\"232.389,178.844 251.287,178.844 \"/>\n<path clip-path=\"url(#clip030)\" d=\"M145.417 1421.96 L145.417 1417.7 Q147.177 1418.53 148.982 1418.97 Q150.788 1419.41 152.524 1419.41 Q157.153 1419.41 159.584 1416.31 Q162.038 1413.19 162.385 1406.85 Q161.042 1408.84 158.982 1409.9 Q156.922 1410.97 154.422 1410.97 Q149.237 1410.97 146.204 1407.84 Q143.195 1404.69 143.195 1399.25 Q143.195 1393.93 146.343 1390.71 Q149.491 1387.49 154.723 1387.49 Q160.718 1387.49 163.866 1392.1 Q167.038 1396.68 167.038 1405.43 Q167.038 1413.6 163.149 1418.49 Q159.283 1423.35 152.732 1423.35 Q150.973 1423.35 149.167 1423 Q147.362 1422.66 145.417 1421.96 M154.723 1407.31 Q157.871 1407.31 159.7 1405.16 Q161.552 1403 161.552 1399.25 Q161.552 1395.53 159.7 1393.37 Q157.871 1391.2 154.723 1391.2 Q151.575 1391.2 149.723 1393.37 Q147.894 1395.53 147.894 1399.25 Q147.894 1403 149.723 1405.16 Q151.575 1407.31 154.723 1407.31 Z\" fill=\"#000000\" fill-rule=\"nonzero\" fill-opacity=\"1\" /><path clip-path=\"url(#clip030)\" d=\"M175.487 1388.12 L193.843 1388.12 L193.843 1392.05 L179.769 1392.05 L179.769 1400.53 Q180.788 1400.18 181.806 1400.02 Q182.825 1399.83 183.843 1399.83 Q189.63 1399.83 193.01 1403 Q196.389 1406.17 196.389 1411.59 Q196.389 1417.17 192.917 1420.27 Q189.445 1423.35 183.126 1423.35 Q180.95 1423.35 178.681 1422.98 Q176.436 1422.61 174.028 1421.87 L174.028 1417.17 Q176.112 1418.3 178.334 1418.86 Q180.556 1419.41 183.033 1419.41 Q187.038 1419.41 189.375 1417.31 Q191.713 1415.2 191.713 1411.59 Q191.713 1407.98 189.375 1405.87 Q187.038 1403.77 183.033 1403.77 Q181.158 1403.77 179.283 1404.18 Q177.431 1404.6 175.487 1405.48 L175.487 1388.12 Z\" fill=\"#000000\" fill-rule=\"nonzero\" fill-opacity=\"1\" /><path clip-path=\"url(#clip030)\" d=\"M114.931 1214.32 L122.57 1214.32 L122.57 1187.95 L114.26 1189.62 L114.26 1185.36 L122.524 1183.69 L127.2 1183.69 L127.2 1214.32 L134.839 1214.32 L134.839 1218.25 L114.931 1218.25 L114.931 1214.32 Z\" fill=\"#000000\" fill-rule=\"nonzero\" fill-opacity=\"1\" /><path clip-path=\"url(#clip030)\" d=\"M154.283 1186.77 Q150.672 1186.77 148.843 1190.34 Q147.038 1193.88 147.038 1201.01 Q147.038 1208.11 148.843 1211.68 Q150.672 1215.22 154.283 1215.22 Q157.917 1215.22 159.723 1211.68 Q161.552 1208.11 161.552 1201.01 Q161.552 1193.88 159.723 1190.34 Q157.917 1186.77 154.283 1186.77 M154.283 1183.07 Q160.093 1183.07 163.149 1187.67 Q166.227 1192.26 166.227 1201.01 Q166.227 1209.73 163.149 1214.34 Q160.093 1218.92 154.283 1218.92 Q148.473 1218.92 145.394 1214.34 Q142.339 1209.73 142.339 1201.01 Q142.339 1192.26 145.394 1187.67 Q148.473 1183.07 154.283 1183.07 Z\" fill=\"#000000\" fill-rule=\"nonzero\" fill-opacity=\"1\" /><path clip-path=\"url(#clip030)\" d=\"M184.445 1186.77 Q180.834 1186.77 179.005 1190.34 Q177.2 1193.88 177.2 1201.01 Q177.2 1208.11 179.005 1211.68 Q180.834 1215.22 184.445 1215.22 Q188.079 1215.22 189.885 1211.68 Q191.713 1208.11 191.713 1201.01 Q191.713 1193.88 189.885 1190.34 Q188.079 1186.77 184.445 1186.77 M184.445 1183.07 Q190.255 1183.07 193.311 1187.67 Q196.389 1192.26 196.389 1201.01 Q196.389 1209.73 193.311 1214.34 Q190.255 1218.92 184.445 1218.92 Q178.635 1218.92 175.556 1214.34 Q172.501 1209.73 172.501 1201.01 Q172.501 1192.26 175.556 1187.67 Q178.635 1183.07 184.445 1183.07 Z\" fill=\"#000000\" fill-rule=\"nonzero\" fill-opacity=\"1\" /><path clip-path=\"url(#clip030)\" d=\"M115.927 1009.89 L123.566 1009.89 L123.566 983.526 L115.256 985.193 L115.256 980.934 L123.519 979.267 L128.195 979.267 L128.195 1009.89 L135.834 1009.89 L135.834 1013.83 L115.927 1013.83 L115.927 1009.89 Z\" fill=\"#000000\" fill-rule=\"nonzero\" fill-opacity=\"1\" /><path clip-path=\"url(#clip030)\" d=\"M155.278 982.346 Q151.667 982.346 149.839 985.911 Q148.033 989.452 148.033 996.582 Q148.033 1003.69 149.839 1007.25 Q151.667 1010.79 155.278 1010.79 Q158.913 1010.79 160.718 1007.25 Q162.547 1003.69 162.547 996.582 Q162.547 989.452 160.718 985.911 Q158.913 982.346 155.278 982.346 M155.278 978.642 Q161.089 978.642 164.144 983.249 Q167.223 987.832 167.223 996.582 Q167.223 1005.31 164.144 1009.92 Q161.089 1014.5 155.278 1014.5 Q149.468 1014.5 146.39 1009.92 Q143.334 1005.31 143.334 996.582 Q143.334 987.832 146.39 983.249 Q149.468 978.642 155.278 978.642 Z\" fill=\"#000000\" fill-rule=\"nonzero\" fill-opacity=\"1\" /><path clip-path=\"url(#clip030)\" d=\"M175.487 979.267 L193.843 979.267 L193.843 983.202 L179.769 983.202 L179.769 991.674 Q180.788 991.327 181.806 991.165 Q182.825 990.98 183.843 990.98 Q189.63 990.98 193.01 994.151 Q196.389 997.323 196.389 1002.74 Q196.389 1008.32 192.917 1011.42 Q189.445 1014.5 183.126 1014.5 Q180.95 1014.5 178.681 1014.13 Q176.436 1013.76 174.028 1013.02 L174.028 1008.32 Q176.112 1009.45 178.334 1010.01 Q180.556 1010.56 183.033 1010.56 Q187.038 1010.56 189.375 1008.46 Q191.713 1006.35 191.713 1002.74 Q191.713 999.128 189.375 997.022 Q187.038 994.915 183.033 994.915 Q181.158 994.915 179.283 995.332 Q177.431 995.748 175.487 996.628 L175.487 979.267 Z\" fill=\"#000000\" fill-rule=\"nonzero\" fill-opacity=\"1\" /><path clip-path=\"url(#clip030)\" d=\"M114.931 805.466 L122.57 805.466 L122.57 779.101 L114.26 780.767 L114.26 776.508 L122.524 774.841 L127.2 774.841 L127.2 805.466 L134.839 805.466 L134.839 809.401 L114.931 809.401 L114.931 805.466 Z\" fill=\"#000000\" fill-rule=\"nonzero\" fill-opacity=\"1\" /><path clip-path=\"url(#clip030)\" d=\"M145.093 805.466 L152.732 805.466 L152.732 779.101 L144.422 780.767 L144.422 776.508 L152.686 774.841 L157.362 774.841 L157.362 805.466 L165.001 805.466 L165.001 809.401 L145.093 809.401 L145.093 805.466 Z\" fill=\"#000000\" fill-rule=\"nonzero\" fill-opacity=\"1\" /><path clip-path=\"url(#clip030)\" d=\"M184.445 777.92 Q180.834 777.92 179.005 781.485 Q177.2 785.026 177.2 792.156 Q177.2 799.262 179.005 802.827 Q180.834 806.369 184.445 806.369 Q188.079 806.369 189.885 802.827 Q191.713 799.262 191.713 792.156 Q191.713 785.026 189.885 781.485 Q188.079 777.92 184.445 777.92 M184.445 774.216 Q190.255 774.216 193.311 778.823 Q196.389 783.406 196.389 792.156 Q196.389 800.883 193.311 805.489 Q190.255 810.073 184.445 810.073 Q178.635 810.073 175.556 805.489 Q172.501 800.883 172.501 792.156 Q172.501 783.406 175.556 778.823 Q178.635 774.216 184.445 774.216 Z\" fill=\"#000000\" fill-rule=\"nonzero\" fill-opacity=\"1\" /><path clip-path=\"url(#clip030)\" d=\"M115.927 601.04 L123.566 601.04 L123.566 574.675 L115.256 576.342 L115.256 572.082 L123.519 570.416 L128.195 570.416 L128.195 601.04 L135.834 601.04 L135.834 604.976 L115.927 604.976 L115.927 601.04 Z\" fill=\"#000000\" fill-rule=\"nonzero\" fill-opacity=\"1\" /><path clip-path=\"url(#clip030)\" d=\"M146.089 601.04 L153.728 601.04 L153.728 574.675 L145.417 576.342 L145.417 572.082 L153.681 570.416 L158.357 570.416 L158.357 601.04 L165.996 601.04 L165.996 604.976 L146.089 604.976 L146.089 601.04 Z\" fill=\"#000000\" fill-rule=\"nonzero\" fill-opacity=\"1\" /><path clip-path=\"url(#clip030)\" d=\"M175.487 570.416 L193.843 570.416 L193.843 574.351 L179.769 574.351 L179.769 582.823 Q180.788 582.476 181.806 582.314 Q182.825 582.129 183.843 582.129 Q189.63 582.129 193.01 585.3 Q196.389 588.471 196.389 593.888 Q196.389 599.466 192.917 602.568 Q189.445 605.647 183.126 605.647 Q180.95 605.647 178.681 605.277 Q176.436 604.906 174.028 604.165 L174.028 599.466 Q176.112 600.601 178.334 601.156 Q180.556 601.712 183.033 601.712 Q187.038 601.712 189.375 599.605 Q191.713 597.499 191.713 593.888 Q191.713 590.277 189.375 588.17 Q187.038 586.064 183.033 586.064 Q181.158 586.064 179.283 586.48 Q177.431 586.897 175.487 587.777 L175.487 570.416 Z\" fill=\"#000000\" fill-rule=\"nonzero\" fill-opacity=\"1\" /><path clip-path=\"url(#clip030)\" d=\"M114.931 396.615 L122.57 396.615 L122.57 370.249 L114.26 371.916 L114.26 367.657 L122.524 365.99 L127.2 365.99 L127.2 396.615 L134.839 396.615 L134.839 400.55 L114.931 400.55 L114.931 396.615 Z\" fill=\"#000000\" fill-rule=\"nonzero\" fill-opacity=\"1\" /><path clip-path=\"url(#clip030)\" d=\"M148.311 396.615 L164.63 396.615 L164.63 400.55 L142.686 400.55 L142.686 396.615 Q145.348 393.86 149.931 389.231 Q154.538 384.578 155.718 383.235 Q157.964 380.712 158.843 378.976 Q159.746 377.217 159.746 375.527 Q159.746 372.772 157.802 371.036 Q155.88 369.3 152.778 369.3 Q150.579 369.3 148.126 370.064 Q145.695 370.828 142.917 372.379 L142.917 367.657 Q145.741 366.522 148.195 365.944 Q150.649 365.365 152.686 365.365 Q158.056 365.365 161.251 368.05 Q164.445 370.735 164.445 375.226 Q164.445 377.356 163.635 379.277 Q162.848 381.175 160.741 383.768 Q160.163 384.439 157.061 387.656 Q153.959 390.851 148.311 396.615 Z\" fill=\"#000000\" fill-rule=\"nonzero\" fill-opacity=\"1\" /><path clip-path=\"url(#clip030)\" d=\"M184.445 369.069 Q180.834 369.069 179.005 372.633 Q177.2 376.175 177.2 383.305 Q177.2 390.411 179.005 393.976 Q180.834 397.518 184.445 397.518 Q188.079 397.518 189.885 393.976 Q191.713 390.411 191.713 383.305 Q191.713 376.175 189.885 372.633 Q188.079 369.069 184.445 369.069 M184.445 365.365 Q190.255 365.365 193.311 369.971 Q196.389 374.555 196.389 383.305 Q196.389 392.031 193.311 396.638 Q190.255 401.221 184.445 401.221 Q178.635 401.221 175.556 396.638 Q172.501 392.031 172.501 383.305 Q172.501 374.555 175.556 369.971 Q178.635 365.365 184.445 365.365 Z\" fill=\"#000000\" fill-rule=\"nonzero\" fill-opacity=\"1\" /><path clip-path=\"url(#clip030)\" d=\"M115.927 192.189 L123.566 192.189 L123.566 165.823 L115.256 167.49 L115.256 163.231 L123.519 161.564 L128.195 161.564 L128.195 192.189 L135.834 192.189 L135.834 196.124 L115.927 196.124 L115.927 192.189 Z\" fill=\"#000000\" fill-rule=\"nonzero\" fill-opacity=\"1\" /><path clip-path=\"url(#clip030)\" d=\"M149.306 192.189 L165.626 192.189 L165.626 196.124 L143.681 196.124 L143.681 192.189 Q146.343 189.434 150.927 184.805 Q155.533 180.152 156.714 178.809 Q158.959 176.286 159.839 174.55 Q160.741 172.791 160.741 171.101 Q160.741 168.347 158.797 166.61 Q156.876 164.874 153.774 164.874 Q151.575 164.874 149.121 165.638 Q146.691 166.402 143.913 167.953 L143.913 163.231 Q146.737 162.097 149.191 161.518 Q151.644 160.939 153.681 160.939 Q159.052 160.939 162.246 163.624 Q165.44 166.31 165.44 170.8 Q165.44 172.93 164.63 174.851 Q163.843 176.749 161.737 179.342 Q161.158 180.013 158.056 183.231 Q154.954 186.425 149.306 192.189 Z\" fill=\"#000000\" fill-rule=\"nonzero\" fill-opacity=\"1\" /><path clip-path=\"url(#clip030)\" d=\"M175.487 161.564 L193.843 161.564 L193.843 165.499 L179.769 165.499 L179.769 173.972 Q180.788 173.624 181.806 173.462 Q182.825 173.277 183.843 173.277 Q189.63 173.277 193.01 176.448 Q196.389 179.62 196.389 185.036 Q196.389 190.615 192.917 193.717 Q189.445 196.795 183.126 196.795 Q180.95 196.795 178.681 196.425 Q176.436 196.055 174.028 195.314 L174.028 190.615 Q176.112 191.749 178.334 192.305 Q180.556 192.86 183.033 192.86 Q187.038 192.86 189.375 190.754 Q191.713 188.647 191.713 185.036 Q191.713 181.425 189.375 179.319 Q187.038 177.212 183.033 177.212 Q181.158 177.212 179.283 177.629 Q177.431 178.046 175.487 178.925 L175.487 161.564 Z\" fill=\"#000000\" fill-rule=\"nonzero\" fill-opacity=\"1\" /><path clip-path=\"url(#clip030)\" d=\"M20.1444 804.852 L26.9239 804.852 Q23.9002 808.099 22.4043 811.791 Q20.9083 815.451 20.9083 819.589 Q20.9083 827.737 25.9054 832.066 Q30.8707 836.394 40.2919 836.394 Q49.6813 836.394 54.6784 832.066 Q59.6436 827.737 59.6436 819.589 Q59.6436 815.451 58.1477 811.791 Q56.6518 808.099 53.6281 804.852 L60.3439 804.852 Q62.6355 808.226 63.7814 812.014 Q64.9272 815.769 64.9272 819.971 Q64.9272 830.761 58.3387 836.967 Q51.7183 843.174 40.2919 843.174 Q28.8336 843.174 22.2451 836.967 Q15.6248 830.761 15.6248 819.971 Q15.6248 815.706 16.7706 811.95 Q17.8846 808.162 20.1444 804.852 Z\" fill=\"#000000\" fill-rule=\"nonzero\" fill-opacity=\"1\" /><path clip-path=\"url(#clip030)\" d=\"M32.4621 781.363 Q32.4621 786.073 36.1542 788.811 Q39.8145 791.548 46.212 791.548 Q52.6095 791.548 56.3017 788.842 Q59.9619 786.105 59.9619 781.363 Q59.9619 776.684 56.2698 773.947 Q52.5777 771.209 46.212 771.209 Q39.8781 771.209 36.186 773.947 Q32.4621 776.684 32.4621 781.363 M27.4968 781.363 Q27.4968 773.724 32.4621 769.363 Q37.4273 765.003 46.212 765.003 Q54.9649 765.003 59.9619 769.363 Q64.9272 773.724 64.9272 781.363 Q64.9272 789.033 59.9619 793.394 Q54.9649 797.723 46.212 797.723 Q37.4273 797.723 32.4621 793.394 Q27.4968 789.033 27.4968 781.363 Z\" fill=\"#000000\" fill-rule=\"nonzero\" fill-opacity=\"1\" /><path clip-path=\"url(#clip030)\" d=\"M29.4065 732.57 L34.9447 732.57 Q33.6716 735.052 33.035 737.726 Q32.3984 740.399 32.3984 743.264 Q32.3984 747.624 33.7352 749.821 Q35.072 751.985 37.7456 751.985 Q39.7826 751.985 40.9603 750.425 Q42.1061 748.866 43.1565 744.155 L43.6021 742.15 Q44.9389 735.912 47.3897 733.302 Q49.8086 730.66 54.1691 730.66 Q59.1344 730.66 62.0308 734.607 Q64.9272 738.521 64.9272 745.396 Q64.9272 748.261 64.3543 751.38 Q63.8132 754.468 62.6992 757.905 L56.6518 757.905 Q58.3387 754.659 59.198 751.508 Q60.0256 748.356 60.0256 745.269 Q60.0256 741.131 58.6251 738.903 Q57.1929 736.675 54.6147 736.675 Q52.2276 736.675 50.9545 738.299 Q49.6813 739.89 48.5037 745.333 L48.0262 747.37 Q46.8804 752.812 44.5251 755.231 Q42.138 757.65 38.0002 757.65 Q32.9713 757.65 30.2341 754.086 Q27.4968 750.521 27.4968 743.964 Q27.4968 740.718 27.9743 737.853 Q28.4517 734.989 29.4065 732.57 Z\" fill=\"#000000\" fill-rule=\"nonzero\" fill-opacity=\"1\" /><path clip-path=\"url(#clip030)\" d=\"M18.2347 715.541 L28.3562 715.541 L28.3562 703.478 L32.9077 703.478 L32.9077 715.541 L52.2594 715.541 Q56.6199 715.541 57.8613 714.364 Q59.1026 713.154 59.1026 709.494 L59.1026 703.478 L64.0042 703.478 L64.0042 709.494 Q64.0042 716.273 61.4897 718.851 Q58.9434 721.43 52.2594 721.43 L32.9077 721.43 L32.9077 725.726 L28.3562 725.726 L28.3562 721.43 L18.2347 721.43 L18.2347 715.541 Z\" fill=\"#000000\" fill-rule=\"nonzero\" fill-opacity=\"1\" /><path clip-path=\"url(#clip030)\" d=\"M983.752 16.7545 L983.752 25.383 Q979.62 21.5346 974.921 19.6307 Q970.262 17.7268 964.996 17.7268 Q954.626 17.7268 949.117 24.0867 Q943.607 30.4061 943.607 42.3968 Q943.607 54.3469 949.117 60.7069 Q954.626 67.0263 964.996 67.0263 Q970.262 67.0263 974.921 65.1223 Q979.62 63.2184 983.752 59.3701 L983.752 67.9175 Q979.458 70.8341 974.637 72.2924 Q969.857 73.7508 964.51 73.7508 Q950.778 73.7508 942.878 65.3654 Q934.979 56.9395 934.979 42.3968 Q934.979 27.8135 942.878 19.4281 Q950.778 11.0023 964.51 11.0023 Q969.938 11.0023 974.718 12.4606 Q979.539 13.8784 983.752 16.7545 Z\" fill=\"#000000\" fill-rule=\"nonzero\" fill-opacity=\"1\" /><path clip-path=\"url(#clip030)\" d=\"M1013.65 32.4315 Q1007.65 32.4315 1004.17 37.1306 Q1000.68 41.7891 1000.68 49.9314 Q1000.68 58.0738 1004.13 62.7728 Q1007.61 67.4314 1013.65 67.4314 Q1019.6 67.4314 1023.09 62.7323 Q1026.57 58.0333 1026.57 49.9314 Q1026.57 41.8701 1023.09 37.1711 Q1019.6 32.4315 1013.65 32.4315 M1013.65 26.1121 Q1023.37 26.1121 1028.92 32.4315 Q1034.47 38.7509 1034.47 49.9314 Q1034.47 61.0714 1028.92 67.4314 Q1023.37 73.7508 1013.65 73.7508 Q1003.88 73.7508 998.335 67.4314 Q992.826 61.0714 992.826 49.9314 Q992.826 38.7509 998.335 32.4315 Q1003.88 26.1121 1013.65 26.1121 Z\" fill=\"#000000\" fill-rule=\"nonzero\" fill-opacity=\"1\" /><path clip-path=\"url(#clip030)\" d=\"M1075.75 28.5427 L1075.75 35.5912 Q1072.59 33.9709 1069.19 33.1607 Q1065.78 32.3505 1062.14 32.3505 Q1056.59 32.3505 1053.79 34.0519 Q1051.04 35.7533 1051.04 39.156 Q1051.04 41.7486 1053.02 43.2475 Q1055.01 44.7058 1061 46.0426 L1063.55 46.6097 Q1071.49 48.3111 1074.82 51.4303 Q1078.18 54.509 1078.18 60.0587 Q1078.18 66.3781 1073.16 70.0644 Q1068.17 73.7508 1059.42 73.7508 Q1055.78 73.7508 1051.81 73.0216 Q1047.88 72.3329 1043.5 70.9151 L1043.5 63.2184 Q1047.63 65.3654 1051.65 66.4591 Q1055.66 67.5124 1059.58 67.5124 Q1064.85 67.5124 1067.69 65.73 Q1070.52 63.9071 1070.52 60.6258 Q1070.52 57.5877 1068.46 55.9673 Q1066.43 54.3469 1059.5 52.8481 L1056.91 52.2405 Q1049.98 50.7821 1046.91 47.7845 Q1043.83 44.7463 1043.83 39.4801 Q1043.83 33.0797 1048.36 29.5959 Q1052.9 26.1121 1061.25 26.1121 Q1065.38 26.1121 1069.02 26.7198 Q1072.67 27.3274 1075.75 28.5427 Z\" fill=\"#000000\" fill-rule=\"nonzero\" fill-opacity=\"1\" /><path clip-path=\"url(#clip030)\" d=\"M1097.42 14.324 L1097.42 27.2059 L1112.77 27.2059 L1112.77 32.9987 L1097.42 32.9987 L1097.42 57.6282 Q1097.42 63.1779 1098.92 64.7578 Q1100.46 66.3376 1105.12 66.3376 L1112.77 66.3376 L1112.77 72.576 L1105.12 72.576 Q1096.49 72.576 1093.21 69.3758 Q1089.93 66.1351 1089.93 57.6282 L1089.93 32.9987 L1084.46 32.9987 L1084.46 27.2059 L1089.93 27.2059 L1089.93 14.324 L1097.42 14.324 Z\" fill=\"#000000\" fill-rule=\"nonzero\" fill-opacity=\"1\" /><path clip-path=\"url(#clip030)\" d=\"M1156.16 65.7705 L1156.16 89.8329 L1148.66 89.8329 L1148.66 27.2059 L1156.16 27.2059 L1156.16 34.0924 Q1158.51 30.0415 1162.07 28.0971 Q1165.68 26.1121 1170.66 26.1121 Q1178.92 26.1121 1184.07 32.6746 Q1189.25 39.2371 1189.25 49.9314 Q1189.25 60.6258 1184.07 67.1883 Q1178.92 73.7508 1170.66 73.7508 Q1165.68 73.7508 1162.07 71.8063 Q1158.51 69.8214 1156.16 65.7705 M1181.52 49.9314 Q1181.52 41.7081 1178.11 37.0496 Q1174.75 32.3505 1168.84 32.3505 Q1162.92 32.3505 1159.52 37.0496 Q1156.16 41.7081 1156.16 49.9314 Q1156.16 58.1548 1159.52 62.8538 Q1162.92 67.5124 1168.84 67.5124 Q1174.75 67.5124 1178.11 62.8538 Q1181.52 58.1548 1181.52 49.9314 Z\" fill=\"#000000\" fill-rule=\"nonzero\" fill-opacity=\"1\" /><path clip-path=\"url(#clip030)\" d=\"M1240.42 48.0275 L1240.42 51.6733 L1206.15 51.6733 Q1206.63 59.3701 1210.76 63.421 Q1214.94 67.4314 1222.35 67.4314 Q1226.64 67.4314 1230.65 66.3781 Q1234.71 65.3249 1238.68 63.2184 L1238.68 70.267 Q1234.66 71.9684 1230.45 72.8596 Q1226.24 73.7508 1221.9 73.7508 Q1211.05 73.7508 1204.69 67.4314 Q1198.37 61.1119 1198.37 50.3365 Q1198.37 39.1965 1204.36 32.6746 Q1210.4 26.1121 1220.61 26.1121 Q1229.76 26.1121 1235.07 32.0264 Q1240.42 37.9003 1240.42 48.0275 M1232.96 45.84 Q1232.88 39.7232 1229.52 36.0774 Q1226.2 32.4315 1220.69 32.4315 Q1214.45 32.4315 1210.68 35.9558 Q1206.96 39.4801 1206.39 45.8805 L1232.96 45.84 Z\" fill=\"#000000\" fill-rule=\"nonzero\" fill-opacity=\"1\" /><path clip-path=\"url(#clip030)\" d=\"M1278.94 34.1734 Q1277.69 33.4443 1276.19 33.1202 Q1274.73 32.7556 1272.95 32.7556 Q1266.63 32.7556 1263.22 36.8875 Q1259.86 40.9789 1259.86 48.6757 L1259.86 72.576 L1252.37 72.576 L1252.37 27.2059 L1259.86 27.2059 L1259.86 34.2544 Q1262.21 30.1225 1265.98 28.1376 Q1269.75 26.1121 1275.13 26.1121 Q1275.9 26.1121 1276.83 26.2337 Q1277.77 26.3147 1278.9 26.5172 L1278.94 34.1734 Z\" fill=\"#000000\" fill-rule=\"nonzero\" fill-opacity=\"1\" /><path clip-path=\"url(#clip030)\" d=\"M1313.46 12.096 L1321.64 12.096 L1321.64 72.576 L1313.46 72.576 L1313.46 12.096 Z\" fill=\"#000000\" fill-rule=\"nonzero\" fill-opacity=\"1\" /><path clip-path=\"url(#clip030)\" d=\"M1344.97 14.324 L1344.97 27.2059 L1360.32 27.2059 L1360.32 32.9987 L1344.97 32.9987 L1344.97 57.6282 Q1344.97 63.1779 1346.47 64.7578 Q1348.01 66.3376 1352.67 66.3376 L1360.32 66.3376 L1360.32 72.576 L1352.67 72.576 Q1344.04 72.576 1340.76 69.3758 Q1337.48 66.1351 1337.48 57.6282 L1337.48 32.9987 L1332.01 32.9987 L1332.01 27.2059 L1337.48 27.2059 L1337.48 14.324 L1344.97 14.324 Z\" fill=\"#000000\" fill-rule=\"nonzero\" fill-opacity=\"1\" /><path clip-path=\"url(#clip030)\" d=\"M1408.93 48.0275 L1408.93 51.6733 L1374.66 51.6733 Q1375.15 59.3701 1379.28 63.421 Q1383.45 67.4314 1390.87 67.4314 Q1395.16 67.4314 1399.17 66.3781 Q1403.22 65.3249 1407.19 63.2184 L1407.19 70.267 Q1403.18 71.9684 1398.97 72.8596 Q1394.76 73.7508 1390.42 73.7508 Q1379.57 73.7508 1373.21 67.4314 Q1366.89 61.1119 1366.89 50.3365 Q1366.89 39.1965 1372.88 32.6746 Q1378.92 26.1121 1389.13 26.1121 Q1398.28 26.1121 1403.59 32.0264 Q1408.93 37.9003 1408.93 48.0275 M1401.48 45.84 Q1401.4 39.7232 1398.04 36.0774 Q1394.72 32.4315 1389.21 32.4315 Q1382.97 32.4315 1379.2 35.9558 Q1375.47 39.4801 1374.91 45.8805 L1401.48 45.84 Z\" fill=\"#000000\" fill-rule=\"nonzero\" fill-opacity=\"1\" /><path clip-path=\"url(#clip030)\" d=\"M1447.46 34.1734 Q1446.2 33.4443 1444.7 33.1202 Q1443.25 32.7556 1441.46 32.7556 Q1435.14 32.7556 1431.74 36.8875 Q1428.38 40.9789 1428.38 48.6757 L1428.38 72.576 L1420.89 72.576 L1420.89 27.2059 L1428.38 27.2059 L1428.38 34.2544 Q1430.73 30.1225 1434.5 28.1376 Q1438.26 26.1121 1443.65 26.1121 Q1444.42 26.1121 1445.35 26.2337 Q1446.28 26.3147 1447.42 26.5172 L1447.46 34.1734 Z\" fill=\"#000000\" fill-rule=\"nonzero\" fill-opacity=\"1\" /><path clip-path=\"url(#clip030)\" d=\"M1475.9 49.7694 Q1466.86 49.7694 1463.38 51.8354 Q1459.9 53.9013 1459.9 58.8839 Q1459.9 62.8538 1462.49 65.2034 Q1465.12 67.5124 1469.62 67.5124 Q1475.82 67.5124 1479.54 63.1374 Q1483.31 58.7219 1483.31 51.4303 L1483.31 49.7694 L1475.9 49.7694 M1490.76 46.6907 L1490.76 72.576 L1483.31 72.576 L1483.31 65.6895 Q1480.76 69.8214 1476.95 71.8063 Q1473.14 73.7508 1467.63 73.7508 Q1460.66 73.7508 1456.53 69.8619 Q1452.44 65.9325 1452.44 59.3701 Q1452.44 51.7138 1457.55 47.825 Q1462.69 43.9361 1472.86 43.9361 L1483.31 43.9361 L1483.31 43.2069 Q1483.31 38.0623 1479.91 35.2672 Q1476.54 32.4315 1470.43 32.4315 Q1466.54 32.4315 1462.85 33.3632 Q1459.17 34.295 1455.76 36.1584 L1455.76 29.2718 Q1459.85 27.692 1463.7 26.9223 Q1467.55 26.1121 1471.2 26.1121 Q1481.04 26.1121 1485.9 31.2163 Q1490.76 36.3204 1490.76 46.6907 Z\" fill=\"#000000\" fill-rule=\"nonzero\" fill-opacity=\"1\" /><path clip-path=\"url(#clip030)\" d=\"M1513.49 14.324 L1513.49 27.2059 L1528.84 27.2059 L1528.84 32.9987 L1513.49 32.9987 L1513.49 57.6282 Q1513.49 63.1779 1514.99 64.7578 Q1516.53 66.3376 1521.19 66.3376 L1528.84 66.3376 L1528.84 72.576 L1521.19 72.576 Q1512.56 72.576 1509.28 69.3758 Q1505.99 66.1351 1505.99 57.6282 L1505.99 32.9987 L1500.53 32.9987 L1500.53 27.2059 L1505.99 27.2059 L1505.99 14.324 L1513.49 14.324 Z\" fill=\"#000000\" fill-rule=\"nonzero\" fill-opacity=\"1\" /><path clip-path=\"url(#clip030)\" d=\"M1538.64 27.2059 L1546.1 27.2059 L1546.1 72.576 L1538.64 72.576 L1538.64 27.2059 M1538.64 9.54393 L1546.1 9.54393 L1546.1 18.9825 L1538.64 18.9825 L1538.64 9.54393 Z\" fill=\"#000000\" fill-rule=\"nonzero\" fill-opacity=\"1\" /><path clip-path=\"url(#clip030)\" d=\"M1579.28 32.4315 Q1573.28 32.4315 1569.8 37.1306 Q1566.31 41.7891 1566.31 49.9314 Q1566.31 58.0738 1569.76 62.7728 Q1573.24 67.4314 1579.28 67.4314 Q1585.23 67.4314 1588.71 62.7323 Q1592.2 58.0333 1592.2 49.9314 Q1592.2 41.8701 1588.71 37.1711 Q1585.23 32.4315 1579.28 32.4315 M1579.28 26.1121 Q1589 26.1121 1594.55 32.4315 Q1600.1 38.7509 1600.1 49.9314 Q1600.1 61.0714 1594.55 67.4314 Q1589 73.7508 1579.28 73.7508 Q1569.51 73.7508 1563.96 67.4314 Q1558.45 61.0714 1558.45 49.9314 Q1558.45 38.7509 1563.96 32.4315 Q1569.51 26.1121 1579.28 26.1121 Z\" fill=\"#000000\" fill-rule=\"nonzero\" fill-opacity=\"1\" /><path clip-path=\"url(#clip030)\" d=\"M1650.17 45.1919 L1650.17 72.576 L1642.71 72.576 L1642.71 45.4349 Q1642.71 38.994 1640.2 35.7938 Q1637.69 32.5936 1632.67 32.5936 Q1626.63 32.5936 1623.15 36.4419 Q1619.66 40.2903 1619.66 46.9338 L1619.66 72.576 L1612.17 72.576 L1612.17 27.2059 L1619.66 27.2059 L1619.66 34.2544 Q1622.34 30.163 1625.94 28.1376 Q1629.59 26.1121 1634.33 26.1121 Q1642.15 26.1121 1646.16 30.9732 Q1650.17 35.7938 1650.17 45.1919 Z\" fill=\"#000000\" fill-rule=\"nonzero\" fill-opacity=\"1\" /><polyline clip-path=\"url(#clip032)\" style=\"stroke:#009af9; stroke-linecap:round; stroke-linejoin:round; stroke-width:4; stroke-opacity:1; fill:none\" points=\"292.4,160.256 294.402,365.153 296.404,536.058 298.407,678.289 300.409,796.49 302.411,894.648 304.414,976.144 306.416,1043.82 308.419,1100.05 310.421,1146.81 312.423,1185.72 314.426,1218.13 316.428,1245.17 318.43,1267.74 320.433,1286.6 322.435,1302.38 324.437,1315.6 326.44,1326.68 328.442,1335.98 330.444,1343.79 332.447,1350.36 334.449,1355.89 336.451,1360.54 338.454,1364.46 340.456,1367.77 342.458,1370.56 344.461,1372.92 346.463,1374.91 348.465,1376.59 350.468,1378.01 352.47,1379.21 354.473,1380.23 356.475,1381.1 358.477,1381.83 360.48,1382.45 362.482,1382.97 364.484,1383.41 366.487,1383.79 368.489,1384.11 370.491,1384.38 372.494,1384.61 374.496,1384.81 376.498,1384.98 378.501,1385.12 380.503,1385.24 382.505,1385.34 384.508,1385.42 386.51,1385.5 388.512,1385.56 390.515,1385.61 392.517,1385.66 394.519,1385.7 396.522,1385.73 398.524,1385.76 400.527,1385.78 402.529,1385.8 404.531,1385.82 406.534,1385.83 408.536,1385.85 410.538,1385.86 412.541,1385.87 414.543,1385.87 416.545,1385.88 418.548,1385.89 420.55,1385.89 422.552,1385.9 424.555,1385.9 426.557,1385.9 428.559,1385.91 430.562,1385.91 432.564,1385.91 434.566,1385.91 436.569,1385.91 438.571,1385.92 440.573,1385.92 442.576,1385.92 444.578,1385.92 446.581,1385.92 448.583,1385.92 450.585,1385.92 452.588,1385.92 454.59,1385.92 456.592,1385.92 458.595,1385.92 460.597,1385.93 462.599,1385.93 464.602,1385.93 466.604,1385.93 468.606,1385.93 470.609,1385.93 472.611,1385.93 474.613,1385.93 476.616,1385.93 478.618,1385.93 480.62,1385.93 482.623,1385.93 484.625,1385.93 486.627,1385.93 488.63,1385.93 490.632,1385.93 492.635,1385.93 494.637,1385.93 496.639,1385.93 498.642,1385.93 500.644,1385.93 502.646,1385.93 504.649,1385.93 506.651,1385.93 508.653,1385.94 510.656,1385.94 512.658,1385.94 514.66,1385.94 516.663,1385.94 518.665,1385.94 520.667,1385.94 522.67,1385.94 524.672,1385.94 526.674,1385.94 528.677,1385.94 530.679,1385.94 532.682,1385.94 534.684,1385.94 536.686,1385.94 538.689,1385.94 540.691,1385.94 542.693,1385.94 544.696,1385.94 546.698,1385.94 548.7,1385.94 550.703,1385.94 552.705,1385.94 554.707,1385.94 556.71,1385.94 558.712,1385.94 560.714,1385.95 562.717,1385.95 564.719,1385.95 566.721,1385.95 568.724,1385.95 570.726,1385.95 572.728,1385.95 574.731,1385.95 576.733,1385.95 578.736,1385.95 580.738,1385.95 582.74,1385.95 584.743,1385.95 586.745,1385.95 588.747,1385.95 590.75,1385.95 592.752,1385.95 594.754,1385.95 596.757,1385.95 598.759,1385.95 600.761,1385.95 602.764,1385.95 604.766,1385.95 606.768,1385.95 608.771,1385.95 610.773,1385.95 612.775,1385.96 614.778,1385.96 616.78,1385.96 618.782,1385.96 620.785,1385.96 622.787,1385.96 624.79,1385.96 626.792,1385.96 628.794,1385.96 630.797,1385.96 632.799,1385.96 634.801,1385.96 636.804,1385.96 638.806,1385.96 640.808,1385.96 642.811,1385.96 644.813,1385.96 646.815,1385.96 648.818,1385.96 650.82,1385.96 652.822,1385.96 654.825,1385.96 656.827,1385.96 658.829,1385.96 660.832,1385.96 662.834,1385.97 664.836,1385.97 666.839,1385.97 668.841,1385.97 670.844,1385.97 672.846,1385.97 674.848,1385.97 676.851,1385.97 678.853,1385.97 680.855,1385.97 682.858,1385.97 684.86,1385.97 686.862,1385.97 688.865,1385.97 690.867,1385.97 692.869,1385.97 694.872,1385.97 696.874,1385.97 698.876,1385.97 700.879,1385.97 702.881,1385.97 704.883,1385.97 706.886,1385.97 708.888,1385.97 710.89,1385.97 712.893,1385.98 714.895,1385.98 716.898,1385.98 718.9,1385.98 720.902,1385.98 722.905,1385.98 724.907,1385.98 726.909,1385.98 728.912,1385.98 730.914,1385.98 732.916,1385.98 734.919,1385.98 736.921,1385.98 738.923,1385.98 740.926,1385.98 742.928,1385.98 744.93,1385.98 746.933,1385.98 748.935,1385.98 750.937,1385.98 752.94,1385.98 754.942,1385.98 756.944,1385.98 758.947,1385.98 760.949,1385.98 762.952,1385.99 764.954,1385.99 766.956,1385.99 768.959,1385.99 770.961,1385.99 772.963,1385.99 774.966,1385.99 776.968,1385.99 778.97,1385.99 780.973,1385.99 782.975,1385.99 784.977,1385.99 786.98,1385.99 788.982,1385.99 790.984,1385.99 792.987,1385.99 794.989,1385.99 796.991,1385.99 798.994,1385.99 800.996,1385.99 802.999,1385.99 805.001,1385.99 807.003,1385.99 809.006,1385.99 811.008,1385.99 813.01,1386 815.013,1386 817.015,1386 819.017,1386 821.02,1386 823.022,1386 825.024,1386 827.027,1386 829.029,1386 831.031,1386 833.034,1386 835.036,1386 837.038,1386 839.041,1386 841.043,1386 843.045,1386 845.048,1386 847.05,1386 849.053,1386 851.055,1386 853.057,1386 855.06,1386 857.062,1386 859.064,1386 861.067,1386 863.069,1386.01 865.071,1386.01 867.074,1386.01 869.076,1386.01 871.078,1386.01 873.081,1386.01 875.083,1386.01 877.085,1386.01 879.088,1386.01 881.09,1386.01 883.092,1386.01 885.095,1386.01 887.097,1386.01 889.099,1386.01 891.102,1386.01 893.104,1386.01 895.107,1386.01 897.109,1386.01 899.111,1386.01 901.114,1386.01 903.116,1386.01 905.118,1386.01 907.121,1386.01 909.123,1386.01 911.125,1386.02 913.128,1386.02 915.13,1386.02 917.132,1386.02 919.135,1386.02 921.137,1386.02 923.139,1386.02 925.142,1386.02 927.144,1386.02 929.146,1386.02 931.149,1386.02 933.151,1386.02 935.153,1386.02 937.156,1386.02 939.158,1386.02 941.161,1386.02 943.163,1386.02 945.165,1386.02 947.168,1386.02 949.17,1386.02 951.172,1386.02 953.175,1386.02 955.177,1386.02 957.179,1386.02 959.182,1386.03 961.184,1386.03 963.186,1386.03 965.189,1386.03 967.191,1386.03 969.193,1386.03 971.196,1386.03 973.198,1386.03 975.2,1386.03 977.203,1386.03 979.205,1386.03 981.207,1386.03 983.21,1386.03 985.212,1386.03 987.215,1386.03 989.217,1386.03 991.219,1386.03 993.222,1386.03 995.224,1386.03 997.226,1386.03 999.229,1386.03 1001.23,1386.03 1003.23,1386.03 1005.24,1386.04 1007.24,1386.04 1009.24,1386.04 1011.24,1386.04 1013.25,1386.04 1015.25,1386.04 1017.25,1386.04 1019.25,1386.04 1021.25,1386.04 1023.26,1386.04 1025.26,1386.04 1027.26,1386.04 1029.26,1386.04 1031.27,1386.04 1033.27,1386.04 1035.27,1386.04 1037.27,1386.04 1039.28,1386.04 1041.28,1386.04 1043.28,1386.04 1045.28,1386.04 1047.28,1386.04 1049.29,1386.04 1051.29,1386.05 1053.29,1386.05 1055.29,1386.05 1057.3,1386.05 1059.3,1386.05 1061.3,1386.05 1063.3,1386.05 1065.31,1386.05 1067.31,1386.05 1069.31,1386.05 1071.31,1386.05 1073.32,1386.05 1075.32,1386.05 1077.32,1386.05 1079.32,1386.05 1081.32,1386.05 1083.33,1386.05 1085.33,1386.05 1087.33,1386.05 1089.33,1386.05 1091.34,1386.05 1093.34,1386.05 1095.34,1386.05 1097.34,1386.06 1099.35,1386.06 1101.35,1386.06 1103.35,1386.06 1105.35,1386.06 1107.36,1386.06 1109.36,1386.06 1111.36,1386.06 1113.36,1386.06 1115.36,1386.06 1117.37,1386.06 1119.37,1386.06 1121.37,1386.06 1123.37,1386.06 1125.38,1386.06 1127.38,1386.06 1129.38,1386.06 1131.38,1386.06 1133.39,1386.06 1135.39,1386.06 1137.39,1386.06 1139.39,1386.06 1141.4,1386.06 1143.4,1386.07 1145.4,1386.07 1147.4,1386.07 1149.4,1386.07 1151.41,1386.07 1153.41,1386.07 1155.41,1386.07 1157.41,1386.07 1159.42,1386.07 1161.42,1386.07 1163.42,1386.07 1165.42,1386.07 1167.43,1386.07 1169.43,1386.07 1171.43,1386.07 1173.43,1386.07 1175.44,1386.07 1177.44,1386.07 1179.44,1386.07 1181.44,1386.07 1183.44,1386.07 1185.45,1386.07 1187.45,1386.08 1189.45,1386.08 1191.45,1386.08 1193.46,1386.08 1195.46,1386.08 1197.46,1386.08 1199.46,1386.08 1201.47,1386.08 1203.47,1386.08 1205.47,1386.08 1207.47,1386.08 1209.48,1386.08 1211.48,1386.08 1213.48,1386.08 1215.48,1386.08 1217.48,1386.08 1219.49,1386.08 1221.49,1386.08 1223.49,1386.08 1225.49,1386.08 1227.5,1386.08 1229.5,1386.08 1231.5,1386.09 1233.5,1386.09 1235.51,1386.09 1237.51,1386.09 1239.51,1386.09 1241.51,1386.09 1243.52,1386.09 1245.52,1386.09 1247.52,1386.09 1249.52,1386.09 1251.52,1386.09 1253.53,1386.09 1255.53,1386.09 1257.53,1386.09 1259.53,1386.09 1261.54,1386.09 1263.54,1386.09 1265.54,1386.09 1267.54,1386.09 1269.55,1386.09 1271.55,1386.09 1273.55,1386.1 1275.55,1386.1 1277.56,1386.1 1279.56,1386.1 1281.56,1386.1 1283.56,1386.1 1285.56,1386.1 1287.57,1386.1 1289.57,1386.1 1291.57,1386.1 1293.57,1386.1 1295.58,1386.1 1297.58,1386.1 1299.58,1386.1 1301.58,1386.1 1303.59,1386.1 1305.59,1386.1 1307.59,1386.1 1309.59,1386.1 1311.59,1386.1 1313.6,1386.1 1315.6,1386.11 1317.6,1386.11 1319.6,1386.11 1321.61,1386.11 1323.61,1386.11 1325.61,1386.11 1327.61,1386.11 1329.62,1386.11 1331.62,1386.11 1333.62,1386.11 1335.62,1386.11 1337.63,1386.11 1339.63,1386.11 1341.63,1386.11 1343.63,1386.11 1345.63,1386.11 1347.64,1386.11 1349.64,1386.11 1351.64,1386.11 1353.64,1386.11 1355.65,1386.11 1357.65,1386.12 1359.65,1386.12 1361.65,1386.12 1363.66,1386.12 1365.66,1386.12 1367.66,1386.12 1369.66,1386.12 1371.67,1386.12 1373.67,1386.12 1375.67,1386.12 1377.67,1386.12 1379.67,1386.12 1381.68,1386.12 1383.68,1386.12 1385.68,1386.12 1387.68,1386.12 1389.69,1386.12 1391.69,1386.12 1393.69,1386.12 1395.69,1386.12 1397.7,1386.12 1399.7,1386.13 1401.7,1386.13 1403.7,1386.13 1405.71,1386.13 1407.71,1386.13 1409.71,1386.13 1411.71,1386.13 1413.71,1386.13 1415.72,1386.13 1417.72,1386.13 1419.72,1386.13 1421.72,1386.13 1423.73,1386.13 1425.73,1386.13 1427.73,1386.13 1429.73,1386.13 1431.74,1386.13 1433.74,1386.13 1435.74,1386.13 1437.74,1386.13 1439.75,1386.14 1441.75,1386.14 1443.75,1386.14 1445.75,1386.14 1447.75,1386.14 1449.76,1386.14 1451.76,1386.14 1453.76,1386.14 1455.76,1386.14 1457.77,1386.14 1459.77,1386.14 1461.77,1386.14 1463.77,1386.14 1465.78,1386.14 1467.78,1386.14 1469.78,1386.14 1471.78,1386.14 1473.79,1386.14 1475.79,1386.14 1477.79,1386.14 1479.79,1386.15 1481.79,1386.15 1483.8,1386.15 1485.8,1386.15 1487.8,1386.15 1489.8,1386.15 1491.81,1386.15 1493.81,1386.15 1495.81,1386.15 1497.81,1386.15 1499.82,1386.15 1501.82,1386.15 1503.82,1386.15 1505.82,1386.15 1507.83,1386.15 1509.83,1386.15 1511.83,1386.15 1513.83,1386.15 1515.83,1386.15 1517.84,1386.15 1519.84,1386.16 1521.84,1386.16 1523.84,1386.16 1525.85,1386.16 1527.85,1386.16 1529.85,1386.16 1531.85,1386.16 1533.86,1386.16 1535.86,1386.16 1537.86,1386.16 1539.86,1386.16 1541.86,1386.16 1543.87,1386.16 1545.87,1386.16 1547.87,1386.16 1549.87,1386.16 1551.88,1386.16 1553.88,1386.16 1555.88,1386.16 1557.88,1386.17 1559.89,1386.17 1561.89,1386.17 1563.89,1386.17 1565.89,1386.17 1567.9,1386.17 1569.9,1386.17 1571.9,1386.17 1573.9,1386.17 1575.9,1386.17 1577.91,1386.17 1579.91,1386.17 1581.91,1386.17 1583.91,1386.17 1585.92,1386.17 1587.92,1386.17 1589.92,1386.17 1591.92,1386.17 1593.93,1386.17 1595.93,1386.18 1597.93,1386.18 1599.93,1386.18 1601.94,1386.18 1603.94,1386.18 1605.94,1386.18 1607.94,1386.18 1609.94,1386.18 1611.95,1386.18 1613.95,1386.18 1615.95,1386.18 1617.95,1386.18 1619.96,1386.18 1621.96,1386.18 1623.96,1386.18 1625.96,1386.18 1627.97,1386.18 1629.97,1386.18 1631.97,1386.19 1633.97,1386.19 1635.98,1386.19 1637.98,1386.19 1639.98,1386.19 1641.98,1386.19 1643.98,1386.19 1645.99,1386.19 1647.99,1386.19 1649.99,1386.19 1651.99,1386.19 1654,1386.19 1656,1386.19 1658,1386.19 1660,1386.19 1662.01,1386.19 1664.01,1386.19 1666.01,1386.19 1668.01,1386.19 1670.02,1386.2 1672.02,1386.2 1674.02,1386.2 1676.02,1386.2 1678.02,1386.2 1680.03,1386.2 1682.03,1386.2 1684.03,1386.2 1686.03,1386.2 1688.04,1386.2 1690.04,1386.2 1692.04,1386.2 1694.04,1386.2 1696.05,1386.2 1698.05,1386.2 1700.05,1386.2 1702.05,1386.2 1704.06,1386.2 1706.06,1386.21 1708.06,1386.21 1710.06,1386.21 1712.06,1386.21 1714.07,1386.21 1716.07,1386.21 1718.07,1386.21 1720.07,1386.21 1722.08,1386.21 1724.08,1386.21 1726.08,1386.21 1728.08,1386.21 1730.09,1386.21 1732.09,1386.21 1734.09,1386.21 1736.09,1386.21 1738.1,1386.21 1740.1,1386.21 1742.1,1386.22 1744.1,1386.22 1746.1,1386.22 1748.11,1386.22 1750.11,1386.22 1752.11,1386.22 1754.11,1386.22 1756.12,1386.22 1758.12,1386.22 1760.12,1386.22 1762.12,1386.22 1764.13,1386.22 1766.13,1386.22 1768.13,1386.22 1770.13,1386.22 1772.14,1386.22 1774.14,1386.22 1776.14,1386.23 1778.14,1386.23 1780.14,1386.23 1782.15,1386.23 1784.15,1386.23 1786.15,1386.23 1788.15,1386.23 1790.16,1386.23 1792.16,1386.23 1794.16,1386.23 1796.16,1386.23 1798.17,1386.23 1800.17,1386.23 1802.17,1386.23 1804.17,1386.23 1806.17,1386.23 1808.18,1386.23 1810.18,1386.24 1812.18,1386.24 1814.18,1386.24 1816.19,1386.24 1818.19,1386.24 1820.19,1386.24 1822.19,1386.24 1824.2,1386.24 1826.2,1386.24 1828.2,1386.24 1830.2,1386.24 1832.21,1386.24 1834.21,1386.24 1836.21,1386.24 1838.21,1386.24 1840.21,1386.24 1842.22,1386.24 1844.22,1386.25 1846.22,1386.25 1848.22,1386.25 1850.23,1386.25 1852.23,1386.25 1854.23,1386.25 1856.23,1386.25 1858.24,1386.25 1860.24,1386.25 1862.24,1386.25 1864.24,1386.25 1866.25,1386.25 1868.25,1386.25 1870.25,1386.25 1872.25,1386.25 1874.25,1386.25 1876.26,1386.25 1878.26,1386.26 1880.26,1386.26 1882.26,1386.26 1884.27,1386.26 1886.27,1386.26 1888.27,1386.26 1890.27,1386.26 1892.28,1386.26 1894.28,1386.26 1896.28,1386.26 1898.28,1386.26 1900.29,1386.26 1902.29,1386.26 1904.29,1386.26 1906.29,1386.26 1908.29,1386.26 1910.3,1386.27 1912.3,1386.27 1914.3,1386.27 1916.3,1386.27 1918.31,1386.27 1920.31,1386.27 1922.31,1386.27 1924.31,1386.27 1926.32,1386.27 1928.32,1386.27 1930.32,1386.27 1932.32,1386.27 1934.33,1386.27 1936.33,1386.27 1938.33,1386.27 1940.33,1386.27 1942.33,1386.28 1944.34,1386.28 1946.34,1386.28 1948.34,1386.28 1950.34,1386.28 1952.35,1386.28 1954.35,1386.28 1956.35,1386.28 1958.35,1386.28 1960.36,1386.28 1962.36,1386.28 1964.36,1386.28 1966.36,1386.28 1968.37,1386.28 1970.37,1386.28 1972.37,1386.28 1974.37,1386.29 1976.37,1386.29 1978.38,1386.29 1980.38,1386.29 1982.38,1386.29 1984.38,1386.29 1986.39,1386.29 1988.39,1386.29 1990.39,1386.29 1992.39,1386.29 1994.4,1386.29 1996.4,1386.29 1998.4,1386.29 2000.4,1386.29 2002.41,1386.29 2004.41,1386.29 2006.41,1386.3 2008.41,1386.3 2010.41,1386.3 2012.42,1386.3 2014.42,1386.3 2016.42,1386.3 2018.42,1386.3 2020.43,1386.3 2022.43,1386.3 2024.43,1386.3 2026.43,1386.3 2028.44,1386.3 2030.44,1386.3 2032.44,1386.3 2034.44,1386.3 2036.44,1386.31 2038.45,1386.31 2040.45,1386.31 2042.45,1386.31 2044.45,1386.31 2046.46,1386.31 2048.46,1386.31 2050.46,1386.31 2052.46,1386.31 2054.47,1386.31 2056.47,1386.31 2058.47,1386.31 2060.47,1386.31 2062.48,1386.31 2064.48,1386.31 2066.48,1386.32 2068.48,1386.32 2070.48,1386.32 2072.49,1386.32 2074.49,1386.32 2076.49,1386.32 2078.49,1386.32 2080.5,1386.32 2082.5,1386.32 2084.5,1386.32 2086.5,1386.32 2088.51,1386.32 2090.51,1386.32 2092.51,1386.32 2094.51,1386.32 2096.52,1386.33 2098.52,1386.33 2100.52,1386.33 2102.52,1386.33 2104.52,1386.33 2106.53,1386.33 2108.53,1386.33 2110.53,1386.33 2112.53,1386.33 2114.54,1386.33 2116.54,1386.33 2118.54,1386.33 2120.54,1386.33 2122.55,1386.33 2124.55,1386.33 2126.55,1386.34 2128.55,1386.34 2130.56,1386.34 2132.56,1386.34 2134.56,1386.34 2136.56,1386.34 2138.56,1386.34 2140.57,1386.34 2142.57,1386.34 2144.57,1386.34 2146.57,1386.34 2148.58,1386.34 2150.58,1386.34 2152.58,1386.34 2154.58,1386.35 2156.59,1386.35 2158.59,1386.35 2160.59,1386.35 2162.59,1386.35 2164.6,1386.35 2166.6,1386.35 2168.6,1386.35 2170.6,1386.35 2172.6,1386.35 2174.61,1386.35 2176.61,1386.35 2178.61,1386.35 2180.61,1386.35 2182.62,1386.36 2184.62,1386.36 2186.62,1386.36 2188.62,1386.36 2190.63,1386.36 2192.63,1386.36 2194.63,1386.36 2196.63,1386.36 2198.64,1386.36 2200.64,1386.36 2202.64,1386.36 2204.64,1386.36 2206.64,1386.36 2208.65,1386.36 2210.65,1386.37 2212.65,1386.37 2214.65,1386.37 2216.66,1386.37 2218.66,1386.37 2220.66,1386.37 2222.66,1386.37 2224.67,1386.37 2226.67,1386.37 2228.67,1386.37 2230.67,1386.37 2232.68,1386.37 2234.68,1386.37 2236.68,1386.37 2238.68,1386.38 2240.68,1386.38 2242.69,1386.38 2244.69,1386.38 2246.69,1386.38 2248.69,1386.38 2250.7,1386.38 2252.7,1386.38 2254.7,1386.38 2256.7,1386.38 2258.71,1386.38 2260.71,1386.38 2262.71,1386.38 2264.71,1386.39 2266.72,1386.39 2268.72,1386.39 2270.72,1386.39 2272.72,1386.39 2274.72,1386.39 2276.73,1386.39 2278.73,1386.39 2280.73,1386.39 2282.73,1386.39 2284.74,1386.39 2286.74,1386.39 2288.74,1386.39 2290.74,1386.39 2292.75,1386.4 \"/>\n</svg>\n"
     },
     "metadata": {},
     "output_type": "display_data"
    },
    {
     "name": "stdout",
     "output_type": "stream",
     "text": [
      "Final Accuracy: 0.6666666666666666\n"
     ]
    },
    {
     "data": {
      "text/plain": [
       "(Dict{Any, Any}(\"W5\" => [-0.3816420400273195 0.5046398087780836 -0.42016673524429465 0.15645670298769132], \"W2\" => [-0.4691142919982503 0.09753904097038538 … 0.6625018763618754 -0.12433035597737056; 0.16765633879440364 -0.07499579245553283 … 0.575967191672415 -0.2694402953770302; … ; -0.39452492887125123 0.46558725895267056 … 0.14403048575858415 -0.09514706619476815; 0.017029218928353265 -0.11626155748488518 … 0.17388904497189084 -0.0630465904166946], \"W3\" => [-0.16666220703834417 0.6440250483573461 … 0.42453901590857845 -0.497689352388218; -0.21511445981179106 -0.07407521197650373 … -0.0009898252815805973 0.10523309056008771; … ; -0.1408678974156041 -0.030136942903829334 … -0.12408990142125259 -0.5735437731228585; -0.3662377312265578 0.4011596349809852 … -0.34855099200990536 0.05775680318350997], \"W4\" => [-0.015915587379789244 0.08962662138630614 … 0.11432611412778909 0.34760778358039046; -0.614883321905765 0.156629459543969 … 0.2634932101948235 -0.009851849935831984; -0.4745106802902368 -0.20093242463694835 … 0.16712733175692382 0.4598744162983258; 0.40222446715755716 0.04593751268674268 … 0.059904109067733094 0.17881523850788397], \"b3\" => [0.0011314509319594838; -0.003997886929225724; … ; -0.0032779204756148432; 0.005114023052150237;;], \"b4\" => [0.027911091759623058; -0.0823886323074428; 0.04139795561940408; -0.045398532774015204;;], \"W1\" => [0.8086463239962753 -0.2625532282910974 0.08812573448823473 0.062106126157259564; 0.20053763188404117 -0.35842115981158007 -0.17740051475129803 0.09264343085377517; … ; -0.45346852409112287 0.09903484310095254 0.039648882717630035 0.3894853020894148; -0.18806426433137577 -0.10587952386034781 -1.0258779983630697 -0.3275999838907539], \"b2\" => [0.001085068726025061; -0.001838422903417963; … ; -0.00032829788745446166; -0.00040975921029318943;;], \"b5\" => [-0.5594128268322947;;], \"b1\" => [-0.0008936835240731749; 0.00011187654373718006; … ; -0.00028413586760022883; -0.0004272175115689374;;]…), [125.4546365602256, 120.44310693408812, 116.26299205909825, 112.78418951925589, 109.89314185063873, 107.49232763657182, 105.4990272197819, 103.84372353171577, 102.46838973047132, 101.32482227831778  …  95.46495101243178, 95.46493266969924, 95.46491430601863, 95.46489592135296, 95.46487751566511, 95.46485908891802, 95.46484064107446, 95.4648221720972, 95.4648036819489, 95.46478517059218])"
      ]
     },
     "execution_count": 8,
     "metadata": {},
     "output_type": "execute_result"
    }
   ],
   "source": [
    "using LinearAlgebra, Plots, RDatasets, StatsBase\n",
    "\n",
    "function logistic(x, y) # loss\n",
    "    (u, du) = (similar(x), similar(x))\n",
    "    @. u = - (y * log(x) + (1 - y) * log(1 - x))\n",
    "    @. du = - (y - x) / (x * (1 - x))\n",
    "    return (u, du)\n",
    "end\n",
    "\n",
    "function sigmoid(z)\n",
    "    a = similar(z)\n",
    "    da = similar(z)\n",
    "    @. a = 1 / (1 + exp(-z))\n",
    "    @. da = a * (1 - a)\n",
    "    return (a, da)\n",
    "end\n",
    "\n",
    "function initialize(nodes)\n",
    "    par = Dict()\n",
    "    for l = 1:length(nodes) - 1\n",
    "        (W, b) = (\"W\" * string(l), \"b\" * string(l))\n",
    "        par[W] = randn(nodes[l + 1], nodes[l]) / sqrt(nodes[l])\n",
    "        par[b] = zeros(nodes[l + 1], 1)\n",
    "    end\n",
    "    return par\n",
    "end\n",
    "\n",
    "function update(par, grad, layers, t)\n",
    "    for l = 1:layers - 1\n",
    "        (W, b) = (\"W\" * string(l), \"b\" * string(l))\n",
    "        par[W] = par[W] - t * grad[W]\n",
    "        par[b] = par[b] - t * grad[b]\n",
    "    end\n",
    "    return par\n",
    "end\n",
    "\n",
    "function forward(X, par, cases, activation, layers)\n",
    "    z = X\n",
    "    cache = [(z, zeros(0,0))]\n",
    "    for l = 1:layers - 1\n",
    "        (W, b) = (\"W\" * string(l), \"b\" * string(l))\n",
    "        (a, da) = activation(par[W] * z .+ (par[b] * ones(cases)'))\n",
    "        push!(cache, (a, da))\n",
    "        z = a\n",
    "    end\n",
    "    return cache\n",
    "end\n",
    "\n",
    "function backward(X, y, par, cache, activation, loss, layers)\n",
    "    grad = Dict()\n",
    "    (a, da) = cache[layers]\n",
    "    (obj, dZ) = loss(a, y)\n",
    "    cost = sum(obj)\n",
    "    dZ = da .* dZ\n",
    "    for l = reverse(1:layers - 1)\n",
    "        (a, da) = cache[l]\n",
    "        (W, b) = (\"W\" * string(l), \"b\" * string(l))\n",
    "        grad[W] = dZ * a'\n",
    "        grad[b] = sum(dZ, dims = 2)\n",
    "        if l > 1\n",
    "            dZ = par[W]' * dZ\n",
    "            dZ = da .* dZ\n",
    "        end\n",
    "    end\n",
    "    return (cost, grad)\n",
    "end\n",
    "\n",
    "function compute_accuracy(X, y, par, activation, layers)\n",
    "    cache = forward(X, par, size(X, 2), activation, layers)\n",
    "    predictions = cache[end][1]\n",
    "    return mean((predictions .> 0.5) .== y)\n",
    "end\n",
    "\n",
    "function train(nodes, X, y, t, iters, fun, plot_name)\n",
    "    (activation, loss) = fun\n",
    "    (cases, layers) = (size(X, 2), length(nodes))\n",
    "    par = initialize(nodes)\n",
    "    cost = zeros(iters)\n",
    "    for i = 1:iters\n",
    "        cache = forward(X, par, cases, activation, layers)\n",
    "        (cost[i], grad) = backward(X, y, par, cache, activation, loss, layers)\n",
    "        par = update(par, grad, layers, t)\n",
    "    end\n",
    "    final_accuracy = compute_accuracy(X, y, par, activation, layers)\n",
    "    cost_plot = plot(1:iters, cost, legend = false, title = \"Cost per Iteration\", xlabel = \"Iteration\", ylabel = \"Cost\")\n",
    "    display(cost_plot)\n",
    "    savefig(plot_name)\n",
    "    println(\"Final Accuracy: \", final_accuracy)\n",
    "    return par, cost\n",
    "end\n",
    "\n",
    "# Using the Iris dataset\n",
    "df = dataset(\"datasets\", \"iris\")\n",
    "y = convert(Vector{Float64}, df[:, \"Species\"] .== \"setosa\")\n",
    "println(y)\n",
    "y = reshape(y, 1, length(y))\n",
    "XT = Tables.matrix(df[:, 1:4])\n",
    "X = Matrix(XT')\n",
    "X = convert(Matrix{Float64}, X)\n",
    "\n",
    "# Define network structure with four hidden layers\n",
    "nodes = [size(X, 1), 10, 8, 6, 4, 1]  # Input layer, four hidden layers, and output layer\n",
    "fun = (sigmoid, logistic)\n",
    "(t, iters, plot_name) = (0.001, 1000, \"Iris.png\")\n",
    "(par, loss) = train(nodes, X, y, t, iters, fun, plot_name)\n"
   ]
  },
  {
   "cell_type": "code",
   "execution_count": 38,
   "metadata": {},
   "outputs": [
    {
     "name": "stdout",
     "output_type": "stream",
     "text": [
      "\n",
      "                       Search, Julia Version\n",
      "\n",
      "                 (c) Copyright Kenneth Lange, 2022\n",
      "\n"
     ]
    },
    {
     "ename": "LoadError",
     "evalue": "UndefVarError: title not defined",
     "output_type": "error",
     "traceback": [
      "UndefVarError: title not defined",
      "",
      "Stacktrace:",
      " [1] logistic_regression_initialization()",
      "   @ Main ./In[38]:37",
      " [2] search(fun::typeof(logistic_regression), initial::typeof(logistic_regression_initialization), io::IJulia.IJuliaStdio{Base.PipeEndpoint})",
      "   @ Main ~/UCLA-Grad-Courses/BIOMATH-205/Search.jl:30",
      " [3] top-level scope",
      "   @ In[38]:42"
     ]
    }
   ],
   "source": [
    "using RDatasets, Tables, LinearAlgebra, SpecialFunctions\n",
    "include(\"Search.jl\")  # Make sure this path is correct to include your Search.jl file\n",
    "\n",
    "# Load Titanic dataset\n",
    "df = dataset(\"count\", \"titanic\")\n",
    "y = convert(Vector{Float64}, df[:, 1])  # responses\n",
    "X = Tables.matrix(df[:, 2:4])  # predictors\n",
    "X = float.(X)  # Ensure that predictors are numerical\n",
    "\n",
    "# Define the logistic regression function\n",
    "function logistic_regression(beta)\n",
    "    logits = X * beta\n",
    "    log_likelihood = sum(y .* logits - log1p.(exp.(logits)))\n",
    "    return -log_likelihood  # Negative for minimization\n",
    "end\n",
    "\n",
    "# Define an initialization function for the logistic regression problem\n",
    "function logistic_regression_initialization()\n",
    "    # Define the number of parameters (size of beta)\n",
    "    pars = size(X, 2)\n",
    "    # No constraints for basic logistic regression\n",
    "    constraints = 0\n",
    "    points = 1  # Only one starting point\n",
    "    travel = \"search\"\n",
    "    \n",
    "    # Set up other parameters as needed for your problem\n",
    "    # For simplicity, this example uses broad settings\n",
    "    grid, pname, par, pmin, pmax, constraint, level, goal = \n",
    "        set_search_defaults(constraints, pars, points, travel)\n",
    "    \n",
    "    # Set the initial guess for beta\n",
    "    par .= 0.0\n",
    "\n",
    "    # Define bounds, goal, title, etc., as needed\n",
    "    # ...\n",
    "\n",
    "    return (grid, pname, par, pmin, pmax, constraint, level, travel, \n",
    "        goal, title, cases, standard_errors)\n",
    "end\n",
    "\n",
    "# Optimization using the search function\n",
    "optimized_beta, fmin = search(logistic_regression, logistic_regression_initialization, stdout)\n",
    "\n",
    "# Output the results\n",
    "println(\"Optimized Parameters: \", optimized_beta)\n",
    "println(\"Function Minimum: \", fmin)"
   ]
  },
  {
   "cell_type": "code",
   "execution_count": 30,
   "metadata": {},
   "outputs": [
    {
     "name": "stderr",
     "output_type": "stream",
     "text": [
      "\u001b[32m\u001b[1m   Resolving\u001b[22m\u001b[39m package versions...\n",
      "\u001b[32m\u001b[1m   Installed\u001b[22m\u001b[39m DiffRules ──── v1.15.1\n",
      "\u001b[32m\u001b[1m   Installed\u001b[22m\u001b[39m ForwardDiff ── v0.10.36\n",
      "\u001b[32m\u001b[1m   Installed\u001b[22m\u001b[39m StaticArrays ─ v1.7.0\n",
      "\u001b[32m\u001b[1m    Updating\u001b[22m\u001b[39m `~/.julia/environments/v1.7/Project.toml`\n",
      " \u001b[90m [f6369f11] \u001b[39m\u001b[92m+ ForwardDiff v0.10.36\u001b[39m\n",
      "\u001b[32m\u001b[1m    Updating\u001b[22m\u001b[39m `~/.julia/environments/v1.7/Manifest.toml`\n",
      " \u001b[90m [bbf7d656] \u001b[39m\u001b[92m+ CommonSubexpressions v0.3.0\u001b[39m\n",
      " \u001b[90m [163ba53b] \u001b[39m\u001b[92m+ DiffResults v1.1.0\u001b[39m\n",
      " \u001b[90m [b552c78f] \u001b[39m\u001b[92m+ DiffRules v1.15.1\u001b[39m\n",
      " \u001b[90m [f6369f11] \u001b[39m\u001b[92m+ ForwardDiff v0.10.36\u001b[39m\n",
      " \u001b[90m [90137ffa] \u001b[39m\u001b[92m+ StaticArrays v1.7.0\u001b[39m\n",
      "\u001b[32m\u001b[1mPrecompiling\u001b[22m\u001b[39m project...\n",
      "\u001b[32m  ✓ \u001b[39m\u001b[90mDiffResults\u001b[39m\n",
      "\u001b[32m  ✓ \u001b[39m\u001b[90mDiffRules\u001b[39m\n",
      "\u001b[32m  ✓ \u001b[39m\u001b[90mStaticArrays\u001b[39m\n",
      "\u001b[32m  ✓ \u001b[39mForwardDiff\n",
      "  4 dependencies successfully precompiled in 8 seconds (213 already precompiled, 1 skipped during auto due to previous errors)\n"
     ]
    }
   ],
   "source": [
    "import Pkg; Pkg.add(\"ForwardDiff\")"
   ]
  },
  {
   "cell_type": "code",
   "execution_count": 37,
   "metadata": {},
   "outputs": [
    {
     "ename": "LoadError",
     "evalue": "syntax: invalid identifier name \"...\"",
     "output_type": "error",
     "traceback": [
      "syntax: invalid identifier name \"...\"",
      "",
      "Stacktrace:",
      " [1] top-level scope",
      "   @ In[37]:23"
     ]
    }
   ],
   "source": [
    "using RDatasets, Tables, LinearAlgebra, SpecialFunctions\n",
    "include(\"Search.jl\")  # Make sure this path is correct to include your Search.jl file\n",
    "\n",
    "# Load Titanic dataset\n",
    "df = dataset(\"count\", \"titanic\")\n",
    "y = convert(Vector{Float64}, df[:, 1])  # Responses\n",
    "X = Tables.matrix(df[:, 2:4])  # Predictors\n",
    "X = float.(X)  # Ensure numerical predictors\n",
    "\n",
    "# Define the logistic regression function\n",
    "function logistic_regression(beta)\n",
    "    logits = X * beta\n",
    "    log_likelihood = sum(y .* logits - log1p.(exp.(logits)))\n",
    "    return -log_likelihood  # Negative for minimization\n",
    "end\n",
    "\n",
    "# Initial guess for beta\n",
    "initial_beta = zeros(size(X, 2))\n",
    "\n",
    "# Define an 'initial' function for the 'search' function\n",
    "function initial()\n",
    "    # Define other necessary initial parameters as per 'search' function's requirement\n",
    "    grid = ...\n",
    "    pname = ...\n",
    "    par = initial_beta\n",
    "    pmin = ...\n",
    "    pmax = ...\n",
    "    constraint = ...\n",
    "    level = ...\n",
    "    travel = ...\n",
    "    goal = ...\n",
    "    title = ...\n",
    "    cases = ...\n",
    "    standard_errors = ...\n",
    "    # Return all these values in the exact order expected by 'search'\n",
    "    return grid, pname, par, pmin, pmax, constraint, level, travel, goal, title, cases, standard_errors\n",
    "end\n",
    "\n",
    "# Optimization using the search function\n",
    "optimized_beta, fmin = search(logistic_regression, initial, stdout)\n",
    "\n",
    "# Output the results\n",
    "println(\"Optimized Parameters: \", optimized_beta)\n",
    "println(\"Function Minimum: \", fmin)"
   ]
  },
  {
   "cell_type": "code",
   "execution_count": 26,
   "metadata": {},
   "outputs": [
    {
     "name": "stdout",
     "output_type": "stream",
     "text": [
      "3.0NaNApproximate sqrt(10): NaN\n",
      "Derivative of sqrt(10): NaN\n"
     ]
    }
   ],
   "source": [
    "function sqrt_continued_fraction(x, n_terms=10)\n",
    "    # if isperfectsquare(x)\n",
    "    #     sqrt_x = sqrt(x)\n",
    "    #     derivative = 1 / (2 * sqrt_x)\n",
    "    #     return sqrt_x, derivative\n",
    "    # end\n",
    "\n",
    "    a0 = floor(sqrt(x))\n",
    "    m = 0\n",
    "    d = 1\n",
    "    a = a0\n",
    "\n",
    "    fraction = 0\n",
    "    for _ in 1:n_terms\n",
    "        m = d * a - m\n",
    "        d = (x - m^2) / d\n",
    "        a = floor((a0 + m) / d)\n",
    "        fraction = 1 / (a + fraction)\n",
    "    end\n",
    "    sqrt_x = a0 + fraction\n",
    "    derivative = 1 / (2 * sqrt_x)\n",
    "\n",
    "    return sqrt_x, derivative\n",
    "end\n",
    "\n",
    "function isperfectsquare(x)\n",
    "    sqrt_x = sqrt(x)\n",
    "    return sqrt_x == floor(sqrt_x)\n",
    "end\n",
    "\n",
    "\n",
    "x = 10\n",
    "sqrt_x, derivative = sqrt_continued_fraction(9)\n",
    "println(\"Approximate sqrt($x): \", sqrt_x)\n",
    "println(\"Derivative of sqrt($x): \", derivative)"
   ]
  },
  {
   "cell_type": "code",
   "execution_count": 23,
   "metadata": {},
   "outputs": [
    {
     "ename": "LoadError",
     "evalue": "DivideError: integer division error",
     "output_type": "error",
     "traceback": [
      "DivideError: integer division error",
      "",
      "Stacktrace:",
      " [1] div",
      "   @ ./int.jl:284 [inlined]",
      " [2] sqrt_continued_fraction(x::Int64, n_terms::Int64)",
      "   @ Main ./In[23]:11",
      " [3] sqrt_continued_fraction(x::Int64)",
      "   @ Main ./In[23]:2",
      " [4] top-level scope",
      "   @ In[23]:23"
     ]
    }
   ],
   "source": [
    "function sqrt_continued_fraction(x, n_terms=10)\n",
    "    a0 = floor(Int, sqrt(x))\n",
    "    m = 0\n",
    "    d = 1\n",
    "    a = a0\n",
    "\n",
    "    fraction = a0\n",
    "    for i in 1:n_terms\n",
    "        m = d*a - m\n",
    "        d = (x - m^2) ÷ d\n",
    "        a = (a0 + m) ÷ d\n",
    "        fraction = a + 1/fraction\n",
    "    end\n",
    "    return fraction\n",
    "end\n",
    "\n",
    "function sqrt_derivative(x)\n",
    "    return 1 / (2 * sqrt(x))\n",
    "end\n",
    "\n",
    "# Example usage\n",
    "x = 10\n",
    "sqrt_approx = sqrt_continued_fraction()\n",
    "sqrt_deriv = sqrt_derivative(9)\n",
    "\n",
    "println(\"Approximate sqrt($x): \", sqrt_approx)\n",
    "println(\"Derivative of sqrt($x): \", sqrt_deriv)"
   ]
  },
  {
   "cell_type": "code",
   "execution_count": 10,
   "metadata": {},
   "outputs": [
    {
     "ename": "LoadError",
     "evalue": "DivideError: integer division error",
     "output_type": "error",
     "traceback": [
      "DivideError: integer division error",
      "",
      "Stacktrace:",
      " [1] div",
      "   @ ./int.jl:284 [inlined]",
      " [2] sqrt_continued_fraction(x::Int64, n_terms::Int64)",
      "   @ Main ./In[10]:11",
      " [3] sqrt_continued_fraction(x::Int64)",
      "   @ Main ./In[10]:2",
      " [4] top-level scope",
      "   @ In[10]:23"
     ]
    }
   ],
   "source": [
    "function sqrt_continued_fraction(x, n_terms=10)\n",
    "    a0 = floor(Int, sqrt(x))\n",
    "    m = 0\n",
    "    d = 1\n",
    "    a = a0\n",
    "\n",
    "    fraction = a0\n",
    "    for i in 1:n_terms\n",
    "        m = d*a - m\n",
    "        d = (x - m^2) ÷ d\n",
    "        a = (a0 + m) ÷ d\n",
    "        fraction = a + 1/fraction\n",
    "    end\n",
    "    return fraction\n",
    "end\n",
    "\n",
    "function sqrt_derivative(x)\n",
    "    return 1 / (2 * sqrt(x))\n",
    "end\n",
    "\n",
    "# Example usage\n",
    "x = 9\n",
    "sqrt_approx = sqrt_continued_fraction(x)\n",
    "sqrt_deriv = sqrt_derivative(x)\n",
    "\n",
    "println(\"Approximate sqrt($x): \", sqrt_approx)\n",
    "println(\"Derivative of sqrt($x): \", sqrt_deriv)"
   ]
  },
  {
   "cell_type": "code",
   "execution_count": 17,
   "metadata": {},
   "outputs": [
    {
     "name": "stdout",
     "output_type": "stream",
     "text": [
      "Sqrt approximation: 1.6179775280898876\n",
      "Derivative: 1.0000000000065512\n"
     ]
    }
   ],
   "source": [
    "function sqrt_and_derivative(func, x, terms=10)\n",
    "    func()\n",
    "    a0 = floor(Int, sqrt(x))\n",
    "    m, d, a = 0, 1, a0\n",
    "\n",
    "    fraction = a0\n",
    "    for _ in 1:terms\n",
    "        m = d * a - m\n",
    "        d = (x - m^2) ÷ d\n",
    "        a = (a0 + m) ÷ d\n",
    "        fraction = a0 + 1 / fraction\n",
    "    end\n",
    "\n",
    "    # Compute the derivative using finite differences\n",
    "    h = 1e-5\n",
    "    derivative = (sqrt(func(x + h)) - sqrt(func(x - h))) / (2 * h)\n",
    "\n",
    "    return fraction, derivative\n",
    "end\n",
    "\n",
    "# Example usage with a simple square function\n",
    "square(x) = x^2\n",
    "sqrt_x, derivative_sqrt_x = sqrt_and_derivative(square, 3)\n",
    "println(\"Sqrt approximation: \", sqrt_x)\n",
    "println(\"Derivative: \", derivative_sqrt_x)"
   ]
  },
  {
   "cell_type": "code",
   "execution_count": 11,
   "metadata": {},
   "outputs": [
    {
     "name": "stdout",
     "output_type": "stream",
     "text": [
      "Approximate sqrt(9): 3.0\n",
      "Derivative of sqrt(9): 0.16666666666666666\n"
     ]
    }
   ],
   "source": [
    "function sqrt_approx(x)\n",
    "    return sqrt(x)  # Using Julia's built-in sqrt function for approximation\n",
    "end\n",
    "\n",
    "function sqrt_derivative(x)\n",
    "    return 1 / (2 * sqrt(x))  # Derivative of sqrt(x)\n",
    "end\n",
    "\n",
    "# Example usage\n",
    "x = 9\n",
    "sqrt_val = sqrt_approx(x)\n",
    "deriv_val = sqrt_derivative(x)\n",
    "\n",
    "println(\"Approximate sqrt($x): \", sqrt_val)\n",
    "println(\"Derivative of sqrt($x): \", deriv_val)"
   ]
  },
  {
   "cell_type": "code",
   "execution_count": 13,
   "metadata": {},
   "outputs": [
    {
     "name": "stdout",
     "output_type": "stream",
     "text": [
      "Sqrt approximation: 3.302775637731995\n",
      "Derivative: 0.16666666666775853\n"
     ]
    }
   ],
   "source": [
    "function sqrt_continued_fraction(x, terms=100)\n",
    "    a0 = Int(floor(sqrt(x)))\n",
    "    continued_fraction = a0\n",
    "\n",
    "    # Building the continued fraction\n",
    "    for _ in 1:terms\n",
    "        continued_fraction = a0 + 1 / continued_fraction\n",
    "    end\n",
    "\n",
    "    # Compute the square root approximation\n",
    "    sqrt_approx = continued_fraction\n",
    "\n",
    "    # Compute the derivative using finite differences\n",
    "    h = 1e-5\n",
    "    derivative = (sqrt(x + h) - sqrt(x - h)) / (2 * h)\n",
    "\n",
    "    return sqrt_approx, derivative\n",
    "end\n",
    "\n",
    "# Example usage\n",
    "sqrt_x, derivative_sqrt_x = sqrt_continued_fraction(9)\n",
    "println(\"Sqrt approximation: \", sqrt_x)\n",
    "println(\"Derivative: \", derivative_sqrt_x)"
   ]
  },
  {
   "cell_type": "code",
   "execution_count": 3,
   "metadata": {},
   "outputs": [
    {
     "ename": "LoadError",
     "evalue": "ArgumentError: syntax df[column] is not supported use df[!, column] instead",
     "output_type": "error",
     "traceback": [
      "ArgumentError: syntax df[column] is not supported use df[!, column] instead",
      "",
      "Stacktrace:",
      " [1] getindex(#unused#::DataFrame, #unused#::Symbol)",
      "   @ DataFrames ~/.julia/packages/DataFrames/58MUJ/src/abstractdataframe/abstractdataframe.jl:2480",
      " [2] top-level scope",
      "   @ In[3]:96"
     ]
    }
   ],
   "source": [
    "using LinearAlgebra, Plots, RDatasets, StatsBase\n",
    "\n",
    "# Activation function and its derivative\n",
    "function relu(z) # activation\n",
    "    (u, du) = (similar(z), similar(z))\n",
    "    s = similar(z)\n",
    "    @. s = sqrt(z^2 + 1.0e-6)\n",
    "    @. u = (z + s) / 2\n",
    "    @. du = (1 + z / s) / 2\n",
    "    return(u, du)\n",
    "end\n",
    "\n",
    "function softmax(x)\n",
    "    e_x = exp.(x .- maximum(x, dims=1))\n",
    "    return e_x ./ sum(e_x, dims=1), ones(size(x))\n",
    "end\n",
    "\n",
    "# Loss function and its derivative\n",
    "function cross_entropy_loss(a, y)\n",
    "    return -sum(y .* log.(a + 1e-15)), a - y\n",
    "end\n",
    "\n",
    "# Initialize network parameters\n",
    "function initialize(layers, nodes)\n",
    "    par = Dict() # parameters reside in a dictionary\n",
    "    for l = 1:layers - 1\n",
    "        (W, b) = (\"W\" * string(l), \"b\" * string(l))\n",
    "        par[W] = randn(nodes[l + 1], nodes[l]) / 100\n",
    "        par[b] = zeros(nodes[l + 1], 1)\n",
    "    end\n",
    "    return par\n",
    "end\n",
    "\n",
    "# Update network parameters\n",
    "function update(par, grad, layers, t)\n",
    "    for l = 1:layers - 1 # steepest descent updates\n",
    "        (W, b) = (\"W\" * string(l), \"b\" * string(l))\n",
    "        par[W] = par[W] - t * grad[W] # update weights\n",
    "        par[b] = par[b] - t * grad[b] # update intercepts\n",
    "    end\n",
    "    return par\n",
    "end\n",
    "\n",
    "# Forward propagation\n",
    "function forward(X, par, cases, activation, layers)\n",
    "    z = X # argument for first layer\n",
    "    cache = [(z, zeros(0,0))]\n",
    "    for l = 1:layers - 1 # arguments for subsequent layers\n",
    "        (W, b) = (\"W\" * string(l), \"b\" * string(l))\n",
    "        (a, da) = activation(par[W] * z .+ (par[b] * ones(cases)'))\n",
    "        push!(cache, (a, da)) # cache argument\n",
    "        z = a\n",
    "    end\n",
    "    return cache\n",
    "end\n",
    "\n",
    "# Backward propagation\n",
    "function backward(X, y, par, cache, activation, loss, layers)\n",
    "    grad = Dict()\n",
    "    (a, da) = cache[layers] # input to output layer\n",
    "    (obj, dZ) = loss(a, y) # losses and their gradients\n",
    "    cost = sum(obj) # sum of losses\n",
    "    dZ = da .* dZ # sample j gradient along column j\n",
    "    for l = reverse(1:layers - 1)\n",
    "        (a, da) = cache[l]\n",
    "        (W, b) = (\"W\" * string(l), \"b\" * string(l))\n",
    "        grad[W] = dZ * a' # sum across cases\n",
    "        grad[b] = sum(dZ, dims = 2) # sum across cases\n",
    "        if l > 1\n",
    "            dZ = par[W]' * dZ # chain rule for next gradient\n",
    "            dZ = da .* dZ\n",
    "        end\n",
    "    end\n",
    "    return (cost, grad)\n",
    "end\n",
    "\n",
    "# Training function\n",
    "function train(nodes, X, y, t, iters, fun, plot_name)\n",
    "    (activation, loss) = fun\n",
    "    (cases, layers) = (size(X, 2), length(nodes))\n",
    "    par = initialize(layers, nodes)\n",
    "    cost = zeros(iters)\n",
    "    for i = 1:iters\n",
    "        cache = forward(X, par, cases, activation, layers)\n",
    "        (cost[i], grad) = backward(X, y, par, cache, activation, loss, layers)\n",
    "        par = update(par, grad, layers, t)\n",
    "    end\n",
    "    cost_plot = plot(collect(1:iters), cost, legend = false, title = \"Cost versus Iteration\", xlabel = \"Iteration\", ylabel = \"Cost\")\n",
    "    savefig(plot_name)\n",
    "    return (par, cost)\n",
    "end\n",
    "\n",
    "# Data Preprocessing for Iris Dataset\n",
    "df = dataset(\"datasets\", \"iris\")\n",
    "# Convert species to binary (1 if species is \"setosa\", 0 otherwise)\n",
    "y = convert(Vector{Float64}, df[:Species] .== \"setosa\")\n",
    "y = reshape(y, 1, length(y)) # matrix with 1 row\n",
    "XT = Tables.matrix(df[:, 1:4]) # cases by predictors\n",
    "X = Matrix(XT') # predictors by cases\n",
    "X = convert(Matrix{Float64}, X) # ensure entries are real numbers\n",
    "\n",
    "# Normalize features\n",
    "X = (X .- mean(X, dims=2)) ./ std(X, dims=2)\n",
    "\n",
    "# Neural network architecture for binary classification\n",
    "nodes = [size(X, 1), 5, 1] # Example: 4 input nodes, one hidden layer with 5 nodes, 1 output node\n",
    "\n",
    "# Train the neural network\n",
    "t = 0.001 # learning rate\n",
    "iters = 1000\n",
    "plot_name = \"IrisModel.png\"\n",
    "activation_loss_functions = (x -> x < length(nodes) - 1 ? sigmoid(x) : sigmoid(x), logistic)\n",
    "\n",
    "(par, costs) = train(nodes, X, y, t, iters, activation_loss_functions, plot_name)\n",
    "\n",
    "println(par)\n",
    "\n",
    "# Plot the cost over iterations\n",
    "plot(costs, xlabel=\"Iterations\", ylabel=\"Cost\", title=\"Cost over Iterations\")\n"
   ]
  },
  {
   "cell_type": "code",
   "execution_count": 20,
   "metadata": {},
   "outputs": [
    {
     "data": {
      "image/png": "[encoded data removed]",
      "text/plain": [
       "<Figure size 1000x600 with 1 Axes>"
      ]
     },
     "metadata": {},
     "output_type": "display_data"
    }
   ],
   "source": [
    "import numpy as np\n",
    "import matplotlib.pyplot as plt\n",
    "\n",
    "# Defining the exponential function\n",
    "def exponential_function(x, a, b):\n",
    "    return a * np.exp(b * x)\n",
    "\n",
    "# Generating a range of x values\n",
    "x_values = np.linspace(-2, 2, 400)\n",
    "\n",
    "# Assuming different values for 'w' (represented by 'b' in the function)\n",
    "# These values will change the rate of growth or decay of the function\n",
    "w_values = [1.0, 2.0,3.0]  # Different rates of growth/decay\n",
    "\n",
    "# Plotting the function for different values of 'b'\n",
    "plt.figure(figsize=(10, 6))\n",
    "for w in w_values:\n",
    "    plt.plot(x_values, exponential_function(x_values, 1, w), label=f'w={w}')\n",
    "\n",
    "plt.title('Exponential Function for Different Values of w')\n",
    "plt.xlabel('x')\n",
    "plt.ylabel('g(x)')\n",
    "plt.legend()\n",
    "plt.grid(True)\n",
    "plt.show()\n"
   ]
  },
  {
   "cell_type": "code",
   "execution_count": 8,
   "metadata": {},
   "outputs": [
    {
     "data": {
      "image/png": "[encoded data removed]",
      "text/plain": [
       "<Figure size 1200x600 with 1 Axes>"
      ]
     },
     "metadata": {},
     "output_type": "display_data"
    },
    {
     "data": {
      "text/plain": [
       "0.9087088043716739"
      ]
     },
     "execution_count": 8,
     "metadata": {},
     "output_type": "execute_result"
    }
   ],
   "source": [
    "from math import exp\n",
    "import matplotlib.pyplot as plt\n",
    "\n",
    "# Dummy values\n",
    "M = 3\n",
    "memories = [5, 10, 15]\n",
    "k = 12\n",
    "p0 = 0.5\n",
    "\n",
    "# Function g(x) = e^(-x)\n",
    "def g(x):\n",
    "    return exp(-x)\n",
    "\n",
    "# Adjusting the strain range to 0-100\n",
    "k_values_short = range(101)\n",
    "\n",
    "# Updated value for p0\n",
    "p0_updated = 0.9\n",
    "\n",
    "# Strain range (0 to 1000)\n",
    "k_values = range(101)\n",
    "\n",
    "# Calculating p_inf(j, k) for each k in the range 0-1000\n",
    "p_inf_values = []\n",
    "for k in k_values:\n",
    "    p_inf_k = 1\n",
    "    for mem in memories:\n",
    "        difference = abs(mem - k)\n",
    "        p_inf_k *= (1 - p0_updated * g(difference))\n",
    "    p_inf_values.append(p_inf_k)\n",
    "\n",
    "# Creating a plot\n",
    "plt.figure(figsize=(12, 6))\n",
    "plt.plot(k_values, p_inf_values, label='Probability of Infection', color='blue')\n",
    "plt.title('Probability of Infection for Different Strains (k)')\n",
    "plt.xlabel('Strain (k)')\n",
    "plt.ylabel('Probability of Infection (p_inf)')\n",
    "plt.grid(True)\n",
    "plt.show()\n",
    "\n",
    "# Return a subset of values for brevity\n",
    "p_inf_values[::100]  # Return every 100th value for a concise overview\n",
    "\n",
    "\n",
    "# Return a subset of values for brevity\n",
    "p_inf_values_short[::10]  # Return every 10th value for a concise overview\n",
    "\n",
    "\n",
    "\n",
    "p_inf"
   ]
  },
  {
   "cell_type": "code",
   "execution_count": 7,
   "metadata": {},
   "outputs": [
    {
     "name": "stdout",
     "output_type": "stream",
     "text": [
      "Mean: 4.902509749025097, Expected Mean: 5.0\n",
      "Variance: 2.549194700529944, Expected Variance: 2.5\n"
     ]
    },
    {
     "data": {
      "image/svg+xml": "<?xml version=\"1.0\" encoding=\"utf-8\"?>\n<svg xmlns=\"http://www.w3.org/2000/svg\" xmlns:xlink=\"http://www.w3.org/1999/xlink\" width=\"600\" height=\"400\" viewBox=\"0 0 2400 1600\">\n<defs>\n  <clipPath id=\"clip740\">\n    <rect x=\"0\" y=\"0\" width=\"2400\" height=\"1600\"/>\n  </clipPath>\n</defs>\n<path clip-path=\"url(#clip740)\" d=\"M0 1600 L2400 1600 L2400 0 L0 0  Z\" fill=\"#ffffff\" fill-rule=\"evenodd\" fill-opacity=\"1\"/>\n<defs>\n  <clipPath id=\"clip741\">\n    <rect x=\"480\" y=\"0\" width=\"1681\" height=\"1600\"/>\n  </clipPath>\n</defs>\n<path clip-path=\"url(#clip740)\" d=\"M201.019 1486.45 L2352.76 1486.45 L2352.76 47.2441 L201.019 47.2441  Z\" fill=\"#ffffff\" fill-rule=\"evenodd\" fill-opacity=\"1\"/>\n<defs>\n  <clipPath id=\"clip742\">\n    <rect x=\"201\" y=\"47\" width=\"2153\" height=\"1440\"/>\n  </clipPath>\n</defs>\n<polyline clip-path=\"url(#clip742)\" style=\"stroke:#000000; stroke-linecap:round; stroke-linejoin:round; stroke-width:2; stroke-opacity:0.1; fill:none\" points=\"319.369,1486.45 319.369,47.2441 \"/>\n<polyline clip-path=\"url(#clip742)\" style=\"stroke:#000000; stroke-linecap:round; stroke-linejoin:round; stroke-width:2; stroke-opacity:0.1; fill:none\" points=\"754.605,1486.45 754.605,47.2441 \"/>\n<polyline clip-path=\"url(#clip742)\" style=\"stroke:#000000; stroke-linecap:round; stroke-linejoin:round; stroke-width:2; stroke-opacity:0.1; fill:none\" points=\"1189.84,1486.45 1189.84,47.2441 \"/>\n<polyline clip-path=\"url(#clip742)\" style=\"stroke:#000000; stroke-linecap:round; stroke-linejoin:round; stroke-width:2; stroke-opacity:0.1; fill:none\" points=\"1625.08,1486.45 1625.08,47.2441 \"/>\n<polyline clip-path=\"url(#clip742)\" style=\"stroke:#000000; stroke-linecap:round; stroke-linejoin:round; stroke-width:2; stroke-opacity:0.1; fill:none\" points=\"2060.31,1486.45 2060.31,47.2441 \"/>\n<polyline clip-path=\"url(#clip740)\" style=\"stroke:#000000; stroke-linecap:round; stroke-linejoin:round; stroke-width:4; stroke-opacity:1; fill:none\" points=\"201.019,1486.45 2352.76,1486.45 \"/>\n<polyline clip-path=\"url(#clip740)\" style=\"stroke:#000000; stroke-linecap:round; stroke-linejoin:round; stroke-width:4; stroke-opacity:1; fill:none\" points=\"319.369,1486.45 319.369,1467.55 \"/>\n<polyline clip-path=\"url(#clip740)\" style=\"stroke:#000000; stroke-linecap:round; stroke-linejoin:round; stroke-width:4; stroke-opacity:1; fill:none\" points=\"754.605,1486.45 754.605,1467.55 \"/>\n<polyline clip-path=\"url(#clip740)\" style=\"stroke:#000000; stroke-linecap:round; stroke-linejoin:round; stroke-width:4; stroke-opacity:1; fill:none\" points=\"1189.84,1486.45 1189.84,1467.55 \"/>\n<polyline clip-path=\"url(#clip740)\" style=\"stroke:#000000; stroke-linecap:round; stroke-linejoin:round; stroke-width:4; stroke-opacity:1; fill:none\" points=\"1625.08,1486.45 1625.08,1467.55 \"/>\n<polyline clip-path=\"url(#clip740)\" style=\"stroke:#000000; stroke-linecap:round; stroke-linejoin:round; stroke-width:4; stroke-opacity:1; fill:none\" points=\"2060.31,1486.45 2060.31,1467.55 \"/>\n<path clip-path=\"url(#clip740)\" d=\"M296.753 1517.37 Q293.142 1517.37 291.313 1520.93 Q289.508 1524.47 289.508 1531.6 Q289.508 1538.71 291.313 1542.27 Q293.142 1545.82 296.753 1545.82 Q300.387 1545.82 302.193 1542.27 Q304.021 1538.71 304.021 1531.6 Q304.021 1524.47 302.193 1520.93 Q300.387 1517.37 296.753 1517.37 M296.753 1513.66 Q302.563 1513.66 305.619 1518.27 Q308.697 1522.85 308.697 1531.6 Q308.697 1540.33 305.619 1544.94 Q302.563 1549.52 296.753 1549.52 Q290.943 1549.52 287.864 1544.94 Q284.809 1540.33 284.809 1531.6 Q284.809 1522.85 287.864 1518.27 Q290.943 1513.66 296.753 1513.66 Z\" fill=\"#000000\" fill-rule=\"nonzero\" fill-opacity=\"1\" /><path clip-path=\"url(#clip740)\" d=\"M316.915 1542.97 L321.799 1542.97 L321.799 1548.85 L316.915 1548.85 L316.915 1542.97 Z\" fill=\"#000000\" fill-rule=\"nonzero\" fill-opacity=\"1\" /><path clip-path=\"url(#clip740)\" d=\"M341.984 1517.37 Q338.373 1517.37 336.544 1520.93 Q334.739 1524.47 334.739 1531.6 Q334.739 1538.71 336.544 1542.27 Q338.373 1545.82 341.984 1545.82 Q345.618 1545.82 347.424 1542.27 Q349.253 1538.71 349.253 1531.6 Q349.253 1524.47 347.424 1520.93 Q345.618 1517.37 341.984 1517.37 M341.984 1513.66 Q347.794 1513.66 350.85 1518.27 Q353.929 1522.85 353.929 1531.6 Q353.929 1540.33 350.85 1544.94 Q347.794 1549.52 341.984 1549.52 Q336.174 1549.52 333.095 1544.94 Q330.04 1540.33 330.04 1531.6 Q330.04 1522.85 333.095 1518.27 Q336.174 1513.66 341.984 1513.66 Z\" fill=\"#000000\" fill-rule=\"nonzero\" fill-opacity=\"1\" /><path clip-path=\"url(#clip740)\" d=\"M726.341 1544.91 L742.66 1544.91 L742.66 1548.85 L720.716 1548.85 L720.716 1544.91 Q723.378 1542.16 727.961 1537.53 Q732.568 1532.88 733.748 1531.53 Q735.994 1529.01 736.873 1527.27 Q737.776 1525.51 737.776 1523.82 Q737.776 1521.07 735.831 1519.33 Q733.91 1517.6 730.808 1517.6 Q728.609 1517.6 726.156 1518.36 Q723.725 1519.13 720.947 1520.68 L720.947 1515.95 Q723.771 1514.82 726.225 1514.24 Q728.679 1513.66 730.716 1513.66 Q736.086 1513.66 739.281 1516.35 Q742.475 1519.03 742.475 1523.52 Q742.475 1525.65 741.665 1527.57 Q740.878 1529.47 738.771 1532.07 Q738.193 1532.74 735.091 1535.95 Q731.989 1539.15 726.341 1544.91 Z\" fill=\"#000000\" fill-rule=\"nonzero\" fill-opacity=\"1\" /><path clip-path=\"url(#clip740)\" d=\"M752.475 1542.97 L757.359 1542.97 L757.359 1548.85 L752.475 1548.85 L752.475 1542.97 Z\" fill=\"#000000\" fill-rule=\"nonzero\" fill-opacity=\"1\" /><path clip-path=\"url(#clip740)\" d=\"M767.591 1514.29 L785.947 1514.29 L785.947 1518.22 L771.873 1518.22 L771.873 1526.7 Q772.891 1526.35 773.91 1526.19 Q774.928 1526 775.947 1526 Q781.734 1526 785.114 1529.17 Q788.493 1532.34 788.493 1537.76 Q788.493 1543.34 785.021 1546.44 Q781.549 1549.52 775.229 1549.52 Q773.054 1549.52 770.785 1549.15 Q768.54 1548.78 766.132 1548.04 L766.132 1543.34 Q768.216 1544.47 770.438 1545.03 Q772.66 1545.58 775.137 1545.58 Q779.141 1545.58 781.479 1543.48 Q783.817 1541.37 783.817 1537.76 Q783.817 1534.15 781.479 1532.04 Q779.141 1529.94 775.137 1529.94 Q773.262 1529.94 771.387 1530.35 Q769.535 1530.77 767.591 1531.65 L767.591 1514.29 Z\" fill=\"#000000\" fill-rule=\"nonzero\" fill-opacity=\"1\" /><path clip-path=\"url(#clip740)\" d=\"M1157 1514.29 L1175.36 1514.29 L1175.36 1518.22 L1161.29 1518.22 L1161.29 1526.7 Q1162.31 1526.35 1163.32 1526.19 Q1164.34 1526 1165.36 1526 Q1171.15 1526 1174.53 1529.17 Q1177.91 1532.34 1177.91 1537.76 Q1177.91 1543.34 1174.44 1546.44 Q1170.96 1549.52 1164.64 1549.52 Q1162.47 1549.52 1160.2 1549.15 Q1157.95 1548.78 1155.55 1548.04 L1155.55 1543.34 Q1157.63 1544.47 1159.85 1545.03 Q1162.07 1545.58 1164.55 1545.58 Q1168.56 1545.58 1170.89 1543.48 Q1173.23 1541.37 1173.23 1537.76 Q1173.23 1534.15 1170.89 1532.04 Q1168.56 1529.94 1164.55 1529.94 Q1162.68 1529.94 1160.8 1530.35 Q1158.95 1530.77 1157 1531.65 L1157 1514.29 Z\" fill=\"#000000\" fill-rule=\"nonzero\" fill-opacity=\"1\" /><path clip-path=\"url(#clip740)\" d=\"M1187.12 1542.97 L1192 1542.97 L1192 1548.85 L1187.12 1548.85 L1187.12 1542.97 Z\" fill=\"#000000\" fill-rule=\"nonzero\" fill-opacity=\"1\" /><path clip-path=\"url(#clip740)\" d=\"M1212.19 1517.37 Q1208.58 1517.37 1206.75 1520.93 Q1204.94 1524.47 1204.94 1531.6 Q1204.94 1538.71 1206.75 1542.27 Q1208.58 1545.82 1212.19 1545.82 Q1215.82 1545.82 1217.63 1542.27 Q1219.46 1538.71 1219.46 1531.6 Q1219.46 1524.47 1217.63 1520.93 Q1215.82 1517.37 1212.19 1517.37 M1212.19 1513.66 Q1218 1513.66 1221.06 1518.27 Q1224.13 1522.85 1224.13 1531.6 Q1224.13 1540.33 1221.06 1544.94 Q1218 1549.52 1212.19 1549.52 Q1206.38 1549.52 1203.3 1544.94 Q1200.25 1540.33 1200.25 1531.6 Q1200.25 1522.85 1203.3 1518.27 Q1206.38 1513.66 1212.19 1513.66 Z\" fill=\"#000000\" fill-rule=\"nonzero\" fill-opacity=\"1\" /><path clip-path=\"url(#clip740)\" d=\"M1591.4 1514.29 L1613.62 1514.29 L1613.62 1516.28 L1601.07 1548.85 L1596.19 1548.85 L1607.99 1518.22 L1591.4 1518.22 L1591.4 1514.29 Z\" fill=\"#000000\" fill-rule=\"nonzero\" fill-opacity=\"1\" /><path clip-path=\"url(#clip740)\" d=\"M1622.74 1542.97 L1627.62 1542.97 L1627.62 1548.85 L1622.74 1548.85 L1622.74 1542.97 Z\" fill=\"#000000\" fill-rule=\"nonzero\" fill-opacity=\"1\" /><path clip-path=\"url(#clip740)\" d=\"M1637.85 1514.29 L1656.21 1514.29 L1656.21 1518.22 L1642.14 1518.22 L1642.14 1526.7 Q1643.15 1526.35 1644.17 1526.19 Q1645.19 1526 1646.21 1526 Q1652 1526 1655.38 1529.17 Q1658.76 1532.34 1658.76 1537.76 Q1658.76 1543.34 1655.28 1546.44 Q1651.81 1549.52 1645.49 1549.52 Q1643.32 1549.52 1641.05 1549.15 Q1638.8 1548.78 1636.4 1548.04 L1636.4 1543.34 Q1638.48 1544.47 1640.7 1545.03 Q1642.92 1545.58 1645.4 1545.58 Q1649.4 1545.58 1651.74 1543.48 Q1654.08 1541.37 1654.08 1537.76 Q1654.08 1534.15 1651.74 1532.04 Q1649.4 1529.94 1645.4 1529.94 Q1643.53 1529.94 1641.65 1530.35 Q1639.8 1530.77 1637.85 1531.65 L1637.85 1514.29 Z\" fill=\"#000000\" fill-rule=\"nonzero\" fill-opacity=\"1\" /><path clip-path=\"url(#clip740)\" d=\"M2012.38 1544.91 L2020.02 1544.91 L2020.02 1518.55 L2011.71 1520.21 L2011.71 1515.95 L2019.98 1514.29 L2024.65 1514.29 L2024.65 1544.91 L2032.29 1544.91 L2032.29 1548.85 L2012.38 1548.85 L2012.38 1544.91 Z\" fill=\"#000000\" fill-rule=\"nonzero\" fill-opacity=\"1\" /><path clip-path=\"url(#clip740)\" d=\"M2051.74 1517.37 Q2048.12 1517.37 2046.3 1520.93 Q2044.49 1524.47 2044.49 1531.6 Q2044.49 1538.71 2046.3 1542.27 Q2048.12 1545.82 2051.74 1545.82 Q2055.37 1545.82 2057.18 1542.27 Q2059 1538.71 2059 1531.6 Q2059 1524.47 2057.18 1520.93 Q2055.37 1517.37 2051.74 1517.37 M2051.74 1513.66 Q2057.55 1513.66 2060.6 1518.27 Q2063.68 1522.85 2063.68 1531.6 Q2063.68 1540.33 2060.6 1544.94 Q2057.55 1549.52 2051.74 1549.52 Q2045.93 1549.52 2042.85 1544.94 Q2039.79 1540.33 2039.79 1531.6 Q2039.79 1522.85 2042.85 1518.27 Q2045.93 1513.66 2051.74 1513.66 Z\" fill=\"#000000\" fill-rule=\"nonzero\" fill-opacity=\"1\" /><path clip-path=\"url(#clip740)\" d=\"M2071.9 1542.97 L2076.78 1542.97 L2076.78 1548.85 L2071.9 1548.85 L2071.9 1542.97 Z\" fill=\"#000000\" fill-rule=\"nonzero\" fill-opacity=\"1\" /><path clip-path=\"url(#clip740)\" d=\"M2096.97 1517.37 Q2093.36 1517.37 2091.53 1520.93 Q2089.72 1524.47 2089.72 1531.6 Q2089.72 1538.71 2091.53 1542.27 Q2093.36 1545.82 2096.97 1545.82 Q2100.6 1545.82 2102.41 1542.27 Q2104.24 1538.71 2104.24 1531.6 Q2104.24 1524.47 2102.41 1520.93 Q2100.6 1517.37 2096.97 1517.37 M2096.97 1513.66 Q2102.78 1513.66 2105.83 1518.27 Q2108.91 1522.85 2108.91 1531.6 Q2108.91 1540.33 2105.83 1544.94 Q2102.78 1549.52 2096.97 1549.52 Q2091.16 1549.52 2088.08 1544.94 Q2085.02 1540.33 2085.02 1531.6 Q2085.02 1522.85 2088.08 1518.27 Q2091.16 1513.66 2096.97 1513.66 Z\" fill=\"#000000\" fill-rule=\"nonzero\" fill-opacity=\"1\" /><polyline clip-path=\"url(#clip742)\" style=\"stroke:#000000; stroke-linecap:round; stroke-linejoin:round; stroke-width:2; stroke-opacity:0.1; fill:none\" points=\"201.019,1486.45 2352.76,1486.45 \"/>\n<polyline clip-path=\"url(#clip742)\" style=\"stroke:#000000; stroke-linecap:round; stroke-linejoin:round; stroke-width:2; stroke-opacity:0.1; fill:none\" points=\"201.019,1194.05 2352.76,1194.05 \"/>\n<polyline clip-path=\"url(#clip742)\" style=\"stroke:#000000; stroke-linecap:round; stroke-linejoin:round; stroke-width:2; stroke-opacity:0.1; fill:none\" points=\"201.019,901.643 2352.76,901.643 \"/>\n<polyline clip-path=\"url(#clip742)\" style=\"stroke:#000000; stroke-linecap:round; stroke-linejoin:round; stroke-width:2; stroke-opacity:0.1; fill:none\" points=\"201.019,609.241 2352.76,609.241 \"/>\n<polyline clip-path=\"url(#clip742)\" style=\"stroke:#000000; stroke-linecap:round; stroke-linejoin:round; stroke-width:2; stroke-opacity:0.1; fill:none\" points=\"201.019,316.839 2352.76,316.839 \"/>\n<polyline clip-path=\"url(#clip740)\" style=\"stroke:#000000; stroke-linecap:round; stroke-linejoin:round; stroke-width:4; stroke-opacity:1; fill:none\" points=\"201.019,1486.45 201.019,47.2441 \"/>\n<polyline clip-path=\"url(#clip740)\" style=\"stroke:#000000; stroke-linecap:round; stroke-linejoin:round; stroke-width:4; stroke-opacity:1; fill:none\" points=\"201.019,1486.45 219.917,1486.45 \"/>\n<polyline clip-path=\"url(#clip740)\" style=\"stroke:#000000; stroke-linecap:round; stroke-linejoin:round; stroke-width:4; stroke-opacity:1; fill:none\" points=\"201.019,1194.05 219.917,1194.05 \"/>\n<polyline clip-path=\"url(#clip740)\" style=\"stroke:#000000; stroke-linecap:round; stroke-linejoin:round; stroke-width:4; stroke-opacity:1; fill:none\" points=\"201.019,901.643 219.917,901.643 \"/>\n<polyline clip-path=\"url(#clip740)\" style=\"stroke:#000000; stroke-linecap:round; stroke-linejoin:round; stroke-width:4; stroke-opacity:1; fill:none\" points=\"201.019,609.241 219.917,609.241 \"/>\n<polyline clip-path=\"url(#clip740)\" style=\"stroke:#000000; stroke-linecap:round; stroke-linejoin:round; stroke-width:4; stroke-opacity:1; fill:none\" points=\"201.019,316.839 219.917,316.839 \"/>\n<path clip-path=\"url(#clip740)\" d=\"M153.075 1472.25 Q149.464 1472.25 147.635 1475.81 Q145.83 1479.35 145.83 1486.48 Q145.83 1493.59 147.635 1497.15 Q149.464 1500.7 153.075 1500.7 Q156.709 1500.7 158.515 1497.15 Q160.343 1493.59 160.343 1486.48 Q160.343 1479.35 158.515 1475.81 Q156.709 1472.25 153.075 1472.25 M153.075 1468.54 Q158.885 1468.54 161.941 1473.15 Q165.019 1477.73 165.019 1486.48 Q165.019 1495.21 161.941 1499.82 Q158.885 1504.4 153.075 1504.4 Q147.265 1504.4 144.186 1499.82 Q141.131 1495.21 141.131 1486.48 Q141.131 1477.73 144.186 1473.15 Q147.265 1468.54 153.075 1468.54 Z\" fill=\"#000000\" fill-rule=\"nonzero\" fill-opacity=\"1\" /><path clip-path=\"url(#clip740)\" d=\"M82.7975 1176.77 L101.154 1176.77 L101.154 1180.7 L87.0799 1180.7 L87.0799 1189.17 Q88.0984 1188.83 89.1169 1188.66 Q90.1354 1188.48 91.1539 1188.48 Q96.941 1188.48 100.321 1191.65 Q103.7 1194.82 103.7 1200.24 Q103.7 1205.82 100.228 1208.92 Q96.7558 1212 90.4364 1212 Q88.2604 1212 85.9919 1211.63 Q83.7466 1211.26 81.3392 1210.52 L81.3392 1205.82 Q83.4225 1206.95 85.6447 1207.51 Q87.8669 1208.06 90.3438 1208.06 Q94.3484 1208.06 96.6863 1205.96 Q99.0243 1203.85 99.0243 1200.24 Q99.0243 1196.63 96.6863 1194.52 Q94.3484 1192.41 90.3438 1192.41 Q88.4688 1192.41 86.5938 1192.83 Q84.7419 1193.25 82.7975 1194.13 L82.7975 1176.77 Z\" fill=\"#000000\" fill-rule=\"nonzero\" fill-opacity=\"1\" /><path clip-path=\"url(#clip740)\" d=\"M122.913 1179.84 Q119.302 1179.84 117.473 1183.41 Q115.668 1186.95 115.668 1194.08 Q115.668 1201.19 117.473 1204.75 Q119.302 1208.29 122.913 1208.29 Q126.547 1208.29 128.353 1204.75 Q130.182 1201.19 130.182 1194.08 Q130.182 1186.95 128.353 1183.41 Q126.547 1179.84 122.913 1179.84 M122.913 1176.14 Q128.723 1176.14 131.779 1180.75 Q134.857 1185.33 134.857 1194.08 Q134.857 1202.81 131.779 1207.41 Q128.723 1212 122.913 1212 Q117.103 1212 114.024 1207.41 Q110.969 1202.81 110.969 1194.08 Q110.969 1185.33 114.024 1180.75 Q117.103 1176.14 122.913 1176.14 Z\" fill=\"#000000\" fill-rule=\"nonzero\" fill-opacity=\"1\" /><path clip-path=\"url(#clip740)\" d=\"M153.075 1179.84 Q149.464 1179.84 147.635 1183.41 Q145.83 1186.95 145.83 1194.08 Q145.83 1201.19 147.635 1204.75 Q149.464 1208.29 153.075 1208.29 Q156.709 1208.29 158.515 1204.75 Q160.343 1201.19 160.343 1194.08 Q160.343 1186.95 158.515 1183.41 Q156.709 1179.84 153.075 1179.84 M153.075 1176.14 Q158.885 1176.14 161.941 1180.75 Q165.019 1185.33 165.019 1194.08 Q165.019 1202.81 161.941 1207.41 Q158.885 1212 153.075 1212 Q147.265 1212 144.186 1207.41 Q141.131 1202.81 141.131 1194.08 Q141.131 1185.33 144.186 1180.75 Q147.265 1176.14 153.075 1176.14 Z\" fill=\"#000000\" fill-rule=\"nonzero\" fill-opacity=\"1\" /><path clip-path=\"url(#clip740)\" d=\"M53.3995 914.988 L61.0384 914.988 L61.0384 888.623 L52.7282 890.289 L52.7282 886.03 L60.9921 884.363 L65.668 884.363 L65.668 914.988 L73.3068 914.988 L73.3068 918.923 L53.3995 918.923 L53.3995 914.988 Z\" fill=\"#000000\" fill-rule=\"nonzero\" fill-opacity=\"1\" /><path clip-path=\"url(#clip740)\" d=\"M92.7512 887.442 Q89.1401 887.442 87.3114 891.007 Q85.5058 894.549 85.5058 901.678 Q85.5058 908.785 87.3114 912.349 Q89.1401 915.891 92.7512 915.891 Q96.3854 915.891 98.1909 912.349 Q100.02 908.785 100.02 901.678 Q100.02 894.549 98.1909 891.007 Q96.3854 887.442 92.7512 887.442 M92.7512 883.738 Q98.5613 883.738 101.617 888.345 Q104.696 892.928 104.696 901.678 Q104.696 910.405 101.617 915.011 Q98.5613 919.595 92.7512 919.595 Q86.941 919.595 83.8623 915.011 Q80.8068 910.405 80.8068 901.678 Q80.8068 892.928 83.8623 888.345 Q86.941 883.738 92.7512 883.738 Z\" fill=\"#000000\" fill-rule=\"nonzero\" fill-opacity=\"1\" /><path clip-path=\"url(#clip740)\" d=\"M122.913 887.442 Q119.302 887.442 117.473 891.007 Q115.668 894.549 115.668 901.678 Q115.668 908.785 117.473 912.349 Q119.302 915.891 122.913 915.891 Q126.547 915.891 128.353 912.349 Q130.182 908.785 130.182 901.678 Q130.182 894.549 128.353 891.007 Q126.547 887.442 122.913 887.442 M122.913 883.738 Q128.723 883.738 131.779 888.345 Q134.857 892.928 134.857 901.678 Q134.857 910.405 131.779 915.011 Q128.723 919.595 122.913 919.595 Q117.103 919.595 114.024 915.011 Q110.969 910.405 110.969 901.678 Q110.969 892.928 114.024 888.345 Q117.103 883.738 122.913 883.738 Z\" fill=\"#000000\" fill-rule=\"nonzero\" fill-opacity=\"1\" /><path clip-path=\"url(#clip740)\" d=\"M153.075 887.442 Q149.464 887.442 147.635 891.007 Q145.83 894.549 145.83 901.678 Q145.83 908.785 147.635 912.349 Q149.464 915.891 153.075 915.891 Q156.709 915.891 158.515 912.349 Q160.343 908.785 160.343 901.678 Q160.343 894.549 158.515 891.007 Q156.709 887.442 153.075 887.442 M153.075 883.738 Q158.885 883.738 161.941 888.345 Q165.019 892.928 165.019 901.678 Q165.019 910.405 161.941 915.011 Q158.885 919.595 153.075 919.595 Q147.265 919.595 144.186 915.011 Q141.131 910.405 141.131 901.678 Q141.131 892.928 144.186 888.345 Q147.265 883.738 153.075 883.738 Z\" fill=\"#000000\" fill-rule=\"nonzero\" fill-opacity=\"1\" /><path clip-path=\"url(#clip740)\" d=\"M53.3995 622.586 L61.0384 622.586 L61.0384 596.22 L52.7282 597.887 L52.7282 593.628 L60.9921 591.961 L65.668 591.961 L65.668 622.586 L73.3068 622.586 L73.3068 626.521 L53.3995 626.521 L53.3995 622.586 Z\" fill=\"#000000\" fill-rule=\"nonzero\" fill-opacity=\"1\" /><path clip-path=\"url(#clip740)\" d=\"M82.7975 591.961 L101.154 591.961 L101.154 595.896 L87.0799 595.896 L87.0799 604.369 Q88.0984 604.021 89.1169 603.859 Q90.1354 603.674 91.1539 603.674 Q96.941 603.674 100.321 606.845 Q103.7 610.017 103.7 615.433 Q103.7 621.012 100.228 624.114 Q96.7558 627.192 90.4364 627.192 Q88.2604 627.192 85.9919 626.822 Q83.7466 626.452 81.3392 625.711 L81.3392 621.012 Q83.4225 622.146 85.6447 622.702 Q87.8669 623.257 90.3438 623.257 Q94.3484 623.257 96.6863 621.151 Q99.0243 619.044 99.0243 615.433 Q99.0243 611.822 96.6863 609.716 Q94.3484 607.609 90.3438 607.609 Q88.4688 607.609 86.5938 608.026 Q84.7419 608.443 82.7975 609.322 L82.7975 591.961 Z\" fill=\"#000000\" fill-rule=\"nonzero\" fill-opacity=\"1\" /><path clip-path=\"url(#clip740)\" d=\"M122.913 595.04 Q119.302 595.04 117.473 598.605 Q115.668 602.146 115.668 609.276 Q115.668 616.382 117.473 619.947 Q119.302 623.489 122.913 623.489 Q126.547 623.489 128.353 619.947 Q130.182 616.382 130.182 609.276 Q130.182 602.146 128.353 598.605 Q126.547 595.04 122.913 595.04 M122.913 591.336 Q128.723 591.336 131.779 595.943 Q134.857 600.526 134.857 609.276 Q134.857 618.003 131.779 622.609 Q128.723 627.192 122.913 627.192 Q117.103 627.192 114.024 622.609 Q110.969 618.003 110.969 609.276 Q110.969 600.526 114.024 595.943 Q117.103 591.336 122.913 591.336 Z\" fill=\"#000000\" fill-rule=\"nonzero\" fill-opacity=\"1\" /><path clip-path=\"url(#clip740)\" d=\"M153.075 595.04 Q149.464 595.04 147.635 598.605 Q145.83 602.146 145.83 609.276 Q145.83 616.382 147.635 619.947 Q149.464 623.489 153.075 623.489 Q156.709 623.489 158.515 619.947 Q160.343 616.382 160.343 609.276 Q160.343 602.146 158.515 598.605 Q156.709 595.04 153.075 595.04 M153.075 591.336 Q158.885 591.336 161.941 595.943 Q165.019 600.526 165.019 609.276 Q165.019 618.003 161.941 622.609 Q158.885 627.192 153.075 627.192 Q147.265 627.192 144.186 622.609 Q141.131 618.003 141.131 609.276 Q141.131 600.526 144.186 595.943 Q147.265 591.336 153.075 591.336 Z\" fill=\"#000000\" fill-rule=\"nonzero\" fill-opacity=\"1\" /><path clip-path=\"url(#clip740)\" d=\"M56.6171 330.184 L72.9365 330.184 L72.9365 334.119 L50.9921 334.119 L50.9921 330.184 Q53.6541 327.429 58.2375 322.8 Q62.8439 318.147 64.0245 316.804 Q66.2698 314.281 67.1494 312.545 Q68.0522 310.786 68.0522 309.096 Q68.0522 306.341 66.1078 304.605 Q64.1865 302.869 61.0847 302.869 Q58.8856 302.869 56.4319 303.633 Q54.0014 304.397 51.2236 305.948 L51.2236 301.226 Q54.0477 300.091 56.5014 299.513 Q58.955 298.934 60.9921 298.934 Q66.3624 298.934 69.5568 301.619 Q72.7513 304.304 72.7513 308.795 Q72.7513 310.925 71.9411 312.846 Q71.1541 314.744 69.0476 317.337 Q68.4689 318.008 65.367 321.226 Q62.2652 324.42 56.6171 330.184 Z\" fill=\"#000000\" fill-rule=\"nonzero\" fill-opacity=\"1\" /><path clip-path=\"url(#clip740)\" d=\"M92.7512 302.638 Q89.1401 302.638 87.3114 306.202 Q85.5058 309.744 85.5058 316.874 Q85.5058 323.98 87.3114 327.545 Q89.1401 331.087 92.7512 331.087 Q96.3854 331.087 98.1909 327.545 Q100.02 323.98 100.02 316.874 Q100.02 309.744 98.1909 306.202 Q96.3854 302.638 92.7512 302.638 M92.7512 298.934 Q98.5613 298.934 101.617 303.54 Q104.696 308.124 104.696 316.874 Q104.696 325.6 101.617 330.207 Q98.5613 334.79 92.7512 334.79 Q86.941 334.79 83.8623 330.207 Q80.8068 325.6 80.8068 316.874 Q80.8068 308.124 83.8623 303.54 Q86.941 298.934 92.7512 298.934 Z\" fill=\"#000000\" fill-rule=\"nonzero\" fill-opacity=\"1\" /><path clip-path=\"url(#clip740)\" d=\"M122.913 302.638 Q119.302 302.638 117.473 306.202 Q115.668 309.744 115.668 316.874 Q115.668 323.98 117.473 327.545 Q119.302 331.087 122.913 331.087 Q126.547 331.087 128.353 327.545 Q130.182 323.98 130.182 316.874 Q130.182 309.744 128.353 306.202 Q126.547 302.638 122.913 302.638 M122.913 298.934 Q128.723 298.934 131.779 303.54 Q134.857 308.124 134.857 316.874 Q134.857 325.6 131.779 330.207 Q128.723 334.79 122.913 334.79 Q117.103 334.79 114.024 330.207 Q110.969 325.6 110.969 316.874 Q110.969 308.124 114.024 303.54 Q117.103 298.934 122.913 298.934 Z\" fill=\"#000000\" fill-rule=\"nonzero\" fill-opacity=\"1\" /><path clip-path=\"url(#clip740)\" d=\"M153.075 302.638 Q149.464 302.638 147.635 306.202 Q145.83 309.744 145.83 316.874 Q145.83 323.98 147.635 327.545 Q149.464 331.087 153.075 331.087 Q156.709 331.087 158.515 327.545 Q160.343 323.98 160.343 316.874 Q160.343 309.744 158.515 306.202 Q156.709 302.638 153.075 302.638 M153.075 298.934 Q158.885 298.934 161.941 303.54 Q165.019 308.124 165.019 316.874 Q165.019 325.6 161.941 330.207 Q158.885 334.79 153.075 334.79 Q147.265 334.79 144.186 330.207 Q141.131 325.6 141.131 316.874 Q141.131 308.124 144.186 303.54 Q147.265 298.934 153.075 298.934 Z\" fill=\"#000000\" fill-rule=\"nonzero\" fill-opacity=\"1\" /><path clip-path=\"url(#clip742)\" d=\"M319.369 1478.26 L319.369 1486.45 L493.463 1486.45 L493.463 1478.26 L319.369 1478.26 L319.369 1478.26  Z\" fill=\"#009af9\" fill-rule=\"evenodd\" fill-opacity=\"0.5\"/>\n<polyline clip-path=\"url(#clip742)\" style=\"stroke:#000000; stroke-linecap:round; stroke-linejoin:round; stroke-width:4; stroke-opacity:0.5; fill:none\" points=\"319.369,1478.26 319.369,1486.45 493.463,1486.45 493.463,1478.26 319.369,1478.26 \"/>\n<path clip-path=\"url(#clip742)\" d=\"M493.463 1406.91 L493.463 1486.45 L667.557 1486.45 L667.557 1406.91 L493.463 1406.91 L493.463 1406.91  Z\" fill=\"#009af9\" fill-rule=\"evenodd\" fill-opacity=\"0.5\"/>\n<polyline clip-path=\"url(#clip742)\" style=\"stroke:#000000; stroke-linecap:round; stroke-linejoin:round; stroke-width:4; stroke-opacity:0.5; fill:none\" points=\"493.463,1406.91 493.463,1486.45 667.557,1486.45 667.557,1406.91 493.463,1406.91 \"/>\n<path clip-path=\"url(#clip742)\" d=\"M667.557 1203.4 L667.557 1486.45 L841.652 1486.45 L841.652 1203.4 L667.557 1203.4 L667.557 1203.4  Z\" fill=\"#009af9\" fill-rule=\"evenodd\" fill-opacity=\"0.5\"/>\n<polyline clip-path=\"url(#clip742)\" style=\"stroke:#000000; stroke-linecap:round; stroke-linejoin:round; stroke-width:4; stroke-opacity:0.5; fill:none\" points=\"667.557,1203.4 667.557,1486.45 841.652,1486.45 841.652,1203.4 667.557,1203.4 \"/>\n<path clip-path=\"url(#clip742)\" d=\"M841.652 760.121 L841.652 1486.45 L1015.75 1486.45 L1015.75 760.121 L841.652 760.121 L841.652 760.121  Z\" fill=\"#009af9\" fill-rule=\"evenodd\" fill-opacity=\"0.5\"/>\n<polyline clip-path=\"url(#clip742)\" style=\"stroke:#000000; stroke-linecap:round; stroke-linejoin:round; stroke-width:4; stroke-opacity:0.5; fill:none\" points=\"841.652,760.121 841.652,1486.45 1015.75,1486.45 1015.75,760.121 841.652,760.121 \"/>\n<path clip-path=\"url(#clip742)\" d=\"M1015.75 234.966 L1015.75 1486.45 L1189.84 1486.45 L1189.84 234.966 L1015.75 234.966 L1015.75 234.966  Z\" fill=\"#009af9\" fill-rule=\"evenodd\" fill-opacity=\"0.5\"/>\n<polyline clip-path=\"url(#clip742)\" style=\"stroke:#000000; stroke-linecap:round; stroke-linejoin:round; stroke-width:4; stroke-opacity:0.5; fill:none\" points=\"1015.75,234.966 1015.75,1486.45 1189.84,1486.45 1189.84,234.966 1015.75,234.966 \"/>\n<path clip-path=\"url(#clip742)\" d=\"M1189.84 47.2441 L1189.84 1486.45 L1363.93 1486.45 L1363.93 47.2441 L1189.84 47.2441 L1189.84 47.2441  Z\" fill=\"#009af9\" fill-rule=\"evenodd\" fill-opacity=\"0.5\"/>\n<polyline clip-path=\"url(#clip742)\" style=\"stroke:#000000; stroke-linecap:round; stroke-linejoin:round; stroke-width:4; stroke-opacity:0.5; fill:none\" points=\"1189.84,47.2441 1189.84,1486.45 1363.93,1486.45 1363.93,47.2441 1189.84,47.2441 \"/>\n<path clip-path=\"url(#clip742)\" d=\"M1363.93 340.231 L1363.93 1486.45 L1538.03 1486.45 L1538.03 340.231 L1363.93 340.231 L1363.93 340.231  Z\" fill=\"#009af9\" fill-rule=\"evenodd\" fill-opacity=\"0.5\"/>\n<polyline clip-path=\"url(#clip742)\" style=\"stroke:#000000; stroke-linecap:round; stroke-linejoin:round; stroke-width:4; stroke-opacity:0.5; fill:none\" points=\"1363.93,340.231 1363.93,1486.45 1538.03,1486.45 1538.03,340.231 1363.93,340.231 \"/>\n<path clip-path=\"url(#clip742)\" d=\"M1538.03 873.573 L1538.03 1486.45 L1712.12 1486.45 L1712.12 873.573 L1538.03 873.573 L1538.03 873.573  Z\" fill=\"#009af9\" fill-rule=\"evenodd\" fill-opacity=\"0.5\"/>\n<polyline clip-path=\"url(#clip742)\" style=\"stroke:#000000; stroke-linecap:round; stroke-linejoin:round; stroke-width:4; stroke-opacity:0.5; fill:none\" points=\"1538.03,873.573 1538.03,1486.45 1712.12,1486.45 1712.12,873.573 1538.03,873.573 \"/>\n<path clip-path=\"url(#clip742)\" d=\"M1712.12 1242.58 L1712.12 1486.45 L1886.22 1486.45 L1886.22 1242.58 L1712.12 1242.58 L1712.12 1242.58  Z\" fill=\"#009af9\" fill-rule=\"evenodd\" fill-opacity=\"0.5\"/>\n<polyline clip-path=\"url(#clip742)\" style=\"stroke:#000000; stroke-linecap:round; stroke-linejoin:round; stroke-width:4; stroke-opacity:0.5; fill:none\" points=\"1712.12,1242.58 1712.12,1486.45 1886.22,1486.45 1886.22,1242.58 1712.12,1242.58 \"/>\n<path clip-path=\"url(#clip742)\" d=\"M1886.22 1435.57 L1886.22 1486.45 L2060.31 1486.45 L2060.31 1435.57 L1886.22 1435.57 L1886.22 1435.57  Z\" fill=\"#009af9\" fill-rule=\"evenodd\" fill-opacity=\"0.5\"/>\n<polyline clip-path=\"url(#clip742)\" style=\"stroke:#000000; stroke-linecap:round; stroke-linejoin:round; stroke-width:4; stroke-opacity:0.5; fill:none\" points=\"1886.22,1435.57 1886.22,1486.45 2060.31,1486.45 2060.31,1435.57 1886.22,1435.57 \"/>\n<path clip-path=\"url(#clip742)\" d=\"M2060.31 1479.43 L2060.31 1486.45 L2234.41 1486.45 L2234.41 1479.43 L2060.31 1479.43 L2060.31 1479.43  Z\" fill=\"#009af9\" fill-rule=\"evenodd\" fill-opacity=\"0.5\"/>\n<polyline clip-path=\"url(#clip742)\" style=\"stroke:#000000; stroke-linecap:round; stroke-linejoin:round; stroke-width:4; stroke-opacity:0.5; fill:none\" points=\"2060.31,1479.43 2060.31,1486.45 2234.41,1486.45 2234.41,1479.43 2060.31,1479.43 \"/>\n<circle clip-path=\"url(#clip742)\" style=\"fill:#009af9; stroke:none; fill-opacity:0\" cx=\"406.416\" cy=\"1478.26\" r=\"2\"/>\n<circle clip-path=\"url(#clip742)\" style=\"fill:#009af9; stroke:none; fill-opacity:0\" cx=\"580.51\" cy=\"1406.91\" r=\"2\"/>\n<circle clip-path=\"url(#clip742)\" style=\"fill:#009af9; stroke:none; fill-opacity:0\" cx=\"754.605\" cy=\"1203.4\" r=\"2\"/>\n<circle clip-path=\"url(#clip742)\" style=\"fill:#009af9; stroke:none; fill-opacity:0\" cx=\"928.699\" cy=\"760.121\" r=\"2\"/>\n<circle clip-path=\"url(#clip742)\" style=\"fill:#009af9; stroke:none; fill-opacity:0\" cx=\"1102.79\" cy=\"234.966\" r=\"2\"/>\n<circle clip-path=\"url(#clip742)\" style=\"fill:#009af9; stroke:none; fill-opacity:0\" cx=\"1276.89\" cy=\"47.2441\" r=\"2\"/>\n<circle clip-path=\"url(#clip742)\" style=\"fill:#009af9; stroke:none; fill-opacity:0\" cx=\"1450.98\" cy=\"340.231\" r=\"2\"/>\n<circle clip-path=\"url(#clip742)\" style=\"fill:#009af9; stroke:none; fill-opacity:0\" cx=\"1625.08\" cy=\"873.573\" r=\"2\"/>\n<circle clip-path=\"url(#clip742)\" style=\"fill:#009af9; stroke:none; fill-opacity:0\" cx=\"1799.17\" cy=\"1242.58\" r=\"2\"/>\n<circle clip-path=\"url(#clip742)\" style=\"fill:#009af9; stroke:none; fill-opacity:0\" cx=\"1973.27\" cy=\"1435.57\" r=\"2\"/>\n<circle clip-path=\"url(#clip742)\" style=\"fill:#009af9; stroke:none; fill-opacity:0\" cx=\"2147.36\" cy=\"1479.43\" r=\"2\"/>\n<path clip-path=\"url(#clip740)\" d=\"M1661.32 198.898 L2281.03 198.898 L2281.03 95.2176 L1661.32 95.2176  Z\" fill=\"#ffffff\" fill-rule=\"evenodd\" fill-opacity=\"1\"/>\n<polyline clip-path=\"url(#clip740)\" style=\"stroke:#000000; stroke-linecap:round; stroke-linejoin:round; stroke-width:4; stroke-opacity:1; fill:none\" points=\"1661.32,198.898 2281.03,198.898 2281.03,95.2176 1661.32,95.2176 1661.32,198.898 \"/>\n<path clip-path=\"url(#clip740)\" d=\"M1685.23 167.794 L1828.68 167.794 L1828.68 126.322 L1685.23 126.322 L1685.23 167.794  Z\" fill=\"#009af9\" fill-rule=\"evenodd\" fill-opacity=\"0.5\"/>\n<polyline clip-path=\"url(#clip740)\" style=\"stroke:#000000; stroke-linecap:round; stroke-linejoin:round; stroke-width:4; stroke-opacity:1; fill:none\" points=\"1685.23,167.794 1828.68,167.794 1828.68,126.322 1685.23,126.322 1685.23,167.794 \"/>\n<path clip-path=\"url(#clip740)\" d=\"M1852.59 129.778 L1859.56 129.778 L1868.38 153.296 L1877.24 129.778 L1884.21 129.778 L1884.21 164.338 L1879.65 164.338 L1879.65 133.99 L1870.74 157.694 L1866.04 157.694 L1857.13 133.99 L1857.13 164.338 L1852.59 164.338 L1852.59 129.778 Z\" fill=\"#000000\" fill-rule=\"nonzero\" fill-opacity=\"1\" /><path clip-path=\"url(#clip740)\" d=\"M1915.48 150.31 L1915.48 152.393 L1895.9 152.393 Q1896.18 156.791 1898.54 159.106 Q1900.92 161.398 1905.16 161.398 Q1907.61 161.398 1909.9 160.796 Q1912.22 160.194 1914.49 158.99 L1914.49 163.018 Q1912.19 163.99 1909.79 164.5 Q1907.38 165.009 1904.9 165.009 Q1898.7 165.009 1895.06 161.398 Q1891.45 157.787 1891.45 151.629 Q1891.45 145.264 1894.88 141.537 Q1898.33 137.787 1904.16 137.787 Q1909.39 137.787 1912.43 141.166 Q1915.48 144.523 1915.48 150.31 M1911.22 149.06 Q1911.18 145.565 1909.25 143.481 Q1907.36 141.398 1904.21 141.398 Q1900.64 141.398 1898.49 143.412 Q1896.36 145.426 1896.04 149.083 L1911.22 149.06 Z\" fill=\"#000000\" fill-rule=\"nonzero\" fill-opacity=\"1\" /><path clip-path=\"url(#clip740)\" d=\"M1926.69 131.051 L1926.69 138.412 L1935.46 138.412 L1935.46 141.722 L1926.69 141.722 L1926.69 155.796 Q1926.69 158.967 1927.54 159.87 Q1928.42 160.773 1931.08 160.773 L1935.46 160.773 L1935.46 164.338 L1931.08 164.338 Q1926.15 164.338 1924.28 162.509 Q1922.4 160.657 1922.4 155.796 L1922.4 141.722 L1919.28 141.722 L1919.28 138.412 L1922.4 138.412 L1922.4 131.051 L1926.69 131.051 Z\" fill=\"#000000\" fill-rule=\"nonzero\" fill-opacity=\"1\" /><path clip-path=\"url(#clip740)\" d=\"M1956.08 142.393 Q1955.37 141.977 1954.51 141.791 Q1953.68 141.583 1952.66 141.583 Q1949.05 141.583 1947.1 143.944 Q1945.18 146.282 1945.18 150.68 L1945.18 164.338 L1940.9 164.338 L1940.9 138.412 L1945.18 138.412 L1945.18 142.44 Q1946.52 140.078 1948.68 138.944 Q1950.83 137.787 1953.91 137.787 Q1954.35 137.787 1954.88 137.856 Q1955.41 137.903 1956.06 138.018 L1956.08 142.393 Z\" fill=\"#000000\" fill-rule=\"nonzero\" fill-opacity=\"1\" /><path clip-path=\"url(#clip740)\" d=\"M1969.56 141.398 Q1966.13 141.398 1964.14 144.083 Q1962.15 146.745 1962.15 151.398 Q1962.15 156.051 1964.12 158.736 Q1966.11 161.398 1969.56 161.398 Q1972.96 161.398 1974.95 158.713 Q1976.94 156.027 1976.94 151.398 Q1976.94 146.791 1974.95 144.106 Q1972.96 141.398 1969.56 141.398 M1969.56 137.787 Q1975.11 137.787 1978.28 141.398 Q1981.45 145.009 1981.45 151.398 Q1981.45 157.764 1978.28 161.398 Q1975.11 165.009 1969.56 165.009 Q1963.98 165.009 1960.81 161.398 Q1957.66 157.764 1957.66 151.398 Q1957.66 145.009 1960.81 141.398 Q1963.98 137.787 1969.56 137.787 Z\" fill=\"#000000\" fill-rule=\"nonzero\" fill-opacity=\"1\" /><path clip-path=\"url(#clip740)\" d=\"M1992.63 160.449 L1992.63 174.199 L1988.35 174.199 L1988.35 138.412 L1992.63 138.412 L1992.63 142.347 Q1993.98 140.032 1996.01 138.921 Q1998.07 137.787 2000.92 137.787 Q2005.64 137.787 2008.58 141.537 Q2011.55 145.287 2011.55 151.398 Q2011.55 157.509 2008.58 161.259 Q2005.64 165.009 2000.92 165.009 Q1998.07 165.009 1996.01 163.898 Q1993.98 162.763 1992.63 160.449 M2007.12 151.398 Q2007.12 146.699 2005.18 144.037 Q2003.26 141.352 1999.88 141.352 Q1996.5 141.352 1994.56 144.037 Q1992.63 146.699 1992.63 151.398 Q1992.63 156.097 1994.56 158.782 Q1996.5 161.444 1999.88 161.444 Q2003.26 161.444 2005.18 158.782 Q2007.12 156.097 2007.12 151.398 Z\" fill=\"#000000\" fill-rule=\"nonzero\" fill-opacity=\"1\" /><path clip-path=\"url(#clip740)\" d=\"M2028.65 141.398 Q2025.23 141.398 2023.24 144.083 Q2021.24 146.745 2021.24 151.398 Q2021.24 156.051 2023.21 158.736 Q2025.2 161.398 2028.65 161.398 Q2032.05 161.398 2034.05 158.713 Q2036.04 156.027 2036.04 151.398 Q2036.04 146.791 2034.05 144.106 Q2032.05 141.398 2028.65 141.398 M2028.65 137.787 Q2034.21 137.787 2037.38 141.398 Q2040.55 145.009 2040.55 151.398 Q2040.55 157.764 2037.38 161.398 Q2034.21 165.009 2028.65 165.009 Q2023.07 165.009 2019.9 161.398 Q2016.75 157.764 2016.75 151.398 Q2016.75 145.009 2019.9 141.398 Q2023.07 137.787 2028.65 137.787 Z\" fill=\"#000000\" fill-rule=\"nonzero\" fill-opacity=\"1\" /><path clip-path=\"url(#clip740)\" d=\"M2047.61 128.319 L2051.87 128.319 L2051.87 164.338 L2047.61 164.338 L2047.61 128.319 Z\" fill=\"#000000\" fill-rule=\"nonzero\" fill-opacity=\"1\" /><path clip-path=\"url(#clip740)\" d=\"M2060.78 138.412 L2065.04 138.412 L2065.04 164.338 L2060.78 164.338 L2060.78 138.412 M2060.78 128.319 L2065.04 128.319 L2065.04 133.713 L2060.78 133.713 L2060.78 128.319 Z\" fill=\"#000000\" fill-rule=\"nonzero\" fill-opacity=\"1\" /><path clip-path=\"url(#clip740)\" d=\"M2090.48 139.176 L2090.48 143.203 Q2088.67 142.277 2086.73 141.815 Q2084.79 141.352 2082.7 141.352 Q2079.53 141.352 2077.93 142.324 Q2076.36 143.296 2076.36 145.24 Q2076.36 146.722 2077.49 147.578 Q2078.63 148.412 2082.05 149.176 L2083.51 149.5 Q2088.05 150.472 2089.95 152.254 Q2091.87 154.014 2091.87 157.185 Q2091.87 160.796 2089 162.902 Q2086.15 165.009 2081.15 165.009 Q2079.07 165.009 2076.8 164.592 Q2074.55 164.199 2072.05 163.388 L2072.05 158.99 Q2074.42 160.217 2076.71 160.842 Q2079 161.444 2081.24 161.444 Q2084.25 161.444 2085.87 160.426 Q2087.49 159.384 2087.49 157.509 Q2087.49 155.773 2086.31 154.847 Q2085.16 153.921 2081.2 153.064 L2079.72 152.717 Q2075.76 151.884 2074 150.171 Q2072.24 148.435 2072.24 145.426 Q2072.24 141.768 2074.83 139.778 Q2077.43 137.787 2082.19 137.787 Q2084.55 137.787 2086.64 138.134 Q2088.72 138.481 2090.48 139.176 Z\" fill=\"#000000\" fill-rule=\"nonzero\" fill-opacity=\"1\" /><path clip-path=\"url(#clip740)\" d=\"M2134.62 130.912 L2134.62 135.472 Q2131.96 134.199 2129.6 133.574 Q2127.24 132.949 2125.04 132.949 Q2121.22 132.949 2119.14 134.43 Q2117.08 135.912 2117.08 138.643 Q2117.08 140.935 2118.44 142.115 Q2119.83 143.273 2123.67 143.99 L2126.5 144.569 Q2131.73 145.565 2134.21 148.088 Q2136.71 150.588 2136.71 154.801 Q2136.71 159.824 2133.33 162.416 Q2129.97 165.009 2123.47 165.009 Q2121.01 165.009 2118.24 164.453 Q2115.48 163.898 2112.52 162.81 L2112.52 157.995 Q2115.36 159.592 2118.1 160.402 Q2120.83 161.213 2123.47 161.213 Q2127.47 161.213 2129.65 159.639 Q2131.82 158.064 2131.82 155.148 Q2131.82 152.602 2130.25 151.166 Q2128.7 149.731 2125.13 149.014 L2122.29 148.458 Q2117.05 147.416 2114.72 145.194 Q2112.38 142.972 2112.38 139.014 Q2112.38 134.43 2115.6 131.791 Q2118.84 129.153 2124.51 129.153 Q2126.94 129.153 2129.46 129.592 Q2131.98 130.032 2134.62 130.912 Z\" fill=\"#000000\" fill-rule=\"nonzero\" fill-opacity=\"1\" /><path clip-path=\"url(#clip740)\" d=\"M2148.03 131.051 L2148.03 138.412 L2156.8 138.412 L2156.8 141.722 L2148.03 141.722 L2148.03 155.796 Q2148.03 158.967 2148.88 159.87 Q2149.76 160.773 2152.42 160.773 L2156.8 160.773 L2156.8 164.338 L2152.42 164.338 Q2147.49 164.338 2145.62 162.509 Q2143.74 160.657 2143.74 155.796 L2143.74 141.722 L2140.62 141.722 L2140.62 138.412 L2143.74 138.412 L2143.74 131.051 L2148.03 131.051 Z\" fill=\"#000000\" fill-rule=\"nonzero\" fill-opacity=\"1\" /><path clip-path=\"url(#clip740)\" d=\"M2174.18 151.305 Q2169.02 151.305 2167.03 152.486 Q2165.04 153.666 2165.04 156.514 Q2165.04 158.782 2166.52 160.125 Q2168.03 161.444 2170.6 161.444 Q2174.14 161.444 2176.27 158.944 Q2178.42 156.421 2178.42 152.254 L2178.42 151.305 L2174.18 151.305 M2182.68 149.546 L2182.68 164.338 L2178.42 164.338 L2178.42 160.402 Q2176.96 162.763 2174.79 163.898 Q2172.61 165.009 2169.46 165.009 Q2165.48 165.009 2163.12 162.787 Q2160.78 160.541 2160.78 156.791 Q2160.78 152.416 2163.7 150.194 Q2166.64 147.972 2172.45 147.972 L2178.42 147.972 L2178.42 147.555 Q2178.42 144.615 2176.48 143.018 Q2174.55 141.398 2171.06 141.398 Q2168.84 141.398 2166.73 141.93 Q2164.62 142.463 2162.68 143.527 L2162.68 139.592 Q2165.02 138.69 2167.22 138.25 Q2169.42 137.787 2171.5 137.787 Q2177.12 137.787 2179.9 140.703 Q2182.68 143.62 2182.68 149.546 Z\" fill=\"#000000\" fill-rule=\"nonzero\" fill-opacity=\"1\" /><path clip-path=\"url(#clip740)\" d=\"M2195.67 131.051 L2195.67 138.412 L2204.44 138.412 L2204.44 141.722 L2195.67 141.722 L2195.67 155.796 Q2195.67 158.967 2196.52 159.87 Q2197.4 160.773 2200.06 160.773 L2204.44 160.773 L2204.44 164.338 L2200.06 164.338 Q2195.13 164.338 2193.26 162.509 Q2191.38 160.657 2191.38 155.796 L2191.38 141.722 L2188.26 141.722 L2188.26 138.412 L2191.38 138.412 L2191.38 131.051 L2195.67 131.051 Z\" fill=\"#000000\" fill-rule=\"nonzero\" fill-opacity=\"1\" /><path clip-path=\"url(#clip740)\" d=\"M2232.22 150.31 L2232.22 152.393 L2212.63 152.393 Q2212.91 156.791 2215.27 159.106 Q2217.66 161.398 2221.89 161.398 Q2224.35 161.398 2226.64 160.796 Q2228.95 160.194 2231.22 158.99 L2231.22 163.018 Q2228.93 163.99 2226.52 164.5 Q2224.11 165.009 2221.64 165.009 Q2215.43 165.009 2211.8 161.398 Q2208.19 157.787 2208.19 151.629 Q2208.19 145.264 2211.61 141.537 Q2215.06 137.787 2220.9 137.787 Q2226.13 137.787 2229.16 141.166 Q2232.22 144.523 2232.22 150.31 M2227.96 149.06 Q2227.91 145.565 2225.99 143.481 Q2224.09 141.398 2220.94 141.398 Q2217.38 141.398 2215.23 143.412 Q2213.1 145.426 2212.77 149.083 L2227.96 149.06 Z\" fill=\"#000000\" fill-rule=\"nonzero\" fill-opacity=\"1\" /><path clip-path=\"url(#clip740)\" d=\"M2255.73 139.176 L2255.73 143.203 Q2253.93 142.277 2251.98 141.815 Q2250.04 141.352 2247.96 141.352 Q2244.79 141.352 2243.19 142.324 Q2241.61 143.296 2241.61 145.24 Q2241.61 146.722 2242.75 147.578 Q2243.88 148.412 2247.31 149.176 L2248.77 149.5 Q2253.3 150.472 2255.2 152.254 Q2257.12 154.014 2257.12 157.185 Q2257.12 160.796 2254.25 162.902 Q2251.41 165.009 2246.41 165.009 Q2244.32 165.009 2242.05 164.592 Q2239.81 164.199 2237.31 163.388 L2237.31 158.99 Q2239.67 160.217 2241.96 160.842 Q2244.25 161.444 2246.5 161.444 Q2249.51 161.444 2251.13 160.426 Q2252.75 159.384 2252.75 157.509 Q2252.75 155.773 2251.57 154.847 Q2250.41 153.921 2246.45 153.064 L2244.97 152.717 Q2241.01 151.884 2239.25 150.171 Q2237.49 148.435 2237.49 145.426 Q2237.49 141.768 2240.09 139.778 Q2242.68 137.787 2247.45 137.787 Q2249.81 137.787 2251.89 138.134 Q2253.98 138.481 2255.73 139.176 Z\" fill=\"#000000\" fill-rule=\"nonzero\" fill-opacity=\"1\" /></svg>\n"
     },
     "execution_count": 7,
     "metadata": {},
     "output_type": "execute_result"
    }
   ],
   "source": [
    "using Random, Distributions, Plots\n",
    "\n",
    "function metropolis_binomial(n, p, steps)\n",
    "    current_state = rand(0:n)\n",
    "    states = [current_state]\n",
    "\n",
    "    for _ in 1:steps\n",
    "        proposal = current_state + (rand(Bool) ? 1 : -1) # random walk\n",
    "        \n",
    "        # Ensure proposal is within valid range\n",
    "        if proposal >= 0 && proposal <= n\n",
    "            acceptance_ratio = binomial_pdf(n, p, proposal) / binomial_pdf(n, p, current_state)\n",
    "            if rand() < min(1, acceptance_ratio)\n",
    "                current_state = proposal\n",
    "            end\n",
    "        end\n",
    "\n",
    "        push!(states, current_state)\n",
    "    end\n",
    "\n",
    "    return states\n",
    "end\n",
    "\n",
    "function binomial_pdf(n, p, k)\n",
    "    return binomial(n, k) * p^k * (1-p)^(n-k)\n",
    "end\n",
    "\n",
    "# main function\n",
    "seed_value = 123\n",
    "Random.seed!(seed_value)\n",
    "n = 10\n",
    "p = 0.5\n",
    "steps = 10000\n",
    "states = metropolis_binomial(n, p, steps)\n",
    "\n",
    "# Calculating mean and variance\n",
    "mean_states = mean(states)\n",
    "variance_states = var(states)\n",
    "\n",
    "println(\"Mean: $mean_states, Expected Mean: $(n*p)\")\n",
    "println(\"Variance: $variance_states, Expected Variance: $(n*p*(1-p))\")\n",
    "\n",
    "# Plotting the histogram of the states and the theoretical binomial distribution\n",
    "histogram(states, bins=n+1, normalization=:probability, alpha=0.5, label=\"Metropolis States\")\n",
    "# scatter!(0:n, [pdf(Binomial(n, p), k) for k in 0:n], color=:red, label=\"Theoretical Binomial Distribution\")"
   ]
  },
  {
   "cell_type": "code",
   "execution_count": 6,
   "metadata": {},
   "outputs": [
    {
     "name": "stderr",
     "output_type": "stream",
     "text": [
      "\u001b[32m\u001b[1m    Updating\u001b[22m\u001b[39m registry at `~/.julia/registries/General.toml`\n",
      "\u001b[32m\u001b[1m   Resolving\u001b[22m\u001b[39m package versions...\n"
     ]
    },
    {
     "ename": "LoadError",
     "evalue": "InterruptException:",
     "output_type": "error",
     "traceback": [
      "InterruptException:",
      "",
      "Stacktrace:",
      "  [1] merge(a::NamedTuple{(), Tuple{}}, itr::Dict{Symbol, String})",
      "    @ Base ./namedtuple.jl:303",
      "  [2] unpack_platform(entry::Dict{String, Any}, name::String, artifacts_toml::String)",
      "    @ Artifacts ~/.julia/juliaup/julia-1.7.3+0.x64/share/julia/stdlib/v1.7/Artifacts/src/Artifacts.jl:285",
      "  [3] artifact_meta(name::String, artifact_dict::Dict{String, Any}, artifacts_toml::String; platform::Base.BinaryPlatforms.Platform)",
      "    @ Artifacts ~/.julia/juliaup/julia-1.7.3+0.x64/share/julia/stdlib/v1.7/Artifacts/src/Artifacts.jl:390",
      "  [4] select_downloadable_artifacts(artifact_dict::Dict{String, Any}, artifacts_toml::String; platform::Base.BinaryPlatforms.Platform, pkg_uuid::Nothing, include_lazy::Bool)",
      "    @ Artifacts ~/.julia/juliaup/julia-1.7.3+0.x64/share/julia/stdlib/v1.7/Artifacts/src/Artifacts.jl:437",
      "  [5] #select_downloadable_artifacts#15",
      "    @ ~/.julia/juliaup/julia-1.7.3+0.x64/share/julia/stdlib/v1.7/Artifacts/src/Artifacts.jl:470 [inlined]",
      "  [6] collect_artifacts(pkg_root::String; platform::Base.BinaryPlatforms.Platform)",
      "    @ Pkg.Operations ~/.julia/juliaup/julia-1.7.3+0.x64/share/julia/stdlib/v1.7/Pkg/src/Operations.jl:591",
      "  [7] download_artifacts(env::Pkg.Types.EnvCache; platform::Base.BinaryPlatforms.Platform, julia_version::VersionNumber, verbose::Bool, io::IJulia.IJuliaStdio{Base.PipeEndpoint})",
      "    @ Pkg.Operations ~/.julia/juliaup/julia-1.7.3+0.x64/share/julia/stdlib/v1.7/Pkg/src/Operations.jl:614",
      "  [8] add(ctx::Pkg.Types.Context, pkgs::Vector{Pkg.Types.PackageSpec}, new_git::Set{Base.UUID}; preserve::Pkg.Types.PreserveLevel, platform::Base.BinaryPlatforms.Platform)",
      "    @ Pkg.Operations ~/.julia/juliaup/julia-1.7.3+0.x64/share/julia/stdlib/v1.7/Pkg/src/Operations.jl:1182",
      "  [9] add(ctx::Pkg.Types.Context, pkgs::Vector{Pkg.Types.PackageSpec}; preserve::Pkg.Types.PreserveLevel, platform::Base.BinaryPlatforms.Platform, kwargs::Base.Pairs{Symbol, IJulia.IJuliaStdio{Base.PipeEndpoint}, Tuple{Symbol}, NamedTuple{(:io,), Tuple{IJulia.IJuliaStdio{Base.PipeEndpoint}}}})",
      "    @ Pkg.API ~/.julia/juliaup/julia-1.7.3+0.x64/share/julia/stdlib/v1.7/Pkg/src/API.jl:268",
      " [10] add(pkgs::Vector{Pkg.Types.PackageSpec}; io::IJulia.IJuliaStdio{Base.PipeEndpoint}, kwargs::Base.Pairs{Symbol, Union{}, Tuple{}, NamedTuple{(), Tuple{}}})",
      "    @ Pkg.API ~/.julia/juliaup/julia-1.7.3+0.x64/share/julia/stdlib/v1.7/Pkg/src/API.jl:149",
      " [11] add(pkgs::Vector{Pkg.Types.PackageSpec})",
      "    @ Pkg.API ~/.julia/juliaup/julia-1.7.3+0.x64/share/julia/stdlib/v1.7/Pkg/src/API.jl:144",
      " [12] #add#27",
      "    @ ~/.julia/juliaup/julia-1.7.3+0.x64/share/julia/stdlib/v1.7/Pkg/src/API.jl:142 [inlined]",
      " [13] add",
      "    @ ~/.julia/juliaup/julia-1.7.3+0.x64/share/julia/stdlib/v1.7/Pkg/src/API.jl:142 [inlined]",
      " [14] #add#26",
      "    @ ~/.julia/juliaup/julia-1.7.3+0.x64/share/julia/stdlib/v1.7/Pkg/src/API.jl:141 [inlined]",
      " [15] add(pkg::String)",
      "    @ Pkg.API ~/.julia/juliaup/julia-1.7.3+0.x64/share/julia/stdlib/v1.7/Pkg/src/API.jl:141"
     ]
    }
   ],
   "source": [
    "using Pkg\n",
    "Pkg.add(\"Plots\")\n",
    "using Random\n",
    "\n",
    "function gibbs_sampler(n::Int, mu::Vector{Float64}, sigma::Matrix{Float64})\n",
    "    # Initialize variables\n",
    "    x = zeros(n)\n",
    "    y = zeros(n)\n",
    "\n",
    "    # Gibbs sampler iterations\n",
    "    for i in 2:n\n",
    "        # Sample x conditional on y\n",
    "        mu_x_given_y = mu[1] + sigma[1, 2] / sigma[2, 2] * (y[i - 1] - mu[2])\n",
    "        sigma_x_given_y = sigma[1, 1] - sigma[1, 2] / sigma[2, 2] * sigma[1, 2]\n",
    "\n",
    "        x[i] = randn() * sqrt(sigma_x_given_y) + mu_x_given_y\n",
    "\n",
    "        # Sample y conditional on x\n",
    "        mu_y_given_x = mu[2] + sigma[1, 2] / sigma[1, 1] * (x[i] - mu[1])\n",
    "        sigma_y_given_x = sigma[2, 2] - sigma[1, 2] / sigma[1, 1] * sigma[1, 2]\n",
    "\n",
    "        y[i] = randn() * sqrt(sigma_y_given_x) + mu_y_given_x\n",
    "    end\n",
    "\n",
    "    return hcat(x, y)\n",
    "end\n",
    "\n",
    "# Parameters for the bivariate normal distribution\n",
    "seed_value = 123\n",
    "Random.seed!(seed_value)\n",
    "mu = [0.0, 0.0]\n",
    "sigma = [1.0 0.7; 0.7 1.0]\n",
    "\n",
    "# Number of samples\n",
    "n_samples = 1000\n",
    "\n",
    "# Generate samples using Gibbs sampler\n",
    "samples = gibbs_sampler(n_samples, mu, sigma)\n",
    "\n",
    "# Plot the samples\n",
    "using Plots\n",
    "plot(samples[:, 1], samples[:, 2], seriestype = :scatter, title = \"Bivariate Normal Samples\", xlabel = \"X\", ylabel = \"Y\", legend = false)\n"
   ]
  },
  {
   "cell_type": "code",
   "execution_count": 5,
   "metadata": {},
   "outputs": [
    {
     "name": "stdout",
     "output_type": "stream",
     "text": [
      "Generated Poisson Samples: [1, 1, 1, 0, 2, 2, 1, 0, 2, 0, 0, 2, 1, 0, 0, 1, 0, 0, 1, 0, 0, 1, 0, 1, 1, 1, 3, 2, 1, 3, 1, 1, 1, 2, 2, 0, 4, 1, 3, 0, 0, 0, 2, 1, 3, 0, 0, 2, 2, 1, 2, 2, 0, 0, 3, 1, 0, 0, 2, 2, 2, 0, 1, 2, 0, 1, 1, 0, 0, 1, 0, 1, 4, 2, 2, 2, 1, 2, 0, 0, 1, 0, 1, 0, 0, 2, 0, 3, 4, 2, 0, 0, 2, 1, 0, 0, 3, 1, 0, 0]\n"
     ]
    },
    {
     "data": {
      "image/svg+xml": "<?xml version=\"1.0\" encoding=\"utf-8\"?>\n<svg xmlns=\"http://www.w3.org/2000/svg\" xmlns:xlink=\"http://www.w3.org/1999/xlink\" width=\"600\" height=\"400\" viewBox=\"0 0 2400 1600\">\n<defs>\n  <clipPath id=\"clip070\">\n    <rect x=\"0\" y=\"0\" width=\"2400\" height=\"1600\"/>\n  </clipPath>\n</defs>\n<path clip-path=\"url(#clip070)\" d=\"M0 1600 L2400 1600 L2400 0 L0 0  Z\" fill=\"#ffffff\" fill-rule=\"evenodd\" fill-opacity=\"1\"/>\n<defs>\n  <clipPath id=\"clip071\">\n    <rect x=\"480\" y=\"0\" width=\"1681\" height=\"1600\"/>\n  </clipPath>\n</defs>\n<path clip-path=\"url(#clip070)\" d=\"M203.964 1423.18 L2352.76 1423.18 L2352.76 123.472 L203.964 123.472  Z\" fill=\"#ffffff\" fill-rule=\"evenodd\" fill-opacity=\"1\"/>\n<defs>\n  <clipPath id=\"clip072\">\n    <rect x=\"203\" y=\"123\" width=\"2150\" height=\"1301\"/>\n  </clipPath>\n</defs>\n<polyline clip-path=\"url(#clip072)\" style=\"stroke:#000000; stroke-linecap:round; stroke-linejoin:round; stroke-width:2; stroke-opacity:0.1; fill:none\" points=\"322.151,1423.18 322.151,123.472 \"/>\n<polyline clip-path=\"url(#clip072)\" style=\"stroke:#000000; stroke-linecap:round; stroke-linejoin:round; stroke-width:2; stroke-opacity:0.1; fill:none\" points=\"704.634,1423.18 704.634,123.472 \"/>\n<polyline clip-path=\"url(#clip072)\" style=\"stroke:#000000; stroke-linecap:round; stroke-linejoin:round; stroke-width:2; stroke-opacity:0.1; fill:none\" points=\"1087.12,1423.18 1087.12,123.472 \"/>\n<polyline clip-path=\"url(#clip072)\" style=\"stroke:#000000; stroke-linecap:round; stroke-linejoin:round; stroke-width:2; stroke-opacity:0.1; fill:none\" points=\"1469.6,1423.18 1469.6,123.472 \"/>\n<polyline clip-path=\"url(#clip072)\" style=\"stroke:#000000; stroke-linecap:round; stroke-linejoin:round; stroke-width:2; stroke-opacity:0.1; fill:none\" points=\"1852.08,1423.18 1852.08,123.472 \"/>\n<polyline clip-path=\"url(#clip072)\" style=\"stroke:#000000; stroke-linecap:round; stroke-linejoin:round; stroke-width:2; stroke-opacity:0.1; fill:none\" points=\"2234.57,1423.18 2234.57,123.472 \"/>\n<polyline clip-path=\"url(#clip070)\" style=\"stroke:#000000; stroke-linecap:round; stroke-linejoin:round; stroke-width:4; stroke-opacity:1; fill:none\" points=\"203.964,1423.18 2352.76,1423.18 \"/>\n<polyline clip-path=\"url(#clip070)\" style=\"stroke:#000000; stroke-linecap:round; stroke-linejoin:round; stroke-width:4; stroke-opacity:1; fill:none\" points=\"322.151,1423.18 322.151,1404.28 \"/>\n<polyline clip-path=\"url(#clip070)\" style=\"stroke:#000000; stroke-linecap:round; stroke-linejoin:round; stroke-width:4; stroke-opacity:1; fill:none\" points=\"704.634,1423.18 704.634,1404.28 \"/>\n<polyline clip-path=\"url(#clip070)\" style=\"stroke:#000000; stroke-linecap:round; stroke-linejoin:round; stroke-width:4; stroke-opacity:1; fill:none\" points=\"1087.12,1423.18 1087.12,1404.28 \"/>\n<polyline clip-path=\"url(#clip070)\" style=\"stroke:#000000; stroke-linecap:round; stroke-linejoin:round; stroke-width:4; stroke-opacity:1; fill:none\" points=\"1469.6,1423.18 1469.6,1404.28 \"/>\n<polyline clip-path=\"url(#clip070)\" style=\"stroke:#000000; stroke-linecap:round; stroke-linejoin:round; stroke-width:4; stroke-opacity:1; fill:none\" points=\"1852.08,1423.18 1852.08,1404.28 \"/>\n<polyline clip-path=\"url(#clip070)\" style=\"stroke:#000000; stroke-linecap:round; stroke-linejoin:round; stroke-width:4; stroke-opacity:1; fill:none\" points=\"2234.57,1423.18 2234.57,1404.28 \"/>\n<path clip-path=\"url(#clip070)\" d=\"M322.151 1454.1 Q318.54 1454.1 316.711 1457.66 Q314.906 1461.2 314.906 1468.33 Q314.906 1475.44 316.711 1479.01 Q318.54 1482.55 322.151 1482.55 Q325.785 1482.55 327.591 1479.01 Q329.419 1475.44 329.419 1468.33 Q329.419 1461.2 327.591 1457.66 Q325.785 1454.1 322.151 1454.1 M322.151 1450.39 Q327.961 1450.39 331.017 1455 Q334.095 1459.58 334.095 1468.33 Q334.095 1477.06 331.017 1481.67 Q327.961 1486.25 322.151 1486.25 Q316.341 1486.25 313.262 1481.67 Q310.207 1477.06 310.207 1468.33 Q310.207 1459.58 313.262 1455 Q316.341 1450.39 322.151 1450.39 Z\" fill=\"#000000\" fill-rule=\"nonzero\" fill-opacity=\"1\" /><path clip-path=\"url(#clip070)\" d=\"M695.016 1481.64 L702.655 1481.64 L702.655 1455.28 L694.345 1456.95 L694.345 1452.69 L702.609 1451.02 L707.285 1451.02 L707.285 1481.64 L714.924 1481.64 L714.924 1485.58 L695.016 1485.58 L695.016 1481.64 Z\" fill=\"#000000\" fill-rule=\"nonzero\" fill-opacity=\"1\" /><path clip-path=\"url(#clip070)\" d=\"M1081.77 1481.64 L1098.09 1481.64 L1098.09 1485.58 L1076.15 1485.58 L1076.15 1481.64 Q1078.81 1478.89 1083.39 1474.26 Q1088 1469.61 1089.18 1468.27 Q1091.42 1465.74 1092.3 1464.01 Q1093.21 1462.25 1093.21 1460.56 Q1093.21 1457.8 1091.26 1456.07 Q1089.34 1454.33 1086.24 1454.33 Q1084.04 1454.33 1081.59 1455.09 Q1079.16 1455.86 1076.38 1457.41 L1076.38 1452.69 Q1079.2 1451.55 1081.66 1450.97 Q1084.11 1450.39 1086.15 1450.39 Q1091.52 1450.39 1094.71 1453.08 Q1097.9 1455.77 1097.9 1460.26 Q1097.9 1462.39 1097.09 1464.31 Q1096.31 1466.2 1094.2 1468.8 Q1093.62 1469.47 1090.52 1472.69 Q1087.42 1475.88 1081.77 1481.64 Z\" fill=\"#000000\" fill-rule=\"nonzero\" fill-opacity=\"1\" /><path clip-path=\"url(#clip070)\" d=\"M1473.85 1466.95 Q1477.21 1467.66 1479.08 1469.93 Q1480.98 1472.2 1480.98 1475.53 Q1480.98 1480.65 1477.46 1483.45 Q1473.94 1486.25 1467.46 1486.25 Q1465.28 1486.25 1462.97 1485.81 Q1460.68 1485.39 1458.22 1484.54 L1458.22 1480.02 Q1460.17 1481.16 1462.48 1481.74 Q1464.8 1482.32 1467.32 1482.32 Q1471.72 1482.32 1474.01 1480.58 Q1476.33 1478.84 1476.33 1475.53 Q1476.33 1472.48 1474.17 1470.77 Q1472.04 1469.03 1468.22 1469.03 L1464.2 1469.03 L1464.2 1465.19 L1468.41 1465.19 Q1471.86 1465.19 1473.69 1463.82 Q1475.52 1462.43 1475.52 1459.84 Q1475.52 1457.18 1473.62 1455.77 Q1471.74 1454.33 1468.22 1454.33 Q1466.3 1454.33 1464.1 1454.75 Q1461.9 1455.16 1459.27 1456.04 L1459.27 1451.88 Q1461.93 1451.14 1464.24 1450.77 Q1466.58 1450.39 1468.64 1450.39 Q1473.96 1450.39 1477.07 1452.83 Q1480.17 1455.23 1480.17 1459.35 Q1480.17 1462.22 1478.53 1464.21 Q1476.88 1466.18 1473.85 1466.95 Z\" fill=\"#000000\" fill-rule=\"nonzero\" fill-opacity=\"1\" /><path clip-path=\"url(#clip070)\" d=\"M1855.09 1455.09 L1843.29 1473.54 L1855.09 1473.54 L1855.09 1455.09 M1853.87 1451.02 L1859.75 1451.02 L1859.75 1473.54 L1864.68 1473.54 L1864.68 1477.43 L1859.75 1477.43 L1859.75 1485.58 L1855.09 1485.58 L1855.09 1477.43 L1839.49 1477.43 L1839.49 1472.92 L1853.87 1451.02 Z\" fill=\"#000000\" fill-rule=\"nonzero\" fill-opacity=\"1\" /><path clip-path=\"url(#clip070)\" d=\"M2224.85 1451.02 L2243.2 1451.02 L2243.2 1454.96 L2229.13 1454.96 L2229.13 1463.43 Q2230.15 1463.08 2231.17 1462.92 Q2232.18 1462.73 2233.2 1462.73 Q2238.99 1462.73 2242.37 1465.9 Q2245.75 1469.08 2245.75 1474.49 Q2245.75 1480.07 2242.28 1483.17 Q2238.8 1486.25 2232.49 1486.25 Q2230.31 1486.25 2228.04 1485.88 Q2225.8 1485.51 2223.39 1484.77 L2223.39 1480.07 Q2225.47 1481.2 2227.69 1481.76 Q2229.92 1482.32 2232.39 1482.32 Q2236.4 1482.32 2238.74 1480.21 Q2241.07 1478.1 2241.07 1474.49 Q2241.07 1470.88 2238.74 1468.77 Q2236.4 1466.67 2232.39 1466.67 Q2230.52 1466.67 2228.64 1467.08 Q2226.79 1467.5 2224.85 1468.38 L2224.85 1451.02 Z\" fill=\"#000000\" fill-rule=\"nonzero\" fill-opacity=\"1\" /><path clip-path=\"url(#clip070)\" d=\"M1059.57 1525.81 L1059.57 1543.66 L1067.65 1543.66 Q1072.14 1543.66 1074.59 1541.34 Q1077.04 1539.02 1077.04 1534.72 Q1077.04 1530.45 1074.59 1528.13 Q1072.14 1525.81 1067.65 1525.81 L1059.57 1525.81 M1053.14 1520.52 L1067.65 1520.52 Q1075.64 1520.52 1079.72 1524.15 Q1083.82 1527.75 1083.82 1534.72 Q1083.82 1541.75 1079.72 1545.35 Q1075.64 1548.95 1067.65 1548.95 L1059.57 1548.95 L1059.57 1568.04 L1053.14 1568.04 L1053.14 1520.52 Z\" fill=\"#000000\" fill-rule=\"nonzero\" fill-opacity=\"1\" /><path clip-path=\"url(#clip070)\" d=\"M1103.68 1536.5 Q1098.97 1536.5 1096.24 1540.19 Q1093.5 1543.85 1093.5 1550.25 Q1093.5 1556.65 1096.21 1560.34 Q1098.94 1564 1103.68 1564 Q1108.36 1564 1111.1 1560.31 Q1113.84 1556.62 1113.84 1550.25 Q1113.84 1543.92 1111.1 1540.23 Q1108.36 1536.5 1103.68 1536.5 M1103.68 1531.54 Q1111.32 1531.54 1115.68 1536.5 Q1120.04 1541.47 1120.04 1550.25 Q1120.04 1559 1115.68 1564 Q1111.32 1568.97 1103.68 1568.97 Q1096.01 1568.97 1091.65 1564 Q1087.32 1559 1087.32 1550.25 Q1087.32 1541.47 1091.65 1536.5 Q1096.01 1531.54 1103.68 1531.54 Z\" fill=\"#000000\" fill-rule=\"nonzero\" fill-opacity=\"1\" /><path clip-path=\"url(#clip070)\" d=\"M1129.75 1532.4 L1135.61 1532.4 L1135.61 1568.04 L1129.75 1568.04 L1129.75 1532.4 M1129.75 1518.52 L1135.61 1518.52 L1135.61 1525.93 L1129.75 1525.93 L1129.75 1518.52 Z\" fill=\"#000000\" fill-rule=\"nonzero\" fill-opacity=\"1\" /><path clip-path=\"url(#clip070)\" d=\"M1170.59 1533.45 L1170.59 1538.98 Q1168.11 1537.71 1165.43 1537.07 Q1162.76 1536.44 1159.89 1536.44 Q1155.53 1536.44 1153.34 1537.77 Q1151.17 1539.11 1151.17 1541.79 Q1151.17 1543.82 1152.73 1545 Q1154.29 1546.15 1159 1547.2 L1161.01 1547.64 Q1167.25 1548.98 1169.86 1551.43 Q1172.5 1553.85 1172.5 1558.21 Q1172.5 1563.17 1168.55 1566.07 Q1164.64 1568.97 1157.76 1568.97 Q1154.9 1568.97 1151.78 1568.39 Q1148.69 1567.85 1145.25 1566.74 L1145.25 1560.69 Q1148.5 1562.38 1151.65 1563.24 Q1154.8 1564.07 1157.89 1564.07 Q1162.03 1564.07 1164.25 1562.66 Q1166.48 1561.23 1166.48 1558.65 Q1166.48 1556.27 1164.86 1554.99 Q1163.27 1553.72 1157.83 1552.54 L1155.79 1552.07 Q1150.35 1550.92 1147.93 1548.56 Q1145.51 1546.18 1145.51 1542.04 Q1145.51 1537.01 1149.07 1534.27 Q1152.64 1531.54 1159.19 1531.54 Q1162.44 1531.54 1165.3 1532.01 Q1168.17 1532.49 1170.59 1533.45 Z\" fill=\"#000000\" fill-rule=\"nonzero\" fill-opacity=\"1\" /><path clip-path=\"url(#clip070)\" d=\"M1204.55 1533.45 L1204.55 1538.98 Q1202.07 1537.71 1199.39 1537.07 Q1196.72 1536.44 1193.85 1536.44 Q1189.49 1536.44 1187.3 1537.77 Q1185.13 1539.11 1185.13 1541.79 Q1185.13 1543.82 1186.69 1545 Q1188.25 1546.15 1192.96 1547.2 L1194.97 1547.64 Q1201.21 1548.98 1203.82 1551.43 Q1206.46 1553.85 1206.46 1558.21 Q1206.46 1563.17 1202.51 1566.07 Q1198.6 1568.97 1191.72 1568.97 Q1188.86 1568.97 1185.74 1568.39 Q1182.65 1567.85 1179.21 1566.74 L1179.21 1560.69 Q1182.46 1562.38 1185.61 1563.24 Q1188.76 1564.07 1191.85 1564.07 Q1195.99 1564.07 1198.22 1562.66 Q1200.44 1561.23 1200.44 1558.65 Q1200.44 1556.27 1198.82 1554.99 Q1197.23 1553.72 1191.79 1552.54 L1189.75 1552.07 Q1184.31 1550.92 1181.89 1548.56 Q1179.47 1546.18 1179.47 1542.04 Q1179.47 1537.01 1183.03 1534.27 Q1186.6 1531.54 1193.15 1531.54 Q1196.4 1531.54 1199.27 1532.01 Q1202.13 1532.49 1204.55 1533.45 Z\" fill=\"#000000\" fill-rule=\"nonzero\" fill-opacity=\"1\" /><path clip-path=\"url(#clip070)\" d=\"M1229.6 1536.5 Q1224.89 1536.5 1222.15 1540.19 Q1219.41 1543.85 1219.41 1550.25 Q1219.41 1556.65 1222.12 1560.34 Q1224.86 1564 1229.6 1564 Q1234.28 1564 1237.01 1560.31 Q1239.75 1556.62 1239.75 1550.25 Q1239.75 1543.92 1237.01 1540.23 Q1234.28 1536.5 1229.6 1536.5 M1229.6 1531.54 Q1237.24 1531.54 1241.6 1536.5 Q1245.96 1541.47 1245.96 1550.25 Q1245.96 1559 1241.6 1564 Q1237.24 1568.97 1229.6 1568.97 Q1221.93 1568.97 1217.57 1564 Q1213.24 1559 1213.24 1550.25 Q1213.24 1541.47 1217.57 1536.5 Q1221.93 1531.54 1229.6 1531.54 Z\" fill=\"#000000\" fill-rule=\"nonzero\" fill-opacity=\"1\" /><path clip-path=\"url(#clip070)\" d=\"M1285.3 1546.53 L1285.3 1568.04 L1279.44 1568.04 L1279.44 1546.72 Q1279.44 1541.66 1277.47 1539.14 Q1275.5 1536.63 1271.55 1536.63 Q1266.81 1536.63 1264.07 1539.65 Q1261.33 1542.68 1261.33 1547.9 L1261.33 1568.04 L1255.44 1568.04 L1255.44 1532.4 L1261.33 1532.4 L1261.33 1537.93 Q1263.43 1534.72 1266.26 1533.13 Q1269.13 1531.54 1272.85 1531.54 Q1279 1531.54 1282.15 1535.36 Q1285.3 1539.14 1285.3 1546.53 Z\" fill=\"#000000\" fill-rule=\"nonzero\" fill-opacity=\"1\" /><path clip-path=\"url(#clip070)\" d=\"M1353.54 1524.18 L1353.54 1530.96 Q1350.29 1527.94 1346.6 1526.44 Q1342.94 1524.95 1338.8 1524.95 Q1330.65 1524.95 1326.33 1529.95 Q1322 1534.91 1322 1544.33 Q1322 1553.72 1326.33 1558.72 Q1330.65 1563.68 1338.8 1563.68 Q1342.94 1563.68 1346.6 1562.19 Q1350.29 1560.69 1353.54 1557.67 L1353.54 1564.38 Q1350.16 1566.68 1346.38 1567.82 Q1342.62 1568.97 1338.42 1568.97 Q1327.63 1568.97 1321.42 1562.38 Q1315.22 1555.76 1315.22 1544.33 Q1315.22 1532.87 1321.42 1526.28 Q1327.63 1519.66 1338.42 1519.66 Q1342.69 1519.66 1346.44 1520.81 Q1350.23 1521.92 1353.54 1524.18 Z\" fill=\"#000000\" fill-rule=\"nonzero\" fill-opacity=\"1\" /><path clip-path=\"url(#clip070)\" d=\"M1377.03 1536.5 Q1372.32 1536.5 1369.58 1540.19 Q1366.84 1543.85 1366.84 1550.25 Q1366.84 1556.65 1369.55 1560.34 Q1372.29 1564 1377.03 1564 Q1381.71 1564 1384.44 1560.31 Q1387.18 1556.62 1387.18 1550.25 Q1387.18 1543.92 1384.44 1540.23 Q1381.71 1536.5 1377.03 1536.5 M1377.03 1531.54 Q1384.67 1531.54 1389.03 1536.5 Q1393.39 1541.47 1393.39 1550.25 Q1393.39 1559 1389.03 1564 Q1384.67 1568.97 1377.03 1568.97 Q1369.36 1568.97 1365 1564 Q1360.67 1559 1360.67 1550.25 Q1360.67 1541.47 1365 1536.5 Q1369.36 1531.54 1377.03 1531.54 Z\" fill=\"#000000\" fill-rule=\"nonzero\" fill-opacity=\"1\" /><path clip-path=\"url(#clip070)\" d=\"M1402.49 1553.98 L1402.49 1532.4 L1408.35 1532.4 L1408.35 1553.75 Q1408.35 1558.81 1410.32 1561.36 Q1412.29 1563.87 1416.24 1563.87 Q1420.98 1563.87 1423.72 1560.85 Q1426.49 1557.83 1426.49 1552.61 L1426.49 1532.4 L1432.35 1532.4 L1432.35 1568.04 L1426.49 1568.04 L1426.49 1562.57 Q1424.36 1565.82 1421.52 1567.41 Q1418.72 1568.97 1415 1568.97 Q1408.86 1568.97 1405.67 1565.15 Q1402.49 1561.33 1402.49 1553.98 M1417.23 1531.54 L1417.23 1531.54 Z\" fill=\"#000000\" fill-rule=\"nonzero\" fill-opacity=\"1\" /><path clip-path=\"url(#clip070)\" d=\"M1474.04 1546.53 L1474.04 1568.04 L1468.19 1568.04 L1468.19 1546.72 Q1468.19 1541.66 1466.21 1539.14 Q1464.24 1536.63 1460.29 1536.63 Q1455.55 1536.63 1452.81 1539.65 Q1450.07 1542.68 1450.07 1547.9 L1450.07 1568.04 L1444.19 1568.04 L1444.19 1532.4 L1450.07 1532.4 L1450.07 1537.93 Q1452.18 1534.72 1455.01 1533.13 Q1457.87 1531.54 1461.6 1531.54 Q1467.74 1531.54 1470.89 1535.36 Q1474.04 1539.14 1474.04 1546.53 Z\" fill=\"#000000\" fill-rule=\"nonzero\" fill-opacity=\"1\" /><path clip-path=\"url(#clip070)\" d=\"M1491.52 1522.27 L1491.52 1532.4 L1503.58 1532.4 L1503.58 1536.95 L1491.52 1536.95 L1491.52 1556.3 Q1491.52 1560.66 1492.69 1561.9 Q1493.9 1563.14 1497.56 1563.14 L1503.58 1563.14 L1503.58 1568.04 L1497.56 1568.04 Q1490.78 1568.04 1488.21 1565.53 Q1485.63 1562.98 1485.63 1556.3 L1485.63 1536.95 L1481.33 1536.95 L1481.33 1532.4 L1485.63 1532.4 L1485.63 1522.27 L1491.52 1522.27 Z\" fill=\"#000000\" fill-rule=\"nonzero\" fill-opacity=\"1\" /><polyline clip-path=\"url(#clip072)\" style=\"stroke:#000000; stroke-linecap:round; stroke-linejoin:round; stroke-width:2; stroke-opacity:0.1; fill:none\" points=\"203.964,1423.18 2352.76,1423.18 \"/>\n<polyline clip-path=\"url(#clip072)\" style=\"stroke:#000000; stroke-linecap:round; stroke-linejoin:round; stroke-width:2; stroke-opacity:0.1; fill:none\" points=\"203.964,1081.15 2352.76,1081.15 \"/>\n<polyline clip-path=\"url(#clip072)\" style=\"stroke:#000000; stroke-linecap:round; stroke-linejoin:round; stroke-width:2; stroke-opacity:0.1; fill:none\" points=\"203.964,739.123 2352.76,739.123 \"/>\n<polyline clip-path=\"url(#clip072)\" style=\"stroke:#000000; stroke-linecap:round; stroke-linejoin:round; stroke-width:2; stroke-opacity:0.1; fill:none\" points=\"203.964,397.095 2352.76,397.095 \"/>\n<polyline clip-path=\"url(#clip070)\" style=\"stroke:#000000; stroke-linecap:round; stroke-linejoin:round; stroke-width:4; stroke-opacity:1; fill:none\" points=\"203.964,1423.18 203.964,123.472 \"/>\n<polyline clip-path=\"url(#clip070)\" style=\"stroke:#000000; stroke-linecap:round; stroke-linejoin:round; stroke-width:4; stroke-opacity:1; fill:none\" points=\"203.964,1423.18 222.861,1423.18 \"/>\n<polyline clip-path=\"url(#clip070)\" style=\"stroke:#000000; stroke-linecap:round; stroke-linejoin:round; stroke-width:4; stroke-opacity:1; fill:none\" points=\"203.964,1081.15 222.861,1081.15 \"/>\n<polyline clip-path=\"url(#clip070)\" style=\"stroke:#000000; stroke-linecap:round; stroke-linejoin:round; stroke-width:4; stroke-opacity:1; fill:none\" points=\"203.964,739.123 222.861,739.123 \"/>\n<polyline clip-path=\"url(#clip070)\" style=\"stroke:#000000; stroke-linecap:round; stroke-linejoin:round; stroke-width:4; stroke-opacity:1; fill:none\" points=\"203.964,397.095 222.861,397.095 \"/>\n<path clip-path=\"url(#clip070)\" d=\"M156.019 1408.98 Q152.408 1408.98 150.579 1412.54 Q148.774 1416.08 148.774 1423.21 Q148.774 1430.32 150.579 1433.89 Q152.408 1437.43 156.019 1437.43 Q159.653 1437.43 161.459 1433.89 Q163.288 1430.32 163.288 1423.21 Q163.288 1416.08 161.459 1412.54 Q159.653 1408.98 156.019 1408.98 M156.019 1405.27 Q161.829 1405.27 164.885 1409.88 Q167.964 1414.46 167.964 1423.21 Q167.964 1431.94 164.885 1436.55 Q161.829 1441.13 156.019 1441.13 Q150.209 1441.13 147.13 1436.55 Q144.075 1431.94 144.075 1423.21 Q144.075 1414.46 147.13 1409.88 Q150.209 1405.27 156.019 1405.27 Z\" fill=\"#000000\" fill-rule=\"nonzero\" fill-opacity=\"1\" /><path clip-path=\"url(#clip070)\" d=\"M116.668 1094.5 L124.306 1094.5 L124.306 1068.13 L115.996 1069.8 L115.996 1065.54 L124.26 1063.87 L128.936 1063.87 L128.936 1094.5 L136.575 1094.5 L136.575 1098.43 L116.668 1098.43 L116.668 1094.5 Z\" fill=\"#000000\" fill-rule=\"nonzero\" fill-opacity=\"1\" /><path clip-path=\"url(#clip070)\" d=\"M156.019 1066.95 Q152.408 1066.95 150.579 1070.51 Q148.774 1074.06 148.774 1081.19 Q148.774 1088.29 150.579 1091.86 Q152.408 1095.4 156.019 1095.4 Q159.653 1095.4 161.459 1091.86 Q163.288 1088.29 163.288 1081.19 Q163.288 1074.06 161.459 1070.51 Q159.653 1066.95 156.019 1066.95 M156.019 1063.25 Q161.829 1063.25 164.885 1067.85 Q167.964 1072.44 167.964 1081.19 Q167.964 1089.91 164.885 1094.52 Q161.829 1099.1 156.019 1099.1 Q150.209 1099.1 147.13 1094.52 Q144.075 1089.91 144.075 1081.19 Q144.075 1072.44 147.13 1067.85 Q150.209 1063.25 156.019 1063.25 Z\" fill=\"#000000\" fill-rule=\"nonzero\" fill-opacity=\"1\" /><path clip-path=\"url(#clip070)\" d=\"M119.885 752.468 L136.204 752.468 L136.204 756.403 L114.26 756.403 L114.26 752.468 Q116.922 749.713 121.505 745.084 Q126.112 740.431 127.292 739.088 Q129.538 736.565 130.417 734.829 Q131.32 733.07 131.32 731.38 Q131.32 728.626 129.376 726.889 Q127.455 725.153 124.353 725.153 Q122.154 725.153 119.7 725.917 Q117.269 726.681 114.492 728.232 L114.492 723.51 Q117.316 722.376 119.769 721.797 Q122.223 721.218 124.26 721.218 Q129.63 721.218 132.825 723.903 Q136.019 726.588 136.019 731.079 Q136.019 733.209 135.209 735.13 Q134.422 737.028 132.316 739.621 Q131.737 740.292 128.635 743.51 Q125.533 746.704 119.885 752.468 Z\" fill=\"#000000\" fill-rule=\"nonzero\" fill-opacity=\"1\" /><path clip-path=\"url(#clip070)\" d=\"M156.019 724.922 Q152.408 724.922 150.579 728.487 Q148.774 732.028 148.774 739.158 Q148.774 746.264 150.579 749.829 Q152.408 753.371 156.019 753.371 Q159.653 753.371 161.459 749.829 Q163.288 746.264 163.288 739.158 Q163.288 732.028 161.459 728.487 Q159.653 724.922 156.019 724.922 M156.019 721.218 Q161.829 721.218 164.885 725.825 Q167.964 730.408 167.964 739.158 Q167.964 747.885 164.885 752.491 Q161.829 757.074 156.019 757.074 Q150.209 757.074 147.13 752.491 Q144.075 747.885 144.075 739.158 Q144.075 730.408 147.13 725.825 Q150.209 721.218 156.019 721.218 Z\" fill=\"#000000\" fill-rule=\"nonzero\" fill-opacity=\"1\" /><path clip-path=\"url(#clip070)\" d=\"M130.024 395.741 Q133.38 396.458 135.255 398.727 Q137.154 400.995 137.154 404.329 Q137.154 409.444 133.635 412.245 Q130.117 415.046 123.635 415.046 Q121.459 415.046 119.144 414.606 Q116.853 414.19 114.399 413.333 L114.399 408.819 Q116.343 409.954 118.658 410.532 Q120.973 411.111 123.496 411.111 Q127.894 411.111 130.186 409.375 Q132.501 407.639 132.501 404.329 Q132.501 401.273 130.348 399.56 Q128.218 397.824 124.399 397.824 L120.371 397.824 L120.371 393.981 L124.584 393.981 Q128.033 393.981 129.862 392.616 Q131.691 391.227 131.691 388.634 Q131.691 385.972 129.792 384.56 Q127.917 383.125 124.399 383.125 Q122.478 383.125 120.279 383.542 Q118.08 383.958 115.441 384.838 L115.441 380.671 Q118.103 379.931 120.418 379.56 Q122.755 379.19 124.816 379.19 Q130.14 379.19 133.242 381.62 Q136.343 384.028 136.343 388.148 Q136.343 391.018 134.7 393.009 Q133.056 394.977 130.024 395.741 Z\" fill=\"#000000\" fill-rule=\"nonzero\" fill-opacity=\"1\" /><path clip-path=\"url(#clip070)\" d=\"M156.019 382.893 Q152.408 382.893 150.579 386.458 Q148.774 390 148.774 397.13 Q148.774 404.236 150.579 407.801 Q152.408 411.342 156.019 411.342 Q159.653 411.342 161.459 407.801 Q163.288 404.236 163.288 397.13 Q163.288 390 161.459 386.458 Q159.653 382.893 156.019 382.893 M156.019 379.19 Q161.829 379.19 164.885 383.796 Q167.964 388.38 167.964 397.13 Q167.964 405.856 164.885 410.463 Q161.829 415.046 156.019 415.046 Q150.209 415.046 147.13 410.463 Q144.075 405.856 144.075 397.13 Q144.075 388.38 147.13 383.796 Q150.209 379.19 156.019 379.19 Z\" fill=\"#000000\" fill-rule=\"nonzero\" fill-opacity=\"1\" /><path clip-path=\"url(#clip070)\" d=\"M16.4842 937.529 L16.4842 910.221 L21.895 910.221 L21.895 931.1 L35.8996 931.1 L35.8996 912.258 L41.3104 912.258 L41.3104 931.1 L64.0042 931.1 L64.0042 937.529 L16.4842 937.529 Z\" fill=\"#000000\" fill-rule=\"nonzero\" fill-opacity=\"1\" /><path clip-path=\"url(#clip070)\" d=\"M33.8307 884.376 Q33.2578 885.362 33.0032 886.54 Q32.7167 887.686 32.7167 889.086 Q32.7167 894.052 35.9632 896.725 Q39.1779 899.367 45.2253 899.367 L64.0042 899.367 L64.0042 905.255 L28.3562 905.255 L28.3562 899.367 L33.8944 899.367 Q30.6479 897.521 29.0883 894.561 Q27.4968 891.601 27.4968 887.368 Q27.4968 886.763 27.5923 886.031 Q27.656 885.299 27.8151 884.408 L33.8307 884.376 Z\" fill=\"#000000\" fill-rule=\"nonzero\" fill-opacity=\"1\" /><path clip-path=\"url(#clip070)\" d=\"M44.7161 849.173 L47.5806 849.173 L47.5806 876.1 Q53.6281 875.718 56.8109 872.472 Q59.9619 869.194 59.9619 863.369 Q59.9619 859.995 59.1344 856.844 Q58.3069 853.661 56.6518 850.542 L62.1899 850.542 Q63.5267 853.693 64.227 857.003 Q64.9272 860.313 64.9272 863.719 Q64.9272 872.249 59.9619 877.246 Q54.9967 882.211 46.5303 882.211 Q37.7774 882.211 32.6531 877.501 Q27.4968 872.758 27.4968 864.738 Q27.4968 857.544 32.1438 853.375 Q36.7589 849.173 44.7161 849.173 M42.9973 855.03 Q38.1912 855.093 35.3266 857.735 Q32.4621 860.345 32.4621 864.674 Q32.4621 869.575 35.2312 872.536 Q38.0002 875.464 43.0292 875.909 L42.9973 855.03 Z\" fill=\"#000000\" fill-rule=\"nonzero\" fill-opacity=\"1\" /><path clip-path=\"url(#clip070)\" d=\"M46.212 836.06 Q52.6732 836.06 56.3653 833.418 Q60.0256 830.745 60.0256 826.098 Q60.0256 821.451 56.3653 818.777 Q52.6732 816.104 46.212 816.104 Q39.7508 816.104 36.0905 818.777 Q32.3984 821.451 32.3984 826.098 Q32.3984 830.745 36.0905 833.418 Q39.7508 836.06 46.212 836.06 M58.657 816.104 Q61.8398 817.95 63.3994 820.782 Q64.9272 823.583 64.9272 827.53 Q64.9272 833.991 59.771 838.065 Q54.6147 842.107 46.212 842.107 Q37.8093 842.107 32.6531 838.065 Q27.4968 833.991 27.4968 827.53 Q27.4968 823.583 29.0564 820.782 Q30.5842 817.95 33.7671 816.104 L28.3562 816.104 L28.3562 810.247 L77.5631 810.247 L77.5631 816.104 L58.657 816.104 Z\" fill=\"#000000\" fill-rule=\"nonzero\" fill-opacity=\"1\" /><path clip-path=\"url(#clip070)\" d=\"M49.9359 798.789 L28.3562 798.789 L28.3562 792.932 L49.7131 792.932 Q54.7739 792.932 57.3202 790.959 Q59.8346 788.986 59.8346 785.039 Q59.8346 780.296 56.8109 777.559 Q53.7872 774.79 48.5673 774.79 L28.3562 774.79 L28.3562 768.934 L64.0042 768.934 L64.0042 774.79 L58.5296 774.79 Q61.7762 776.923 63.3676 779.755 Q64.9272 782.556 64.9272 786.28 Q64.9272 792.423 61.1078 795.606 Q57.2883 798.789 49.9359 798.789 M27.4968 784.052 L27.4968 784.052 Z\" fill=\"#000000\" fill-rule=\"nonzero\" fill-opacity=\"1\" /><path clip-path=\"url(#clip070)\" d=\"M44.7161 726.379 L47.5806 726.379 L47.5806 753.306 Q53.6281 752.924 56.8109 749.677 Q59.9619 746.399 59.9619 740.574 Q59.9619 737.201 59.1344 734.05 Q58.3069 730.867 56.6518 727.748 L62.1899 727.748 Q63.5267 730.899 64.227 734.209 Q64.9272 737.519 64.9272 740.925 Q64.9272 749.455 59.9619 754.452 Q54.9967 759.417 46.5303 759.417 Q37.7774 759.417 32.6531 754.706 Q27.4968 749.964 27.4968 741.943 Q27.4968 734.75 32.1438 730.58 Q36.7589 726.379 44.7161 726.379 M42.9973 732.235 Q38.1912 732.299 35.3266 734.941 Q32.4621 737.551 32.4621 741.879 Q32.4621 746.781 35.2312 749.741 Q38.0002 752.669 43.0292 753.115 L42.9973 732.235 Z\" fill=\"#000000\" fill-rule=\"nonzero\" fill-opacity=\"1\" /><path clip-path=\"url(#clip070)\" d=\"M42.4881 687.134 L64.0042 687.134 L64.0042 692.991 L42.679 692.991 Q37.6183 692.991 35.1038 694.964 Q32.5894 696.938 32.5894 700.884 Q32.5894 705.627 35.6131 708.364 Q38.6368 711.101 43.8567 711.101 L64.0042 711.101 L64.0042 716.989 L28.3562 716.989 L28.3562 711.101 L33.8944 711.101 Q30.6797 709.001 29.0883 706.168 Q27.4968 703.303 27.4968 699.579 Q27.4968 693.436 31.3163 690.285 Q35.1038 687.134 42.4881 687.134 Z\" fill=\"#000000\" fill-rule=\"nonzero\" fill-opacity=\"1\" /><path clip-path=\"url(#clip070)\" d=\"M29.7248 649.799 L35.1993 649.799 Q33.8307 652.282 33.1623 654.797 Q32.4621 657.279 32.4621 659.825 Q32.4621 665.523 36.0905 668.674 Q39.6872 671.825 46.212 671.825 Q52.7369 671.825 56.3653 668.674 Q59.9619 665.523 59.9619 659.825 Q59.9619 657.279 59.2935 654.797 Q58.5933 652.282 57.2247 649.799 L62.6355 649.799 Q63.7814 652.25 64.3543 654.892 Q64.9272 657.502 64.9272 660.462 Q64.9272 668.515 59.8664 673.257 Q54.8057 678 46.212 678 Q37.491 678 32.4939 673.225 Q27.4968 668.419 27.4968 660.08 Q27.4968 657.375 28.0697 654.797 Q28.6108 652.218 29.7248 649.799 Z\" fill=\"#000000\" fill-rule=\"nonzero\" fill-opacity=\"1\" /><path clip-path=\"url(#clip070)\" d=\"M67.3143 624.782 Q73.68 627.265 75.6216 629.62 Q77.5631 631.975 77.5631 635.922 L77.5631 640.601 L72.6615 640.601 L72.6615 637.164 Q72.6615 634.745 71.5157 633.408 Q70.3699 632.071 66.1048 630.448 L63.4312 629.397 L28.3562 643.816 L28.3562 637.609 L56.238 626.469 L28.3562 615.329 L28.3562 609.123 L67.3143 624.782 Z\" fill=\"#000000\" fill-rule=\"nonzero\" fill-opacity=\"1\" /><path clip-path=\"url(#clip070)\" d=\"M883.619 18.8205 L883.619 41.5461 L893.909 41.5461 Q899.62 41.5461 902.74 38.5889 Q905.859 35.6318 905.859 30.163 Q905.859 24.7348 902.74 21.7777 Q899.62 18.8205 893.909 18.8205 L883.619 18.8205 M875.437 12.096 L893.909 12.096 Q904.076 12.096 909.262 16.714 Q914.487 21.2916 914.487 30.163 Q914.487 39.1155 909.262 43.6931 Q904.076 48.2706 893.909 48.2706 L883.619 48.2706 L883.619 72.576 L875.437 72.576 L875.437 12.096 Z\" fill=\"#000000\" fill-rule=\"nonzero\" fill-opacity=\"1\" /><path clip-path=\"url(#clip070)\" d=\"M939.765 32.4315 Q933.77 32.4315 930.286 37.1306 Q926.802 41.7891 926.802 49.9314 Q926.802 58.0738 930.245 62.7728 Q933.729 67.4314 939.765 67.4314 Q945.72 67.4314 949.204 62.7323 Q952.687 58.0333 952.687 49.9314 Q952.687 41.8701 949.204 37.1711 Q945.72 32.4315 939.765 32.4315 M939.765 26.1121 Q949.487 26.1121 955.037 32.4315 Q960.587 38.7509 960.587 49.9314 Q960.587 61.0714 955.037 67.4314 Q949.487 73.7508 939.765 73.7508 Q930.002 73.7508 924.452 67.4314 Q918.943 61.0714 918.943 49.9314 Q918.943 38.7509 924.452 32.4315 Q930.002 26.1121 939.765 26.1121 Z\" fill=\"#000000\" fill-rule=\"nonzero\" fill-opacity=\"1\" /><path clip-path=\"url(#clip070)\" d=\"M972.942 27.2059 L980.395 27.2059 L980.395 72.576 L972.942 72.576 L972.942 27.2059 M972.942 9.54393 L980.395 9.54393 L980.395 18.9825 L972.942 18.9825 L972.942 9.54393 Z\" fill=\"#000000\" fill-rule=\"nonzero\" fill-opacity=\"1\" /><path clip-path=\"url(#clip070)\" d=\"M1024.91 28.5427 L1024.91 35.5912 Q1021.76 33.9709 1018.35 33.1607 Q1014.95 32.3505 1011.3 32.3505 Q1005.75 32.3505 1002.96 34.0519 Q1000.2 35.7533 1000.2 39.156 Q1000.2 41.7486 1002.19 43.2475 Q1004.17 44.7058 1010.17 46.0426 L1012.72 46.6097 Q1020.66 48.3111 1023.98 51.4303 Q1027.35 54.509 1027.35 60.0587 Q1027.35 66.3781 1022.32 70.0644 Q1017.34 73.7508 1008.59 73.7508 Q1004.94 73.7508 1000.97 73.0216 Q997.045 72.3329 992.67 70.9151 L992.67 63.2184 Q996.802 65.3654 1000.81 66.4591 Q1004.82 67.5124 1008.75 67.5124 Q1014.02 67.5124 1016.85 65.73 Q1019.69 63.9071 1019.69 60.6258 Q1019.69 57.5877 1017.62 55.9673 Q1015.6 54.3469 1008.67 52.8481 L1006.08 52.2405 Q999.151 50.7821 996.072 47.7845 Q992.994 44.7463 992.994 39.4801 Q992.994 33.0797 997.531 29.5959 Q1002.07 26.1121 1010.41 26.1121 Q1014.54 26.1121 1018.19 26.7198 Q1021.84 27.3274 1024.91 28.5427 Z\" fill=\"#000000\" fill-rule=\"nonzero\" fill-opacity=\"1\" /><path clip-path=\"url(#clip070)\" d=\"M1068.14 28.5427 L1068.14 35.5912 Q1064.98 33.9709 1061.58 33.1607 Q1058.17 32.3505 1054.53 32.3505 Q1048.98 32.3505 1046.18 34.0519 Q1043.43 35.7533 1043.43 39.156 Q1043.43 41.7486 1045.41 43.2475 Q1047.4 44.7058 1053.39 46.0426 L1055.94 46.6097 Q1063.88 48.3111 1067.21 51.4303 Q1070.57 54.509 1070.57 60.0587 Q1070.57 66.3781 1065.55 70.0644 Q1060.56 73.7508 1051.81 73.7508 Q1048.17 73.7508 1044.2 73.0216 Q1040.27 72.3329 1035.89 70.9151 L1035.89 63.2184 Q1040.02 65.3654 1044.04 66.4591 Q1048.05 67.5124 1051.97 67.5124 Q1057.24 67.5124 1060.08 65.73 Q1062.91 63.9071 1062.91 60.6258 Q1062.91 57.5877 1060.85 55.9673 Q1058.82 54.3469 1051.89 52.8481 L1049.3 52.2405 Q1042.37 50.7821 1039.3 47.7845 Q1036.22 44.7463 1036.22 39.4801 Q1036.22 33.0797 1040.75 29.5959 Q1045.29 26.1121 1053.64 26.1121 Q1057.77 26.1121 1061.41 26.7198 Q1065.06 27.3274 1068.14 28.5427 Z\" fill=\"#000000\" fill-rule=\"nonzero\" fill-opacity=\"1\" /><path clip-path=\"url(#clip070)\" d=\"M1100.02 32.4315 Q1094.02 32.4315 1090.54 37.1306 Q1087.06 41.7891 1087.06 49.9314 Q1087.06 58.0738 1090.5 62.7728 Q1093.98 67.4314 1100.02 67.4314 Q1105.97 67.4314 1109.46 62.7323 Q1112.94 58.0333 1112.94 49.9314 Q1112.94 41.8701 1109.46 37.1711 Q1105.97 32.4315 1100.02 32.4315 M1100.02 26.1121 Q1109.74 26.1121 1115.29 32.4315 Q1120.84 38.7509 1120.84 49.9314 Q1120.84 61.0714 1115.29 67.4314 Q1109.74 73.7508 1100.02 73.7508 Q1090.26 73.7508 1084.71 67.4314 Q1079.2 61.0714 1079.2 49.9314 Q1079.2 38.7509 1084.71 32.4315 Q1090.26 26.1121 1100.02 26.1121 Z\" fill=\"#000000\" fill-rule=\"nonzero\" fill-opacity=\"1\" /><path clip-path=\"url(#clip070)\" d=\"M1170.91 45.1919 L1170.91 72.576 L1163.46 72.576 L1163.46 45.4349 Q1163.46 38.994 1160.94 35.7938 Q1158.43 32.5936 1153.41 32.5936 Q1147.37 32.5936 1143.89 36.4419 Q1140.41 40.2903 1140.41 46.9338 L1140.41 72.576 L1132.91 72.576 L1132.91 27.2059 L1140.41 27.2059 L1140.41 34.2544 Q1143.08 30.163 1146.69 28.1376 Q1150.33 26.1121 1155.07 26.1121 Q1162.89 26.1121 1166.9 30.9732 Q1170.91 35.7938 1170.91 45.1919 Z\" fill=\"#000000\" fill-rule=\"nonzero\" fill-opacity=\"1\" /><path clip-path=\"url(#clip070)\" d=\"M1220.65 18.8205 L1220.65 65.8515 L1230.54 65.8515 Q1243.06 65.8515 1248.85 60.1802 Q1254.68 54.509 1254.68 42.2752 Q1254.68 30.1225 1248.85 24.4918 Q1243.06 18.8205 1230.54 18.8205 L1220.65 18.8205 M1212.47 12.096 L1229.28 12.096 Q1246.86 12.096 1255.09 19.4281 Q1263.31 26.7198 1263.31 42.2752 Q1263.31 57.9117 1255.05 65.2439 Q1246.78 72.576 1229.28 72.576 L1212.47 72.576 L1212.47 12.096 Z\" fill=\"#000000\" fill-rule=\"nonzero\" fill-opacity=\"1\" /><path clip-path=\"url(#clip070)\" d=\"M1276.03 27.2059 L1283.48 27.2059 L1283.48 72.576 L1276.03 72.576 L1276.03 27.2059 M1276.03 9.54393 L1283.48 9.54393 L1283.48 18.9825 L1276.03 18.9825 L1276.03 9.54393 Z\" fill=\"#000000\" fill-rule=\"nonzero\" fill-opacity=\"1\" /><path clip-path=\"url(#clip070)\" d=\"M1328 28.5427 L1328 35.5912 Q1324.84 33.9709 1321.44 33.1607 Q1318.04 32.3505 1314.39 32.3505 Q1308.84 32.3505 1306.05 34.0519 Q1303.29 35.7533 1303.29 39.156 Q1303.29 41.7486 1305.28 43.2475 Q1307.26 44.7058 1313.26 46.0426 L1315.81 46.6097 Q1323.75 48.3111 1327.07 51.4303 Q1330.43 54.509 1330.43 60.0587 Q1330.43 66.3781 1325.41 70.0644 Q1320.43 73.7508 1311.68 73.7508 Q1308.03 73.7508 1304.06 73.0216 Q1300.13 72.3329 1295.76 70.9151 L1295.76 63.2184 Q1299.89 65.3654 1303.9 66.4591 Q1307.91 67.5124 1311.84 67.5124 Q1317.11 67.5124 1319.94 65.73 Q1322.78 63.9071 1322.78 60.6258 Q1322.78 57.5877 1320.71 55.9673 Q1318.69 54.3469 1311.76 52.8481 L1309.17 52.2405 Q1302.24 50.7821 1299.16 47.7845 Q1296.08 44.7463 1296.08 39.4801 Q1296.08 33.0797 1300.62 29.5959 Q1305.16 26.1121 1313.5 26.1121 Q1317.63 26.1121 1321.28 26.7198 Q1324.92 27.3274 1328 28.5427 Z\" fill=\"#000000\" fill-rule=\"nonzero\" fill-opacity=\"1\" /><path clip-path=\"url(#clip070)\" d=\"M1349.68 14.324 L1349.68 27.2059 L1365.03 27.2059 L1365.03 32.9987 L1349.68 32.9987 L1349.68 57.6282 Q1349.68 63.1779 1351.17 64.7578 Q1352.71 66.3376 1357.37 66.3376 L1365.03 66.3376 L1365.03 72.576 L1357.37 72.576 Q1348.74 72.576 1345.46 69.3758 Q1342.18 66.1351 1342.18 57.6282 L1342.18 32.9987 L1336.71 32.9987 L1336.71 27.2059 L1342.18 27.2059 L1342.18 14.324 L1349.68 14.324 Z\" fill=\"#000000\" fill-rule=\"nonzero\" fill-opacity=\"1\" /><path clip-path=\"url(#clip070)\" d=\"M1401.12 34.1734 Q1399.87 33.4443 1398.37 33.1202 Q1396.91 32.7556 1395.13 32.7556 Q1388.81 32.7556 1385.4 36.8875 Q1382.04 40.9789 1382.04 48.6757 L1382.04 72.576 L1374.55 72.576 L1374.55 27.2059 L1382.04 27.2059 L1382.04 34.2544 Q1384.39 30.1225 1388.16 28.1376 Q1391.93 26.1121 1397.31 26.1121 Q1398.08 26.1121 1399.02 26.2337 Q1399.95 26.3147 1401.08 26.5172 L1401.12 34.1734 Z\" fill=\"#000000\" fill-rule=\"nonzero\" fill-opacity=\"1\" /><path clip-path=\"url(#clip070)\" d=\"M1408.94 27.2059 L1416.39 27.2059 L1416.39 72.576 L1408.94 72.576 L1408.94 27.2059 M1408.94 9.54393 L1416.39 9.54393 L1416.39 18.9825 L1408.94 18.9825 L1408.94 9.54393 Z\" fill=\"#000000\" fill-rule=\"nonzero\" fill-opacity=\"1\" /><path clip-path=\"url(#clip070)\" d=\"M1464.56 49.9314 Q1464.56 41.7081 1461.16 37.0496 Q1457.79 32.3505 1451.88 32.3505 Q1445.97 32.3505 1442.56 37.0496 Q1439.2 41.7081 1439.2 49.9314 Q1439.2 58.1548 1442.56 62.8538 Q1445.97 67.5124 1451.88 67.5124 Q1457.79 67.5124 1461.16 62.8538 Q1464.56 58.1548 1464.56 49.9314 M1439.2 34.0924 Q1441.55 30.0415 1445.12 28.0971 Q1448.72 26.1121 1453.7 26.1121 Q1461.97 26.1121 1467.11 32.6746 Q1472.3 39.2371 1472.3 49.9314 Q1472.3 60.6258 1467.11 67.1883 Q1461.97 73.7508 1453.7 73.7508 Q1448.72 73.7508 1445.12 71.8063 Q1441.55 69.8214 1439.2 65.7705 L1439.2 72.576 L1431.71 72.576 L1431.71 9.54393 L1439.2 9.54393 L1439.2 34.0924 Z\" fill=\"#000000\" fill-rule=\"nonzero\" fill-opacity=\"1\" /><path clip-path=\"url(#clip070)\" d=\"M1483.88 54.671 L1483.88 27.2059 L1491.34 27.2059 L1491.34 54.3874 Q1491.34 60.8284 1493.85 64.0691 Q1496.36 67.2693 1501.38 67.2693 Q1507.42 67.2693 1510.9 63.421 Q1514.43 59.5726 1514.43 52.9291 L1514.43 27.2059 L1521.88 27.2059 L1521.88 72.576 L1514.43 72.576 L1514.43 65.6084 Q1511.71 69.7404 1508.11 71.7658 Q1504.54 73.7508 1499.8 73.7508 Q1491.98 73.7508 1487.93 68.8897 Q1483.88 64.0286 1483.88 54.671 M1502.64 26.1121 L1502.64 26.1121 Z\" fill=\"#000000\" fill-rule=\"nonzero\" fill-opacity=\"1\" /><path clip-path=\"url(#clip070)\" d=\"M1544.61 14.324 L1544.61 27.2059 L1559.96 27.2059 L1559.96 32.9987 L1544.61 32.9987 L1544.61 57.6282 Q1544.61 63.1779 1546.1 64.7578 Q1547.64 66.3376 1552.3 66.3376 L1559.96 66.3376 L1559.96 72.576 L1552.3 72.576 Q1543.67 72.576 1540.39 69.3758 Q1537.11 66.1351 1537.11 57.6282 L1537.11 32.9987 L1531.64 32.9987 L1531.64 27.2059 L1537.11 27.2059 L1537.11 14.324 L1544.61 14.324 Z\" fill=\"#000000\" fill-rule=\"nonzero\" fill-opacity=\"1\" /><path clip-path=\"url(#clip070)\" d=\"M1569.76 27.2059 L1577.22 27.2059 L1577.22 72.576 L1569.76 72.576 L1569.76 27.2059 M1569.76 9.54393 L1577.22 9.54393 L1577.22 18.9825 L1569.76 18.9825 L1569.76 9.54393 Z\" fill=\"#000000\" fill-rule=\"nonzero\" fill-opacity=\"1\" /><path clip-path=\"url(#clip070)\" d=\"M1610.39 32.4315 Q1604.4 32.4315 1600.91 37.1306 Q1597.43 41.7891 1597.43 49.9314 Q1597.43 58.0738 1600.87 62.7728 Q1604.36 67.4314 1610.39 67.4314 Q1616.35 67.4314 1619.83 62.7323 Q1623.31 58.0333 1623.31 49.9314 Q1623.31 41.8701 1619.83 37.1711 Q1616.35 32.4315 1610.39 32.4315 M1610.39 26.1121 Q1620.11 26.1121 1625.66 32.4315 Q1631.21 38.7509 1631.21 49.9314 Q1631.21 61.0714 1625.66 67.4314 Q1620.11 73.7508 1610.39 73.7508 Q1600.63 73.7508 1595.08 67.4314 Q1589.57 61.0714 1589.57 49.9314 Q1589.57 38.7509 1595.08 32.4315 Q1600.63 26.1121 1610.39 26.1121 Z\" fill=\"#000000\" fill-rule=\"nonzero\" fill-opacity=\"1\" /><path clip-path=\"url(#clip070)\" d=\"M1681.28 45.1919 L1681.28 72.576 L1673.83 72.576 L1673.83 45.4349 Q1673.83 38.994 1671.32 35.7938 Q1668.81 32.5936 1663.78 32.5936 Q1657.75 32.5936 1654.26 36.4419 Q1650.78 40.2903 1650.78 46.9338 L1650.78 72.576 L1643.29 72.576 L1643.29 27.2059 L1650.78 27.2059 L1650.78 34.2544 Q1653.45 30.163 1657.06 28.1376 Q1660.7 26.1121 1665.44 26.1121 Q1673.26 26.1121 1677.27 30.9732 Q1681.28 35.7938 1681.28 45.1919 Z\" fill=\"#000000\" fill-rule=\"nonzero\" fill-opacity=\"1\" /><path clip-path=\"url(#clip072)\" d=\"M322.151 123.472 L322.151 1423.18 L704.634 1423.18 L704.634 123.472 L322.151 123.472 L322.151 123.472  Z\" fill=\"#009af9\" fill-rule=\"evenodd\" fill-opacity=\"1\"/>\n<polyline clip-path=\"url(#clip072)\" style=\"stroke:#000000; stroke-linecap:round; stroke-linejoin:round; stroke-width:4; stroke-opacity:1; fill:none\" points=\"322.151,123.472 322.151,1423.18 704.634,1423.18 704.634,123.472 322.151,123.472 \"/>\n<path clip-path=\"url(#clip072)\" d=\"M704.634 431.298 L704.634 1423.18 L1087.12 1423.18 L1087.12 431.298 L704.634 431.298 L704.634 431.298  Z\" fill=\"#009af9\" fill-rule=\"evenodd\" fill-opacity=\"1\"/>\n<polyline clip-path=\"url(#clip072)\" style=\"stroke:#000000; stroke-linecap:round; stroke-linejoin:round; stroke-width:4; stroke-opacity:1; fill:none\" points=\"704.634,431.298 704.634,1423.18 1087.12,1423.18 1087.12,431.298 704.634,431.298 \"/>\n<path clip-path=\"url(#clip072)\" d=\"M1087.12 636.515 L1087.12 1423.18 L1469.6 1423.18 L1469.6 636.515 L1087.12 636.515 L1087.12 636.515  Z\" fill=\"#009af9\" fill-rule=\"evenodd\" fill-opacity=\"1\"/>\n<polyline clip-path=\"url(#clip072)\" style=\"stroke:#000000; stroke-linecap:round; stroke-linejoin:round; stroke-width:4; stroke-opacity:1; fill:none\" points=\"1087.12,636.515 1087.12,1423.18 1469.6,1423.18 1469.6,636.515 1087.12,636.515 \"/>\n<path clip-path=\"url(#clip072)\" d=\"M1469.6 1183.76 L1469.6 1423.18 L1852.08 1423.18 L1852.08 1183.76 L1469.6 1183.76 L1469.6 1183.76  Z\" fill=\"#009af9\" fill-rule=\"evenodd\" fill-opacity=\"1\"/>\n<polyline clip-path=\"url(#clip072)\" style=\"stroke:#000000; stroke-linecap:round; stroke-linejoin:round; stroke-width:4; stroke-opacity:1; fill:none\" points=\"1469.6,1183.76 1469.6,1423.18 1852.08,1423.18 1852.08,1183.76 1469.6,1183.76 \"/>\n<path clip-path=\"url(#clip072)\" d=\"M1852.08 1320.57 L1852.08 1423.18 L2234.57 1423.18 L2234.57 1320.57 L1852.08 1320.57 L1852.08 1320.57  Z\" fill=\"#009af9\" fill-rule=\"evenodd\" fill-opacity=\"1\"/>\n<polyline clip-path=\"url(#clip072)\" style=\"stroke:#000000; stroke-linecap:round; stroke-linejoin:round; stroke-width:4; stroke-opacity:1; fill:none\" points=\"1852.08,1320.57 1852.08,1423.18 2234.57,1423.18 2234.57,1320.57 1852.08,1320.57 \"/>\n<circle clip-path=\"url(#clip072)\" style=\"fill:#009af9; stroke:none; fill-opacity:0\" cx=\"513.393\" cy=\"123.472\" r=\"2\"/>\n<circle clip-path=\"url(#clip072)\" style=\"fill:#009af9; stroke:none; fill-opacity:0\" cx=\"895.876\" cy=\"431.298\" r=\"2\"/>\n<circle clip-path=\"url(#clip072)\" style=\"fill:#009af9; stroke:none; fill-opacity:0\" cx=\"1278.36\" cy=\"636.515\" r=\"2\"/>\n<circle clip-path=\"url(#clip072)\" style=\"fill:#009af9; stroke:none; fill-opacity:0\" cx=\"1660.84\" cy=\"1183.76\" r=\"2\"/>\n<circle clip-path=\"url(#clip072)\" style=\"fill:#009af9; stroke:none; fill-opacity:0\" cx=\"2043.33\" cy=\"1320.57\" r=\"2\"/>\n<path clip-path=\"url(#clip070)\" d=\"M2013.82 270.476 L2281.13 270.476 L2281.13 166.796 L2013.82 166.796  Z\" fill=\"#ffffff\" fill-rule=\"evenodd\" fill-opacity=\"1\"/>\n<polyline clip-path=\"url(#clip070)\" style=\"stroke:#000000; stroke-linecap:round; stroke-linejoin:round; stroke-width:4; stroke-opacity:1; fill:none\" points=\"2013.82,270.476 2281.13,270.476 2281.13,166.796 2013.82,166.796 2013.82,270.476 \"/>\n<path clip-path=\"url(#clip070)\" d=\"M2037.7 239.372 L2180.95 239.372 L2180.95 197.9 L2037.7 197.9 L2037.7 239.372  Z\" fill=\"#009af9\" fill-rule=\"evenodd\" fill-opacity=\"1\"/>\n<polyline clip-path=\"url(#clip070)\" style=\"stroke:#000000; stroke-linecap:round; stroke-linejoin:round; stroke-width:4; stroke-opacity:1; fill:none\" points=\"2037.7,239.372 2180.95,239.372 2180.95,197.9 2037.7,197.9 2037.7,239.372 \"/>\n<path clip-path=\"url(#clip070)\" d=\"M2218.67 238.323 Q2216.86 242.953 2215.15 244.365 Q2213.43 245.777 2210.56 245.777 L2207.16 245.777 L2207.16 242.212 L2209.66 242.212 Q2211.42 242.212 2212.39 241.379 Q2213.37 240.545 2214.55 237.443 L2215.31 235.499 L2204.82 209.99 L2209.34 209.99 L2217.44 230.268 L2225.54 209.99 L2230.06 209.99 L2218.67 238.323 Z\" fill=\"#000000\" fill-rule=\"nonzero\" fill-opacity=\"1\" /><path clip-path=\"url(#clip070)\" d=\"M2237.35 231.981 L2244.99 231.981 L2244.99 205.615 L2236.68 207.282 L2236.68 203.022 L2244.94 201.356 L2249.62 201.356 L2249.62 231.981 L2257.25 231.981 L2257.25 235.916 L2237.35 235.916 L2237.35 231.981 Z\" fill=\"#000000\" fill-rule=\"nonzero\" fill-opacity=\"1\" /></svg>\n"
     },
     "execution_count": 5,
     "metadata": {},
     "output_type": "execute_result"
    }
   ],
   "source": [
    "using Random\n",
    "using Plots\n",
    "\n",
    "function generate_poisson(lambda, n)\n",
    "    poisson_count = 0\n",
    "    cumulative_sum = 0.0\n",
    "\n",
    "    for _ in 1:n\n",
    "        exponential_var = -log(rand())\n",
    "        cumulative_sum += exponential_var\n",
    "\n",
    "        if cumulative_sum > 1.0\n",
    "            break\n",
    "        else\n",
    "            poisson_count += 1\n",
    "        end\n",
    "    end\n",
    "\n",
    "    return poisson_count\n",
    "end\n",
    "\n",
    "seed_value = 123\n",
    "Random.seed!(seed_value)\n",
    "lambda = 2.0\n",
    "num_samples = 100\n",
    "\n",
    "poisson_samples = [generate_poisson(lambda, 10) for _ in 1:num_samples]\n",
    "\n",
    "# Display the generated Poisson samples\n",
    "println(\"Generated Poisson Samples: \", poisson_samples)\n",
    "\n",
    "# Plot the histogram of the Poisson samples\n",
    "histogram(poisson_samples, bins=:, xlabel=\"Poisson Count\", ylabel=\"Frequency\", title=\"Poisson Distribution\")\n"
   ]
  },
  {
   "cell_type": "code",
   "execution_count": 11,
   "metadata": {},
   "outputs": [
    {
     "name": "stdout",
     "output_type": "stream",
     "text": [
      "[744, 497, 439, 171, 38, 0, 0, 0, 0, 0, 0, 0, 0, 0, 0, 0, 0, 0, 0, 0, 0, 0, 0, 0, 0, 0, 0, 0, 0, 0, 0, 0, 0, 0, 0, 0, 0, 0, 0, 0, 0, 0, 0, 0, 0, 0, 0, 0, 0, 0, 0, 0, 0, 0, 0, 0, 0, 0, 0, 0, 0, 0, 0, 0, 0, 0, 0, 0, 0, 0, 0, 0, 0, 0, 0, 0, 0, 0, 0, 0, 0, 0, 0, 0, 0, 0, 0, 0, 0, 0, 0, 0, 0, 0, 0, 0, 0, 0, 0, 0, 0, 0, 0, 0, 0, 0, 0, 0, 0, 0, 0, 0, 0, 0, 0, 0, 0, 0, 0, 0, 0, 0, 0, 0, 0, 0, 0, 0, 0, 0, 0, 0, 0, 0, 0, 0, 0, 0, 0, 0, 0, 0, 0, 0, 0, 0, 0, 0, 0, 0, 0, 0, 0, 0, 0, 0, 0, 0, 0, 0, 0, 0, 0, 0, 0, 0, 0, 0, 0, 0, 0, 0, 0, 0, 0, 0, 0, 0, 0, 0, 0, 0, 0, 0, 0, 0, 0, 0, 0, 0, 0, 0, 0, 0, 0, 0, 0, 0, 0, 0, 0, 0, 0, 0, 0, 0, 0, 0, 0, 0, 0, 0, 0, 0, 0, 0, 0, 0, 0, 0, 0, 0, 0, 0, 0, 0, 0, 0, 0, 0, 0, 0, 0, 0, 0, 0, 0, 0, 0, 0, 0, 0, 0, 0, 0, 0, 0, 0, 0, 0, 0, 0, 0, 0, 0, 0, 0, 0, 0, 0, 0, 0, 0, 0, 0, 0, 0, 0, 0, 0, 0, 0, 0, 0, 0, 0, 0, 0, 0, 0, 0, 0, 0, 0, 0, 0, 0, 0, 0, 0, 0, 0, 0, 0, 0, 0, 0, 0, 0, 0, 0, 0, 0, 0, 0, 0, 0, 0, 0, 0, 0, 0, 0, 0, 0, 0, 0, 0, 0, 0, 0, 0, 0, 0, 0, 0, 0, 0, 0, 0, 0, 0, 0, 0, 0, 0, 0, 0, 0, 0, 0, 0, 0, 0, 0, 0, 0, 0, 0, 0, 0, 0, 0, 0, 0, 0, 0, 0, 0, 0, 0, 0, 0, 0, 0, 0, 0, 0, 0, 0, 0, 0, 0, 0, 0, 0, 0, 0, 0, 0, 0, 0, 0, 0, 0, 0, 0, 0, 0, 0, 0, 0, 0, 0, 0, 0, 0, 0, 0, 0, 0, 0, 0, 0, 0, 0, 0, 0, 0, 0, 0, 0, 0, 0, 0, 0, 0, 0, 0, 0, 0, 0, 0, 0, 0, 0, 0, 0, 0, 0, 0, 0, 0, 0, 0, 0, 0, 0, 0, 0, 0, 0, 0, 0, 0, 0, 0, 0, 0, 0, 0, 0, 0, 0, 0, 0, 0, 0, 0, 0, 0, 0, 0, 0, 0, 0, 0, 0, 0, 0, 0, 0, 0, 0, 0, 0, 0, 0, 0, 0, 0, 0, 0, 0, 0, 0, 0, 0, 0, 0, 0, 0, 0, 0, 0, 0, 0, 0, 0, 0, 0, 0, 0, 0, 0, 0, 0, 0, 0, 0, 0, 0, 0, 0, 0, 0, 0, 0, 0, 0, 0, 0, 0, 0, 0, 0, 0, 0, 0, 0, 0, 0, 0, 0, 0, 0, 0, 0, 0, 0, 0, 0, 0, 0, 0, 0, 0, 0, 0, 0, 0, 0, 0, 0, 0, 0, 0, 0, 0, 0, 0, 0, 0, 0, 0, 0, 0, 0, 0, 0, 0, 0, 0, 0, 0, 0, 0, 0, 0, 0, 0, 0, 0, 0, 0, 0, 0, 0, 0, 0, 0, 0, 0, 0, 0, 0, 0, 0, 0, 0, 0, 0, 0, 0, 0, 0, 0, 0, 0, 0, 0, 0, 0, 0, 0, 0, 0, 0, 0, 0, 0, 0, 0, 0, 0, 0, 0, 0, 0, 0, 0, 0, 0, 0, 0, 0, 0, 0, 0, 0, 0, 0, 0, 0, 0, 0, 0, 0, 0, 0, 0, 0, 0, 0, 0, 0, 0, 0, 0, 0, 0, 0, 0, 0, 0, 0, 0, 0, 0, 0, 0, 0, 0, 0, 0, 0, 0, 0, 0, 0, 0, 0, 0, 0, 0, 0, 0, 0, 0, 0, 0, 0, 0, 0, 0, 0, 0, 0, 0, 0, 0, 0, 0, 0, 0, 0, 0, 0, 0, 0, 0, 0, 0, 0, 0, 0, 0, 0, 0, 0, 0, 0, 0, 0, 0, 0, 0, 0, 0, 0, 0, 0, 0, 0, 0, 0, 0, 0, 0, 0, 0, 0, 0, 0, 0, 0, 0, 0, 0, 0, 0, 0, 0, 0, 0, 0, 0, 0, 0, 0, 0, 0, 0, 0, 0, 0, 0, 0, 0, 0, 0, 0, 0, 0, 0, 0, 0, 0, 0, 0, 0, 0, 0, 0, 0, 0, 0, 0, 0, 0, 0, 0, 0, 0, 0, 0, 0, 0, 0, 0, 0, 0, 0, 0, 0, 0, 0, 0, 0, 0, 0, 0, 0, 0, 0, 0, 0, 0, 0, 0, 0, 0, 0, 0, 0, 0, 0, 0, 0, 0, 0, 0, 0, 0, 0, 0, 0, 0, 0, 0, 0, 0, 0, 0, 0, 0, 0, 0, 0, 0, 0, 0, 0, 0, 0, 0, 0, 0, 0, 0, 0, 0, 0, 0, 0, 0, 0, 0, 0, 0, 0, 0, 0, 0, 0, 0, 0, 0, 0, 0, 0, 0, 0, 0, 0, 0, 0, 0, 0, 0, 0, 0, 0, 0, 0, 0, 0, 0, 0, 0, 0, 0, 0, 0, 0, 0, 0, 0, 0, 0, 0, 0, 0, 0, 0, 0, 0, 0, 0, 0, 0, 0, 0, 0, 0, 0, 0, 0, 0, 0, 0, 0, 0, 0, 0, 0, 0, 0, 0, 0, 0, 0, 0, 0, 0, 0, 0, 0, 0, 0, 0, 0, 0, 0, 0, 0, 0, 0, 0, 0, 0, 0, 0, 0, 0, 0, 0, 0, 0, 0, 0, 0, 0, 0, 0, 0, 0, 0, 0, 0, 0, 0, 0, 0, 0, 0, 0, 0, 0, 0, 0, 0, 0, 0, 0, 0, 0, 0, 0, 0]\n"
     ]
    }
   ],
   "source": [
    "using Distributions\n",
    "\n",
    "function generate_poisson(lambda, size)\n",
    "    poisson_deviates = zeros(Int, size)\n",
    "    time = 0.0\n",
    "    for i in 1:size\n",
    "        time += rand(Exponential(1/lambda))\n",
    "        poisson_deviates[i] = sum(time .< rand(size))\n",
    "    end\n",
    "    return poisson_deviates\n",
    "end\n",
    "\n",
    "# Example usage\n",
    "lambda = 2.0\n",
    "size = 1000\n",
    "poisson_values = generate_poisson(lambda, size)\n",
    "\n",
    "# Display the generated Poisson deviates\n",
    "println(poisson_values)"
   ]
  },
  {
   "cell_type": "code",
   "execution_count": 8,
   "metadata": {},
   "outputs": [
    {
     "ename": "LoadError",
     "evalue": "BoundsError: attempt to access 1-element Vector{Int64} at index [2]",
     "output_type": "error",
     "traceback": [
      "BoundsError: attempt to access 1-element Vector{Int64} at index [2]",
      "",
      "Stacktrace:",
      " [1] getindex",
      "   @ ./array.jl:861 [inlined]",
      " [2] FFT(f::Vector{Int64}, ln::Int64, invert::Bool)",
      "   @ Main ./In[8]:49",
      " [3] multiply_fft(a::Int64, b::Int64)",
      "   @ Main ./In[8]:8",
      " [4] top-level scope",
      "   @ In[8]:75"
     ]
    }
   ],
   "source": [
    "function multiply_fft(a, b)\n",
    "    # Pad input vectors to the next power of 2 for efficient FFT\n",
    "    n = nextpow2(length(a) + length(b) - 1)\n",
    "    a_padded = vcat(a, zeros(eltype(a), n - length(a)))\n",
    "    b_padded = vcat(b, zeros(eltype(b), n - length(b)))\n",
    "\n",
    "    # Perform FFT on padded input vectors using the provided FFT function\n",
    "    fft_a = FFT(a_padded, nextpow2(length(a_padded)), false)\n",
    "    fft_b = FFT(b_padded, nextpow2(length(b_padded)), false)\n",
    "\n",
    "    # Pointwise multiplication in frequency domain\n",
    "    fft_result = fft_a .* fft_b\n",
    "\n",
    "    # Inverse FFT to get the result in time domain\n",
    "    result = FFT(fft_result, nextpow2(length(fft_result)), true)\n",
    "\n",
    "    # Round real part to integers\n",
    "    result_real = round.(Int, real(result))\n",
    "\n",
    "    return result_real\n",
    "end\n",
    "\n",
    "\n",
    "function nextpow2(n)\n",
    "    # Find the next power of 2 greater than or equal to n\n",
    "    power = 0\n",
    "    while 2^power < n\n",
    "        power += 1\n",
    "    end\n",
    "    return 2^power\n",
    "end\n",
    "\n",
    "# Example usage:\n",
    "a = 123  # Replace with your first large positive integer\n",
    "b = 456  # Replace with your second large positive integer\n",
    "\n",
    "result = multiply_fft(a, b)\n",
    "\n",
    "println(\"Result of multiplication: \", result)\n"
   ]
  },
  {
   "cell_type": "code",
   "execution_count": 13,
   "metadata": {},
   "outputs": [
    {
     "name": "stdout",
     "output_type": "stream",
     "text": [
      "Timing the multiplication of a and b:\n",
      "  0.053173 seconds (52.84 k allocations: 2.641 MiB, 98.66% compilation time)\n",
      "Result of multiplication: [56088]\n",
      "Timing the multiplication of c and d:\n",
      "  0.000077 seconds (24 allocations: 1.734 KiB)\n",
      "Result of fast multiplication on large numbers: [121932631112635264]\n"
     ]
    }
   ],
   "source": [
    "using FFTW\n",
    "\n",
    "function multiply_fft(a, b)\n",
    "    # Pad input vectors to the next power of 2 for efficient FFT\n",
    "    n = nextpow2(length(a) + length(b) - 1)\n",
    "    a_padded = vcat(a, zeros(eltype(a), n - length(a)))\n",
    "    b_padded = vcat(b, zeros(eltype(b), n - length(b)))\n",
    "\n",
    "    # Perform FFT on padded input vectors\n",
    "    fft_a = fft(a_padded)\n",
    "    fft_b = fft(b_padded)\n",
    "\n",
    "    # Pointwise multiplication in frequency domain\n",
    "    fft_result = fft_a .* fft_b\n",
    "\n",
    "    # Inverse FFT to get the result in time domain\n",
    "    result = ifft(fft_result)\n",
    "\n",
    "    # Round real part to integers\n",
    "    result_real = round.(Int, real(result))\n",
    "\n",
    "    return result_real\n",
    "end\n",
    "\n",
    "function nextpow2(n)\n",
    "    # Find the next power of 2 greater than or equal to n\n",
    "    power = 0\n",
    "    while 2^power < n\n",
    "        power += 1\n",
    "    end\n",
    "    return 2^power\n",
    "end\n",
    "\n",
    "# Example usage:\n",
    "\n",
    "a = 123\n",
    "b = 456\n",
    "c = 123456789\n",
    "d = 987654321\n",
    "\n",
    "\n",
    "println(\"Timing the multiplication of a and b:\")\n",
    "@time result = multiply_fft(a, b)\n",
    "\n",
    "println(\"Result of multiplication: \", result)\n",
    "\n",
    "println(\"Timing the multiplication of c and d:\")\n",
    "\n",
    "@time result2 = multiply_fft(c, d)\n",
    "\n",
    "println(\"Result of fast multiplication on large numbers: \", result2)"
   ]
  },
  {
   "cell_type": "code",
   "execution_count": 37,
   "metadata": {},
   "outputs": [
    {
     "name": "stdout",
     "output_type": "stream",
     "text": [
      "Classification Accuracy: 0.75\n"
     ]
    }
   ],
   "source": [
    "using Statistics, Distributions\n",
    "\n",
    "function fit_naive_bayes(X_train, y_train)\n",
    "    classes = unique(y_train)\n",
    "    class_priors = Dict()\n",
    "    class_means = Dict()\n",
    "    class_variances = Dict()\n",
    "\n",
    "    for c in classes\n",
    "        # Filter training data for the current class\n",
    "        X_c = X_train[y_train .== c, :]\n",
    "\n",
    "        # Calculate class prior probability\n",
    "        class_priors[c] = size(X_c, 1) / size(X_train, 1)\n",
    "\n",
    "        # Calculate mean and variance for each feature in the current class\n",
    "        class_means[c] = mean(X_c, dims=1)\n",
    "        class_variances[c] = var(X_c, dims=1)\n",
    "    end\n",
    "\n",
    "    return class_priors, class_means, class_variances\n",
    "end\n",
    "\n",
    "function predict_naive_bayes(X, class_priors, class_means, class_variances)\n",
    "    num_samples, num_features = size(X)\n",
    "    num_classes = length(keys(class_priors))\n",
    "    predictions = zeros(Int, num_samples)\n",
    "\n",
    "    for i in 1:num_samples\n",
    "        posterior_probs = zeros(Float64, num_classes)\n",
    "\n",
    "        for c in 1:num_classes\n",
    "            class_prior = class_priors[c]\n",
    "            class_mean = class_means[c]\n",
    "            class_variance = class_variances[c]\n",
    "\n",
    "            likelihood = prod(\n",
    "                (1 / sqrt(2 * π * class_variance[j])) *\n",
    "                exp(-(X[i, j] - class_mean[j])^2 / (2 * class_variance[j]))\n",
    "                for j in 1:num_features\n",
    "            )\n",
    "\n",
    "            posterior_probs[c] = class_prior * likelihood\n",
    "        end\n",
    "\n",
    "        predictions[i] = argmax(posterior_probs)\n",
    "    end\n",
    "\n",
    "    return predictions\n",
    "end\n",
    "\n",
    "# Function to generate synthetic binary classification data\n",
    "function generate_data(num_samples, num_features)\n",
    "    X = randn(num_samples, num_features)\n",
    "\n",
    "    # Generate random means and variances for two classes\n",
    "    class_means = randn(2, num_features)\n",
    "    class_variances = abs.(randn(2, num_features)) .+ 1.0\n",
    "\n",
    "    # Assign each sample to a class (1 or 2)\n",
    "    y = rand(1:2, num_samples)\n",
    "\n",
    "    # Generate synthetic data based on class means and variances\n",
    "    for i in 1:num_samples\n",
    "        class_idx = y[i]\n",
    "        for j in 1:num_features\n",
    "            X[i, j] += class_means[class_idx, j]\n",
    "            X[i, j] *= class_variances[class_idx, j]\n",
    "        end\n",
    "    end\n",
    "\n",
    "    return X, y\n",
    "end\n",
    "\n",
    "# Example usage:\n",
    "# Set random seed for reproducibility\n",
    "Random.seed!(123)\n",
    "\n",
    "# Generate synthetic binary classification data with 100 samples and 2 features\n",
    "num_samples_binary = 100\n",
    "num_features_binary = 2\n",
    "\n",
    "X_binary, y_binary = generate_data(num_samples_binary, num_features_binary)\n",
    "\n",
    "# Split the data into training and testing sets\n",
    "split_ratio_binary = 0.8\n",
    "split_idx_binary = Int(round(split_ratio_binary * num_samples_binary))\n",
    "\n",
    "X_train_binary = X_binary[1:split_idx_binary, :]\n",
    "y_train_binary = y_binary[1:split_idx_binary]\n",
    "\n",
    "X_test_binary = X_binary[split_idx_binary+1:end, :]\n",
    "y_test_binary = y_binary[split_idx_binary+1:end]\n",
    "\n",
    "# Fit the model using binary classification data\n",
    "priors_, means_, variances_ = fit_naive_bayes(X_train_binary, y_train_binary)\n",
    "\n",
    "# Make predictions on binary classification test data\n",
    "predictions_binary = predict_naive_bayes(X_test_binary, priors_, means_, variances_)\n",
    "\n",
    "# Evaluate the accuracy\n",
    "accuracy_binary = sum(predictions_binary .== y_test_binary) / length(y_test_binary)\n",
    "println(\"Classification Accuracy: $accuracy_binary\")"
   ]
  },
  {
   "cell_type": "code",
   "execution_count": 30,
   "metadata": {},
   "outputs": [
    {
     "name": "stderr",
     "output_type": "stream",
     "text": [
      "\u001b[32m\u001b[1m   Resolving\u001b[22m\u001b[39m package versions...\n",
      "\u001b[32m\u001b[1m  No Changes\u001b[22m\u001b[39m to `~/.julia/environments/v1.7/Project.toml`\n",
      "\u001b[32m\u001b[1m  No Changes\u001b[22m\u001b[39m to `~/.julia/environments/v1.7/Manifest.toml`\n"
     ]
    },
    {
     "data": {
      "text/plain": [
       "10-element Vector{Int64}:\n",
       " 1\n",
       " 2\n",
       " 1\n",
       " 2\n",
       " 2\n",
       " 1\n",
       " 2\n",
       " 1\n",
       " 1\n",
       " 1"
      ]
     },
     "execution_count": 30,
     "metadata": {},
     "output_type": "execute_result"
    }
   ],
   "source": [
    "import Pkg; Pkg.add(\"StatsBase\")\n",
    "using Random, Statistics, StatsBase\n",
    "\n",
    "export knn\n",
    "\n",
    "function knn(X::Matrix{T}, Y::Matrix{T}, class::Vector{Int}, k::Int) where T <: Real\n",
    "    testing = size(X, 2)\n",
    "    predicted_class = zeros(Int, testing)\n",
    "  \n",
    "    # Manual calculation of L1 distance (Manhattan distance)\n",
    "    distance = zeros(T, size(Y, 2), size(X, 2))\n",
    "    for i = 1:size(Y, 2)\n",
    "        for j = 1:size(X, 2)\n",
    "            distance[i, j] = sum(abs.(Y[:, i] .- X[:, j]))\n",
    "        end\n",
    "    end\n",
    "  \n",
    "    for i = 1:testing # find k nearest neighbors\n",
    "        perm = partialsortperm(distance[:, i], 1:k)\n",
    "        predicted_class[i] = mode(class[perm]) # most common class\n",
    "    end\n",
    "  \n",
    "    return predicted_class\n",
    "end\n",
    "\n",
    "# Set seed for reproducibility\n",
    "seed_value = 123  # You can use any integer value as the seed\n",
    "Random.seed!(seed_value)\n",
    "\n",
    "(training, testing, features) = (100, 10, 30)\n",
    "X = randn(features, testing)\n",
    "Y = randn(features, training)\n",
    "(k, classes) = (3, 2)\n",
    "class = rand(1:classes, training)\n",
    "\n",
    "predicted_class = knn(X, Y, class, k)\n"
   ]
  },
  {
   "cell_type": "code",
   "execution_count": 14,
   "metadata": {},
   "outputs": [
    {
     "data": {
      "text/plain": [
       "10-element Vector{Int64}:\n",
       " 1\n",
       " 2\n",
       " 1\n",
       " 2\n",
       " 2\n",
       " 1\n",
       " 2\n",
       " 1\n",
       " 1\n",
       " 1"
      ]
     },
     "execution_count": 14,
     "metadata": {},
     "output_type": "execute_result"
    }
   ],
   "source": [
    "using Distances, Statistics, StatsBase, Random\n",
    "export knn\n",
    "\n",
    "\"\"\"Performs k nearest neighbor classification with training data\n",
    "Y. The classes should be numbered 1, 2,...\"\"\" \n",
    "function knn(X::Matrix{T}, Y::Matrix{T}, class::Vector{Int}, \n",
    "  k::Int) where T <: Real\n",
    "  testing = size(X, 2)\n",
    "  predicted_class = zeros(Int, testing)\n",
    "  distance = pairwise(cityblock, Y, X)  # L1 distance (Manhattan distance)\n",
    "  for i = 1:testing # find k nearest neighbors\n",
    "    perm = partialsortperm(distance[:, i], 1:k)\n",
    "    predicted_class[i] = mode(class[perm]) # most common class\n",
    "  end\n",
    "  return predicted_class\n",
    "end\n",
    "\n",
    "# Set seed for reproducibility\n",
    "seed_value = 123  # You can use any integer value as the seed\n",
    "Random.seed!(seed_value)\n",
    "\n",
    "(training, testing, features) = (100, 10, 30)\n",
    "X = randn(features, testing)\n",
    "Y = randn(features, training)\n",
    "(k, classes) = (3, 2)\n",
    "class = rand(1:classes, training)\n",
    "\n",
    "predicted_class = knn(X, Y, class, k)\n"
   ]
  },
  {
   "cell_type": "code",
   "execution_count": 33,
   "metadata": {},
   "outputs": [
    {
     "name": "stderr",
     "output_type": "stream",
     "text": [
      "/Users/simonlee/opt/anaconda3/envs/ML/lib/python3.9/site-packages/tqdm/auto.py:22: TqdmWarning: IProgress not found. Please update jupyter and ipywidgets. See https://ipywidgets.readthedocs.io/en/stable/user_install.html\n",
      "  from .autonotebook import tqdm as notebook_tqdm\n",
      "Downloading: 100%|██████████| 28.0/28.0 [00:00<00:00, 10.7kB/s]\n",
      "Downloading: 100%|██████████| 570/570 [00:00<00:00, 488kB/s]\n",
      "Downloading: 100%|██████████| 232k/232k [00:02<00:00, 106kB/s] \n",
      "Downloading: 100%|██████████| 466k/466k [00:10<00:00, 43.9kB/s] \n",
      "Downloading:   0%|          | 934k/440M [00:14<1:52:00, 65.4kB/s] "
     ]
    },
    {
     "ename": "KeyboardInterrupt",
     "evalue": "",
     "output_type": "error",
     "traceback": [
      "\u001b[0;31m---------------------------------------------------------------------------\u001b[0m",
      "\u001b[0;31mKeyboardInterrupt\u001b[0m                         Traceback (most recent call last)",
      "\u001b[1;32m/Users/simonlee/UCLA-Grad-Courses/BIOMATH-205/Chapter-2-algorithms.ipynb Cell 2\u001b[0m in \u001b[0;36m<cell line: 9>\u001b[0;34m()\u001b[0m\n\u001b[1;32m      <a href='vscode-notebook-cell:/Users/simonlee/UCLA-Grad-Courses/BIOMATH-205/Chapter-2-algorithms.ipynb#X21sZmlsZQ%3D%3D?line=6'>7</a>\u001b[0m model_name \u001b[39m=\u001b[39m \u001b[39m\"\u001b[39m\u001b[39mbert-base-uncased\u001b[39m\u001b[39m\"\u001b[39m\n\u001b[1;32m      <a href='vscode-notebook-cell:/Users/simonlee/UCLA-Grad-Courses/BIOMATH-205/Chapter-2-algorithms.ipynb#X21sZmlsZQ%3D%3D?line=7'>8</a>\u001b[0m tokenizer \u001b[39m=\u001b[39m AutoTokenizer\u001b[39m.\u001b[39mfrom_pretrained(model_name)\n\u001b[0;32m----> <a href='vscode-notebook-cell:/Users/simonlee/UCLA-Grad-Courses/BIOMATH-205/Chapter-2-algorithms.ipynb#X21sZmlsZQ%3D%3D?line=8'>9</a>\u001b[0m model \u001b[39m=\u001b[39m AutoModel\u001b[39m.\u001b[39;49mfrom_pretrained(model_name)\n\u001b[1;32m     <a href='vscode-notebook-cell:/Users/simonlee/UCLA-Grad-Courses/BIOMATH-205/Chapter-2-algorithms.ipynb#X21sZmlsZQ%3D%3D?line=10'>11</a>\u001b[0m \u001b[39m# Tokenize your input text\u001b[39;00m\n\u001b[1;32m     <a href='vscode-notebook-cell:/Users/simonlee/UCLA-Grad-Courses/BIOMATH-205/Chapter-2-algorithms.ipynb#X21sZmlsZQ%3D%3D?line=11'>12</a>\u001b[0m input_text \u001b[39m=\u001b[39m \u001b[39m\"\u001b[39m\u001b[39mYour input text here.\u001b[39m\u001b[39m\"\u001b[39m\n",
      "File \u001b[0;32m~/opt/anaconda3/envs/ML/lib/python3.9/site-packages/transformers/models/auto/auto_factory.py:463\u001b[0m, in \u001b[0;36m_BaseAutoModelClass.from_pretrained\u001b[0;34m(cls, pretrained_model_name_or_path, *model_args, **kwargs)\u001b[0m\n\u001b[1;32m    461\u001b[0m \u001b[39melif\u001b[39;00m \u001b[39mtype\u001b[39m(config) \u001b[39min\u001b[39;00m \u001b[39mcls\u001b[39m\u001b[39m.\u001b[39m_model_mapping\u001b[39m.\u001b[39mkeys():\n\u001b[1;32m    462\u001b[0m     model_class \u001b[39m=\u001b[39m _get_model_class(config, \u001b[39mcls\u001b[39m\u001b[39m.\u001b[39m_model_mapping)\n\u001b[0;32m--> 463\u001b[0m     \u001b[39mreturn\u001b[39;00m model_class\u001b[39m.\u001b[39;49mfrom_pretrained(\n\u001b[1;32m    464\u001b[0m         pretrained_model_name_or_path, \u001b[39m*\u001b[39;49mmodel_args, config\u001b[39m=\u001b[39;49mconfig, \u001b[39m*\u001b[39;49m\u001b[39m*\u001b[39;49mhub_kwargs, \u001b[39m*\u001b[39;49m\u001b[39m*\u001b[39;49mkwargs\n\u001b[1;32m    465\u001b[0m     )\n\u001b[1;32m    466\u001b[0m \u001b[39mraise\u001b[39;00m \u001b[39mValueError\u001b[39;00m(\n\u001b[1;32m    467\u001b[0m     \u001b[39mf\u001b[39m\u001b[39m\"\u001b[39m\u001b[39mUnrecognized configuration class \u001b[39m\u001b[39m{\u001b[39;00mconfig\u001b[39m.\u001b[39m\u001b[39m__class__\u001b[39m\u001b[39m}\u001b[39;00m\u001b[39m for this kind of AutoModel: \u001b[39m\u001b[39m{\u001b[39;00m\u001b[39mcls\u001b[39m\u001b[39m.\u001b[39m\u001b[39m__name__\u001b[39m\u001b[39m}\u001b[39;00m\u001b[39m.\u001b[39m\u001b[39m\\n\u001b[39;00m\u001b[39m\"\u001b[39m\n\u001b[1;32m    468\u001b[0m     \u001b[39mf\u001b[39m\u001b[39m\"\u001b[39m\u001b[39mModel type should be one of \u001b[39m\u001b[39m{\u001b[39;00m\u001b[39m'\u001b[39m\u001b[39m, \u001b[39m\u001b[39m'\u001b[39m\u001b[39m.\u001b[39mjoin(c\u001b[39m.\u001b[39m\u001b[39m__name__\u001b[39m \u001b[39mfor\u001b[39;00m c \u001b[39min\u001b[39;00m \u001b[39mcls\u001b[39m\u001b[39m.\u001b[39m_model_mapping\u001b[39m.\u001b[39mkeys())\u001b[39m}\u001b[39;00m\u001b[39m.\u001b[39m\u001b[39m\"\u001b[39m\n\u001b[1;32m    469\u001b[0m )\n",
      "File \u001b[0;32m~/opt/anaconda3/envs/ML/lib/python3.9/site-packages/transformers/modeling_utils.py:2091\u001b[0m, in \u001b[0;36mPreTrainedModel.from_pretrained\u001b[0;34m(cls, pretrained_model_name_or_path, *model_args, **kwargs)\u001b[0m\n\u001b[1;32m   2076\u001b[0m \u001b[39mtry\u001b[39;00m:\n\u001b[1;32m   2077\u001b[0m     \u001b[39m# Load from URL or cache if already cached\u001b[39;00m\n\u001b[1;32m   2078\u001b[0m     cached_file_kwargs \u001b[39m=\u001b[39m \u001b[39mdict\u001b[39m(\n\u001b[1;32m   2079\u001b[0m         cache_dir\u001b[39m=\u001b[39mcache_dir,\n\u001b[1;32m   2080\u001b[0m         force_download\u001b[39m=\u001b[39mforce_download,\n\u001b[0;32m   (...)\u001b[0m\n\u001b[1;32m   2089\u001b[0m         _commit_hash\u001b[39m=\u001b[39mcommit_hash,\n\u001b[1;32m   2090\u001b[0m     )\n\u001b[0;32m-> 2091\u001b[0m     resolved_archive_file \u001b[39m=\u001b[39m cached_file(pretrained_model_name_or_path, filename, \u001b[39m*\u001b[39;49m\u001b[39m*\u001b[39;49mcached_file_kwargs)\n\u001b[1;32m   2093\u001b[0m     \u001b[39m# Since we set _raise_exceptions_for_missing_entries=False, we don't get an exception but a None\u001b[39;00m\n\u001b[1;32m   2094\u001b[0m     \u001b[39m# result when internet is up, the repo and revision exist, but the file does not.\u001b[39;00m\n\u001b[1;32m   2095\u001b[0m     \u001b[39mif\u001b[39;00m resolved_archive_file \u001b[39mis\u001b[39;00m \u001b[39mNone\u001b[39;00m \u001b[39mand\u001b[39;00m filename \u001b[39m==\u001b[39m SAFE_WEIGHTS_NAME:\n\u001b[1;32m   2096\u001b[0m         \u001b[39m# Maybe the checkpoint is sharded, we try to grab the index name in this case.\u001b[39;00m\n",
      "File \u001b[0;32m~/opt/anaconda3/envs/ML/lib/python3.9/site-packages/transformers/utils/hub.py:409\u001b[0m, in \u001b[0;36mcached_file\u001b[0;34m(path_or_repo_id, filename, cache_dir, force_download, resume_download, proxies, use_auth_token, revision, local_files_only, subfolder, user_agent, _raise_exceptions_for_missing_entries, _raise_exceptions_for_connection_errors, _commit_hash)\u001b[0m\n\u001b[1;32m    406\u001b[0m user_agent \u001b[39m=\u001b[39m http_user_agent(user_agent)\n\u001b[1;32m    407\u001b[0m \u001b[39mtry\u001b[39;00m:\n\u001b[1;32m    408\u001b[0m     \u001b[39m# Load from URL or cache if already cached\u001b[39;00m\n\u001b[0;32m--> 409\u001b[0m     resolved_file \u001b[39m=\u001b[39m hf_hub_download(\n\u001b[1;32m    410\u001b[0m         path_or_repo_id,\n\u001b[1;32m    411\u001b[0m         filename,\n\u001b[1;32m    412\u001b[0m         subfolder\u001b[39m=\u001b[39;49m\u001b[39mNone\u001b[39;49;00m \u001b[39mif\u001b[39;49;00m \u001b[39mlen\u001b[39;49m(subfolder) \u001b[39m==\u001b[39;49m \u001b[39m0\u001b[39;49m \u001b[39melse\u001b[39;49;00m subfolder,\n\u001b[1;32m    413\u001b[0m         revision\u001b[39m=\u001b[39;49mrevision,\n\u001b[1;32m    414\u001b[0m         cache_dir\u001b[39m=\u001b[39;49mcache_dir,\n\u001b[1;32m    415\u001b[0m         user_agent\u001b[39m=\u001b[39;49muser_agent,\n\u001b[1;32m    416\u001b[0m         force_download\u001b[39m=\u001b[39;49mforce_download,\n\u001b[1;32m    417\u001b[0m         proxies\u001b[39m=\u001b[39;49mproxies,\n\u001b[1;32m    418\u001b[0m         resume_download\u001b[39m=\u001b[39;49mresume_download,\n\u001b[1;32m    419\u001b[0m         use_auth_token\u001b[39m=\u001b[39;49muse_auth_token,\n\u001b[1;32m    420\u001b[0m         local_files_only\u001b[39m=\u001b[39;49mlocal_files_only,\n\u001b[1;32m    421\u001b[0m     )\n\u001b[1;32m    423\u001b[0m \u001b[39mexcept\u001b[39;00m RepositoryNotFoundError:\n\u001b[1;32m    424\u001b[0m     \u001b[39mraise\u001b[39;00m \u001b[39mEnvironmentError\u001b[39;00m(\n\u001b[1;32m    425\u001b[0m         \u001b[39mf\u001b[39m\u001b[39m\"\u001b[39m\u001b[39m{\u001b[39;00mpath_or_repo_id\u001b[39m}\u001b[39;00m\u001b[39m is not a local folder and is not a valid model identifier \u001b[39m\u001b[39m\"\u001b[39m\n\u001b[1;32m    426\u001b[0m         \u001b[39m\"\u001b[39m\u001b[39mlisted on \u001b[39m\u001b[39m'\u001b[39m\u001b[39mhttps://huggingface.co/models\u001b[39m\u001b[39m'\u001b[39m\u001b[39m\\n\u001b[39;00m\u001b[39mIf this is a private repository, make sure to \u001b[39m\u001b[39m\"\u001b[39m\n\u001b[1;32m    427\u001b[0m         \u001b[39m\"\u001b[39m\u001b[39mpass a token having permission to this repo with `use_auth_token` or log in with \u001b[39m\u001b[39m\"\u001b[39m\n\u001b[1;32m    428\u001b[0m         \u001b[39m\"\u001b[39m\u001b[39m`huggingface-cli login` and pass `use_auth_token=True`.\u001b[39m\u001b[39m\"\u001b[39m\n\u001b[1;32m    429\u001b[0m     )\n",
      "File \u001b[0;32m~/opt/anaconda3/envs/ML/lib/python3.9/site-packages/huggingface_hub/file_download.py:1226\u001b[0m, in \u001b[0;36mhf_hub_download\u001b[0;34m(repo_id, filename, subfolder, repo_type, revision, library_name, library_version, cache_dir, user_agent, force_download, force_filename, proxies, etag_timeout, resume_download, use_auth_token, local_files_only, legacy_cache_layout)\u001b[0m\n\u001b[1;32m   1223\u001b[0m \u001b[39mwith\u001b[39;00m temp_file_manager() \u001b[39mas\u001b[39;00m temp_file:\n\u001b[1;32m   1224\u001b[0m     logger\u001b[39m.\u001b[39minfo(\u001b[39m\"\u001b[39m\u001b[39mdownloading \u001b[39m\u001b[39m%s\u001b[39;00m\u001b[39m to \u001b[39m\u001b[39m%s\u001b[39;00m\u001b[39m\"\u001b[39m, url, temp_file\u001b[39m.\u001b[39mname)\n\u001b[0;32m-> 1226\u001b[0m     http_get(\n\u001b[1;32m   1227\u001b[0m         url_to_download,\n\u001b[1;32m   1228\u001b[0m         temp_file,\n\u001b[1;32m   1229\u001b[0m         proxies\u001b[39m=\u001b[39;49mproxies,\n\u001b[1;32m   1230\u001b[0m         resume_size\u001b[39m=\u001b[39;49mresume_size,\n\u001b[1;32m   1231\u001b[0m         headers\u001b[39m=\u001b[39;49mheaders,\n\u001b[1;32m   1232\u001b[0m     )\n\u001b[1;32m   1234\u001b[0m logger\u001b[39m.\u001b[39minfo(\u001b[39m\"\u001b[39m\u001b[39mstoring \u001b[39m\u001b[39m%s\u001b[39;00m\u001b[39m in cache at \u001b[39m\u001b[39m%s\u001b[39;00m\u001b[39m\"\u001b[39m, url, blob_path)\n\u001b[1;32m   1235\u001b[0m os\u001b[39m.\u001b[39mreplace(temp_file\u001b[39m.\u001b[39mname, blob_path)\n",
      "File \u001b[0;32m~/opt/anaconda3/envs/ML/lib/python3.9/site-packages/huggingface_hub/file_download.py:490\u001b[0m, in \u001b[0;36mhttp_get\u001b[0;34m(url, temp_file, proxies, resume_size, headers, timeout, max_retries)\u001b[0m\n\u001b[1;32m    481\u001b[0m total \u001b[39m=\u001b[39m resume_size \u001b[39m+\u001b[39m \u001b[39mint\u001b[39m(content_length) \u001b[39mif\u001b[39;00m content_length \u001b[39mis\u001b[39;00m \u001b[39mnot\u001b[39;00m \u001b[39mNone\u001b[39;00m \u001b[39melse\u001b[39;00m \u001b[39mNone\u001b[39;00m\n\u001b[1;32m    482\u001b[0m progress \u001b[39m=\u001b[39m tqdm(\n\u001b[1;32m    483\u001b[0m     unit\u001b[39m=\u001b[39m\u001b[39m\"\u001b[39m\u001b[39mB\u001b[39m\u001b[39m\"\u001b[39m,\n\u001b[1;32m    484\u001b[0m     unit_scale\u001b[39m=\u001b[39m\u001b[39mTrue\u001b[39;00m,\n\u001b[0;32m   (...)\u001b[0m\n\u001b[1;32m    488\u001b[0m     disable\u001b[39m=\u001b[39m\u001b[39mbool\u001b[39m(logger\u001b[39m.\u001b[39mgetEffectiveLevel() \u001b[39m==\u001b[39m logging\u001b[39m.\u001b[39mNOTSET),\n\u001b[1;32m    489\u001b[0m )\n\u001b[0;32m--> 490\u001b[0m \u001b[39mfor\u001b[39;00m chunk \u001b[39min\u001b[39;00m r\u001b[39m.\u001b[39miter_content(chunk_size\u001b[39m=\u001b[39m\u001b[39m1024\u001b[39m):\n\u001b[1;32m    491\u001b[0m     \u001b[39mif\u001b[39;00m chunk:  \u001b[39m# filter out keep-alive new chunks\u001b[39;00m\n\u001b[1;32m    492\u001b[0m         progress\u001b[39m.\u001b[39mupdate(\u001b[39mlen\u001b[39m(chunk))\n",
      "File \u001b[0;32m~/opt/anaconda3/envs/ML/lib/python3.9/site-packages/requests/models.py:816\u001b[0m, in \u001b[0;36mResponse.iter_content.<locals>.generate\u001b[0;34m()\u001b[0m\n\u001b[1;32m    814\u001b[0m \u001b[39mif\u001b[39;00m \u001b[39mhasattr\u001b[39m(\u001b[39mself\u001b[39m\u001b[39m.\u001b[39mraw, \u001b[39m\"\u001b[39m\u001b[39mstream\u001b[39m\u001b[39m\"\u001b[39m):\n\u001b[1;32m    815\u001b[0m     \u001b[39mtry\u001b[39;00m:\n\u001b[0;32m--> 816\u001b[0m         \u001b[39myield from\u001b[39;00m \u001b[39mself\u001b[39m\u001b[39m.\u001b[39mraw\u001b[39m.\u001b[39mstream(chunk_size, decode_content\u001b[39m=\u001b[39m\u001b[39mTrue\u001b[39;00m)\n\u001b[1;32m    817\u001b[0m     \u001b[39mexcept\u001b[39;00m ProtocolError \u001b[39mas\u001b[39;00m e:\n\u001b[1;32m    818\u001b[0m         \u001b[39mraise\u001b[39;00m ChunkedEncodingError(e)\n",
      "File \u001b[0;32m~/opt/anaconda3/envs/ML/lib/python3.9/site-packages/urllib3/response.py:627\u001b[0m, in \u001b[0;36mHTTPResponse.stream\u001b[0;34m(self, amt, decode_content)\u001b[0m\n\u001b[1;32m    625\u001b[0m \u001b[39melse\u001b[39;00m:\n\u001b[1;32m    626\u001b[0m     \u001b[39mwhile\u001b[39;00m \u001b[39mnot\u001b[39;00m is_fp_closed(\u001b[39mself\u001b[39m\u001b[39m.\u001b[39m_fp):\n\u001b[0;32m--> 627\u001b[0m         data \u001b[39m=\u001b[39m \u001b[39mself\u001b[39;49m\u001b[39m.\u001b[39;49mread(amt\u001b[39m=\u001b[39;49mamt, decode_content\u001b[39m=\u001b[39;49mdecode_content)\n\u001b[1;32m    629\u001b[0m         \u001b[39mif\u001b[39;00m data:\n\u001b[1;32m    630\u001b[0m             \u001b[39myield\u001b[39;00m data\n",
      "File \u001b[0;32m~/opt/anaconda3/envs/ML/lib/python3.9/site-packages/urllib3/response.py:566\u001b[0m, in \u001b[0;36mHTTPResponse.read\u001b[0;34m(self, amt, decode_content, cache_content)\u001b[0m\n\u001b[1;32m    563\u001b[0m fp_closed \u001b[39m=\u001b[39m \u001b[39mgetattr\u001b[39m(\u001b[39mself\u001b[39m\u001b[39m.\u001b[39m_fp, \u001b[39m\"\u001b[39m\u001b[39mclosed\u001b[39m\u001b[39m\"\u001b[39m, \u001b[39mFalse\u001b[39;00m)\n\u001b[1;32m    565\u001b[0m \u001b[39mwith\u001b[39;00m \u001b[39mself\u001b[39m\u001b[39m.\u001b[39m_error_catcher():\n\u001b[0;32m--> 566\u001b[0m     data \u001b[39m=\u001b[39m \u001b[39mself\u001b[39;49m\u001b[39m.\u001b[39;49m_fp_read(amt) \u001b[39mif\u001b[39;00m \u001b[39mnot\u001b[39;00m fp_closed \u001b[39melse\u001b[39;00m \u001b[39mb\u001b[39m\u001b[39m\"\u001b[39m\u001b[39m\"\u001b[39m\n\u001b[1;32m    567\u001b[0m     \u001b[39mif\u001b[39;00m amt \u001b[39mis\u001b[39;00m \u001b[39mNone\u001b[39;00m:\n\u001b[1;32m    568\u001b[0m         flush_decoder \u001b[39m=\u001b[39m \u001b[39mTrue\u001b[39;00m\n",
      "File \u001b[0;32m~/opt/anaconda3/envs/ML/lib/python3.9/site-packages/urllib3/response.py:532\u001b[0m, in \u001b[0;36mHTTPResponse._fp_read\u001b[0;34m(self, amt)\u001b[0m\n\u001b[1;32m    529\u001b[0m     \u001b[39mreturn\u001b[39;00m buffer\u001b[39m.\u001b[39mgetvalue()\n\u001b[1;32m    530\u001b[0m \u001b[39melse\u001b[39;00m:\n\u001b[1;32m    531\u001b[0m     \u001b[39m# StringIO doesn't like amt=None\u001b[39;00m\n\u001b[0;32m--> 532\u001b[0m     \u001b[39mreturn\u001b[39;00m \u001b[39mself\u001b[39;49m\u001b[39m.\u001b[39;49m_fp\u001b[39m.\u001b[39;49mread(amt) \u001b[39mif\u001b[39;00m amt \u001b[39mis\u001b[39;00m \u001b[39mnot\u001b[39;00m \u001b[39mNone\u001b[39;00m \u001b[39melse\u001b[39;00m \u001b[39mself\u001b[39m\u001b[39m.\u001b[39m_fp\u001b[39m.\u001b[39mread()\n",
      "File \u001b[0;32m~/opt/anaconda3/envs/ML/lib/python3.9/http/client.py:463\u001b[0m, in \u001b[0;36mHTTPResponse.read\u001b[0;34m(self, amt)\u001b[0m\n\u001b[1;32m    460\u001b[0m \u001b[39mif\u001b[39;00m amt \u001b[39mis\u001b[39;00m \u001b[39mnot\u001b[39;00m \u001b[39mNone\u001b[39;00m:\n\u001b[1;32m    461\u001b[0m     \u001b[39m# Amount is given, implement using readinto\u001b[39;00m\n\u001b[1;32m    462\u001b[0m     b \u001b[39m=\u001b[39m \u001b[39mbytearray\u001b[39m(amt)\n\u001b[0;32m--> 463\u001b[0m     n \u001b[39m=\u001b[39m \u001b[39mself\u001b[39;49m\u001b[39m.\u001b[39;49mreadinto(b)\n\u001b[1;32m    464\u001b[0m     \u001b[39mreturn\u001b[39;00m \u001b[39mmemoryview\u001b[39m(b)[:n]\u001b[39m.\u001b[39mtobytes()\n\u001b[1;32m    465\u001b[0m \u001b[39melse\u001b[39;00m:\n\u001b[1;32m    466\u001b[0m     \u001b[39m# Amount is not given (unbounded read) so we must check self.length\u001b[39;00m\n\u001b[1;32m    467\u001b[0m     \u001b[39m# and self.chunked\u001b[39;00m\n",
      "File \u001b[0;32m~/opt/anaconda3/envs/ML/lib/python3.9/http/client.py:507\u001b[0m, in \u001b[0;36mHTTPResponse.readinto\u001b[0;34m(self, b)\u001b[0m\n\u001b[1;32m    502\u001b[0m         b \u001b[39m=\u001b[39m \u001b[39mmemoryview\u001b[39m(b)[\u001b[39m0\u001b[39m:\u001b[39mself\u001b[39m\u001b[39m.\u001b[39mlength]\n\u001b[1;32m    504\u001b[0m \u001b[39m# we do not use _safe_read() here because this may be a .will_close\u001b[39;00m\n\u001b[1;32m    505\u001b[0m \u001b[39m# connection, and the user is reading more bytes than will be provided\u001b[39;00m\n\u001b[1;32m    506\u001b[0m \u001b[39m# (for example, reading in 1k chunks)\u001b[39;00m\n\u001b[0;32m--> 507\u001b[0m n \u001b[39m=\u001b[39m \u001b[39mself\u001b[39;49m\u001b[39m.\u001b[39;49mfp\u001b[39m.\u001b[39;49mreadinto(b)\n\u001b[1;32m    508\u001b[0m \u001b[39mif\u001b[39;00m \u001b[39mnot\u001b[39;00m n \u001b[39mand\u001b[39;00m b:\n\u001b[1;32m    509\u001b[0m     \u001b[39m# Ideally, we would raise IncompleteRead if the content-length\u001b[39;00m\n\u001b[1;32m    510\u001b[0m     \u001b[39m# wasn't satisfied, but it might break compatibility.\u001b[39;00m\n\u001b[1;32m    511\u001b[0m     \u001b[39mself\u001b[39m\u001b[39m.\u001b[39m_close_conn()\n",
      "File \u001b[0;32m~/opt/anaconda3/envs/ML/lib/python3.9/socket.py:704\u001b[0m, in \u001b[0;36mSocketIO.readinto\u001b[0;34m(self, b)\u001b[0m\n\u001b[1;32m    702\u001b[0m \u001b[39mwhile\u001b[39;00m \u001b[39mTrue\u001b[39;00m:\n\u001b[1;32m    703\u001b[0m     \u001b[39mtry\u001b[39;00m:\n\u001b[0;32m--> 704\u001b[0m         \u001b[39mreturn\u001b[39;00m \u001b[39mself\u001b[39;49m\u001b[39m.\u001b[39;49m_sock\u001b[39m.\u001b[39;49mrecv_into(b)\n\u001b[1;32m    705\u001b[0m     \u001b[39mexcept\u001b[39;00m timeout:\n\u001b[1;32m    706\u001b[0m         \u001b[39mself\u001b[39m\u001b[39m.\u001b[39m_timeout_occurred \u001b[39m=\u001b[39m \u001b[39mTrue\u001b[39;00m\n",
      "File \u001b[0;32m~/opt/anaconda3/envs/ML/lib/python3.9/ssl.py:1242\u001b[0m, in \u001b[0;36mSSLSocket.recv_into\u001b[0;34m(self, buffer, nbytes, flags)\u001b[0m\n\u001b[1;32m   1238\u001b[0m     \u001b[39mif\u001b[39;00m flags \u001b[39m!=\u001b[39m \u001b[39m0\u001b[39m:\n\u001b[1;32m   1239\u001b[0m         \u001b[39mraise\u001b[39;00m \u001b[39mValueError\u001b[39;00m(\n\u001b[1;32m   1240\u001b[0m           \u001b[39m\"\u001b[39m\u001b[39mnon-zero flags not allowed in calls to recv_into() on \u001b[39m\u001b[39m%s\u001b[39;00m\u001b[39m\"\u001b[39m \u001b[39m%\u001b[39m\n\u001b[1;32m   1241\u001b[0m           \u001b[39mself\u001b[39m\u001b[39m.\u001b[39m\u001b[39m__class__\u001b[39m)\n\u001b[0;32m-> 1242\u001b[0m     \u001b[39mreturn\u001b[39;00m \u001b[39mself\u001b[39;49m\u001b[39m.\u001b[39;49mread(nbytes, buffer)\n\u001b[1;32m   1243\u001b[0m \u001b[39melse\u001b[39;00m:\n\u001b[1;32m   1244\u001b[0m     \u001b[39mreturn\u001b[39;00m \u001b[39msuper\u001b[39m()\u001b[39m.\u001b[39mrecv_into(buffer, nbytes, flags)\n",
      "File \u001b[0;32m~/opt/anaconda3/envs/ML/lib/python3.9/ssl.py:1100\u001b[0m, in \u001b[0;36mSSLSocket.read\u001b[0;34m(self, len, buffer)\u001b[0m\n\u001b[1;32m   1098\u001b[0m \u001b[39mtry\u001b[39;00m:\n\u001b[1;32m   1099\u001b[0m     \u001b[39mif\u001b[39;00m buffer \u001b[39mis\u001b[39;00m \u001b[39mnot\u001b[39;00m \u001b[39mNone\u001b[39;00m:\n\u001b[0;32m-> 1100\u001b[0m         \u001b[39mreturn\u001b[39;00m \u001b[39mself\u001b[39;49m\u001b[39m.\u001b[39;49m_sslobj\u001b[39m.\u001b[39;49mread(\u001b[39mlen\u001b[39;49m, buffer)\n\u001b[1;32m   1101\u001b[0m     \u001b[39melse\u001b[39;00m:\n\u001b[1;32m   1102\u001b[0m         \u001b[39mreturn\u001b[39;00m \u001b[39mself\u001b[39m\u001b[39m.\u001b[39m_sslobj\u001b[39m.\u001b[39mread(\u001b[39mlen\u001b[39m)\n",
      "\u001b[0;31mKeyboardInterrupt\u001b[0m: "
     ]
    }
   ],
   "source": [
    "from transformers import AutoTokenizer, AutoModel\n",
    "import torch\n",
    "import seaborn as sns\n",
    "import matplotlib.pyplot as plt\n",
    "\n",
    "# Load pre-trained BERT model and tokenizer\n",
    "model_name = \"bert-base-uncased\"\n",
    "tokenizer = AutoTokenizer.from_pretrained(model_name)\n",
    "model = AutoModel.from_pretrained(model_name)\n",
    "\n",
    "# Tokenize your input text\n",
    "input_text = \"Your input text here.\"\n",
    "input_tokens = tokenizer(input_text, return_tensors=\"pt\", padding=True, truncation=True)\n",
    "\n",
    "# Get model output with attention weights\n",
    "output = model(**input_tokens)\n",
    "attention_weights = output['attentions']\n",
    "\n",
    "# Visualize the attention weights\n",
    "# Assuming you have multiple attention heads, you can select a specific layer and head\n",
    "layer = 8  # Choose the layer you want to visualize\n",
    "head = 0   # Choose the attention head you want to visualize\n",
    "attention_matrix = attention_weights[layer][0][head].detach().numpy()\n",
    "\n",
    "plt.figure(figsize=(10, 10))\n",
    "sns.heatmap(attention_matrix, annot=True, cmap=\"YlGnBu\")\n",
    "plt.show()"
   ]
  },
  {
   "cell_type": "code",
   "execution_count": 28,
   "metadata": {},
   "outputs": [
    {
     "name": "stdout",
     "output_type": "stream",
     "text": [
      "Collecting cvxopt\n",
      "  Downloading cvxopt-1.3.2-cp39-cp39-macosx_10_9_x86_64.whl (13.8 MB)\n",
      "\u001b[2K     \u001b[90m━━━━━━━━━━━━━━━━━━━━━━━━━━━━━━━━━━━━━━━━\u001b[0m \u001b[32m13.8/13.8 MB\u001b[0m \u001b[31m3.1 MB/s\u001b[0m eta \u001b[36m0:00:00\u001b[0m00:01\u001b[0m00:01\u001b[0m\n",
      "\u001b[?25hInstalling collected packages: cvxopt\n",
      "Successfully installed cvxopt-1.3.2\n"
     ]
    }
   ],
   "source": [
    "!pip install cvxopt"
   ]
  },
  {
   "cell_type": "code",
   "execution_count": 29,
   "metadata": {},
   "outputs": [
    {
     "name": "stdout",
     "output_type": "stream",
     "text": [
      "Optimal solution found.\n",
      "Revised Simplex Method:\n",
      "Optimal value: 30.00000000104209\n",
      "Optimal point: [1.00000000e+01 2.35419469e-10]\n",
      "\n",
      "Karmarkar's Algorithm:\n",
      "Optimal value: 28.0\n",
      "Optimal point: [ 6.00e+00]\n",
      "[ 2.00e+00]\n",
      "\n"
     ]
    }
   ],
   "source": [
    "import time\n",
    "import numpy as np\n",
    "from scipy.optimize import linprog\n",
    "from cvxopt import matrix, solvers\n",
    "\n",
    "# Revised Simplex Method\n",
    "c_rev = [3, 5]\n",
    "A_rev = [[-2, -1], [-4, 3]]\n",
    "b_rev = [-20, 0]\n",
    "res_rev = linprog(c_rev, A_ub=A_rev, b_ub=b_rev, bounds=(0, None))\n",
    "\n",
    "# Karmarkar's Algorithm\n",
    "c_kar = matrix([3.0, 5.0])\n",
    "G_kar = matrix([[-2.0, -1.0], [-4.0, 3.0]])\n",
    "h_kar = matrix([-20.0, 0.0])\n",
    "sol = solvers.lp(c_kar, G_kar, h_kar)\n",
    "\n",
    "print(\"Revised Simplex Method:\")\n",
    "print(\"Optimal value:\", res_rev.fun)\n",
    "print(\"Optimal point:\", res_rev.x)\n",
    "\n",
    "print(\"\\nKarmarkar's Algorithm:\")\n",
    "print(\"Optimal value:\", sol['x'][0] * 3 + sol['x'][1] * 5)\n",
    "print(\"Optimal point:\", sol['x'])"
   ]
  },
  {
   "cell_type": "code",
   "execution_count": 26,
   "metadata": {},
   "outputs": [
    {
     "name": "stdout",
     "output_type": "stream",
     "text": [
      "Optimal value: -1108630239567.5537\n",
      "Optimal point: [ 1.73476735e+12  1.05423040e+12  5.27115200e+11 -2.73430874e+12\n",
      " -1.09088850e+11]\n"
     ]
    }
   ],
   "source": [
    "from scipy.optimize import linprog\n",
    "\n",
    "# Objective function coefficients\n",
    "c = [1, 0, 0, 1, 1]\n",
    "\n",
    "# Coefficients for inequalities\n",
    "A = [[-1, 1, 0, 0, 0],\n",
    "     [0, -1, 1, 0, 0],\n",
    "     [1, 0, 0, 1, 0],\n",
    "     [-1, 0, 0, 0, 1]]\n",
    "b = [5, 7, 0, 0]\n",
    "\n",
    "# Bounds for variables\n",
    "x1_bounds = (0, None)\n",
    "x3_bounds = (2, None)\n",
    "\n",
    "# Solving the linear program\n",
    "res = linprog(c, A_ub=A, b_ub=b, bounds=[x1_bounds, (None, None), x3_bounds, (None, None), (None, None)])\n",
    "\n",
    "# Extracting and printing the results\n",
    "print('Optimal value:', res.fun)\n",
    "print('Optimal point:', res.x)"
   ]
  },
  {
   "cell_type": "code",
   "execution_count": 32,
   "metadata": {},
   "outputs": [
    {
     "data": {
      "image/png": "[encoded data removed]",
      "text/plain": [
       "<Figure size 640x480 with 1 Axes>"
      ]
     },
     "metadata": {},
     "output_type": "display_data"
    }
   ],
   "source": [
    "import numpy as np\n",
    "import matplotlib.pyplot as plt\n",
    "import seaborn as sns\n",
    "\n",
    "plt.style.use(\"ggplot\")\n",
    "\n",
    "# Define the constraints\n",
    "x = np.linspace(0, 5, 400)\n",
    "y1 = (3 - x) / 2\n",
    "y2 = 5 - 2 * x\n",
    "y3 = np.zeros_like(x)\n",
    "\n",
    "# Create a figure and a set of subplots\n",
    "fig, ax = plt.subplots()\n",
    "\n",
    "# Plot the constraints\n",
    "ax.plot(x, y1, label=r'$x_{1} + 2x_{2} \\geq 3$')\n",
    "ax.plot(x, y2, label=r'$2x_{1} + x_{2} \\geq 5$')\n",
    "ax.plot(x, y3, label=r'$x_{2} \\geq 0$')\n",
    "\n",
    "# Define the vertices of the feasible region\n",
    "vertices_x = [0, 7/3, 5]\n",
    "vertices_y = [5, 1/3, 0]\n",
    "\n",
    "# Shade the feasible region\n",
    "ax.fill_between(x, y3, y1, where=(y1<=y3) & (x>=7/3) & (x<=5), color='grey', alpha=0.5)\n",
    "ax.fill_between(x, y3, y2, where=(y2<=y3) & (x<=7/3) & (x>=0), color='grey', alpha=0.5)\n",
    "\n",
    "# Set the limits of the plot\n",
    "plt.xlim((0, 6))\n",
    "plt.ylim((0, 6))\n",
    "\n",
    "# Add a legend\n",
    "ax.legend(loc='upper right')\n",
    "\n",
    "# Add labels and title\n",
    "plt.xlabel(r'$x_{1}$')\n",
    "plt.ylabel(r'$x_{2}$')\n",
    "plt.title('Feasible Region for Linear Programming Problem')\n",
    "\n",
    "# Display the plot\n",
    "plt.show()"
   ]
  },
  {
   "cell_type": "markdown",
   "metadata": {},
   "source": [
    "# Chapter 2: Sorting"
   ]
  },
  {
   "cell_type": "markdown",
   "metadata": {},
   "source": [
    "#### 2.2 Quicksort\n",
    "\n",
    "most elegant sorting algorithm that builds on the divide and conqure prinicple, where it randomly selects a pivot and partitions the entries based on the pivot. This algorithm is also recursive creating constant partitions until you and down to one entry"
   ]
  },
  {
   "cell_type": "code",
   "execution_count": 1,
   "metadata": {},
   "outputs": [
    {
     "name": "stdout",
     "output_type": "stream",
     "text": [
      "[-1, 1, 2, 3, 4, 5, 6, 7, 8]\n",
      "[\"a\", \"b\", \"c\", \"d\", \"e\", \"f\", \"g\", \"h\", \"y\"]\n"
     ]
    }
   ],
   "source": [
    "function quicksort(x::Vector, left = 1, right = length(x))\n",
    "    i = rand(left:right) # select a random splitting value\n",
    "    split = x[i]\n",
    "    (x[left], x[i]) = (split, x[left])\n",
    "    i = left\n",
    "    for j = (left + 1):right # position the splitting value\n",
    "        if x[j] <= split\n",
    "            i=i+1\n",
    "            (x[i], x[j]) = (x[j], x[i])\n",
    "        end\n",
    "    end\n",
    "    (x[left], x[i]) = (x[i], split)\n",
    "    if i > left + 1 #sort to the left of the value\n",
    "        quicksort(x, left,i-1)\n",
    "    end\n",
    "    if i + 1 < right # sort to the right of the value\n",
    "        quicksort(x,i+1,right)\n",
    "    end\n",
    "end\n",
    "x = [5, 4, 3, 1, 2, 8, 7, 6, -1];\n",
    "quicksort(x)\n",
    "println(x)\n",
    "x = [\"a\", \"c\", \"d\", \"b\", \"f\", \"e\", \"h\", \"g\", \"y\"];\n",
    "quicksort(x)\n",
    "println(x)"
   ]
  },
  {
   "cell_type": "markdown",
   "metadata": {},
   "source": [
    "#### Quickselect\n",
    "\n",
    "A variation of quicksort designed to find the kth smallest element in an undordered list. "
   ]
  },
  {
   "cell_type": "code",
   "execution_count": 4,
   "metadata": {},
   "outputs": [
    {
     "name": "stdout",
     "output_type": "stream",
     "text": [
      "8\n",
      "e\n"
     ]
    }
   ],
   "source": [
    "function quickselect(x::Vector, k::Int, left = 1, right = length(x))\n",
    "    i = rand(left:right) # select a random splitting value\n",
    "    split = x[i]\n",
    "    (x[left], x[i]) = (split, x[left])\n",
    "    i = left\n",
    "    for j = (left + 1):right # position the splitting value\n",
    "        if x[j] <= split\n",
    "            i=i+1\n",
    "            (x[i], x[j]) = (x[j], x[i])\n",
    "        end\n",
    "    end\n",
    "    (x[left], x[i]) = (x[i], split)\n",
    "    j=i-left+1#find the order statistic y\n",
    "    if k==j \n",
    "        y = x[i]\n",
    "    elseif k<j\n",
    "        y = quickselect(x, k, left,i-1)\n",
    "    else\n",
    "        y = quickselect(x,k-j,i+1,right)\n",
    "    end\n",
    "    return y\n",
    "end\n",
    "\n",
    "k=8;\n",
    "x = [5, 4, 3, 1, 2, 8, 7, 6];\n",
    "xk = quickselect(x, k)\n",
    "println(xk)\n",
    "k=5;\n",
    "x = [\"a\", \"c\", \"d\", \"b\", \"f\", \"e\", \"h\", \"g\", \"y\"];\n",
    "xk = quickselect(x, k)\n",
    "println(xk)"
   ]
  },
  {
   "cell_type": "markdown",
   "metadata": {},
   "source": [
    "#### Bisection\n",
    "\n",
    "Divide and conquer algorithm to find a root for a given equation $f(x)=0$"
   ]
  },
  {
   "cell_type": "code",
   "execution_count": 5,
   "metadata": {},
   "outputs": [
    {
     "data": {
      "text/plain": [
       "(0.20163967572340624, 48)"
      ]
     },
     "execution_count": 5,
     "metadata": {},
     "output_type": "execute_result"
    }
   ],
   "source": [
    "function bisect(f::Function, a::T, b::T, tol::T) where T <: Real\n",
    "    (fa, fb) = (f(a), f(b))\n",
    "    @assert(a<b&&fa*fb<=zero(T)) # check for input error\n",
    "    for iteration = 1:100\n",
    "        m=(a+b)/2\n",
    "        fm = f(m)\n",
    "        if abs(fm) < tol\n",
    "            return (m, iteration)\n",
    "        end\n",
    "        if fa * fm < zero(T)\n",
    "            (b, fb) = (m, fm)\n",
    "        else\n",
    "            (a, fa) = (m, fm)\n",
    "        end\n",
    "    end\n",
    "    return ((a + b) / 2, 100)\n",
    "end\n",
    "f(x) = x^3 - 5x + 1.0\n",
    "(x, iteration) = bisect(f, 0.0, 2.0, 1e-14)"
   ]
  },
  {
   "cell_type": "code",
   "execution_count": 6,
   "metadata": {},
   "outputs": [
    {
     "name": "stdout",
     "output_type": "stream",
     "text": [
      "4\n",
      "0\n"
     ]
    }
   ],
   "source": [
    "function binary_search(x::Vector, value)\n",
    "    a=1\n",
    "    b = length(x)\n",
    "    while a <= b\n",
    "        m = div(a + b, 2)\n",
    "        if x[m] > value\n",
    "            b=m-1\n",
    "        elseif x[m] < value\n",
    "            a=m+1\n",
    "        else\n",
    "            return m\n",
    "        end\n",
    "    end\n",
    "    return 0\n",
    "end\n",
    "x = [\"a\", \"b\", \"d\", \"f\", \"g\"];\n",
    "println(binary_search(x, \"f\"))\n",
    "x = [1, 2, 4, 7, 9];\n",
    "println(binary_search(x, 3))"
   ]
  },
  {
   "cell_type": "markdown",
   "metadata": {},
   "source": [
    "#### Priority Queues\n",
    "\n",
    "data structure consisting of keys and priorities."
   ]
  },
  {
   "cell_type": "code",
   "execution_count": 12,
   "metadata": {},
   "outputs": [
    {
     "name": "stderr",
     "output_type": "stream",
     "text": [
      "\u001b[32m\u001b[1m   Resolving\u001b[22m\u001b[39m package versions...\n",
      "\u001b[32m\u001b[1m  No Changes\u001b[22m\u001b[39m to `~/.julia/environments/v1.7/Project.toml`\n",
      "\u001b[32m\u001b[1m  No Changes\u001b[22m\u001b[39m to `~/.julia/environments/v1.7/Manifest.toml`\n"
     ]
    },
    {
     "data": {
      "text/plain": [
       "\"b\""
      ]
     },
     "execution_count": 12,
     "metadata": {},
     "output_type": "execute_result"
    }
   ],
   "source": [
    "import Pkg;Pkg.add(\"DataStructures\")\n",
    "using DataStructures\n",
    "\n",
    "pq = PriorityQueue() # empty queue\n",
    "pq[\"a\"] = 10 # enqueue or push\n",
    "pq[\"b\"] = 5\n",
    "pq[\"c\"] = 15\n",
    "peek(pq)\n",
    "dequeue!(pq) # dequeue or pop"
   ]
  }
 ],
 "metadata": {
  "kernelspec": {
   "display_name": "Julia 1.7.3",
   "language": "julia",
   "name": "julia-1.7"
  },
  "language_info": {
   "file_extension": ".jl",
   "mimetype": "application/julia",
   "name": "julia",
   "version": "1.7.3"
  },
  "orig_nbformat": 4,
  "vscode": {
   "interpreter": {
    "hash": "35cdeb169a3a070e0ef85dea5b2d3935a5fd9ad58668884b11eff71bff43ceff"
   }
  }
 },
 "nbformat": 4,
 "nbformat_minor": 2
}
