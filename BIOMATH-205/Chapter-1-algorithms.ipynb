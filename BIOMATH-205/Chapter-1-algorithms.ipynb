{
 "cells": [
  {
   "cell_type": "markdown",
   "metadata": {},
   "source": [
    "# BIOMATH 205 - Computational Algorithms\n",
    "\n",
    "All code is the work of Prof. Kenneth Lange. These notebooks are written in part to demonstrate the algorithms and show whats going on internally instead of just reading code from a textbook. All of this work is written in the Julia programming language. If there are any questions feel free to contact the user below.\n",
    "\n",
    "- Simon Lee (simonlee711@g.ucla.edu)"
   ]
  },
  {
   "cell_type": "markdown",
   "metadata": {},
   "source": [
    "# Chapter 1: Ancient Algorithms"
   ]
  },
  {
   "cell_type": "markdown",
   "metadata": {},
   "source": [
    "#### 1.2 Peasant Multiplication\n",
    "\n",
    "An algorithm to multiply two numbers with three simple rules: multiply by 2, divide by 2, and addition"
   ]
  },
  {
   "cell_type": "code",
   "execution_count": 8,
   "metadata": {},
   "outputs": [
    {
     "name": "stdout",
     "output_type": "stream",
     "text": [
      "----------------------\n",
      "C  B  A\n",
      "0  66  5\n",
      "330\n",
      "----------------------\n",
      "0  108  123\n",
      "108  216  61\n",
      "324  864  15\n",
      "1188  1728  7\n",
      "2916  3456  3\n",
      "13284\n",
      "----------------------\n"
     ]
    }
   ],
   "source": [
    "function peasantproduct(a::T, b::T) where T <: Integer\n",
    "    c = zero(T)\n",
    "    while a > one(T)\n",
    "        if isodd(a)\n",
    "            println(c, \"  \", b, \"  \", a)\n",
    "            c=c+b\n",
    "        end\n",
    "        a = a >> 1 # divide a by 2\n",
    "        b = b << 1 # multiply b by 2\n",
    "    end\n",
    "    return c + b\n",
    "end\n",
    "\n",
    "println(\"----------------------\")\n",
    "println(\"C  B  A\")\n",
    "c = peasantproduct(10, 33)\n",
    "println(c)\n",
    "\n",
    "println(\"----------------------\")\n",
    "w = peasantproduct(246, 54)\n",
    "println(w)\n",
    "println(\"----------------------\")"
   ]
  },
  {
   "cell_type": "markdown",
   "metadata": {},
   "source": [
    "#### 1.3 Babylonian Method\n",
    "\n",
    "Early iterative algorithm to approximate and converge on solving the square root of a nonnegative number c. Like Newtons method."
   ]
  },
  {
   "cell_type": "code",
   "execution_count": 11,
   "metadata": {},
   "outputs": [
    {
     "name": "stdout",
     "output_type": "stream",
     "text": [
      "1.0\n",
      "5.434802200544679\n",
      "3.625401431921964\n",
      "3.173874724746142\n",
      "3.141756827069927\n",
      "3.1415926578792615\n"
     ]
    },
    {
     "data": {
      "text/plain": [
       "3.141592653589793"
      ]
     },
     "execution_count": 11,
     "metadata": {},
     "output_type": "execute_result"
    }
   ],
   "source": [
    "function babylonian(c::T, tol::T) where T <: Real\n",
    "    x = one(T) # start x at 1\n",
    "    while abs(x^2 - c) > tol # convergence test\n",
    "        print(x, \"\\n\")\n",
    "        x = (x + c / x) / 2\n",
    "    end\n",
    "    return x\n",
    "end\n",
    "\n",
    "root = babylonian(pi^2, 1e-10)"
   ]
  },
  {
   "cell_type": "markdown",
   "metadata": {},
   "source": [
    "#### 1.4 Quadratic Equation\n",
    "\n",
    "Solves quadratic equations without running into roundoff error"
   ]
  },
  {
   "cell_type": "code",
   "execution_count": 12,
   "metadata": {},
   "outputs": [
    {
     "data": {
      "text/plain": [
       "(1.0 + 0.0im, 1.0 - 0.0im)"
      ]
     },
     "execution_count": 12,
     "metadata": {},
     "output_type": "execute_result"
    }
   ],
   "source": [
    "function quadratic(a::T, b::T, c::T) where T <: Real\n",
    "    d = b^2 - 4a * c # discriminant\n",
    "    if d > zero(T)\n",
    "        if b >= zero(T)\n",
    "            r1 = (-b - sqrt(d)) / (2a)\n",
    "        else\n",
    "            r1 = (-b + sqrt(d)) / (2a)\n",
    "        end\n",
    "        r2 = c / (r1 * a)\n",
    "        return (r1, r2)\n",
    "    else\n",
    "        return (-b + sqrt(d + 0im)) / (2a), (-b - sqrt(d + 0im)) / (2a)\n",
    "    end\n",
    "end\n",
    "(a, b, c) = (1.0, -2.0, 1.0)\n",
    "(r1, r2) = quadratic(a, b, c)"
   ]
  },
  {
   "cell_type": "markdown",
   "metadata": {},
   "source": [
    "#### 1.5 Euclids Algorithm\n",
    "\n",
    "Finds the gcd of two integers m and n"
   ]
  },
  {
   "cell_type": "code",
   "execution_count": 13,
   "metadata": {},
   "outputs": [
    {
     "name": "stdout",
     "output_type": "stream",
     "text": [
      "600 | 220\n",
      "220 | 160\n",
      "160 | 60\n",
      "60 | 40\n",
      "40 | 20\n"
     ]
    },
    {
     "data": {
      "text/plain": [
       "20"
      ]
     },
     "execution_count": 13,
     "metadata": {},
     "output_type": "execute_result"
    }
   ],
   "source": [
    "function euclid(m::T, n::T) where T <: Integer\n",
    "    (a, b) = (m, n)\n",
    "    while b != zero(T)\n",
    "        print(a,\" | \", b, \"\\n\")\n",
    "        (a, b) = (b, rem(a, b))\n",
    "    end\n",
    "    return a\n",
    "end\n",
    "\n",
    "gcd = euclid(600, 220)"
   ]
  },
  {
   "cell_type": "markdown",
   "metadata": {},
   "source": [
    "#### 1.6 Sieve of Eratosthenes\n",
    "\n",
    "Finds all prime numbers between 1 < x < n"
   ]
  },
  {
   "cell_type": "code",
   "execution_count": 14,
   "metadata": {},
   "outputs": [
    {
     "data": {
      "text/plain": [
       "25-element Vector{Int64}:\n",
       "  2\n",
       "  3\n",
       "  5\n",
       "  7\n",
       " 11\n",
       " 13\n",
       " 17\n",
       " 19\n",
       " 23\n",
       " 29\n",
       " 31\n",
       " 37\n",
       " 41\n",
       " 43\n",
       " 47\n",
       " 53\n",
       " 59\n",
       " 61\n",
       " 67\n",
       " 71\n",
       " 73\n",
       " 79\n",
       " 83\n",
       " 89\n",
       " 97"
      ]
     },
     "execution_count": 14,
     "metadata": {},
     "output_type": "execute_result"
    }
   ],
   "source": [
    "function eratosthenes(n::Integer)\n",
    "    isprime = trues(n)\n",
    "    isprime[1] = false # 1 is composite\n",
    "    for i = 2:round(Int, sqrt(n))\n",
    "        if isprime[i]\n",
    "            for j = i^2:i:n # all multiples of i < i^2 already composite\n",
    "                isprime[j] = false\n",
    "            end\n",
    "        end\n",
    "    end\n",
    "    return filter(x -> isprime[x], 1:n) # eliminate composite numbers\n",
    "end\n",
    "\n",
    "prime_list = eratosthenes(100)"
   ]
  },
  {
   "cell_type": "markdown",
   "metadata": {},
   "source": [
    "#### 1.7 Archimedes approximate Pi\n",
    "\n",
    "Using geometry to approximate Pi"
   ]
  },
  {
   "cell_type": "code",
   "execution_count": 16,
   "metadata": {},
   "outputs": [
    {
     "name": "stdout",
     "output_type": "stream",
     "text": [
      "4.0|2.8284271247461903\n",
      "3.3137084989847607|3.0614674589207187\n",
      "3.1825978780745285|3.121445152258053\n",
      "3.151724907429257|3.1365484905459398\n",
      "3.144118385245905|3.1403311569547534\n",
      "3.1422236299424577|3.1412772509327733\n",
      "3.1417503691689674|3.141513801144302\n",
      "3.1416320807031823|3.141572940367092\n",
      "3.1416025102568095|3.14158772527716\n",
      "3.1415951177495893|3.1415914215112\n"
     ]
    },
    {
     "data": {
      "text/plain": [
       "(3.1415932696293076, 3.141592345570118)"
      ]
     },
     "execution_count": 16,
     "metadata": {},
     "output_type": "execute_result"
    }
   ],
   "source": [
    "function archimedes(tol::T) where T <: Real\n",
    "    (a, b) = (4 * one(T), 2 * sqrt(2 * one(T)))\n",
    "    while abs(a - b) > tol\n",
    "        print(a,\"|\",b,\"\\n\")\n",
    "        a = 2 * a * b / (a + b)\n",
    "        b = sqrt(a * b)\n",
    "    end\n",
    "    return (a, b)\n",
    "end\n",
    "(upper, lower) = archimedes(1e-6)"
   ]
  },
  {
   "cell_type": "markdown",
   "metadata": {},
   "source": [
    "#### 1.8 Bernoullis Triangle and Pascale Numbers\n",
    "\n",
    "Finds the bernoulli numbers up to a given sequence using pascals triangle"
   ]
  },
  {
   "cell_type": "code",
   "execution_count": 19,
   "metadata": {},
   "outputs": [
    {
     "name": "stdout",
     "output_type": "stream",
     "text": [
      "[1]\n",
      "[1, 2]\n",
      "[1, 3, 3]\n",
      "[1, 4, 6, 4]\n",
      "[1, 5, 10, 10, 5]\n",
      "[1, 6, 15, 20, 15, 6]\n",
      "[1, 7, 21, 35, 35, 21, 7]\n",
      "[1, 8, 28, 56, 70, 56, 28, 8]\n",
      "[1, 9, 36, 84, 126, 126, 84, 36, 9]\n",
      "[1, 10, 45, 120, 210, 252, 210, 120, 45, 10]\n",
      "[1, 11, 55, 165, 330, 462, 462, 330, 165, 55, 11]\n",
      "[1, 12, 66, 220, 495, 792, 924, 792, 495, 220, 66, 12]\n",
      "[1, 13, 78, 286, 715, 1287, 1716, 1716, 1287, 715, 286, 78, 13]\n",
      "[1, 14, 91, 364, 1001, 2002, 3003, 3432, 3003, 2002, 1001, 364, 91, 14]\n",
      "[1, 15, 105, 455, 1365, 3003, 5005, 6435, 6435, 5005, 3003, 1365, 455, 105, 15]\n",
      "[1, 16, 120, 560, 1820, 4368, 8008, 11440, 12870, 11440, 8008, 4368, 1820, 560, 120, 16]\n",
      "[1, 17, 136, 680, 2380, 6188, 12376, 19448, 24310, 24310, 19448, 12376, 6188, 2380, 680, 136, 17]\n",
      "[1, 18, 153, 816, 3060, 8568, 18564, 31824, 43758, 48620, 43758, 31824, 18564, 8568, 3060, 816, 153, 18]\n",
      "[1, 19, 171, 969, 3876, 11628, 27132, 50388, 75582, 92378, 92378, 75582, 50388, 27132, 11628, 3876, 969, 171, 19]\n",
      "[1, 20, 190, 1140, 4845, 15504, 38760, 77520, 125970, 167960, 184756, 167960, 125970, 77520, 38760, 15504, 4845, 1140, 190, 20]\n",
      "[1, 21, 210, 1330, 5985, 20349, 54264, 116280, 203490, 293930, 352716, 352716, 293930, 203490, 116280, 54264, 20349, 5985, 1330, 210, 21]\n",
      " first 21 Bernoulli numbers\n",
      "Rational[1//1, -1//2, 1//6, 0//1, -1//30, 0//1, 1//42, 0//1, -1//30, 0//1, 5//66, 0//1, -691//2730, 0//1, 7//6, 0//1, -3617//510, 0//1, 43867//798, 0//1, -174611//330]\n"
     ]
    }
   ],
   "source": [
    "# Function 1\n",
    "function pascal!(binom::Vector{Int}, n)\n",
    "    for k = n:-1:2 # compute the next row of Pascal’s triangle\n",
    "        binom[k] = binom[k - 1] + binom[k]\n",
    "    end\n",
    "end\n",
    "\n",
    "# Function 2\n",
    "function bernouli(p::Int)\n",
    "    binom = ones(Int, p + 1)\n",
    "    bern = ones(Rational, p + 1)\n",
    "    println(binom[1:1])\n",
    "    for n = 1:p # compute the Bernoulli numbers B_0,..,B_p\n",
    "        pascal!(binom, n + 1)\n",
    "        println(binom[1:n + 1]) # prints Pascal’s triangle\n",
    "        s = zero(Rational)\n",
    "        for k = 1:n\n",
    "            s = s + binom[k] * bern[k]\n",
    "        end\n",
    "        bern[n + 1] = - s / (n + 1)\n",
    "    end\n",
    "    return bern\n",
    "end\n",
    "\n",
    "p = 20;\n",
    "bern = bernouli(p); #1,-1/2,1/6,0,-1/30,0,1/42,...\n",
    "println(\" first \",p + 1,\" Bernoulli numbers\")\n",
    "println(bern)"
   ]
  }
 ],
 "metadata": {
  "kernelspec": {
   "display_name": "Julia 1.7.3",
   "language": "julia",
   "name": "julia-1.7"
  },
  "language_info": {
   "file_extension": ".jl",
   "mimetype": "application/julia",
   "name": "julia",
   "version": "1.7.3"
  },
  "orig_nbformat": 4,
  "vscode": {
   "interpreter": {
    "hash": "b47ca7d216b8a465b979ff7f012da33d157a8eca88a6176851bc787c68093159"
   }
  }
 },
 "nbformat": 4,
 "nbformat_minor": 2
}
