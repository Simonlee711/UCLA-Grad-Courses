{
 "cells": [
  {
   "cell_type": "markdown",
   "metadata": {},
   "source": [
    "# Assignment 3 - Biomath 204\n",
    "\n",
    "Simon Lee (simonlee711@g.ucla.edu)"
   ]
  },
  {
   "cell_type": "markdown",
   "metadata": {},
   "source": [
    "# p1"
   ]
  },
  {
   "cell_type": "markdown",
   "metadata": {},
   "source": [
    "Y is a continuous variable (log antibody titer) X1 is alcohol use (yes or no) and X2 is hypertension (htn‐yes or no). Thus there are 2 x 2 = 4 possible combinations of alcohol use and hypertension (four groups). X3 = X1 * X2 (X3 is the “interaction”).\n",
    "\n",
    "   The matrix X has 4 columns for X0=1, X1, X2, X3 and has 4n rows, n rows (observations) for each of the four groups, a “balanced” design. X0=1 is the “intercept”. So X is a 4n x 4 matrix. Without loss of generality (given balance), X can be considered a 4 x 4 matrix.\n",
    "\n",
    "   Using codes ‐1 for no and 1 for yes (effect coding), what are the means of X1, X2, and X3? Compute X'X and its inverse using this effect coding.\n",
    "\n",
    "   Using codes 0 for no and 1 for yes (dummy coding), what are the means of X1, X2, and X3? Compute X'X and its inverse using this dummy coding."
   ]
  },
  {
   "cell_type": "code",
   "execution_count": 3,
   "metadata": {},
   "outputs": [],
   "source": [
    "import pandas as pd\n",
    "import numpy as np\n",
    "import seaborn as sns\n",
    "import matplotlib.pyplot as plt"
   ]
  },
  {
   "cell_type": "code",
   "execution_count": 41,
   "metadata": {},
   "outputs": [],
   "source": [
    "import numpy as np\n",
    "\n",
    "# Define the effect coding (1 for yes, -1 for no)\n",
    "effect_coding = {\n",
    "    'alcohol': {'yes': 1, 'no': -1},\n",
    "    'hypertension': {'yes': 1, 'no': -1},\n",
    "}\n",
    "\n",
    "# Define the dummy coding (1 for yes, 0 for no)\n",
    "dummy_coding = {\n",
    "    'alcohol': {'yes': 1, 'no': 0},\n",
    "    'hypertension': {'yes': 1, 'no': 0},\n",
    "}\n",
    "\n",
    "# Create a matrix with four rows for the 2x2 combinations of alcohol and hypertension\n",
    "# using effect coding\n",
    "effect_data = np.array([\n",
    "    [1, effect_coding['alcohol']['no'], effect_coding['hypertension']['no'], effect_coding['alcohol']['no'] * effect_coding['hypertension']['no']],\n",
    "    [1, effect_coding['alcohol']['yes'], effect_coding['hypertension']['no'], effect_coding['alcohol']['yes'] * effect_coding['hypertension']['no']],\n",
    "    [1, effect_coding['alcohol']['no'], effect_coding['hypertension']['yes'], effect_coding['alcohol']['no'] * effect_coding['hypertension']['yes']],\n",
    "    [1, effect_coding['alcohol']['yes'], effect_coding['hypertension']['yes'], effect_coding['alcohol']['yes'] * effect_coding['hypertension']['yes']],\n",
    "])\n",
    "\n",
    "# Create a similar matrix for dummy coding\n",
    "dummy_data = np.array([\n",
    "    [1, dummy_coding['alcohol']['no'], dummy_coding['hypertension']['no'], dummy_coding['alcohol']['no'] * dummy_coding['hypertension']['no']],\n",
    "    [1, dummy_coding['alcohol']['yes'], dummy_coding['hypertension']['no'], dummy_coding['alcohol']['yes'] * dummy_coding['hypertension']['no']],\n",
    "    [1, dummy_coding['alcohol']['no'], dummy_coding['hypertension']['yes'], dummy_coding['alcohol']['no'] * dummy_coding['hypertension']['yes']],\n",
    "    [1, dummy_coding['alcohol']['yes'], dummy_coding['hypertension']['yes'], dummy_coding['alcohol']['yes'] * dummy_coding['hypertension']['yes']],\n",
    "])\n",
    "\n",
    "# Compute means for X1, X2, and X3 for both effect and dummy coding\n",
    "effect_means = effect_data.mean(axis=0)\n",
    "dummy_means = dummy_data.mean(axis=0)\n",
    "\n",
    "# Compute X'X and its inverse for effect coding\n",
    "effect_xx = np.matmul(effect_data.T, effect_data)\n",
    "effect_xx_inv = np.linalg.inv(effect_xx)\n",
    "\n",
    "# Compute X'X and its inverse for dummy coding\n",
    "dummy_xx = np.matmul(dummy_data.T, dummy_data)\n",
    "dummy_xx_inv = np.linalg.inv(dummy_xx)"
   ]
  },
  {
   "cell_type": "code",
   "execution_count": 42,
   "metadata": {},
   "outputs": [
    {
     "name": "stdout",
     "output_type": "stream",
     "text": [
      "effect data\n",
      "[[ 1 -1 -1  1]\n",
      " [ 1  1 -1 -1]\n",
      " [ 1 -1  1 -1]\n",
      " [ 1  1  1  1]]\n",
      "\n",
      "means for effect coding\n",
      "[1. 0. 0. 0.]\n",
      "\n",
      "Compute X'X for effect coding:\n",
      "[[4 0 0 0]\n",
      " [0 4 0 0]\n",
      " [0 0 4 0]\n",
      " [0 0 0 4]]\n",
      "\n",
      "Compute Inverse X'X for effect coding:\n",
      "[[0.25 0.   0.   0.  ]\n",
      " [0.   0.25 0.   0.  ]\n",
      " [0.   0.   0.25 0.  ]\n",
      " [0.   0.   0.   0.25]]\n"
     ]
    }
   ],
   "source": [
    "print(\"effect data\")\n",
    "print(effect_data)\n",
    "print(\"\\nmeans for effect coding\")\n",
    "print(effect_means) \n",
    "print(\"\\nCompute X'X for effect coding:\")\n",
    "print(effect_xx) \n",
    "print(\"\\nCompute Inverse X'X for effect coding:\")\n",
    "print(effect_xx_inv) "
   ]
  },
  {
   "cell_type": "code",
   "execution_count": 43,
   "metadata": {},
   "outputs": [
    {
     "name": "stdout",
     "output_type": "stream",
     "text": [
      "dummy data\n",
      "[[1 0 0 0]\n",
      " [1 1 0 0]\n",
      " [1 0 1 0]\n",
      " [1 1 1 1]]\n",
      "\n",
      "means for dummy coding\n",
      "[1.   0.5  0.5  0.25]\n",
      "\n",
      "Compute X'X for dummy coding:\n",
      "[[4 2 2 1]\n",
      " [2 2 1 1]\n",
      " [2 1 2 1]\n",
      " [1 1 1 1]]\n",
      "\n",
      "Compute Inverse X'X for dummy coding:\n",
      "[[ 1. -1. -1.  1.]\n",
      " [-1.  2.  1. -2.]\n",
      " [-1.  1.  2. -2.]\n",
      " [ 1. -2. -2.  4.]]\n"
     ]
    }
   ],
   "source": [
    "print(\"dummy data\")\n",
    "print(dummy_data)\n",
    "print(\"\\nmeans for dummy coding\")\n",
    "print(dummy_means)\n",
    "print(\"\\nCompute X'X for dummy coding:\")\n",
    "print(dummy_xx) \n",
    "print(\"\\nCompute Inverse X'X for dummy coding:\")\n",
    "print(dummy_xx_inv) "
   ]
  },
  {
   "cell_type": "markdown",
   "metadata": {},
   "source": [
    "   Are X1, X2, and X3 orthogonal (correlation zero) using both effect coding and dummy coding?"
   ]
  },
  {
   "cell_type": "markdown",
   "metadata": {},
   "source": [
    "<span style=\"color:green\">To determine whether $X_1$, $X_2$, and $X_3$ are orthogonal, which means having a correlation of zero, let's consider both effect coding and dummy coding.\n",
    "\n",
    "<span style=\"color:green\">In the case of effect coding, the correlation matrix derived from the $X'X$ matrix is as follows:\n",
    "\n",
    "$$ \n",
    "\\begin{bmatrix}\n",
    "4 & 0 & 0 & 0 \\\\\n",
    "0 & 4 & 0 & 0 \\\\\n",
    "0 & 0 & 4 & 0 \\\\\n",
    "0 & 0 & 0 & 4 \\\\\n",
    "\\end{bmatrix}\n",
    "$$\n",
    "\n",
    "<span style=\"color:green\">Since the off-diagonal elements are all zeros, it indicates that $X_1$, $X_2$, and $X_3$ are orthogonal, suggesting that they do not correlate with one another.\n",
    "\n",
    "<span style=\"color:green\">However, when considering dummy coding, the $X'X$ matrix is:\n",
    "\n",
    "$$ \n",
    "\\begin{bmatrix}\n",
    "4 & 2 & 2 & 1 \\\\\n",
    "2 & 2 & 1 & 1 \\\\\n",
    "2 & 1 & 2 & 1 \\\\\n",
    "1 & 1 & 1 & 1 \\\\\n",
    "\\end{bmatrix}\n",
    "$$\n",
    "\n",
    "<span style=\"color:green\">In this scenario, the presence of non-zero off-diagonal elements signifies that $X_1$, $X_2$, and $X_3$ are not orthogonal, indicating that these variables have correlations among them.\n",
    "\n",
    "<span style=\"color:green\">Thus, in summary, $X_1$, $X_2$, and $X_3$ are orthogonal when using effect coding but not when using dummy coding."
   ]
  },
  {
   "cell_type": "markdown",
   "metadata": {},
   "source": [
    "   Using effect coding, if the means in the four groups are as below, compute the regression coefficients (betas) for the relation between the means and X. Also compute the betas using dummy coding. Are the two sets of betas the same?\n",
    "\n",
    "|             | htn neg | htn pos | marginal          |\n",
    "|-------------|---------|---------|------------------|\n",
    "| alcohol neg | Y00     | Y01     | (Y00+Y01)/2       |\n",
    "| alcohol pos | Y10     | Y11     | (Y10+Y11)/2       |\n",
    "| marginal    | (Y00+Y10)/2 | (Y01+Y11)/2 | (Y00+Y10+Y01+Y11)/4 |\n",
    "\n",
    "Estimated betas = (X'X)^{-1} * X'Y\n",
    "\n",
    "That is, what are the betas as a function of the means of Y?"
   ]
  },
  {
   "cell_type": "code",
   "execution_count": 44,
   "metadata": {},
   "outputs": [
    {
     "data": {
      "text/plain": [
       "(array([[1.5],\n",
       "        [1. ],\n",
       "        [0.5],\n",
       "        [0. ]]),\n",
       " array([[0.],\n",
       "        [2.],\n",
       "        [1.],\n",
       "        [0.]]))"
      ]
     },
     "execution_count": 44,
     "metadata": {},
     "output_type": "execute_result"
    }
   ],
   "source": [
    "# Define Y values from the given table above\n",
    "Y00 = 0.0\n",
    "Y01 = 1.0\n",
    "Y10 = 2.0\n",
    "Y11 = 3.0\n",
    "\n",
    "# Define the means for Y using the given information\n",
    "Y = np.array([\n",
    "    [Y00],  # alcohol neg, htn neg\n",
    "    [Y10],  # alcohol pos, htn neg\n",
    "    [Y01],  # alcohol neg, htn pos\n",
    "    [Y11],  # alcohol pos, htn pos\n",
    "])\n",
    "\n",
    "# Calculate the betas for effect coding using the previously calculated (X'X)^{-1} * X'Y\n",
    "effect_xx_inv = np.array([\n",
    "    [0.25, 0.0, 0.0, 0.0],\n",
    "    [0.0, 0.25, 0.0, 0.0],\n",
    "    [0.0, 0.0, 0.25, 0.0],\n",
    "    [0.0, 0.0, 0.0, 0.25],\n",
    "])\n",
    "\n",
    "X = np.array([\n",
    "    [1, -1, -1, 1],  # alcohol neg, htn neg\n",
    "    [1, 1, -1, -1],  # alcohol pos, htn neg\n",
    "    [1, -1, 1, -1],  # alcohol neg, htn pos\n",
    "    [1, 1, 1, 1],  # alcohol pos, htn pos\n",
    "])\n",
    "\n",
    "# Compute betas for effect coding\n",
    "betas_effect = np.dot(effect_xx_inv, np.dot(X.T, Y))\n",
    "\n",
    "# Calculate the betas for dummy coding using the previously calculated (X'X)^{-1} * X'Y\n",
    "dummy_xx_inv = np.array([\n",
    "    [1, -1, -1, 1],\n",
    "    [-1, 2, 1, -2],\n",
    "    [-1, 1, 2, -2],\n",
    "    [1, -2, -2, 4],\n",
    "])\n",
    "\n",
    "X_dummy = np.array([\n",
    "    [1, 0, 0, 0],  # alcohol neg, htn neg\n",
    "    [1, 1, 0, 0],  # alcohol pos, htn neg\n",
    "    [1, 0, 1, 0],  # alcohol neg, htn pos\n",
    "    [1, 1, 1, 1],  # alcohol pos, htn pos\n",
    "])\n",
    "\n",
    "# Compute betas for dummy coding\n",
    "betas_dummy = np.dot(dummy_xx_inv, np.dot(X_dummy.T, Y))\n",
    "\n",
    "betas_effect, betas_dummy \n"
   ]
  },
  {
   "cell_type": "markdown",
   "metadata": {},
   "source": [
    "<span style=\"color:green\">The regression coefficients (betas) for the relation between the means and $X$ are as follows:\n",
    "\n",
    "### <span style=\"color:green\">Effect Coding\n",
    "<span style=\"color:green\">Using effect coding, the betas are:\n",
    "\n",
    "- <span style=\"color:green\">Intercept ($X_0$): 1.5\n",
    "- <span style=\"color:green\">Alcohol use ($X_1$): 1.0\n",
    "- <span style=\"color:green\">Hypertension ($X_2$): 0.5\n",
    "- <span style=\"color:green\">Interaction ($X_3$): 0.0\n",
    "\n",
    "### <span style=\"color:green\">Dummy Coding\n",
    "<span style=\"color:green\">Using dummy coding, the betas are:\n",
    "\n",
    "- <span style=\"color:green\">Intercept ($X_0$): 0.0\n",
    "- <span style=\"color:green\">Alcohol use ($X_1$): 2.0\n",
    "- <span style=\"color:green\">Hypertension ($X_2$): 1.0\n",
    "- <span style=\"color:green\">Interaction ($X_3$): 0.0\n",
    "\n",
    "### <span style=\"color:green\">Comparison\n",
    "<span style=\"color:green\">The betas for the relation between the means and $X$ are different when using effect coding compared to dummy coding. This indicates that the choice of coding can significantly impact the interpretation of regression coefficients, reflecting differences in how each coding scheme represents the variables and their interactions."
   ]
  },
  {
   "cell_type": "markdown",
   "metadata": {},
   "source": [
    "# Q2\n",
    "\n",
    "Use the “log CFU data” dataset, data on 80 observations in 20 animals, 4 observations per\n",
    "animal, one at each of 4 times.\n",
    "\n",
    "In this study, animals were infected with Tuberculosis (TB) and assigned to an old “proven”\n",
    "antibiotic treatment ($tx=0$) or new treatment ($tx=1$). Animals were measured at baseline (month 0)\n",
    "before treatment was started, and subsequently at months 1, 2 and 3 after treatment began. At\n",
    "each month, a small sample of fluid was removed from their lungs and TB was cultured for 24\n",
    "hours. After 24 hours, the numbers of colony forming units (CFUs) were measured. The CFU can\n",
    "be a very large number. The log base 10 CFU ($_{log}CFU$) are given in the dataset and is the\n",
    "outcome ($Y$) variable. Log CFU is generally known to have a normal distribution.\n"
   ]
  },
  {
   "cell_type": "code",
   "execution_count": 4,
   "metadata": {},
   "outputs": [
    {
     "data": {
      "text/html": [
       "<div>\n",
       "<style scoped>\n",
       "    .dataframe tbody tr th:only-of-type {\n",
       "        vertical-align: middle;\n",
       "    }\n",
       "\n",
       "    .dataframe tbody tr th {\n",
       "        vertical-align: top;\n",
       "    }\n",
       "\n",
       "    .dataframe thead th {\n",
       "        text-align: right;\n",
       "    }\n",
       "</style>\n",
       "<table border=\"1\" class=\"dataframe\">\n",
       "  <thead>\n",
       "    <tr style=\"text-align: right;\">\n",
       "      <th></th>\n",
       "      <th>id</th>\n",
       "      <th>tx</th>\n",
       "      <th>month</th>\n",
       "      <th>logCFU</th>\n",
       "    </tr>\n",
       "  </thead>\n",
       "  <tbody>\n",
       "    <tr>\n",
       "      <th>0</th>\n",
       "      <td>1</td>\n",
       "      <td>0</td>\n",
       "      <td>0</td>\n",
       "      <td>1.894828</td>\n",
       "    </tr>\n",
       "    <tr>\n",
       "      <th>1</th>\n",
       "      <td>1</td>\n",
       "      <td>0</td>\n",
       "      <td>1</td>\n",
       "      <td>2.393955</td>\n",
       "    </tr>\n",
       "    <tr>\n",
       "      <th>2</th>\n",
       "      <td>1</td>\n",
       "      <td>0</td>\n",
       "      <td>2</td>\n",
       "      <td>2.550260</td>\n",
       "    </tr>\n",
       "    <tr>\n",
       "      <th>3</th>\n",
       "      <td>1</td>\n",
       "      <td>0</td>\n",
       "      <td>3</td>\n",
       "      <td>3.210389</td>\n",
       "    </tr>\n",
       "    <tr>\n",
       "      <th>4</th>\n",
       "      <td>2</td>\n",
       "      <td>0</td>\n",
       "      <td>0</td>\n",
       "      <td>1.399843</td>\n",
       "    </tr>\n",
       "  </tbody>\n",
       "</table>\n",
       "</div>"
      ],
      "text/plain": [
       "   id  tx  month    logCFU\n",
       "0   1   0      0  1.894828\n",
       "1   1   0      1  2.393955\n",
       "2   1   0      2  2.550260\n",
       "3   1   0      3  3.210389\n",
       "4   2   0      0  1.399843"
      ]
     },
     "execution_count": 4,
     "metadata": {},
     "output_type": "execute_result"
    }
   ],
   "source": [
    "# load in data\n",
    "df = pd.read_csv(\"/Users/simonlee/UCLA-Grad-Courses/BIOMATH204/hw3/CFUDATA.csv\")\n",
    "df.head()  "
   ]
  },
  {
   "cell_type": "code",
   "execution_count": 5,
   "metadata": {},
   "outputs": [
    {
     "data": {
      "text/html": [
       "<div>\n",
       "<style scoped>\n",
       "    .dataframe tbody tr th:only-of-type {\n",
       "        vertical-align: middle;\n",
       "    }\n",
       "\n",
       "    .dataframe tbody tr th {\n",
       "        vertical-align: top;\n",
       "    }\n",
       "\n",
       "    .dataframe thead th {\n",
       "        text-align: right;\n",
       "    }\n",
       "</style>\n",
       "<table border=\"1\" class=\"dataframe\">\n",
       "  <thead>\n",
       "    <tr style=\"text-align: right;\">\n",
       "      <th></th>\n",
       "      <th>id</th>\n",
       "      <th>tx</th>\n",
       "      <th>month</th>\n",
       "      <th>logCFU</th>\n",
       "    </tr>\n",
       "  </thead>\n",
       "  <tbody>\n",
       "    <tr>\n",
       "      <th>count</th>\n",
       "      <td>80.000000</td>\n",
       "      <td>80.000000</td>\n",
       "      <td>80.000000</td>\n",
       "      <td>80.000000</td>\n",
       "    </tr>\n",
       "    <tr>\n",
       "      <th>mean</th>\n",
       "      <td>10.500000</td>\n",
       "      <td>0.500000</td>\n",
       "      <td>1.500000</td>\n",
       "      <td>2.617073</td>\n",
       "    </tr>\n",
       "    <tr>\n",
       "      <th>std</th>\n",
       "      <td>5.802662</td>\n",
       "      <td>0.503155</td>\n",
       "      <td>1.125088</td>\n",
       "      <td>1.026918</td>\n",
       "    </tr>\n",
       "    <tr>\n",
       "      <th>min</th>\n",
       "      <td>1.000000</td>\n",
       "      <td>0.000000</td>\n",
       "      <td>0.000000</td>\n",
       "      <td>0.812432</td>\n",
       "    </tr>\n",
       "    <tr>\n",
       "      <th>25%</th>\n",
       "      <td>5.750000</td>\n",
       "      <td>0.000000</td>\n",
       "      <td>0.750000</td>\n",
       "      <td>1.810320</td>\n",
       "    </tr>\n",
       "    <tr>\n",
       "      <th>50%</th>\n",
       "      <td>10.500000</td>\n",
       "      <td>0.500000</td>\n",
       "      <td>1.500000</td>\n",
       "      <td>2.386884</td>\n",
       "    </tr>\n",
       "    <tr>\n",
       "      <th>75%</th>\n",
       "      <td>15.250000</td>\n",
       "      <td>1.000000</td>\n",
       "      <td>2.250000</td>\n",
       "      <td>3.260139</td>\n",
       "    </tr>\n",
       "    <tr>\n",
       "      <th>max</th>\n",
       "      <td>20.000000</td>\n",
       "      <td>1.000000</td>\n",
       "      <td>3.000000</td>\n",
       "      <td>5.071779</td>\n",
       "    </tr>\n",
       "  </tbody>\n",
       "</table>\n",
       "</div>"
      ],
      "text/plain": [
       "              id         tx      month     logCFU\n",
       "count  80.000000  80.000000  80.000000  80.000000\n",
       "mean   10.500000   0.500000   1.500000   2.617073\n",
       "std     5.802662   0.503155   1.125088   1.026918\n",
       "min     1.000000   0.000000   0.000000   0.812432\n",
       "25%     5.750000   0.000000   0.750000   1.810320\n",
       "50%    10.500000   0.500000   1.500000   2.386884\n",
       "75%    15.250000   1.000000   2.250000   3.260139\n",
       "max    20.000000   1.000000   3.000000   5.071779"
      ]
     },
     "execution_count": 5,
     "metadata": {},
     "output_type": "execute_result"
    }
   ],
   "source": [
    "df.describe()"
   ]
  },
  {
   "cell_type": "markdown",
   "metadata": {},
   "source": [
    "You are to compare the mean log CFU values across time between the two groups. Report\n",
    "whether the mean log CFU values across time are significantly different and in what direction.\n",
    "You may wish to make a plot of mean log CFU versus months by group"
   ]
  },
  {
   "cell_type": "code",
   "execution_count": 6,
   "metadata": {},
   "outputs": [
    {
     "name": "stdout",
     "output_type": "stream",
     "text": [
      "Two-way ANOVA results:\n",
      "                  df     sum_sq    mean_sq           F        PR(>F)\n",
      "C(month)         3.0  42.154077  14.051359  149.431125  7.633374e-31\n",
      "C(tx)            1.0  28.436225  28.436225  302.408971  1.738842e-27\n",
      "C(month):C(tx)   3.0   5.949672   1.983224   21.090869  6.562050e-10\n",
      "Residual        72.0   6.770329   0.094032         NaN           NaN\n"
     ]
    },
    {
     "data": {
      "image/png": "[encoded data removed]",
      "text/plain": [
       "<Figure size 1000x600 with 1 Axes>"
      ]
     },
     "metadata": {},
     "output_type": "display_data"
    }
   ],
   "source": [
    "import pandas as pd\n",
    "import seaborn as sns\n",
    "import matplotlib.pyplot as plt\n",
    "from statsmodels.formula.api import ols\n",
    "from statsmodels.stats.anova import anova_lm\n",
    "\n",
    "# Perform two-way ANOVA to test for significant differences\n",
    "model = ols('logCFU ~ C(month) * C(tx)', data=df).fit()\n",
    "anova_results = anova_lm(model)\n",
    "\n",
    "print(\"Two-way ANOVA results:\")\n",
    "print(anova_results)\n",
    "\n",
    "# Create a point plot to show mean log CFU over time for both treatment groups\n",
    "plt.figure(figsize=(10, 6))\n",
    "sns.pointplot(data=df, x='month', y='logCFU', hue='tx', dodge=True, markers=[\"o\", \"s\"], hue_order=[0, 1])\n",
    "\n",
    "plt.title(\"Mean log CFU versus Months by Group\")\n",
    "plt.xlabel(\"Month\")\n",
    "plt.ylabel(\"Mean log CFU\")\n",
    "plt.legend(title='Treatment Group', labels=['Old Treatment', 'New Treatment'])\n",
    "plt.show()\n"
   ]
  },
  {
   "cell_type": "markdown",
   "metadata": {},
   "source": [
    "<span style=\"color:green\">The plot shows that the mean log CFU values increase over time for both treatment groups, but the new treatment group (tx=1) exhibits a steeper increase."
   ]
  },
  {
   "cell_type": "markdown",
   "metadata": {},
   "source": [
    "In the mean comparisons, should a “correction” be made for lack of comparability of baseline\n",
    "(month 0) log CFU values? If such a correction is needed, you should carry this out."
   ]
  },
  {
   "cell_type": "code",
   "execution_count": 12,
   "metadata": {},
   "outputs": [
    {
     "data": {
      "image/png": "[encoded data removed]",
      "text/plain": [
       "<Figure size 1000x600 with 1 Axes>"
      ]
     },
     "metadata": {},
     "output_type": "display_data"
    }
   ],
   "source": [
    "# Lmake copy of the data\n",
    "df2 = df.copy()\n",
    "\n",
    "# Calculate baseline-adjusted log CFU\n",
    "df2['baseline'] = df2.groupby('id')['logCFU'].transform(lambda x: x.iloc[0])\n",
    "df2['logCFU_adj'] = df2['logCFU'] - df2['baseline']\n",
    "\n",
    "# Plot the new plot\n",
    "plt.figure(figsize=(10, 6))\n",
    "sns.pointplot(data=df2, x='month', y='logCFU_adj', hue='tx', dodge=True, markers=[\"o\", \"s\"], hue_order=[0, 1])\n",
    "\n",
    "plt.title(\"Mean Baseline-Adjusted log CFU versus Months by Group\")\n",
    "plt.xlabel(\"Month\")\n",
    "plt.ylabel(\"Mean Baseline-Adjusted log CFU\")\n",
    "plt.legend(title='Treatment Group', labels=['Old Treatment', 'New Treatment'])\n",
    "plt.show()\n"
   ]
  },
  {
   "cell_type": "markdown",
   "metadata": {},
   "source": [
    "<span style=\"color:green\">After creating this plot, we can conduct a statistical test (such as a two-way ANOVA) on the adjusted data to assess the significance of the differences between treatment groups across time:"
   ]
  },
  {
   "cell_type": "code",
   "execution_count": 35,
   "metadata": {},
   "outputs": [
    {
     "data": {
      "text/html": [
       "<div>\n",
       "<style scoped>\n",
       "    .dataframe tbody tr th:only-of-type {\n",
       "        vertical-align: middle;\n",
       "    }\n",
       "\n",
       "    .dataframe tbody tr th {\n",
       "        vertical-align: top;\n",
       "    }\n",
       "\n",
       "    .dataframe thead th {\n",
       "        text-align: right;\n",
       "    }\n",
       "</style>\n",
       "<table border=\"1\" class=\"dataframe\">\n",
       "  <thead>\n",
       "    <tr style=\"text-align: right;\">\n",
       "      <th></th>\n",
       "      <th>df</th>\n",
       "      <th>sum_sq</th>\n",
       "      <th>mean_sq</th>\n",
       "      <th>F</th>\n",
       "      <th>PR(&gt;F)</th>\n",
       "    </tr>\n",
       "  </thead>\n",
       "  <tbody>\n",
       "    <tr>\n",
       "      <th>C(tx)</th>\n",
       "      <td>1.0</td>\n",
       "      <td>9.488793</td>\n",
       "      <td>9.488793</td>\n",
       "      <td>659.542408</td>\n",
       "      <td>5.558703e-38</td>\n",
       "    </tr>\n",
       "    <tr>\n",
       "      <th>C(month)</th>\n",
       "      <td>3.0</td>\n",
       "      <td>42.154077</td>\n",
       "      <td>14.051359</td>\n",
       "      <td>976.674992</td>\n",
       "      <td>3.213782e-58</td>\n",
       "    </tr>\n",
       "    <tr>\n",
       "      <th>C(tx):C(month)</th>\n",
       "      <td>3.0</td>\n",
       "      <td>5.949672</td>\n",
       "      <td>1.983224</td>\n",
       "      <td>137.848957</td>\n",
       "      <td>9.139069e-30</td>\n",
       "    </tr>\n",
       "    <tr>\n",
       "      <th>Residual</th>\n",
       "      <td>72.0</td>\n",
       "      <td>1.035859</td>\n",
       "      <td>0.014387</td>\n",
       "      <td>NaN</td>\n",
       "      <td>NaN</td>\n",
       "    </tr>\n",
       "  </tbody>\n",
       "</table>\n",
       "</div>"
      ],
      "text/plain": [
       "                  df     sum_sq    mean_sq           F        PR(>F)\n",
       "C(tx)            1.0   9.488793   9.488793  659.542408  5.558703e-38\n",
       "C(month)         3.0  42.154077  14.051359  976.674992  3.213782e-58\n",
       "C(tx):C(month)   3.0   5.949672   1.983224  137.848957  9.139069e-30\n",
       "Residual        72.0   1.035859   0.014387         NaN           NaN"
      ]
     },
     "execution_count": 35,
     "metadata": {},
     "output_type": "execute_result"
    }
   ],
   "source": [
    "# Conduct a two-way ANOVA to assess the impact of treatment group and time on the baseline-adjusted log CFU\n",
    "model = ols('logCFU_adj ~ C(tx) * C(month)', data=df2).fit()  # Fit the model\n",
    "anova_results = anova_lm(model) \n",
    "anova_results  \n"
   ]
  },
  {
   "cell_type": "markdown",
   "metadata": {},
   "source": [
    "In addition to comparing means, also investigate whether the relation between month and mean\n",
    "log CFU is reasonably approximated by some simple function of time, such as a linear or\n",
    "quadratic function, and whether the change over time is parallel between the two treatment\n",
    "groups. (ie, fit a regression model). Compute the likelihood ratio test comparing the original\n",
    "ANOVA model with the alternate (linear, quadratic ?) model."
   ]
  },
  {
   "cell_type": "code",
   "execution_count": 36,
   "metadata": {},
   "outputs": [
    {
     "data": {
      "text/plain": [
       "(0.23918353404091375, 0.787876633144075, 2.0)"
      ]
     },
     "execution_count": 36,
     "metadata": {},
     "output_type": "execute_result"
    }
   ],
   "source": [
    "# Load the data\n",
    "df3 = df.copy()\n",
    "\n",
    "# Calculate the baseline-adjusted log CFU\n",
    "df3['baseline'] = df3.groupby('id')['logCFU'].transform(lambda x: x.iloc[0])\n",
    "df3['logCFU_adj'] = df3['logCFU'] - df3['baseline']\n",
    "\n",
    "# Fit a linear regression model with an interaction between treatment group and month\n",
    "linear_formula = 'logCFU_adj ~ C(tx) * month'\n",
    "linear_model = ols(linear_formula, data=df3).fit()  # Linear regression model\n",
    "\n",
    "# Fit a quadratic regression model with an interaction between treatment group and month\n",
    "df3['month_squared'] = df3['month'] ** 2  # Create a new feature for the quadratic term\n",
    "quadratic_formula = 'logCFU_adj ~ C(tx) * (month + month_squared)'\n",
    "quadratic_model = ols(quadratic_formula, data=df3).fit()  # Quadratic regression model\n",
    "\n",
    "# Conduct a likelihood ratio test to compare the linear and quadratic models\n",
    "likelihood_ratio_test = quadratic_model.compare_f_test(linear_model)  # Likelihood ratio test\n",
    "\n",
    "likelihood_ratio_test \n"
   ]
  },
  {
   "cell_type": "markdown",
   "metadata": {},
   "source": [
    "<span style=\"color:green\">To compare the linear and quadratic models, I used a likelihood ratio test. The results indicate a likelihood ratio statistic of 0.239, with a p-value of 0.788, suggesting that the quadratic model doesn't offer a significant improvement over the linear model."
   ]
  },
  {
   "cell_type": "markdown",
   "metadata": {},
   "source": [
    "Based on your findings for mean log CFU, you are to also report on whether mean CFU on the\n",
    "original scale is a simple (linear, quadratic, ?) function of month for each group. For example,\n",
    "if mean log CFU is a linear function of time, is mean CFU also a linear function of time?"
   ]
  },
  {
   "cell_type": "code",
   "execution_count": 38,
   "metadata": {},
   "outputs": [
    {
     "data": {
      "text/plain": [
       "(13.63814768058371, 9.073707661491036e-06, 2.0)"
      ]
     },
     "execution_count": 38,
     "metadata": {},
     "output_type": "execute_result"
    }
   ],
   "source": [
    "df3 = df.copy()\n",
    "df3['CFU'] = 10 ** df3['logCFU']  # Compute the original scale from the log scale\n",
    "df3['month_squared'] = df3['month'] ** 2\n",
    "\n",
    "# Fit a linear regression model to determine if mean CFU is a linear function of month\n",
    "linear_formula_cfu = 'CFU ~ C(tx) * month'\n",
    "linear_model_cfu = ols(linear_formula_cfu, data=df3).fit()  # Linear regression for CFU\n",
    "\n",
    "# Fit a quadratic regression model to determine if mean CFU has a quadratic relationship with month\n",
    "quadratic_formula_cfu = 'CFU ~ C(tx) * (month + month_squared)'\n",
    "quadratic_model_cfu = ols(quadratic_formula_cfu, data=df3).fit()  # Quadratic regression for CFU\n",
    "\n",
    "# Conduct a likelihood ratio test to compare the linear and quadratic models for CFU\n",
    "likelihood_ratio_test_cfu = quadratic_model_cfu.compare_f_test(linear_model_cfu)  # Likelihood ratio test for CFU\n",
    "\n",
    "likelihood_ratio_test_cfu  # Return summaries and LRT results\n"
   ]
  },
  {
   "cell_type": "markdown",
   "metadata": {},
   "source": [
    "<span style=\"color:green\">The results indicate a significant difference between the linear and quadratic models, with a likelihood ratio statistic of 13.64 and a p-value of 9.07e-06. This suggests that the quadratic model is statistically significantly different from the linear model."
   ]
  }
 ],
 "metadata": {
  "kernelspec": {
   "display_name": "Python 3.9.13 ('ada')",
   "language": "python",
   "name": "python3"
  },
  "language_info": {
   "codemirror_mode": {
    "name": "ipython",
    "version": 3
   },
   "file_extension": ".py",
   "mimetype": "text/x-python",
   "name": "python",
   "nbconvert_exporter": "python",
   "pygments_lexer": "ipython3",
   "version": "3.9.13"
  },
  "orig_nbformat": 4,
  "vscode": {
   "interpreter": {
    "hash": "b47ca7d216b8a465b979ff7f012da33d157a8eca88a6176851bc787c68093159"
   }
  }
 },
 "nbformat": 4,
 "nbformat_minor": 2
}
