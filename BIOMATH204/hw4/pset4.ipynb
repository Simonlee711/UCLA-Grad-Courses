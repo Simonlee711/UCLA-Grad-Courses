{
 "cells": [
  {
   "cell_type": "markdown",
   "metadata": {},
   "source": [
    "# Homework 4"
   ]
  },
  {
   "cell_type": "markdown",
   "metadata": {},
   "source": [
    "Simon Lee (simonlee711@g.ucla.edu)"
   ]
  },
  {
   "cell_type": "markdown",
   "metadata": {},
   "source": [
    "**Q1-** Let $ \\text{logit}(\\pi) = \\log_e\\left(\\frac{\\pi}{1 - \\pi}\\right) = \\beta_0 + \\beta_1 \\times \\text{age} + \\beta_2 \\times \\text{female} + \\beta_3 \\times \\text{age} \\times \\text{female} $.\n",
    "\n",
    "In the above, $ \\pi $ is the proportion who have disease, age is in years, and \"female\" is coded $-1$ for male and $1$ for female.\n",
    "\n",
    "a. Based on the above, give an expression for the odds ratio (OR) of disease in females (numerator) compared to males (denominator). Does this OR depend on age?"
   ]
  },
  {
   "cell_type": "markdown",
   "metadata": {},
   "source": [
    "### <span style=\"color:green\">Odds Ratio (OR) for Disease in Females Compared to Males\n",
    "<span style=\"color:green\">The odds ratio (OR) between two groups is calculated by taking the exponential of the difference in their linear predictors. To find the odds ratio for females compared to males, let's consider the model with females as the numerator and males as the denominator.\n",
    "\n",
    "1. <span style=\"color:green\">**Odds for Males**:\n",
    "   <span style=\"color:green\">When \"female\" is coded -1 for male and 1 for female, the logistic regression equation for males ($female = -1$) is:\n",
    "   $$\n",
    "   \\beta_0 - \\beta_2 + (\\beta_1 - \\beta_3) \\times \\text{age}\n",
    "   $$\n",
    "   <span style=\"color:green\">The odds for males is $ \\exp(\\beta_0 - \\beta_2 + (\\beta_1 - \\beta_3) \\times \\text{age}) $.\n",
    "\n",
    "2. <span style=\"color:green\">**Odds for Females**:\n",
    "   <span style=\"color:green\">When \"female\" is 1 for females, the logistic regression equation is:\n",
    "   $$\n",
    "   \\beta_0 + \\beta_2 + (\\beta_1 + \\beta_3) \\times \\text{age}\n",
    "   $$\n",
    "   <span style=\"color:green\">The odds for females is $ \\exp(\\beta_0 + \\beta_2 + (\\beta_1 + \\beta_3) \\times \\text{age}) $.\n",
    "\n",
    "3. <span style=\"color:green\">**Odds Ratio (OR) for Females Compared to Males**:\n",
    "   <span style=\"color:green\">The odds ratio for females compared to males is the ratio between the odds for females and males:\n",
    "   $$\n",
    "   \\frac{\\exp(\\beta_0 + \\beta_2 + (\\beta_1 + \\beta_3) \\times \\text{age})}{\\exp(\\beta_0 - \\beta_2 + (\\beta_1 - \\beta_3) \\times \\text{age})}\n",
    "   $$\n",
    "   <span style=\"color:green\">Simplifying this, we get:\n",
    "   $$\n",
    "   \\exp(2 \\beta_2 + 2 \\beta_3 \\times \\text{age})\n",
    "   $$\n",
    "\n",
    "<span style=\"color:green\">Yes, the odds ratio (OR) for disease in females compared to males depends on age, as it includes the interaction term $2 \\beta_3 \\times \\text{age}$. This interaction indicates that the odds ratio changes with age."
   ]
  },
  {
   "cell_type": "markdown",
   "metadata": {},
   "source": [
    "b. If $ \\beta_3 = 0 $, does the OR for disease in females compared to males depend on age? If $ \\beta_3 = 0 $, does the risk difference ($ \\pi $ in females - $ \\pi $ in males) depend on age?"
   ]
  },
  {
   "cell_type": "markdown",
   "metadata": {},
   "source": [
    "### <span style=\"color:green\">Odds Ratio (OR) for Disease in Females Compared to Males\n",
    "<span style=\"color:green\">When $ \\beta_3 = 0 $, the interaction term vanishes, leading to a simplified logistic regression model:\n",
    "$$ \n",
    "\\text{logit}(\\pi) = \\beta_0 + \\beta_1 \\times \\text{age} + \\beta_2 \\times \\text{female}\n",
    "$$\n",
    "\n",
    "1. <span style=\"color:green\">**Odds for Males**:\n",
    "   <span style=\"color:green\">The logistic regression equation for males ($ female = -1 $) becomes:\n",
    "   $$\n",
    "   \\beta_0 - \\beta_2 + \\beta_1 \\times \\text{age}\n",
    "   $$\n",
    "   <span style=\"color:green\">The odds for males is $ \\exp(\\beta_0 - \\beta_2 + \\beta_1 \\times \\text{age}) $.\n",
    "\n",
    "2. <span style=\"color:green\">**Odds for Females**:\n",
    "   <span style=\"color:green\">The logistic regression equation for females ($ female = 1 $) becomes:\n",
    "   $$\n",
    "   \\beta_0 + \\beta_2 + \\beta_1 \\times \\text{age}\n",
    "   $$\n",
    "   <span style=\"color:green\">The odds for females is $ \\exp(\\beta_0 + \\beta_2 + \\beta_1 \\times \\text{age}) $.\n",
    "\n",
    "3. <span style=\"color:green\">**Odds Ratio (OR) for Females Compared to Males**:\n",
    "   <span style=\"color:green\">The odds ratio is the ratio between the odds for females and males:\n",
    "   $$\n",
    "   \\frac{\\exp(\\beta_0 + \\beta_2 + \\beta_1 \\times \\text{age})}{\\exp(\\beta_0 - \\beta_2 + \\beta_1 \\times \\text{age})}\n",
    "   $$\n",
    "   <span style=\"color:green\">This simplifies to:\n",
    "   $$\n",
    "   \\exp(2 \\beta_2)\n",
    "   $$\n",
    "\n",
    "<span style=\"color:green\">This shows that if $ \\beta_3 = 0 $, the odds ratio (OR) for disease in females compared to males does not depend on age, as the result no longer includes an age-related term.\n",
    "\n",
    "### <span style=\"color:green\">Further interpretation on Risk Difference ($ \\pi $ in Females - $ \\pi $ in Males)\n",
    "<span style=\"color:green\">To understand if the risk difference between females and males depends on age, consider that the logistic function for $ \\pi $ involves age in the simplified model. Given the absence of the interaction term, age will still influence the probability ($ \\pi $), but the risk difference between females and males does not inherently rely on age. Thus, the risk difference could be computed using the probabilities derived from the model, but the impact of age would not lead to direct variation between males and females in terms of the risk difference.\n",
    "\n",
    "<span style=\"color:green\">Thus, with $ \\beta_3 = 0 $, the odds ratio (OR) for disease in females compared to males does not depend on age, but the risk difference ($ \\pi $ in females - $ \\pi $ in males) might still reflect age-dependent trends due to underlying probability distributions."
   ]
  }
 ],
 "metadata": {
  "kernelspec": {
   "display_name": "Python 3.9.6 64-bit",
   "language": "python",
   "name": "python3"
  },
  "language_info": {
   "name": "python",
   "version": "3.9.6"
  },
  "orig_nbformat": 4,
  "vscode": {
   "interpreter": {
    "hash": "31f2aee4e71d21fbe5cf8b01ff0e069b9275f58929596ceb00d14d90e3e16cd6"
   }
  }
 },
 "nbformat": 4,
 "nbformat_minor": 2
}
